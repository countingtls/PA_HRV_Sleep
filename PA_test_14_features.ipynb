{
  "nbformat": 4,
  "nbformat_minor": 0,
  "metadata": {
    "colab": {
      "provenance": [],
      "history_visible": true,
      "mount_file_id": "1u5xZp8lc1XcGqna-JtlG1txB2uV_ktK_",
      "authorship_tag": "ABX9TyM03QbmwfE70TqJPM4G292E",
      "include_colab_link": true
    },
    "kernelspec": {
      "name": "python3",
      "display_name": "Python 3"
    },
    "language_info": {
      "name": "python"
    },
    "accelerator": "TPU",
    "gpuClass": "standard"
  },
  "cells": [
    {
      "cell_type": "markdown",
      "metadata": {
        "id": "view-in-github",
        "colab_type": "text"
      },
      "source": [
        "<a href=\"https://colab.research.google.com/github/countingtls/PA_HRV_Sleep/blob/main/PA_test_14_features.ipynb\" target=\"_parent\"><img src=\"https://colab.research.google.com/assets/colab-badge.svg\" alt=\"Open In Colab\"/></a>"
      ]
    },
    {
      "cell_type": "code",
      "source": [
        "import pandas as pd\n",
        "import numpy as np\n",
        "import os\n",
        "import sklearn.pipeline\n",
        "import matplotlib.pyplot as plt\n",
        "\n",
        "from sklearn import metrics\n",
        "from sklearn.svm import SVC\n",
        "from sklearn.semi_supervised import LabelSpreading\n",
        "from sklearn.semi_supervised import SelfTrainingClassifier\n",
        "from sklearn.model_selection import train_test_split\n",
        "\n",
        "from xgboost import XGBClassifier\n",
        "\n",
        "from sklearn.neighbors import KNeighborsClassifier\n",
        "from sklearn.tree import DecisionTreeClassifier\n",
        "from sklearn.ensemble import AdaBoostClassifier\n",
        "from sklearn.metrics import roc_auc_score\n",
        "\n",
        "from sklearn.model_selection import train_test_split\n",
        "from sklearn.feature_selection import SelectKBest, f_classif, chi2\n",
        "from sklearn.ensemble import RandomForestClassifier\n",
        "from sklearn.svm import SVC\n",
        "from sklearn.preprocessing import StandardScaler\n",
        "from sklearn.metrics import confusion_matrix\n",
        "\n",
        "from sklearn.neural_network import MLPClassifier"
      ],
      "metadata": {
        "id": "c5cEnV_BgItk"
      },
      "execution_count": null,
      "outputs": []
    },
    {
      "cell_type": "code",
      "source": [
        "from google.colab import drive\n",
        "drive.mount('/content/drive', force_remount=True)"
      ],
      "metadata": {
        "colab": {
          "base_uri": "https://localhost:8080/"
        },
        "id": "tsj6kyi0klzL",
        "outputId": "1b823a0a-c3d8-4541-ab54-9d4d9000f364"
      },
      "execution_count": null,
      "outputs": [
        {
          "output_type": "stream",
          "name": "stdout",
          "text": [
            "Mounted at /content/drive\n"
          ]
        }
      ]
    },
    {
      "cell_type": "code",
      "source": [
        "!pip install hrv_analysis"
      ],
      "metadata": {
        "colab": {
          "base_uri": "https://localhost:8080/"
        },
        "id": "7WggEjBL6NCK",
        "outputId": "b61d146f-77e6-46c4-f266-042ba92f2b42"
      },
      "execution_count": null,
      "outputs": [
        {
          "output_type": "stream",
          "name": "stdout",
          "text": [
            "Looking in indexes: https://pypi.org/simple, https://us-python.pkg.dev/colab-wheels/public/simple/\n",
            "Collecting hrv_analysis\n",
            "  Downloading hrv_analysis-1.0.4-py3-none-any.whl (28 kB)\n",
            "Requirement already satisfied: matplotlib>=2.2.2 in /usr/local/lib/python3.7/dist-packages (from hrv_analysis) (3.2.2)\n",
            "Requirement already satisfied: numpy>=1.15.1 in /usr/local/lib/python3.7/dist-packages (from hrv_analysis) (1.21.6)\n",
            "Collecting nolds>=0.4.1\n",
            "  Downloading nolds-0.5.2-py2.py3-none-any.whl (39 kB)\n",
            "Requirement already satisfied: scipy>=1.1.0 in /usr/local/lib/python3.7/dist-packages (from hrv_analysis) (1.7.3)\n",
            "Requirement already satisfied: astropy>=3.0.4 in /usr/local/lib/python3.7/dist-packages (from hrv_analysis) (4.3.1)\n",
            "Requirement already satisfied: pandas>=0.23.4 in /usr/local/lib/python3.7/dist-packages (from hrv_analysis) (1.3.5)\n",
            "Requirement already satisfied: importlib-metadata in /usr/local/lib/python3.7/dist-packages (from astropy>=3.0.4->hrv_analysis) (4.13.0)\n",
            "Requirement already satisfied: pyerfa>=1.7.3 in /usr/local/lib/python3.7/dist-packages (from astropy>=3.0.4->hrv_analysis) (2.0.0.1)\n",
            "Requirement already satisfied: pyparsing!=2.0.4,!=2.1.2,!=2.1.6,>=2.0.1 in /usr/local/lib/python3.7/dist-packages (from matplotlib>=2.2.2->hrv_analysis) (3.0.9)\n",
            "Requirement already satisfied: kiwisolver>=1.0.1 in /usr/local/lib/python3.7/dist-packages (from matplotlib>=2.2.2->hrv_analysis) (1.4.4)\n",
            "Requirement already satisfied: cycler>=0.10 in /usr/local/lib/python3.7/dist-packages (from matplotlib>=2.2.2->hrv_analysis) (0.11.0)\n",
            "Requirement already satisfied: python-dateutil>=2.1 in /usr/local/lib/python3.7/dist-packages (from matplotlib>=2.2.2->hrv_analysis) (2.8.2)\n",
            "Requirement already satisfied: typing-extensions in /usr/local/lib/python3.7/dist-packages (from kiwisolver>=1.0.1->matplotlib>=2.2.2->hrv_analysis) (4.1.1)\n",
            "Requirement already satisfied: future in /usr/local/lib/python3.7/dist-packages (from nolds>=0.4.1->hrv_analysis) (0.16.0)\n",
            "Requirement already satisfied: setuptools in /usr/local/lib/python3.7/dist-packages (from nolds>=0.4.1->hrv_analysis) (57.4.0)\n",
            "Requirement already satisfied: pytz>=2017.3 in /usr/local/lib/python3.7/dist-packages (from pandas>=0.23.4->hrv_analysis) (2022.6)\n",
            "Requirement already satisfied: six>=1.5 in /usr/local/lib/python3.7/dist-packages (from python-dateutil>=2.1->matplotlib>=2.2.2->hrv_analysis) (1.15.0)\n",
            "Requirement already satisfied: zipp>=0.5 in /usr/local/lib/python3.7/dist-packages (from importlib-metadata->astropy>=3.0.4->hrv_analysis) (3.10.0)\n",
            "Installing collected packages: nolds, hrv-analysis\n",
            "Successfully installed hrv-analysis-1.0.4 nolds-0.5.2\n"
          ]
        }
      ]
    },
    {
      "cell_type": "code",
      "source": [
        "#Read in the dataset\n",
        "\n",
        "df_test = pd.read_csv(\"/content/drive/MyDrive/SWELL/hrv dataset/data/final/test.csv\")\n",
        "df_train = pd.read_csv(\"/content/drive/MyDrive/SWELL/hrv dataset/data/final/train.csv\")\n",
        "print(f\"df_train shape{df_train.shape}\")\n",
        "print(f\"df_test shape{df_test.shape}\")"
      ],
      "metadata": {
        "colab": {
          "base_uri": "https://localhost:8080/"
        },
        "id": "pmum_SqTgM3F",
        "outputId": "23a2041e-e7ed-4d20-a937-dda3f059dd16"
      },
      "execution_count": null,
      "outputs": [
        {
          "output_type": "stream",
          "name": "stdout",
          "text": [
            "df_train shape(369289, 36)\n",
            "df_test shape(41033, 36)\n"
          ]
        }
      ]
    },
    {
      "cell_type": "code",
      "source": [
        "df_PA_all = pd.read_csv(\"/content/drive/MyDrive/SWELL/hrv PA/PA_all_p.csv\")\n",
        "print(f\"df_PA_all shape{df_PA_all.shape}\")"
      ],
      "metadata": {
        "colab": {
          "base_uri": "https://localhost:8080/"
        },
        "id": "PhXaZpfvVBjK",
        "outputId": "b964f52b-6250-4529-e4d1-0d1586edaa79"
      },
      "execution_count": null,
      "outputs": [
        {
          "output_type": "stream",
          "name": "stdout",
          "text": [
            "df_PA_all shape(37026, 18)\n"
          ]
        }
      ]
    },
    {
      "cell_type": "code",
      "source": [
        "df_PA_cat = pd.read_csv(\"/content/drive/MyDrive/SWELL/hrv PA/PA_category_dictionary.csv\", header=None, index_col=0, squeeze=True)\n",
        "df_PA_dict = pd.read_csv(\"/content/drive/MyDrive/SWELL/hrv PA/PA_category_dictionary_int.csv\", header=None, index_col=0, squeeze=True)\n",
        "print(f\"df_PA_dict shape{df_PA_dict.shape}\")\n",
        "print(f\"df_PA_cat shape{df_PA_cat.shape}\")"
      ],
      "metadata": {
        "colab": {
          "base_uri": "https://localhost:8080/"
        },
        "id": "HXPE0pNEV_Zu",
        "outputId": "690294b3-8a67-498b-e897-1ca44b0c0652"
      },
      "execution_count": null,
      "outputs": [
        {
          "output_type": "stream",
          "name": "stdout",
          "text": [
            "df_PA_dict shape(215,)\n",
            "df_PA_cat shape(215,)\n"
          ]
        }
      ]
    },
    {
      "cell_type": "code",
      "source": [
        "p1_raw = pd.read_csv(\"/content/drive/MyDrive/SWELL/hrv dataset/data/raw/rri/p1.txt\", sep=None, engine='python', \n",
        "header=None, quoting=0, skipinitialspace=True)\n",
        "print(f\"p1_raw{p1_raw.shape}\")"
      ],
      "metadata": {
        "colab": {
          "base_uri": "https://localhost:8080/"
        },
        "id": "rLgOdmNb2RsZ",
        "outputId": "cfb041e3-e076-419c-e47b-bdfdc4e7ba7f"
      },
      "execution_count": null,
      "outputs": [
        {
          "output_type": "stream",
          "name": "stdout",
          "text": [
            "p1_raw(35974, 2)\n"
          ]
        }
      ]
    },
    {
      "cell_type": "code",
      "source": [
        "display(p1_raw.info())"
      ],
      "metadata": {
        "colab": {
          "base_uri": "https://localhost:8080/",
          "height": 199
        },
        "id": "lZOom_S_4Sle",
        "outputId": "2a5c4230-c5a2-4d3a-e987-bb1c71571930"
      },
      "execution_count": null,
      "outputs": [
        {
          "output_type": "stream",
          "name": "stdout",
          "text": [
            "<class 'pandas.core.frame.DataFrame'>\n",
            "RangeIndex: 35974 entries, 0 to 35973\n",
            "Data columns (total 2 columns):\n",
            " #   Column  Non-Null Count  Dtype  \n",
            "---  ------  --------------  -----  \n",
            " 0   0       35974 non-null  float64\n",
            " 1   1       35974 non-null  float64\n",
            "dtypes: float64(2)\n",
            "memory usage: 562.2 KB\n"
          ]
        },
        {
          "output_type": "display_data",
          "data": {
            "text/plain": [
              "None"
            ]
          },
          "metadata": {}
        }
      ]
    },
    {
      "cell_type": "code",
      "source": [
        "hrv_window_in_min = 5\n",
        "hrv_window_in_sec = hrv_window_in_min * 60\n",
        "sampling_rate_hz = 4\n",
        "hrv_window_samples = hrv_window_in_sec * sampling_rate_hz\n",
        "m = hrv_window_samples \n",
        "t1=p1_raw.iloc[0:m-1,1].values"
      ],
      "metadata": {
        "id": "dgaQNUqc4rs0"
      },
      "execution_count": null,
      "outputs": []
    },
    {
      "cell_type": "code",
      "source": [
        "from hrvanalysis import *\n",
        "rr_intervals_without_outliers = remove_outliers(rr_intervals=t1, low_rri=300, high_rri=2000)\n",
        "interpolated_rr_intervals = interpolate_nan_values(rr_intervals=rr_intervals_without_outliers,\n",
        "                                                   interpolation_method=\"linear\")\n",
        "nn_intervals_list = remove_ectopic_beats(rr_intervals=interpolated_rr_intervals, method=\"malik\")\n",
        "interpolated_nn_intervals = interpolate_nan_values(rr_intervals=nn_intervals_list)\n",
        "t1_nni = interpolated_nn_intervals"
      ],
      "metadata": {
        "colab": {
          "base_uri": "https://localhost:8080/"
        },
        "id": "dtuOFjEt5jyb",
        "outputId": "518c7566-e3f1-4b0e-8fc4-c6448540a199"
      },
      "execution_count": null,
      "outputs": [
        {
          "output_type": "stream",
          "name": "stdout",
          "text": [
            "0 outlier(s) have been deleted.\n",
            "0 ectopic beat(s) have been deleted with malik rule.\n"
          ]
        }
      ]
    },
    {
      "cell_type": "code",
      "source": [
        "t1_time_domain_features = get_time_domain_features(t1_nni)\n",
        "t1_frequency_domain_features = get_frequency_domain_features(t1_nni)\n",
        "t1_geometrical_features = get_geometrical_features(t1_nni)\n",
        "t1_poincare_plot_features = get_poincare_plot_features(t1_nni)\n",
        "t1_csi_cvi_featuress = get_csi_cvi_features(t1_nni)\n",
        "t1_sampen = get_sampen(t1_nni)\n",
        "print(t1_time_domain_features)\n",
        "print(t1_frequency_domain_features)\n",
        "print(t1_geometrical_features)\n",
        "print(t1_poincare_plot_features)\n",
        "print(t1_csi_cvi_featuress)\n",
        "print(t1_sampen)"
      ],
      "metadata": {
        "colab": {
          "base_uri": "https://localhost:8080/"
        },
        "id": "J5o4pdTf60F5",
        "outputId": "afbab634-3e7c-4f35-e985-d57ab36d68b6"
      },
      "execution_count": null,
      "outputs": [
        {
          "output_type": "stream",
          "name": "stdout",
          "text": [
            "{'mean_nni': 932.1795375479568, 'sdnn': 131.44268945640002, 'sdsd': 13.61806603470211, 'nni_50': 4, 'pnni_50': 0.333889816360601, 'nni_20': 155, 'pnni_20': 12.93823038397329, 'rmssd': 13.618171445401018, 'median_nni': 966.36998, 'range_nni': 657.66723, 'cvsd': 0.014608957713470962, 'cvnni': 0.14100576569418402, 'mean_hr': 65.99109917173085, 'max_hr': 113.2847796026676, 'min_hr': 50.53457579887373, 'std_hr': 11.767116979417475}\n",
            "{'lf': 1203.1308721280757, 'hf': 5.006709739241741, 'lf_hf_ratio': 240.30369939326425, 'lfnu': 99.58558447196855, 'hfnu': 0.4144155280314421, 'total_power': 3768.7890349625077, 'vlf': 2560.6514530951904}\n",
            "{'triangular_index': 23.50980392156863, 'tinn': None}\n",
            "{'sd1': 9.633448317027561, 'sd2': 185.63824470347265, 'ratio_sd2_sd1': 19.27017601530581}\n",
            "{'csi': 19.27017601530581, 'cvi': 4.456569207719794, 'Modified_csi': 14309.126602433318}\n",
            "{'sampen': 0.355685151443028}\n"
          ]
        }
      ]
    },
    {
      "cell_type": "code",
      "source": [
        "df_train.head()"
      ],
      "metadata": {
        "colab": {
          "base_uri": "https://localhost:8080/",
          "height": 299
        },
        "id": "BNjyNE94g3Kf",
        "outputId": "a4a22c38-685d-48d4-9fc6-9cb8d4b76fef"
      },
      "execution_count": null,
      "outputs": [
        {
          "output_type": "execute_result",
          "data": {
            "text/plain": [
              "      MEAN_RR   MEDIAN_RR        SDRR      RMSSD       SDSD  SDRR_RMSSD  \\\n",
              "0  885.157845  853.763730  140.972741  15.554505  15.553371    9.063146   \n",
              "1  939.425371  948.357865   81.317742  12.964439  12.964195    6.272369   \n",
              "2  898.186047  907.006860   84.497236  16.305279  16.305274    5.182201   \n",
              "3  881.757865  893.460030   90.370537  15.720468  15.720068    5.748591   \n",
              "4  809.625331  811.184865   62.766242  19.213819  19.213657    3.266724   \n",
              "\n",
              "          HR      pNN25     pNN50        SD1  ...         HF    HF_PCT  \\\n",
              "0  69.499952  11.133333  0.533333  11.001565  ...  15.522603  0.421047   \n",
              "1  64.363150   5.600000  0.000000   9.170129  ...   2.108525  0.070133   \n",
              "2  67.450066  13.066667  0.200000  11.533417  ...  13.769729  0.512671   \n",
              "3  68.809562  11.800000  0.133333  11.119476  ...  18.181913  0.529387   \n",
              "4  74.565728  20.200000  0.200000  13.590641  ...  48.215822  1.839473   \n",
              "\n",
              "      HF_NU           TP       LF_HF     HF_LF    sampen    higuci  datasetId  \\\n",
              "0  1.514737  3686.666157   65.018055  0.015380  2.139754  1.163485          2   \n",
              "1  0.304603  3006.487251  327.296635  0.003055  2.174499  1.084711          2   \n",
              "2  1.049528  2685.879461   94.280910  0.010607  2.135350  1.176315          2   \n",
              "3  1.775294  3434.520980   55.328701  0.018074  2.178341  1.179688          2   \n",
              "4  3.279993  2621.175204   29.487873  0.033912  2.221121  1.249612          2   \n",
              "\n",
              "      condition  \n",
              "0     no stress  \n",
              "1  interruption  \n",
              "2  interruption  \n",
              "3     no stress  \n",
              "4     no stress  \n",
              "\n",
              "[5 rows x 36 columns]"
            ],
            "text/html": [
              "\n",
              "  <div id=\"df-81c9dd04-946c-4247-98fa-f8736fc4df10\">\n",
              "    <div class=\"colab-df-container\">\n",
              "      <div>\n",
              "<style scoped>\n",
              "    .dataframe tbody tr th:only-of-type {\n",
              "        vertical-align: middle;\n",
              "    }\n",
              "\n",
              "    .dataframe tbody tr th {\n",
              "        vertical-align: top;\n",
              "    }\n",
              "\n",
              "    .dataframe thead th {\n",
              "        text-align: right;\n",
              "    }\n",
              "</style>\n",
              "<table border=\"1\" class=\"dataframe\">\n",
              "  <thead>\n",
              "    <tr style=\"text-align: right;\">\n",
              "      <th></th>\n",
              "      <th>MEAN_RR</th>\n",
              "      <th>MEDIAN_RR</th>\n",
              "      <th>SDRR</th>\n",
              "      <th>RMSSD</th>\n",
              "      <th>SDSD</th>\n",
              "      <th>SDRR_RMSSD</th>\n",
              "      <th>HR</th>\n",
              "      <th>pNN25</th>\n",
              "      <th>pNN50</th>\n",
              "      <th>SD1</th>\n",
              "      <th>...</th>\n",
              "      <th>HF</th>\n",
              "      <th>HF_PCT</th>\n",
              "      <th>HF_NU</th>\n",
              "      <th>TP</th>\n",
              "      <th>LF_HF</th>\n",
              "      <th>HF_LF</th>\n",
              "      <th>sampen</th>\n",
              "      <th>higuci</th>\n",
              "      <th>datasetId</th>\n",
              "      <th>condition</th>\n",
              "    </tr>\n",
              "  </thead>\n",
              "  <tbody>\n",
              "    <tr>\n",
              "      <th>0</th>\n",
              "      <td>885.157845</td>\n",
              "      <td>853.763730</td>\n",
              "      <td>140.972741</td>\n",
              "      <td>15.554505</td>\n",
              "      <td>15.553371</td>\n",
              "      <td>9.063146</td>\n",
              "      <td>69.499952</td>\n",
              "      <td>11.133333</td>\n",
              "      <td>0.533333</td>\n",
              "      <td>11.001565</td>\n",
              "      <td>...</td>\n",
              "      <td>15.522603</td>\n",
              "      <td>0.421047</td>\n",
              "      <td>1.514737</td>\n",
              "      <td>3686.666157</td>\n",
              "      <td>65.018055</td>\n",
              "      <td>0.015380</td>\n",
              "      <td>2.139754</td>\n",
              "      <td>1.163485</td>\n",
              "      <td>2</td>\n",
              "      <td>no stress</td>\n",
              "    </tr>\n",
              "    <tr>\n",
              "      <th>1</th>\n",
              "      <td>939.425371</td>\n",
              "      <td>948.357865</td>\n",
              "      <td>81.317742</td>\n",
              "      <td>12.964439</td>\n",
              "      <td>12.964195</td>\n",
              "      <td>6.272369</td>\n",
              "      <td>64.363150</td>\n",
              "      <td>5.600000</td>\n",
              "      <td>0.000000</td>\n",
              "      <td>9.170129</td>\n",
              "      <td>...</td>\n",
              "      <td>2.108525</td>\n",
              "      <td>0.070133</td>\n",
              "      <td>0.304603</td>\n",
              "      <td>3006.487251</td>\n",
              "      <td>327.296635</td>\n",
              "      <td>0.003055</td>\n",
              "      <td>2.174499</td>\n",
              "      <td>1.084711</td>\n",
              "      <td>2</td>\n",
              "      <td>interruption</td>\n",
              "    </tr>\n",
              "    <tr>\n",
              "      <th>2</th>\n",
              "      <td>898.186047</td>\n",
              "      <td>907.006860</td>\n",
              "      <td>84.497236</td>\n",
              "      <td>16.305279</td>\n",
              "      <td>16.305274</td>\n",
              "      <td>5.182201</td>\n",
              "      <td>67.450066</td>\n",
              "      <td>13.066667</td>\n",
              "      <td>0.200000</td>\n",
              "      <td>11.533417</td>\n",
              "      <td>...</td>\n",
              "      <td>13.769729</td>\n",
              "      <td>0.512671</td>\n",
              "      <td>1.049528</td>\n",
              "      <td>2685.879461</td>\n",
              "      <td>94.280910</td>\n",
              "      <td>0.010607</td>\n",
              "      <td>2.135350</td>\n",
              "      <td>1.176315</td>\n",
              "      <td>2</td>\n",
              "      <td>interruption</td>\n",
              "    </tr>\n",
              "    <tr>\n",
              "      <th>3</th>\n",
              "      <td>881.757865</td>\n",
              "      <td>893.460030</td>\n",
              "      <td>90.370537</td>\n",
              "      <td>15.720468</td>\n",
              "      <td>15.720068</td>\n",
              "      <td>5.748591</td>\n",
              "      <td>68.809562</td>\n",
              "      <td>11.800000</td>\n",
              "      <td>0.133333</td>\n",
              "      <td>11.119476</td>\n",
              "      <td>...</td>\n",
              "      <td>18.181913</td>\n",
              "      <td>0.529387</td>\n",
              "      <td>1.775294</td>\n",
              "      <td>3434.520980</td>\n",
              "      <td>55.328701</td>\n",
              "      <td>0.018074</td>\n",
              "      <td>2.178341</td>\n",
              "      <td>1.179688</td>\n",
              "      <td>2</td>\n",
              "      <td>no stress</td>\n",
              "    </tr>\n",
              "    <tr>\n",
              "      <th>4</th>\n",
              "      <td>809.625331</td>\n",
              "      <td>811.184865</td>\n",
              "      <td>62.766242</td>\n",
              "      <td>19.213819</td>\n",
              "      <td>19.213657</td>\n",
              "      <td>3.266724</td>\n",
              "      <td>74.565728</td>\n",
              "      <td>20.200000</td>\n",
              "      <td>0.200000</td>\n",
              "      <td>13.590641</td>\n",
              "      <td>...</td>\n",
              "      <td>48.215822</td>\n",
              "      <td>1.839473</td>\n",
              "      <td>3.279993</td>\n",
              "      <td>2621.175204</td>\n",
              "      <td>29.487873</td>\n",
              "      <td>0.033912</td>\n",
              "      <td>2.221121</td>\n",
              "      <td>1.249612</td>\n",
              "      <td>2</td>\n",
              "      <td>no stress</td>\n",
              "    </tr>\n",
              "  </tbody>\n",
              "</table>\n",
              "<p>5 rows × 36 columns</p>\n",
              "</div>\n",
              "      <button class=\"colab-df-convert\" onclick=\"convertToInteractive('df-81c9dd04-946c-4247-98fa-f8736fc4df10')\"\n",
              "              title=\"Convert this dataframe to an interactive table.\"\n",
              "              style=\"display:none;\">\n",
              "        \n",
              "  <svg xmlns=\"http://www.w3.org/2000/svg\" height=\"24px\"viewBox=\"0 0 24 24\"\n",
              "       width=\"24px\">\n",
              "    <path d=\"M0 0h24v24H0V0z\" fill=\"none\"/>\n",
              "    <path d=\"M18.56 5.44l.94 2.06.94-2.06 2.06-.94-2.06-.94-.94-2.06-.94 2.06-2.06.94zm-11 1L8.5 8.5l.94-2.06 2.06-.94-2.06-.94L8.5 2.5l-.94 2.06-2.06.94zm10 10l.94 2.06.94-2.06 2.06-.94-2.06-.94-.94-2.06-.94 2.06-2.06.94z\"/><path d=\"M17.41 7.96l-1.37-1.37c-.4-.4-.92-.59-1.43-.59-.52 0-1.04.2-1.43.59L10.3 9.45l-7.72 7.72c-.78.78-.78 2.05 0 2.83L4 21.41c.39.39.9.59 1.41.59.51 0 1.02-.2 1.41-.59l7.78-7.78 2.81-2.81c.8-.78.8-2.07 0-2.86zM5.41 20L4 18.59l7.72-7.72 1.47 1.35L5.41 20z\"/>\n",
              "  </svg>\n",
              "      </button>\n",
              "      \n",
              "  <style>\n",
              "    .colab-df-container {\n",
              "      display:flex;\n",
              "      flex-wrap:wrap;\n",
              "      gap: 12px;\n",
              "    }\n",
              "\n",
              "    .colab-df-convert {\n",
              "      background-color: #E8F0FE;\n",
              "      border: none;\n",
              "      border-radius: 50%;\n",
              "      cursor: pointer;\n",
              "      display: none;\n",
              "      fill: #1967D2;\n",
              "      height: 32px;\n",
              "      padding: 0 0 0 0;\n",
              "      width: 32px;\n",
              "    }\n",
              "\n",
              "    .colab-df-convert:hover {\n",
              "      background-color: #E2EBFA;\n",
              "      box-shadow: 0px 1px 2px rgba(60, 64, 67, 0.3), 0px 1px 3px 1px rgba(60, 64, 67, 0.15);\n",
              "      fill: #174EA6;\n",
              "    }\n",
              "\n",
              "    [theme=dark] .colab-df-convert {\n",
              "      background-color: #3B4455;\n",
              "      fill: #D2E3FC;\n",
              "    }\n",
              "\n",
              "    [theme=dark] .colab-df-convert:hover {\n",
              "      background-color: #434B5C;\n",
              "      box-shadow: 0px 1px 3px 1px rgba(0, 0, 0, 0.15);\n",
              "      filter: drop-shadow(0px 1px 2px rgba(0, 0, 0, 0.3));\n",
              "      fill: #FFFFFF;\n",
              "    }\n",
              "  </style>\n",
              "\n",
              "      <script>\n",
              "        const buttonEl =\n",
              "          document.querySelector('#df-81c9dd04-946c-4247-98fa-f8736fc4df10 button.colab-df-convert');\n",
              "        buttonEl.style.display =\n",
              "          google.colab.kernel.accessAllowed ? 'block' : 'none';\n",
              "\n",
              "        async function convertToInteractive(key) {\n",
              "          const element = document.querySelector('#df-81c9dd04-946c-4247-98fa-f8736fc4df10');\n",
              "          const dataTable =\n",
              "            await google.colab.kernel.invokeFunction('convertToInteractive',\n",
              "                                                     [key], {});\n",
              "          if (!dataTable) return;\n",
              "\n",
              "          const docLinkHtml = 'Like what you see? Visit the ' +\n",
              "            '<a target=\"_blank\" href=https://colab.research.google.com/notebooks/data_table.ipynb>data table notebook</a>'\n",
              "            + ' to learn more about interactive tables.';\n",
              "          element.innerHTML = '';\n",
              "          dataTable['output_type'] = 'display_data';\n",
              "          await google.colab.output.renderOutput(dataTable, element);\n",
              "          const docLink = document.createElement('div');\n",
              "          docLink.innerHTML = docLinkHtml;\n",
              "          element.appendChild(docLink);\n",
              "        }\n",
              "      </script>\n",
              "    </div>\n",
              "  </div>\n",
              "  "
            ]
          },
          "metadata": {},
          "execution_count": 12
        }
      ]
    },
    {
      "cell_type": "code",
      "source": [
        "df_PA_all.head()"
      ],
      "metadata": {
        "colab": {
          "base_uri": "https://localhost:8080/",
          "height": 357
        },
        "id": "BqwF-qy-VUCU",
        "outputId": "593af413-bad1-41b1-e53d-37522200cb56"
      },
      "execution_count": null,
      "outputs": [
        {
          "output_type": "execute_result",
          "data": {
            "text/plain": [
              "   MEAN_RR  SDRR          HR     VLF    VLF_PCT      LF     LF_PCT      LF_NU  \\\n",
              "0    580.0  25.0  103.448276     0.0   0.000000   173.0  80.092593  90.104167   \n",
              "1    611.0  43.0   98.199673  1286.0  56.852343   913.0  40.362511  95.802728   \n",
              "2    633.0  54.0   94.786730   674.0  29.665493  1410.0  62.059859  90.967742   \n",
              "3    649.0  49.0   92.449923  1142.0  70.147420   379.0  23.280098  88.139535   \n",
              "4    635.0  54.0   94.488189  1337.0  61.955514   605.0  28.035218  81.208054   \n",
              "\n",
              "      HF    HF_PCT      HF_NU      TP      LF_HF     HF_LF         PA  ID  \\\n",
              "0   19.0  8.796296   9.895833   216.0   9.105263  0.109827   on patch   1   \n",
              "1   40.0  1.768347   4.197272  2262.0  22.825000  0.043812  breakfast   1   \n",
              "2  140.0  6.161972   9.032258  2272.0  10.071429  0.099291  breakfast   1   \n",
              "3   51.0  3.132678  11.860465  1628.0   7.431373  0.134565  breakfast   1   \n",
              "4  140.0  6.487488  18.791946  2158.0   4.321429  0.231405  breakfast   1   \n",
              "\n",
              "   categories          device_time  \n",
              "0          -1  2016-01-07 08:27:41  \n",
              "1          -1  2016-01-07 08:28:00  \n",
              "2          -1  2016-01-07 08:28:38  \n",
              "3          -1  2016-01-07 08:29:53  \n",
              "4          -1  2016-01-07 08:32:23  "
            ],
            "text/html": [
              "\n",
              "  <div id=\"df-dc4d94cb-8b74-4a88-9ce8-ec167c4c1c45\">\n",
              "    <div class=\"colab-df-container\">\n",
              "      <div>\n",
              "<style scoped>\n",
              "    .dataframe tbody tr th:only-of-type {\n",
              "        vertical-align: middle;\n",
              "    }\n",
              "\n",
              "    .dataframe tbody tr th {\n",
              "        vertical-align: top;\n",
              "    }\n",
              "\n",
              "    .dataframe thead th {\n",
              "        text-align: right;\n",
              "    }\n",
              "</style>\n",
              "<table border=\"1\" class=\"dataframe\">\n",
              "  <thead>\n",
              "    <tr style=\"text-align: right;\">\n",
              "      <th></th>\n",
              "      <th>MEAN_RR</th>\n",
              "      <th>SDRR</th>\n",
              "      <th>HR</th>\n",
              "      <th>VLF</th>\n",
              "      <th>VLF_PCT</th>\n",
              "      <th>LF</th>\n",
              "      <th>LF_PCT</th>\n",
              "      <th>LF_NU</th>\n",
              "      <th>HF</th>\n",
              "      <th>HF_PCT</th>\n",
              "      <th>HF_NU</th>\n",
              "      <th>TP</th>\n",
              "      <th>LF_HF</th>\n",
              "      <th>HF_LF</th>\n",
              "      <th>PA</th>\n",
              "      <th>ID</th>\n",
              "      <th>categories</th>\n",
              "      <th>device_time</th>\n",
              "    </tr>\n",
              "  </thead>\n",
              "  <tbody>\n",
              "    <tr>\n",
              "      <th>0</th>\n",
              "      <td>580.0</td>\n",
              "      <td>25.0</td>\n",
              "      <td>103.448276</td>\n",
              "      <td>0.0</td>\n",
              "      <td>0.000000</td>\n",
              "      <td>173.0</td>\n",
              "      <td>80.092593</td>\n",
              "      <td>90.104167</td>\n",
              "      <td>19.0</td>\n",
              "      <td>8.796296</td>\n",
              "      <td>9.895833</td>\n",
              "      <td>216.0</td>\n",
              "      <td>9.105263</td>\n",
              "      <td>0.109827</td>\n",
              "      <td>on patch</td>\n",
              "      <td>1</td>\n",
              "      <td>-1</td>\n",
              "      <td>2016-01-07 08:27:41</td>\n",
              "    </tr>\n",
              "    <tr>\n",
              "      <th>1</th>\n",
              "      <td>611.0</td>\n",
              "      <td>43.0</td>\n",
              "      <td>98.199673</td>\n",
              "      <td>1286.0</td>\n",
              "      <td>56.852343</td>\n",
              "      <td>913.0</td>\n",
              "      <td>40.362511</td>\n",
              "      <td>95.802728</td>\n",
              "      <td>40.0</td>\n",
              "      <td>1.768347</td>\n",
              "      <td>4.197272</td>\n",
              "      <td>2262.0</td>\n",
              "      <td>22.825000</td>\n",
              "      <td>0.043812</td>\n",
              "      <td>breakfast</td>\n",
              "      <td>1</td>\n",
              "      <td>-1</td>\n",
              "      <td>2016-01-07 08:28:00</td>\n",
              "    </tr>\n",
              "    <tr>\n",
              "      <th>2</th>\n",
              "      <td>633.0</td>\n",
              "      <td>54.0</td>\n",
              "      <td>94.786730</td>\n",
              "      <td>674.0</td>\n",
              "      <td>29.665493</td>\n",
              "      <td>1410.0</td>\n",
              "      <td>62.059859</td>\n",
              "      <td>90.967742</td>\n",
              "      <td>140.0</td>\n",
              "      <td>6.161972</td>\n",
              "      <td>9.032258</td>\n",
              "      <td>2272.0</td>\n",
              "      <td>10.071429</td>\n",
              "      <td>0.099291</td>\n",
              "      <td>breakfast</td>\n",
              "      <td>1</td>\n",
              "      <td>-1</td>\n",
              "      <td>2016-01-07 08:28:38</td>\n",
              "    </tr>\n",
              "    <tr>\n",
              "      <th>3</th>\n",
              "      <td>649.0</td>\n",
              "      <td>49.0</td>\n",
              "      <td>92.449923</td>\n",
              "      <td>1142.0</td>\n",
              "      <td>70.147420</td>\n",
              "      <td>379.0</td>\n",
              "      <td>23.280098</td>\n",
              "      <td>88.139535</td>\n",
              "      <td>51.0</td>\n",
              "      <td>3.132678</td>\n",
              "      <td>11.860465</td>\n",
              "      <td>1628.0</td>\n",
              "      <td>7.431373</td>\n",
              "      <td>0.134565</td>\n",
              "      <td>breakfast</td>\n",
              "      <td>1</td>\n",
              "      <td>-1</td>\n",
              "      <td>2016-01-07 08:29:53</td>\n",
              "    </tr>\n",
              "    <tr>\n",
              "      <th>4</th>\n",
              "      <td>635.0</td>\n",
              "      <td>54.0</td>\n",
              "      <td>94.488189</td>\n",
              "      <td>1337.0</td>\n",
              "      <td>61.955514</td>\n",
              "      <td>605.0</td>\n",
              "      <td>28.035218</td>\n",
              "      <td>81.208054</td>\n",
              "      <td>140.0</td>\n",
              "      <td>6.487488</td>\n",
              "      <td>18.791946</td>\n",
              "      <td>2158.0</td>\n",
              "      <td>4.321429</td>\n",
              "      <td>0.231405</td>\n",
              "      <td>breakfast</td>\n",
              "      <td>1</td>\n",
              "      <td>-1</td>\n",
              "      <td>2016-01-07 08:32:23</td>\n",
              "    </tr>\n",
              "  </tbody>\n",
              "</table>\n",
              "</div>\n",
              "      <button class=\"colab-df-convert\" onclick=\"convertToInteractive('df-dc4d94cb-8b74-4a88-9ce8-ec167c4c1c45')\"\n",
              "              title=\"Convert this dataframe to an interactive table.\"\n",
              "              style=\"display:none;\">\n",
              "        \n",
              "  <svg xmlns=\"http://www.w3.org/2000/svg\" height=\"24px\"viewBox=\"0 0 24 24\"\n",
              "       width=\"24px\">\n",
              "    <path d=\"M0 0h24v24H0V0z\" fill=\"none\"/>\n",
              "    <path d=\"M18.56 5.44l.94 2.06.94-2.06 2.06-.94-2.06-.94-.94-2.06-.94 2.06-2.06.94zm-11 1L8.5 8.5l.94-2.06 2.06-.94-2.06-.94L8.5 2.5l-.94 2.06-2.06.94zm10 10l.94 2.06.94-2.06 2.06-.94-2.06-.94-.94-2.06-.94 2.06-2.06.94z\"/><path d=\"M17.41 7.96l-1.37-1.37c-.4-.4-.92-.59-1.43-.59-.52 0-1.04.2-1.43.59L10.3 9.45l-7.72 7.72c-.78.78-.78 2.05 0 2.83L4 21.41c.39.39.9.59 1.41.59.51 0 1.02-.2 1.41-.59l7.78-7.78 2.81-2.81c.8-.78.8-2.07 0-2.86zM5.41 20L4 18.59l7.72-7.72 1.47 1.35L5.41 20z\"/>\n",
              "  </svg>\n",
              "      </button>\n",
              "      \n",
              "  <style>\n",
              "    .colab-df-container {\n",
              "      display:flex;\n",
              "      flex-wrap:wrap;\n",
              "      gap: 12px;\n",
              "    }\n",
              "\n",
              "    .colab-df-convert {\n",
              "      background-color: #E8F0FE;\n",
              "      border: none;\n",
              "      border-radius: 50%;\n",
              "      cursor: pointer;\n",
              "      display: none;\n",
              "      fill: #1967D2;\n",
              "      height: 32px;\n",
              "      padding: 0 0 0 0;\n",
              "      width: 32px;\n",
              "    }\n",
              "\n",
              "    .colab-df-convert:hover {\n",
              "      background-color: #E2EBFA;\n",
              "      box-shadow: 0px 1px 2px rgba(60, 64, 67, 0.3), 0px 1px 3px 1px rgba(60, 64, 67, 0.15);\n",
              "      fill: #174EA6;\n",
              "    }\n",
              "\n",
              "    [theme=dark] .colab-df-convert {\n",
              "      background-color: #3B4455;\n",
              "      fill: #D2E3FC;\n",
              "    }\n",
              "\n",
              "    [theme=dark] .colab-df-convert:hover {\n",
              "      background-color: #434B5C;\n",
              "      box-shadow: 0px 1px 3px 1px rgba(0, 0, 0, 0.15);\n",
              "      filter: drop-shadow(0px 1px 2px rgba(0, 0, 0, 0.3));\n",
              "      fill: #FFFFFF;\n",
              "    }\n",
              "  </style>\n",
              "\n",
              "      <script>\n",
              "        const buttonEl =\n",
              "          document.querySelector('#df-dc4d94cb-8b74-4a88-9ce8-ec167c4c1c45 button.colab-df-convert');\n",
              "        buttonEl.style.display =\n",
              "          google.colab.kernel.accessAllowed ? 'block' : 'none';\n",
              "\n",
              "        async function convertToInteractive(key) {\n",
              "          const element = document.querySelector('#df-dc4d94cb-8b74-4a88-9ce8-ec167c4c1c45');\n",
              "          const dataTable =\n",
              "            await google.colab.kernel.invokeFunction('convertToInteractive',\n",
              "                                                     [key], {});\n",
              "          if (!dataTable) return;\n",
              "\n",
              "          const docLinkHtml = 'Like what you see? Visit the ' +\n",
              "            '<a target=\"_blank\" href=https://colab.research.google.com/notebooks/data_table.ipynb>data table notebook</a>'\n",
              "            + ' to learn more about interactive tables.';\n",
              "          element.innerHTML = '';\n",
              "          dataTable['output_type'] = 'display_data';\n",
              "          await google.colab.output.renderOutput(dataTable, element);\n",
              "          const docLink = document.createElement('div');\n",
              "          docLink.innerHTML = docLinkHtml;\n",
              "          element.appendChild(docLink);\n",
              "        }\n",
              "      </script>\n",
              "    </div>\n",
              "  </div>\n",
              "  "
            ]
          },
          "metadata": {},
          "execution_count": 13
        }
      ]
    },
    {
      "cell_type": "code",
      "source": [
        "df_train['condition'].unique()"
      ],
      "metadata": {
        "colab": {
          "base_uri": "https://localhost:8080/"
        },
        "id": "AL7rueX0g3Ve",
        "outputId": "7eafeb68-ce6b-4033-f4fe-559448da26de"
      },
      "execution_count": null,
      "outputs": [
        {
          "output_type": "execute_result",
          "data": {
            "text/plain": [
              "array(['no stress', 'interruption', 'time pressure'], dtype=object)"
            ]
          },
          "metadata": {},
          "execution_count": 14
        }
      ]
    },
    {
      "cell_type": "code",
      "source": [
        "df_PA_all['PA'].unique()"
      ],
      "metadata": {
        "colab": {
          "base_uri": "https://localhost:8080/"
        },
        "id": "DHlHIUZ7xBcK",
        "outputId": "8a9fe82d-d773-414d-e657-8049dcda2d17"
      },
      "execution_count": null,
      "outputs": [
        {
          "output_type": "execute_result",
          "data": {
            "text/plain": [
              "array(['on patch', 'breakfast', 'commuting-riding motor', nan,\n",
              "       'after up 6 floors', 'work-desk', 'lunch', 'work-discussion',\n",
              "       'work-meeting', 'arrive home', 'dinner', 'pre-sleep satus',\n",
              "       'go to bed & light off', 'sleep', 'off patch since itch',\n",
              "       'on patch at 40 min after swimming 1 hour-long', 'watch TV',\n",
              "       'go to bed', 'sleep (wake to watch the clock)', 'get up',\n",
              "       'off patch ', 'after swimming and showering', 'commuting-motor',\n",
              "       'dining', 'commuting-MRT', 'arrive office', 'sleeping',\n",
              "       '20 mins after home workout', 'chating ', 'discussion',\n",
              "       'meeting in English', 'dining+discussion',\n",
              "       '20 mins after swimming 1 hour', 'chatting', 'commuting',\n",
              "       'lunch break', 'taking MRT', 'dining ', 'relaxing', 'GO TO BED',\n",
              "       'GET UP', 'morning preparation', 'warm up for run',\n",
              "       'running (HR is not correct)', '45 min after running 10 km',\n",
              "       'prepare go out', 'to go upstairs', 'desk work', 'coffeex1',\n",
              "       'prepare meeting', 'meeting+discussion', 'desk working',\n",
              "       'dining at home', ' go to bed', '6:40-8:00 swimming 3000m',\n",
              "       'market shopping', 'house working', 'house chores', 'napping',\n",
              "       'accept facial care service', 'reading paper-lie down', 'cooking',\n",
              "       'pre-sleep status', 'morning prepare', '6:38-8:40 gym workout',\n",
              "       'reading paper', 'commuting-bus', 'family gattering',\n",
              "       'sleeping-go to pee', 'after shower', 'go upstairs',\n",
              "       'discussion with frustrated', 'walking', 'moring prepare',\n",
              "       '20 mins after swimming', 'dinning', ' go upstairs', 'meeting',\n",
              "       'go upstaires', 'using exercise equipment', 'off patch',\n",
              "       'pre-sleep', 'after home workout', 'after swimming',\n",
              "       'morning prepare+chatting', 'fixed PC problem', 'go up staires',\n",
              "       'reading paper on bed', 'wake up by clock', 'fall asleep',\n",
              "       'muscle streching', 'brainstorming', 'work chores',\n",
              "       'dinner outside', 'presleep status', 'sleeping (incorrect HR)',\n",
              "       'text for work', 'prepare food', 'home workout',\n",
              "       'already patch off', 'dealing with patch data',\n",
              "       'clean meeting room', 'after running and shower', 'chating',\n",
              "       'walking+ go upstaires', 'teaching', 'chatting&watch TV',\n",
              "       'mornin g prepare', 'after swimming 2100m', 'talking',\n",
              "       'meeting+discussing', 'dinner outside with drink', 'Taxi',\n",
              "       'at KTV with drink', 'eating', 'watch TV and lay down',\n",
              "       'after running', 'comnuting-motor', 'text email',\n",
              "       '15 mins after swimming', 'after shower prepare',\n",
              "       'one hour after runnng', 'surfing the internet',\n",
              "       'after-shower prepare', 'go upsatires', 'go upstires',\n",
              "       'timestamps out', 'awake', 'light sleep', 'text line',\n",
              "       'data manage', 'after work-out', 'prepare for  go out',\n",
              "       'catch up the train', 'on the train', 'massage therapy with pain',\n",
              "       'home chores', 'family gathering dinner',\n",
              "       'family gathering acitivity', 'commuting-car', 'exercise', 'study',\n",
              "       'exercise ', 'SLEEP', 'GETUP', 'MEETING ', 'READING', 'BROWSING',\n",
              "       'study ', 'browsing', 'cooking ', 'at the gym', 'driving',\n",
              "       'reading ', 'writing', 'Relax', 'snack', 'studing',\n",
              "       'go to bed, DF=8', 'Sleeping', 'working', 'working in lab', 'rest',\n",
              "       'studying', 'laying', 'gossip', 'relax', 'watching movie',\n",
              "       'bazaar', 'Patch off', 'working ', 'to go bed ( DF=5, Stressful',\n",
              "       'bathing', 'to go bed ( DF=8, relaxing', 'get up ',\n",
              "       'go to bed DF=7', 'Rest', 'Go to bed DF=8', 'Sleep',\n",
              "       'Get up S0L>5,WASO>5,NOA=0,SSQ=7', 'Breakfast',\n",
              "       'Get up S0L>5,WASO>5,NOA=0,SSQ=8', ' took bath', 'Lunch',\n",
              "       'go to bed DF=8', 'drinking', 'standing', 'taking medicine',\n",
              "       'buying drinks', 'waiting for order', 'Running', 'eating dinner',\n",
              "       'walking up stairs', 'leisure time-home', 'take medicine',\n",
              "       'jogging', 'rest(sit)', 'sit(wait for dinner)', 'eating(snack)',\n",
              "       'preparing to go out', 'standing(wait for bus)', 'commuting-taxi',\n",
              "       'activity-meditation', 'preparing', 'commuting-Bus',\n",
              "       'leisure time-outside', 'sit(rest)', 'talking on the phone',\n",
              "       'sit-wait for dinner', 'sit', 'meditation', 'rest-sit',\n",
              "       'meditation class', 'commuting-high speed rail',\n",
              "       'walking-up stairs'], dtype=object)"
            ]
          },
          "metadata": {},
          "execution_count": 15
        }
      ]
    },
    {
      "cell_type": "code",
      "source": [
        "PA_unique_counts = df_PA_all['PA'].value_counts(dropna=False)\n",
        "print(PA_unique_counts)\n",
        "pd.DataFrame(PA_unique_counts).to_csv(\"/content/drive/MyDrive/SWELL/hrv PA/PA_uniquie_counts.csv\")"
      ],
      "metadata": {
        "colab": {
          "base_uri": "https://localhost:8080/"
        },
        "id": "AA2J3KAsQ0rl",
        "outputId": "c37c8628-d856-45cc-a5bd-559df1a65650"
      },
      "execution_count": null,
      "outputs": [
        {
          "output_type": "stream",
          "name": "stdout",
          "text": [
            "sleeping                           8343\n",
            "leisure time-home                  3481\n",
            "walking                            2621\n",
            "work-desk                          2323\n",
            "desk working                       2230\n",
            "                                   ... \n",
            " go to bed                            1\n",
            "Get up S0L>5,WASO>5,NOA=0,SSQ=7       1\n",
            "Get up S0L>5,WASO>5,NOA=0,SSQ=8       1\n",
            "coffeex1                              1\n",
            "6:38-8:40 gym workout                 1\n",
            "Name: PA, Length: 215, dtype: int64\n"
          ]
        }
      ]
    },
    {
      "cell_type": "code",
      "source": [
        "PA_dict=df_PA_dict.to_dict()\n",
        "print(PA_dict)"
      ],
      "metadata": {
        "colab": {
          "base_uri": "https://localhost:8080/"
        },
        "id": "IS4fzF3SWVJ3",
        "outputId": "65ab0afa-39e3-4374-bd3a-76bdd45c1705"
      },
      "execution_count": null,
      "outputs": [
        {
          "output_type": "stream",
          "name": "stdout",
          "text": [
            "{'work-desk': 5, 'desk working': 5, 'working': 5, 'work-meeting': 5, 'study': 5, 'work-discussion': 5, 'meeting': 5, 'discussion': 5, 'READING': 5, 'reading paper': 5, 'reading ': 5, 'meeting+discussion': 5, 'studing': 5, 'desk work': 5, 'working ': 5, 'surfing the internet': 5, 'writing': 5, 'BROWSING': 5, 'browsing': 5, 'working in lab': 5, 'studying': 5, 'meeting+discussing': 5, 'MEETING ': 5, 'meeting in English': 5, 'data manage': 5, 'text line': 5, 'text email': 5, 'dealing with patch data': 5, 'work chores': 5, 'text for work': 5, 'discussion with frustrated': 5, 'prepare meeting': 5, 'study ': 5, 'sleeping': 4, 'sleep': 4, 'napping': 4, 'Sleeping': 4, 'Sleep': 4, 'SLEEP': 4, 'fall asleep': 4, 'awake': 4, 'GO TO BED': 4, 'pre-sleep status': 4, 'go to bed': 4, 'GET UP': 4, 'get up': 4, 'GETUP': 4, 'light sleep': 4, 'pre-sleep': 4, 'pre-sleep satus': 4, 'Go to bed DF=8': 4, 'presleep status': 4, 'go to bed & light off': 4, 'sleep (wake to watch the clock)': 4, 'wake up by clock': 4, 'go to bed, DF=8': 4, 'go to bed DF=8': 4, 'to go bed ( DF=5, Stressful': 4, 'to go bed ( DF=8, relaxing': 4, 'get up ': 4, 'go to bed DF=7': 4, ' go to bed': 4, 'Get up S0L>5,WASO>5,NOA=0,SSQ=7': 4, 'Get up S0L>5,WASO>5,NOA=0,SSQ=8': 4, nan: -1, 'commuting-MRT': -1, 'cooking': -1, 'commuting-motor': -1, 'timestamps out': -1, 'morning prepare': -1, 'commuting-bus': -1, 'cooking ': -1, 'teaching': -1, 'accept facial care service': -1, 'market shopping': -1, 'massage therapy with pain': -1, 'meditation': -1, 'meditation class': -1, 'prepare food': -1, 'activity-meditation': -1, 'on the train': -1, 'after-shower prepare': -1, 'standing': -1, 'commuting': -1, 'running (HR is not correct)': -1, 'commuting-Bus': -1, 'on patch': -1, 'commuting-taxi': -1, 'commuting-riding motor': -1, 'already patch off': -1, 'off patch': -1, 'brainstorming': -1, 'Taxi': -1, 'bathing': -1, 'prepare go out': -1, 'bazaar': -1, 'comnuting-motor': -1, 'morning prepare+chatting': -1, 'commuting-high speed rail': -1, ' took bath': -1, 'preparing to go out': -1, 'after shower': -1, 'fixed PC problem': -1, 'mornin g prepare': -1, 'after shower prepare': -1, 'gossip': -1, 'commuting-car': -1, 'catch up the train': -1, 'prepare for  go out': -1, 'driving': -1, 'talking on the phone': -1, 'after swimming': -1, 'clean meeting room': -1, 'moring prepare': -1, 'after running and shower': -1, 'standing(wait for bus)': -1, 'take medicine': -1, '20 mins after home workout': -1, 'arrive office': -1, '20 mins after swimming 1 hour': -1, 'after swimming and showering': -1, 'off patch ': -1, 'taking medicine': -1, 'on patch at 40 min after swimming 1 hour-long': -1, 'off patch since itch': -1, '45 min after running 10 km': -1, 'arrive home': -1, '20 mins after swimming': -1, 'one hour after runnng': -1, '15 mins after swimming': -1, 'after running': -1, 'after swimming 2100m': -1, 'sleeping (incorrect HR)': -1, 'after home workout': -1, 'Patch off': -1, 'sleeping-go to pee': -1, 'after work-out': -1, '6:40-8:00 swimming 3000m': -1, 'coffeex1': -1, '6:38-8:40 gym workout': -1, 'leisure time-home': 3, 'watch TV': 3, 'leisure time-outside': 3, 'house working': 3, 'rest': 3, 'relaxing': 3, 'relax': 3, 'watching movie': 3, 'house chores': 3, 'reading paper-lie down': 3, 'home chores': 3, 'sit(rest)': 3, 'chatting&watch TV': 3, 'Rest': 3, 'sit': 3, 'lunch break': 3, 'talking': 3, 'chating ': 3, 'rest(sit)': 3, 'reading paper on bed': 3, 'watch TV and lay down': 3, 'Relax': 3, 'laying': 3, 'chating': 3, 'chatting': 3, 'rest-sit': 3, 'walking': 2, 'exercise': 2, 'at the gym': 2, 'preparing': 2, 'go upstaires': 2, 'morning preparation': 2, 'exercise ': 2, 'jogging': 2, 'taking MRT': 2, 'muscle streching': 2, 'home workout': 2, 'walking-up stairs': 2, 'using exercise equipment': 2, 'warm up for run': 2, 'Running': 2, 'walking+ go upstaires': 2, 'walking up stairs': 2, 'go upstairs': 2, 'after up 6 floors': 2, 'go upstires': 2, 'to go upstairs': 2, 'go upsatires': 2, 'go up staires': 2, ' go upstairs': 2, 'eating': 1, 'dining': 1, 'dinner': 1, 'lunch': 1, 'breakfast': 1, 'dinner outside': 1, 'family gattering': 1, 'dinner outside with drink': 1, 'at KTV with drink': 1, 'family gathering acitivity': 1, 'family gathering dinner': 1, 'dining at home': 1, 'dining ': 1, 'dinning': 1, 'dining+discussion': 1, 'eating dinner': 1, 'Breakfast': 1, 'waiting for order': 1, 'Lunch': 1, 'sit(wait for dinner)': 1, 'snack': 1, 'eating(snack)': 1, 'drinking': 1, 'buying drinks': 1, 'sit-wait for dinner': 1}\n"
          ]
        }
      ]
    },
    {
      "cell_type": "code",
      "source": [
        "PA_cat_dict=df_PA_cat.to_dict()\n",
        "print(PA_cat_dict)"
      ],
      "metadata": {
        "colab": {
          "base_uri": "https://localhost:8080/"
        },
        "id": "jFhtvXtlYsvA",
        "outputId": "2f1e3713-4502-4fb8-ed3e-21684546069a"
      },
      "execution_count": null,
      "outputs": [
        {
          "output_type": "stream",
          "name": "stdout",
          "text": [
            "{'work-desk': '{Working}', 'desk working': '{Working}', 'working': '{Working}', 'work-meeting': '{Working}', 'study': '{Working}', 'work-discussion': '{Working}', 'meeting': '{Working}', 'discussion': '{Working}', 'READING': '{Working}', 'reading paper': '{Working}', 'reading ': '{Working}', 'meeting+discussion': '{Working}', 'studing': '{Working}', 'desk work': '{Working}', 'working ': '{Working}', 'surfing the internet': '{Working}', 'writing': '{Working}', 'BROWSING': '{Working}', 'browsing': '{Working}', 'working in lab': '{Working}', 'studying': '{Working}', 'meeting+discussing': '{Working}', 'MEETING ': '{Working}', 'meeting in English': '{Working}', 'data manage': '{Working}', 'text line': '{Working}', 'text email': '{Working}', 'dealing with patch data': '{Working}', 'work chores': '{Working}', 'text for work': '{Working}', 'discussion with frustrated': '{Working}', 'prepare meeting': '{Working}', 'study ': '{Working}', 'sleeping': '{Sleep}', 'sleep': '{Sleep}', 'napping': '{Sleep}', 'Sleeping': '{Sleep}', 'Sleep': '{Sleep}', 'SLEEP': '{Sleep}', 'fall asleep': '{Sleep}', 'awake': '{Sleep}', 'GO TO BED': '{Sleep}', 'pre-sleep status': '{Sleep}', 'go to bed': '{Sleep}', 'GET UP': '{Sleep}', 'get up': '{Sleep}', 'GETUP': '{Sleep}', 'light sleep': '{Sleep}', 'pre-sleep': '{Sleep}', 'pre-sleep satus': '{Sleep}', 'Go to bed DF=8': '{Sleep}', 'presleep status': '{Sleep}', 'go to bed & light off': '{Sleep}', 'sleep (wake to watch the clock)': '{Sleep}', 'wake up by clock': '{Sleep}', 'go to bed, DF=8': '{Sleep}', 'go to bed DF=8': '{Sleep}', 'to go bed ( DF=5, Stressful': '{Sleep}', 'to go bed ( DF=8, relaxing': '{Sleep}', 'get up ': '{Sleep}', 'go to bed DF=7': '{Sleep}', ' go to bed': '{Sleep}', 'Get up S0L>5,WASO>5,NOA=0,SSQ=7': '{Sleep}', 'Get up S0L>5,WASO>5,NOA=0,SSQ=8': '{Sleep}', nan: '{Others}', 'commuting-MRT': '{Others}', 'cooking': '{Others}', 'commuting-motor': '{Others}', 'timestamps out': '{Others}', 'morning prepare': '{Others}', 'commuting-bus': '{Others}', 'cooking ': '{Others}', 'teaching': '{Others}', 'accept facial care service': '{Others}', 'market shopping': '{Others}', 'massage therapy with pain': '{Others}', 'meditation': '{Others}', 'meditation class': '{Others}', 'prepare food': '{Others}', 'activity-meditation': '{Others}', 'on the train': '{Others}', 'after-shower prepare': '{Others}', 'standing': '{Others}', 'commuting': '{Others}', 'running (HR is not correct)': '{Others}', 'commuting-Bus': '{Others}', 'on patch': '{Others}', 'commuting-taxi': '{Others}', 'commuting-riding motor': '{Others}', 'already patch off': '{Others}', 'off patch': '{Others}', 'brainstorming': '{Others}', 'Taxi': '{Others}', 'bathing': '{Others}', 'prepare go out': '{Others}', 'bazaar': '{Others}', 'comnuting-motor': '{Others}', 'morning prepare+chatting': '{Others}', 'commuting-high speed rail': '{Others}', ' took bath': '{Others}', 'preparing to go out': '{Others}', 'after shower': '{Others}', 'fixed PC problem': '{Others}', 'mornin g prepare': '{Others}', 'after shower prepare': '{Others}', 'gossip': '{Others}', 'commuting-car': '{Others}', 'catch up the train': '{Others}', 'prepare for  go out': '{Others}', 'driving': '{Others}', 'talking on the phone': '{Others}', 'after swimming': '{Others}', 'clean meeting room': '{Others}', 'moring prepare': '{Others}', 'after running and shower': '{Others}', 'standing(wait for bus)': '{Others}', 'take medicine': '{Others}', '20 mins after home workout': '{Others}', 'arrive office': '{Others}', '20 mins after swimming 1 hour': '{Others}', 'after swimming and showering': '{Others}', 'off patch ': '{Others}', 'taking medicine': '{Others}', 'on patch at 40 min after swimming 1 hour-long': '{Others}', 'off patch since itch': '{Others}', '45 min after running 10 km': '{Others}', 'arrive home': '{Others}', '20 mins after swimming': '{Others}', 'one hour after runnng': '{Others}', '15 mins after swimming': '{Others}', 'after running': '{Others}', 'after swimming 2100m': '{Others}', 'sleeping (incorrect HR)': '{Others}', 'after home workout': '{Others}', 'Patch off': '{Others}', 'sleeping-go to pee': '{Others}', 'after work-out': '{Others}', '6:40-8:00 swimming 3000m': '{Others}', 'coffeex1': '{Others}', '6:38-8:40 gym workout': '{Others}', 'leisure time-home': '{Leisure}', 'watch TV': '{Leisure}', 'leisure time-outside': '{Leisure}', 'house working': '{Leisure}', 'rest': '{Leisure}', 'relaxing': '{Leisure}', 'relax': '{Leisure}', 'watching movie': '{Leisure}', 'house chores': '{Leisure}', 'reading paper-lie down': '{Leisure}', 'home chores': '{Leisure}', 'sit(rest)': '{Leisure}', 'chatting&watch TV': '{Leisure}', 'Rest': '{Leisure}', 'sit': '{Leisure}', 'lunch break': '{Leisure}', 'talking': '{Leisure}', 'chating ': '{Leisure}', 'rest(sit)': '{Leisure}', 'reading paper on bed': '{Leisure}', 'watch TV and lay down': '{Leisure}', 'Relax': '{Leisure}', 'laying': '{Leisure}', 'chating': '{Leisure}', 'chatting': '{Leisure}', 'rest-sit': '{Leisure}', 'walking': '{Exercise}', 'exercise': '{Exercise}', 'at the gym': '{Exercise}', 'preparing': '{Exercise}', 'go upstaires': '{Exercise}', 'morning preparation': '{Exercise}', 'exercise ': '{Exercise}', 'jogging': '{Exercise}', 'taking MRT': '{Exercise}', 'muscle streching': '{Exercise}', 'home workout': '{Exercise}', 'walking-up stairs': '{Exercise}', 'using exercise equipment': '{Exercise}', 'warm up for run': '{Exercise}', 'Running': '{Exercise}', 'walking+ go upstaires': '{Exercise}', 'walking up stairs': '{Exercise}', 'go upstairs': '{Exercise}', 'after up 6 floors': '{Exercise}', 'go upstires': '{Exercise}', 'to go upstairs': '{Exercise}', 'go upsatires': '{Exercise}', 'go up staires': '{Exercise}', ' go upstairs': '{Exercise}', 'eating': '{Eat&Drink}', 'dining': '{Eat&Drink}', 'dinner': '{Eat&Drink}', 'lunch': '{Eat&Drink}', 'breakfast': '{Eat&Drink}', 'dinner outside': '{Eat&Drink}', 'family gattering': '{Eat&Drink}', 'dinner outside with drink': '{Eat&Drink}', 'at KTV with drink': '{Eat&Drink}', 'family gathering acitivity': '{Eat&Drink}', 'family gathering dinner': '{Eat&Drink}', 'dining at home': '{Eat&Drink}', 'dining ': '{Eat&Drink}', 'dinning': '{Eat&Drink}', 'dining+discussion': '{Eat&Drink}', 'eating dinner': '{Eat&Drink}', 'Breakfast': '{Eat&Drink}', 'waiting for order': '{Eat&Drink}', 'Lunch': '{Eat&Drink}', 'sit(wait for dinner)': '{Eat&Drink}', 'snack': '{Eat&Drink}', 'eating(snack)': '{Eat&Drink}', 'drinking': '{Eat&Drink}', 'buying drinks': '{Eat&Drink}', 'sit-wait for dinner': '{Eat&Drink}'}\n"
          ]
        }
      ]
    },
    {
      "cell_type": "code",
      "source": [
        "df_PA_all_cat = df_PA_all\n",
        "df_PA_all_cat['categories'] = df_PA_all['PA'].map(PA_cat_dict, na_action=None)\n",
        "pd.DataFrame(df_PA_all_cat).to_csv(\"/content/drive/MyDrive/SWELL/hrv PA/PA_all_with_categories.csv\")"
      ],
      "metadata": {
        "id": "74nSiWk0ZUTS"
      },
      "execution_count": null,
      "outputs": []
    },
    {
      "cell_type": "code",
      "source": [
        "df_PA_all_int = df_PA_all\n",
        "df_PA_all_int['categories'] = df_PA_all['PA'].map(PA_dict, na_action=None)\n",
        "df_PA_all_int.head(20)"
      ],
      "metadata": {
        "colab": {
          "base_uri": "https://localhost:8080/",
          "height": 1000
        },
        "id": "LHuU31wV-vIG",
        "outputId": "b9c89520-8ed2-4ac3-eed6-643e2756a50e"
      },
      "execution_count": null,
      "outputs": [
        {
          "output_type": "execute_result",
          "data": {
            "text/plain": [
              "    MEAN_RR   SDRR          HR     VLF    VLF_PCT      LF     LF_PCT  \\\n",
              "0     580.0   25.0  103.448276     0.0   0.000000   173.0  80.092593   \n",
              "1     611.0   43.0   98.199673  1286.0  56.852343   913.0  40.362511   \n",
              "2     633.0   54.0   94.786730   674.0  29.665493  1410.0  62.059859   \n",
              "3     649.0   49.0   92.449923  1142.0  70.147420   379.0  23.280098   \n",
              "4     635.0   54.0   94.488189  1337.0  61.955514   605.0  28.035218   \n",
              "5     602.0   50.0   99.667774  1394.0  80.253310   290.0  16.695452   \n",
              "6     600.0   37.0  100.000000  1078.0  78.801170   188.0  13.742690   \n",
              "7     612.0   34.0   98.039216   709.0  71.833840   226.0  22.897670   \n",
              "8     620.0   42.0   96.774194   695.0  42.121212   670.0  40.606061   \n",
              "9     605.0   52.0   99.173554  1365.0  58.258643   749.0  31.967563   \n",
              "10    577.0   33.0  103.986135   581.0  66.248575   247.0  28.164196   \n",
              "11    581.0   34.0  103.270224   530.0  64.871481   240.0  29.375765   \n",
              "12    572.0   39.0  104.895105  1650.0  88.046958   125.0   6.670224   \n",
              "13    605.0   56.0   99.173554  2193.0  77.573399   409.0  14.467634   \n",
              "14    639.0   34.0   93.896714   359.0  37.395833   374.0  38.958333   \n",
              "15    645.0   37.0   93.023256   564.0  46.078431   390.0  31.862745   \n",
              "16    619.0   69.0   96.930533  2559.0  79.669988   336.0  10.460772   \n",
              "17    538.0  110.0  111.524164  1435.0  30.027202   523.0  10.943712   \n",
              "18    504.0   56.0  119.047619  2959.0  96.541599    77.0   2.512235   \n",
              "19    560.0   30.0  107.142857   521.0  65.534591   209.0  26.289308   \n",
              "\n",
              "        LF_NU     HF     HF_PCT      HF_NU      TP      LF_HF     HF_LF  \\\n",
              "0   90.104167   19.0   8.796296   9.895833   216.0   9.105263  0.109827   \n",
              "1   95.802728   40.0   1.768347   4.197272  2262.0  22.825000  0.043812   \n",
              "2   90.967742  140.0   6.161972   9.032258  2272.0  10.071429  0.099291   \n",
              "3   88.139535   51.0   3.132678  11.860465  1628.0   7.431373  0.134565   \n",
              "4   81.208054  140.0   6.487488  18.791946  2158.0   4.321429  0.231405   \n",
              "5   90.062112   32.0   1.842257   9.937888  1737.0   9.062500  0.110345   \n",
              "6   70.943396   77.0   5.628655  29.056604  1368.0   2.441558  0.409574   \n",
              "7   88.976378   28.0   2.836879  11.023622   987.0   8.071429  0.123894   \n",
              "8   75.112108  222.0  13.454545  24.887892  1650.0   3.018018  0.331343   \n",
              "9   82.127193  163.0   6.956893  17.872807  2343.0   4.595092  0.217623   \n",
              "10  89.169675   30.0   3.420753  10.830325   877.0   8.233333  0.121457   \n",
              "11  90.909091   24.0   2.937576   9.090909   817.0  10.000000  0.100000   \n",
              "12  67.567568   60.0   3.201708  32.432432  1874.0   2.083333  0.480000   \n",
              "13  71.754386  161.0   5.695083  28.245614  2827.0   2.540373  0.393643   \n",
              "14  67.145422  183.0  19.062500  32.854578   960.0   2.043716  0.489305   \n",
              "15  68.783069  177.0  14.460784  31.216931  1224.0   2.203390  0.453846   \n",
              "16  61.764706  208.0   6.475716  38.235294  3212.0   1.615385  0.619048   \n",
              "17  39.591219  798.0  16.698054  60.408781  4779.0   0.655388  1.525813   \n",
              "18  83.695652   15.0   0.489396  16.304348  3065.0   5.133333  0.194805   \n",
              "19  80.694981   50.0   6.289308  19.305019   795.0   4.180000  0.239234   \n",
              "\n",
              "                        PA  ID  categories          device_time  \n",
              "0                 on patch   1          -1  2016-01-07 08:27:41  \n",
              "1                breakfast   1           1  2016-01-07 08:28:00  \n",
              "2                breakfast   1           1  2016-01-07 08:28:38  \n",
              "3                breakfast   1           1  2016-01-07 08:29:53  \n",
              "4                breakfast   1           1  2016-01-07 08:32:23  \n",
              "5                breakfast   1           1  2016-01-07 08:34:53  \n",
              "6                breakfast   1           1  2016-01-07 08:37:23  \n",
              "7                breakfast   1           1  2016-01-07 08:39:53  \n",
              "8   commuting-riding motor   1          -1  2016-01-07 08:42:23  \n",
              "9   commuting-riding motor   1          -1  2016-01-07 08:44:53  \n",
              "10  commuting-riding motor   1          -1  2016-01-07 08:47:23  \n",
              "11  commuting-riding motor   1          -1  2016-01-07 08:49:53  \n",
              "12  commuting-riding motor   1          -1  2016-01-07 08:52:23  \n",
              "13  commuting-riding motor   1          -1  2016-01-07 08:54:53  \n",
              "14  commuting-riding motor   1          -1  2016-01-07 08:57:23  \n",
              "15                     NaN   1          -1  2016-01-07 08:59:53  \n",
              "16       after up 6 floors   1           2  2016-01-07 09:02:23  \n",
              "17               work-desk   1           5  2016-01-07 09:04:53  \n",
              "18               work-desk   1           5  2016-01-07 09:07:23  \n",
              "19               work-desk   1           5  2016-01-07 09:09:53  "
            ],
            "text/html": [
              "\n",
              "  <div id=\"df-fb1798ef-39f2-4f54-a84a-6b9ad3a5b7e1\">\n",
              "    <div class=\"colab-df-container\">\n",
              "      <div>\n",
              "<style scoped>\n",
              "    .dataframe tbody tr th:only-of-type {\n",
              "        vertical-align: middle;\n",
              "    }\n",
              "\n",
              "    .dataframe tbody tr th {\n",
              "        vertical-align: top;\n",
              "    }\n",
              "\n",
              "    .dataframe thead th {\n",
              "        text-align: right;\n",
              "    }\n",
              "</style>\n",
              "<table border=\"1\" class=\"dataframe\">\n",
              "  <thead>\n",
              "    <tr style=\"text-align: right;\">\n",
              "      <th></th>\n",
              "      <th>MEAN_RR</th>\n",
              "      <th>SDRR</th>\n",
              "      <th>HR</th>\n",
              "      <th>VLF</th>\n",
              "      <th>VLF_PCT</th>\n",
              "      <th>LF</th>\n",
              "      <th>LF_PCT</th>\n",
              "      <th>LF_NU</th>\n",
              "      <th>HF</th>\n",
              "      <th>HF_PCT</th>\n",
              "      <th>HF_NU</th>\n",
              "      <th>TP</th>\n",
              "      <th>LF_HF</th>\n",
              "      <th>HF_LF</th>\n",
              "      <th>PA</th>\n",
              "      <th>ID</th>\n",
              "      <th>categories</th>\n",
              "      <th>device_time</th>\n",
              "    </tr>\n",
              "  </thead>\n",
              "  <tbody>\n",
              "    <tr>\n",
              "      <th>0</th>\n",
              "      <td>580.0</td>\n",
              "      <td>25.0</td>\n",
              "      <td>103.448276</td>\n",
              "      <td>0.0</td>\n",
              "      <td>0.000000</td>\n",
              "      <td>173.0</td>\n",
              "      <td>80.092593</td>\n",
              "      <td>90.104167</td>\n",
              "      <td>19.0</td>\n",
              "      <td>8.796296</td>\n",
              "      <td>9.895833</td>\n",
              "      <td>216.0</td>\n",
              "      <td>9.105263</td>\n",
              "      <td>0.109827</td>\n",
              "      <td>on patch</td>\n",
              "      <td>1</td>\n",
              "      <td>-1</td>\n",
              "      <td>2016-01-07 08:27:41</td>\n",
              "    </tr>\n",
              "    <tr>\n",
              "      <th>1</th>\n",
              "      <td>611.0</td>\n",
              "      <td>43.0</td>\n",
              "      <td>98.199673</td>\n",
              "      <td>1286.0</td>\n",
              "      <td>56.852343</td>\n",
              "      <td>913.0</td>\n",
              "      <td>40.362511</td>\n",
              "      <td>95.802728</td>\n",
              "      <td>40.0</td>\n",
              "      <td>1.768347</td>\n",
              "      <td>4.197272</td>\n",
              "      <td>2262.0</td>\n",
              "      <td>22.825000</td>\n",
              "      <td>0.043812</td>\n",
              "      <td>breakfast</td>\n",
              "      <td>1</td>\n",
              "      <td>1</td>\n",
              "      <td>2016-01-07 08:28:00</td>\n",
              "    </tr>\n",
              "    <tr>\n",
              "      <th>2</th>\n",
              "      <td>633.0</td>\n",
              "      <td>54.0</td>\n",
              "      <td>94.786730</td>\n",
              "      <td>674.0</td>\n",
              "      <td>29.665493</td>\n",
              "      <td>1410.0</td>\n",
              "      <td>62.059859</td>\n",
              "      <td>90.967742</td>\n",
              "      <td>140.0</td>\n",
              "      <td>6.161972</td>\n",
              "      <td>9.032258</td>\n",
              "      <td>2272.0</td>\n",
              "      <td>10.071429</td>\n",
              "      <td>0.099291</td>\n",
              "      <td>breakfast</td>\n",
              "      <td>1</td>\n",
              "      <td>1</td>\n",
              "      <td>2016-01-07 08:28:38</td>\n",
              "    </tr>\n",
              "    <tr>\n",
              "      <th>3</th>\n",
              "      <td>649.0</td>\n",
              "      <td>49.0</td>\n",
              "      <td>92.449923</td>\n",
              "      <td>1142.0</td>\n",
              "      <td>70.147420</td>\n",
              "      <td>379.0</td>\n",
              "      <td>23.280098</td>\n",
              "      <td>88.139535</td>\n",
              "      <td>51.0</td>\n",
              "      <td>3.132678</td>\n",
              "      <td>11.860465</td>\n",
              "      <td>1628.0</td>\n",
              "      <td>7.431373</td>\n",
              "      <td>0.134565</td>\n",
              "      <td>breakfast</td>\n",
              "      <td>1</td>\n",
              "      <td>1</td>\n",
              "      <td>2016-01-07 08:29:53</td>\n",
              "    </tr>\n",
              "    <tr>\n",
              "      <th>4</th>\n",
              "      <td>635.0</td>\n",
              "      <td>54.0</td>\n",
              "      <td>94.488189</td>\n",
              "      <td>1337.0</td>\n",
              "      <td>61.955514</td>\n",
              "      <td>605.0</td>\n",
              "      <td>28.035218</td>\n",
              "      <td>81.208054</td>\n",
              "      <td>140.0</td>\n",
              "      <td>6.487488</td>\n",
              "      <td>18.791946</td>\n",
              "      <td>2158.0</td>\n",
              "      <td>4.321429</td>\n",
              "      <td>0.231405</td>\n",
              "      <td>breakfast</td>\n",
              "      <td>1</td>\n",
              "      <td>1</td>\n",
              "      <td>2016-01-07 08:32:23</td>\n",
              "    </tr>\n",
              "    <tr>\n",
              "      <th>5</th>\n",
              "      <td>602.0</td>\n",
              "      <td>50.0</td>\n",
              "      <td>99.667774</td>\n",
              "      <td>1394.0</td>\n",
              "      <td>80.253310</td>\n",
              "      <td>290.0</td>\n",
              "      <td>16.695452</td>\n",
              "      <td>90.062112</td>\n",
              "      <td>32.0</td>\n",
              "      <td>1.842257</td>\n",
              "      <td>9.937888</td>\n",
              "      <td>1737.0</td>\n",
              "      <td>9.062500</td>\n",
              "      <td>0.110345</td>\n",
              "      <td>breakfast</td>\n",
              "      <td>1</td>\n",
              "      <td>1</td>\n",
              "      <td>2016-01-07 08:34:53</td>\n",
              "    </tr>\n",
              "    <tr>\n",
              "      <th>6</th>\n",
              "      <td>600.0</td>\n",
              "      <td>37.0</td>\n",
              "      <td>100.000000</td>\n",
              "      <td>1078.0</td>\n",
              "      <td>78.801170</td>\n",
              "      <td>188.0</td>\n",
              "      <td>13.742690</td>\n",
              "      <td>70.943396</td>\n",
              "      <td>77.0</td>\n",
              "      <td>5.628655</td>\n",
              "      <td>29.056604</td>\n",
              "      <td>1368.0</td>\n",
              "      <td>2.441558</td>\n",
              "      <td>0.409574</td>\n",
              "      <td>breakfast</td>\n",
              "      <td>1</td>\n",
              "      <td>1</td>\n",
              "      <td>2016-01-07 08:37:23</td>\n",
              "    </tr>\n",
              "    <tr>\n",
              "      <th>7</th>\n",
              "      <td>612.0</td>\n",
              "      <td>34.0</td>\n",
              "      <td>98.039216</td>\n",
              "      <td>709.0</td>\n",
              "      <td>71.833840</td>\n",
              "      <td>226.0</td>\n",
              "      <td>22.897670</td>\n",
              "      <td>88.976378</td>\n",
              "      <td>28.0</td>\n",
              "      <td>2.836879</td>\n",
              "      <td>11.023622</td>\n",
              "      <td>987.0</td>\n",
              "      <td>8.071429</td>\n",
              "      <td>0.123894</td>\n",
              "      <td>breakfast</td>\n",
              "      <td>1</td>\n",
              "      <td>1</td>\n",
              "      <td>2016-01-07 08:39:53</td>\n",
              "    </tr>\n",
              "    <tr>\n",
              "      <th>8</th>\n",
              "      <td>620.0</td>\n",
              "      <td>42.0</td>\n",
              "      <td>96.774194</td>\n",
              "      <td>695.0</td>\n",
              "      <td>42.121212</td>\n",
              "      <td>670.0</td>\n",
              "      <td>40.606061</td>\n",
              "      <td>75.112108</td>\n",
              "      <td>222.0</td>\n",
              "      <td>13.454545</td>\n",
              "      <td>24.887892</td>\n",
              "      <td>1650.0</td>\n",
              "      <td>3.018018</td>\n",
              "      <td>0.331343</td>\n",
              "      <td>commuting-riding motor</td>\n",
              "      <td>1</td>\n",
              "      <td>-1</td>\n",
              "      <td>2016-01-07 08:42:23</td>\n",
              "    </tr>\n",
              "    <tr>\n",
              "      <th>9</th>\n",
              "      <td>605.0</td>\n",
              "      <td>52.0</td>\n",
              "      <td>99.173554</td>\n",
              "      <td>1365.0</td>\n",
              "      <td>58.258643</td>\n",
              "      <td>749.0</td>\n",
              "      <td>31.967563</td>\n",
              "      <td>82.127193</td>\n",
              "      <td>163.0</td>\n",
              "      <td>6.956893</td>\n",
              "      <td>17.872807</td>\n",
              "      <td>2343.0</td>\n",
              "      <td>4.595092</td>\n",
              "      <td>0.217623</td>\n",
              "      <td>commuting-riding motor</td>\n",
              "      <td>1</td>\n",
              "      <td>-1</td>\n",
              "      <td>2016-01-07 08:44:53</td>\n",
              "    </tr>\n",
              "    <tr>\n",
              "      <th>10</th>\n",
              "      <td>577.0</td>\n",
              "      <td>33.0</td>\n",
              "      <td>103.986135</td>\n",
              "      <td>581.0</td>\n",
              "      <td>66.248575</td>\n",
              "      <td>247.0</td>\n",
              "      <td>28.164196</td>\n",
              "      <td>89.169675</td>\n",
              "      <td>30.0</td>\n",
              "      <td>3.420753</td>\n",
              "      <td>10.830325</td>\n",
              "      <td>877.0</td>\n",
              "      <td>8.233333</td>\n",
              "      <td>0.121457</td>\n",
              "      <td>commuting-riding motor</td>\n",
              "      <td>1</td>\n",
              "      <td>-1</td>\n",
              "      <td>2016-01-07 08:47:23</td>\n",
              "    </tr>\n",
              "    <tr>\n",
              "      <th>11</th>\n",
              "      <td>581.0</td>\n",
              "      <td>34.0</td>\n",
              "      <td>103.270224</td>\n",
              "      <td>530.0</td>\n",
              "      <td>64.871481</td>\n",
              "      <td>240.0</td>\n",
              "      <td>29.375765</td>\n",
              "      <td>90.909091</td>\n",
              "      <td>24.0</td>\n",
              "      <td>2.937576</td>\n",
              "      <td>9.090909</td>\n",
              "      <td>817.0</td>\n",
              "      <td>10.000000</td>\n",
              "      <td>0.100000</td>\n",
              "      <td>commuting-riding motor</td>\n",
              "      <td>1</td>\n",
              "      <td>-1</td>\n",
              "      <td>2016-01-07 08:49:53</td>\n",
              "    </tr>\n",
              "    <tr>\n",
              "      <th>12</th>\n",
              "      <td>572.0</td>\n",
              "      <td>39.0</td>\n",
              "      <td>104.895105</td>\n",
              "      <td>1650.0</td>\n",
              "      <td>88.046958</td>\n",
              "      <td>125.0</td>\n",
              "      <td>6.670224</td>\n",
              "      <td>67.567568</td>\n",
              "      <td>60.0</td>\n",
              "      <td>3.201708</td>\n",
              "      <td>32.432432</td>\n",
              "      <td>1874.0</td>\n",
              "      <td>2.083333</td>\n",
              "      <td>0.480000</td>\n",
              "      <td>commuting-riding motor</td>\n",
              "      <td>1</td>\n",
              "      <td>-1</td>\n",
              "      <td>2016-01-07 08:52:23</td>\n",
              "    </tr>\n",
              "    <tr>\n",
              "      <th>13</th>\n",
              "      <td>605.0</td>\n",
              "      <td>56.0</td>\n",
              "      <td>99.173554</td>\n",
              "      <td>2193.0</td>\n",
              "      <td>77.573399</td>\n",
              "      <td>409.0</td>\n",
              "      <td>14.467634</td>\n",
              "      <td>71.754386</td>\n",
              "      <td>161.0</td>\n",
              "      <td>5.695083</td>\n",
              "      <td>28.245614</td>\n",
              "      <td>2827.0</td>\n",
              "      <td>2.540373</td>\n",
              "      <td>0.393643</td>\n",
              "      <td>commuting-riding motor</td>\n",
              "      <td>1</td>\n",
              "      <td>-1</td>\n",
              "      <td>2016-01-07 08:54:53</td>\n",
              "    </tr>\n",
              "    <tr>\n",
              "      <th>14</th>\n",
              "      <td>639.0</td>\n",
              "      <td>34.0</td>\n",
              "      <td>93.896714</td>\n",
              "      <td>359.0</td>\n",
              "      <td>37.395833</td>\n",
              "      <td>374.0</td>\n",
              "      <td>38.958333</td>\n",
              "      <td>67.145422</td>\n",
              "      <td>183.0</td>\n",
              "      <td>19.062500</td>\n",
              "      <td>32.854578</td>\n",
              "      <td>960.0</td>\n",
              "      <td>2.043716</td>\n",
              "      <td>0.489305</td>\n",
              "      <td>commuting-riding motor</td>\n",
              "      <td>1</td>\n",
              "      <td>-1</td>\n",
              "      <td>2016-01-07 08:57:23</td>\n",
              "    </tr>\n",
              "    <tr>\n",
              "      <th>15</th>\n",
              "      <td>645.0</td>\n",
              "      <td>37.0</td>\n",
              "      <td>93.023256</td>\n",
              "      <td>564.0</td>\n",
              "      <td>46.078431</td>\n",
              "      <td>390.0</td>\n",
              "      <td>31.862745</td>\n",
              "      <td>68.783069</td>\n",
              "      <td>177.0</td>\n",
              "      <td>14.460784</td>\n",
              "      <td>31.216931</td>\n",
              "      <td>1224.0</td>\n",
              "      <td>2.203390</td>\n",
              "      <td>0.453846</td>\n",
              "      <td>NaN</td>\n",
              "      <td>1</td>\n",
              "      <td>-1</td>\n",
              "      <td>2016-01-07 08:59:53</td>\n",
              "    </tr>\n",
              "    <tr>\n",
              "      <th>16</th>\n",
              "      <td>619.0</td>\n",
              "      <td>69.0</td>\n",
              "      <td>96.930533</td>\n",
              "      <td>2559.0</td>\n",
              "      <td>79.669988</td>\n",
              "      <td>336.0</td>\n",
              "      <td>10.460772</td>\n",
              "      <td>61.764706</td>\n",
              "      <td>208.0</td>\n",
              "      <td>6.475716</td>\n",
              "      <td>38.235294</td>\n",
              "      <td>3212.0</td>\n",
              "      <td>1.615385</td>\n",
              "      <td>0.619048</td>\n",
              "      <td>after up 6 floors</td>\n",
              "      <td>1</td>\n",
              "      <td>2</td>\n",
              "      <td>2016-01-07 09:02:23</td>\n",
              "    </tr>\n",
              "    <tr>\n",
              "      <th>17</th>\n",
              "      <td>538.0</td>\n",
              "      <td>110.0</td>\n",
              "      <td>111.524164</td>\n",
              "      <td>1435.0</td>\n",
              "      <td>30.027202</td>\n",
              "      <td>523.0</td>\n",
              "      <td>10.943712</td>\n",
              "      <td>39.591219</td>\n",
              "      <td>798.0</td>\n",
              "      <td>16.698054</td>\n",
              "      <td>60.408781</td>\n",
              "      <td>4779.0</td>\n",
              "      <td>0.655388</td>\n",
              "      <td>1.525813</td>\n",
              "      <td>work-desk</td>\n",
              "      <td>1</td>\n",
              "      <td>5</td>\n",
              "      <td>2016-01-07 09:04:53</td>\n",
              "    </tr>\n",
              "    <tr>\n",
              "      <th>18</th>\n",
              "      <td>504.0</td>\n",
              "      <td>56.0</td>\n",
              "      <td>119.047619</td>\n",
              "      <td>2959.0</td>\n",
              "      <td>96.541599</td>\n",
              "      <td>77.0</td>\n",
              "      <td>2.512235</td>\n",
              "      <td>83.695652</td>\n",
              "      <td>15.0</td>\n",
              "      <td>0.489396</td>\n",
              "      <td>16.304348</td>\n",
              "      <td>3065.0</td>\n",
              "      <td>5.133333</td>\n",
              "      <td>0.194805</td>\n",
              "      <td>work-desk</td>\n",
              "      <td>1</td>\n",
              "      <td>5</td>\n",
              "      <td>2016-01-07 09:07:23</td>\n",
              "    </tr>\n",
              "    <tr>\n",
              "      <th>19</th>\n",
              "      <td>560.0</td>\n",
              "      <td>30.0</td>\n",
              "      <td>107.142857</td>\n",
              "      <td>521.0</td>\n",
              "      <td>65.534591</td>\n",
              "      <td>209.0</td>\n",
              "      <td>26.289308</td>\n",
              "      <td>80.694981</td>\n",
              "      <td>50.0</td>\n",
              "      <td>6.289308</td>\n",
              "      <td>19.305019</td>\n",
              "      <td>795.0</td>\n",
              "      <td>4.180000</td>\n",
              "      <td>0.239234</td>\n",
              "      <td>work-desk</td>\n",
              "      <td>1</td>\n",
              "      <td>5</td>\n",
              "      <td>2016-01-07 09:09:53</td>\n",
              "    </tr>\n",
              "  </tbody>\n",
              "</table>\n",
              "</div>\n",
              "      <button class=\"colab-df-convert\" onclick=\"convertToInteractive('df-fb1798ef-39f2-4f54-a84a-6b9ad3a5b7e1')\"\n",
              "              title=\"Convert this dataframe to an interactive table.\"\n",
              "              style=\"display:none;\">\n",
              "        \n",
              "  <svg xmlns=\"http://www.w3.org/2000/svg\" height=\"24px\"viewBox=\"0 0 24 24\"\n",
              "       width=\"24px\">\n",
              "    <path d=\"M0 0h24v24H0V0z\" fill=\"none\"/>\n",
              "    <path d=\"M18.56 5.44l.94 2.06.94-2.06 2.06-.94-2.06-.94-.94-2.06-.94 2.06-2.06.94zm-11 1L8.5 8.5l.94-2.06 2.06-.94-2.06-.94L8.5 2.5l-.94 2.06-2.06.94zm10 10l.94 2.06.94-2.06 2.06-.94-2.06-.94-.94-2.06-.94 2.06-2.06.94z\"/><path d=\"M17.41 7.96l-1.37-1.37c-.4-.4-.92-.59-1.43-.59-.52 0-1.04.2-1.43.59L10.3 9.45l-7.72 7.72c-.78.78-.78 2.05 0 2.83L4 21.41c.39.39.9.59 1.41.59.51 0 1.02-.2 1.41-.59l7.78-7.78 2.81-2.81c.8-.78.8-2.07 0-2.86zM5.41 20L4 18.59l7.72-7.72 1.47 1.35L5.41 20z\"/>\n",
              "  </svg>\n",
              "      </button>\n",
              "      \n",
              "  <style>\n",
              "    .colab-df-container {\n",
              "      display:flex;\n",
              "      flex-wrap:wrap;\n",
              "      gap: 12px;\n",
              "    }\n",
              "\n",
              "    .colab-df-convert {\n",
              "      background-color: #E8F0FE;\n",
              "      border: none;\n",
              "      border-radius: 50%;\n",
              "      cursor: pointer;\n",
              "      display: none;\n",
              "      fill: #1967D2;\n",
              "      height: 32px;\n",
              "      padding: 0 0 0 0;\n",
              "      width: 32px;\n",
              "    }\n",
              "\n",
              "    .colab-df-convert:hover {\n",
              "      background-color: #E2EBFA;\n",
              "      box-shadow: 0px 1px 2px rgba(60, 64, 67, 0.3), 0px 1px 3px 1px rgba(60, 64, 67, 0.15);\n",
              "      fill: #174EA6;\n",
              "    }\n",
              "\n",
              "    [theme=dark] .colab-df-convert {\n",
              "      background-color: #3B4455;\n",
              "      fill: #D2E3FC;\n",
              "    }\n",
              "\n",
              "    [theme=dark] .colab-df-convert:hover {\n",
              "      background-color: #434B5C;\n",
              "      box-shadow: 0px 1px 3px 1px rgba(0, 0, 0, 0.15);\n",
              "      filter: drop-shadow(0px 1px 2px rgba(0, 0, 0, 0.3));\n",
              "      fill: #FFFFFF;\n",
              "    }\n",
              "  </style>\n",
              "\n",
              "      <script>\n",
              "        const buttonEl =\n",
              "          document.querySelector('#df-fb1798ef-39f2-4f54-a84a-6b9ad3a5b7e1 button.colab-df-convert');\n",
              "        buttonEl.style.display =\n",
              "          google.colab.kernel.accessAllowed ? 'block' : 'none';\n",
              "\n",
              "        async function convertToInteractive(key) {\n",
              "          const element = document.querySelector('#df-fb1798ef-39f2-4f54-a84a-6b9ad3a5b7e1');\n",
              "          const dataTable =\n",
              "            await google.colab.kernel.invokeFunction('convertToInteractive',\n",
              "                                                     [key], {});\n",
              "          if (!dataTable) return;\n",
              "\n",
              "          const docLinkHtml = 'Like what you see? Visit the ' +\n",
              "            '<a target=\"_blank\" href=https://colab.research.google.com/notebooks/data_table.ipynb>data table notebook</a>'\n",
              "            + ' to learn more about interactive tables.';\n",
              "          element.innerHTML = '';\n",
              "          dataTable['output_type'] = 'display_data';\n",
              "          await google.colab.output.renderOutput(dataTable, element);\n",
              "          const docLink = document.createElement('div');\n",
              "          docLink.innerHTML = docLinkHtml;\n",
              "          element.appendChild(docLink);\n",
              "        }\n",
              "      </script>\n",
              "    </div>\n",
              "  </div>\n",
              "  "
            ]
          },
          "metadata": {},
          "execution_count": 104
        }
      ]
    },
    {
      "cell_type": "code",
      "source": [
        "df_PA_all5_int = df_PA_all_int.loc[(df_PA_all_int['categories'] > 0)]"
      ],
      "metadata": {
        "id": "gbFPtiqn_gHU"
      },
      "execution_count": null,
      "outputs": []
    },
    {
      "cell_type": "code",
      "source": [
        "df_PA_working_int = df_PA_all_int.loc[df_PA_all_int['categories'] == 5]"
      ],
      "metadata": {
        "id": "Yy_GIifjQAJh"
      },
      "execution_count": null,
      "outputs": []
    },
    {
      "cell_type": "code",
      "source": [
        "#udf = df_PA_all['PA'].unique()\n",
        "#udic=pd.DataFrame(udf).to_dict()\n",
        "#fpd=pd.factorize(df_PA_all.PA)\n",
        "#print(fpd)"
      ],
      "metadata": {
        "id": "VoIIoXFmPMK4"
      },
      "execution_count": null,
      "outputs": []
    },
    {
      "cell_type": "code",
      "source": [
        "#check if there is any missing value in the datasets\n",
        "display(df_train.info())\n",
        "display(df_test.info())\n",
        "display(df_PA_working_int.info())\n",
        "display(df_PA_all5_int.info())\n",
        "display(df_PA_all_int.info())"
      ],
      "metadata": {
        "colab": {
          "base_uri": "https://localhost:8080/",
          "height": 1000
        },
        "id": "v_lLiJyig_XA",
        "outputId": "0fb512f0-671b-43f5-a2c6-e0a39c05ba2c"
      },
      "execution_count": null,
      "outputs": [
        {
          "output_type": "stream",
          "name": "stdout",
          "text": [
            "<class 'pandas.core.frame.DataFrame'>\n",
            "RangeIndex: 369289 entries, 0 to 369288\n",
            "Data columns (total 36 columns):\n",
            " #   Column             Non-Null Count   Dtype  \n",
            "---  ------             --------------   -----  \n",
            " 0   MEAN_RR            369289 non-null  float64\n",
            " 1   MEDIAN_RR          369289 non-null  float64\n",
            " 2   SDRR               369289 non-null  float64\n",
            " 3   RMSSD              369289 non-null  float64\n",
            " 4   SDSD               369289 non-null  float64\n",
            " 5   SDRR_RMSSD         369289 non-null  float64\n",
            " 6   HR                 369289 non-null  float64\n",
            " 7   pNN25              369289 non-null  float64\n",
            " 8   pNN50              369289 non-null  float64\n",
            " 9   SD1                369289 non-null  float64\n",
            " 10  SD2                369289 non-null  float64\n",
            " 11  KURT               369289 non-null  float64\n",
            " 12  SKEW               369289 non-null  float64\n",
            " 13  MEAN_REL_RR        369289 non-null  float64\n",
            " 14  MEDIAN_REL_RR      369289 non-null  float64\n",
            " 15  SDRR_REL_RR        369289 non-null  float64\n",
            " 16  RMSSD_REL_RR       369289 non-null  float64\n",
            " 17  SDSD_REL_RR        369289 non-null  float64\n",
            " 18  SDRR_RMSSD_REL_RR  369289 non-null  float64\n",
            " 19  KURT_REL_RR        369289 non-null  float64\n",
            " 20  SKEW_REL_RR        369289 non-null  float64\n",
            " 21  VLF                369289 non-null  float64\n",
            " 22  VLF_PCT            369289 non-null  float64\n",
            " 23  LF                 369289 non-null  float64\n",
            " 24  LF_PCT             369289 non-null  float64\n",
            " 25  LF_NU              369289 non-null  float64\n",
            " 26  HF                 369289 non-null  float64\n",
            " 27  HF_PCT             369289 non-null  float64\n",
            " 28  HF_NU              369289 non-null  float64\n",
            " 29  TP                 369289 non-null  float64\n",
            " 30  LF_HF              369289 non-null  float64\n",
            " 31  HF_LF              369289 non-null  float64\n",
            " 32  sampen             369289 non-null  float64\n",
            " 33  higuci             369289 non-null  float64\n",
            " 34  datasetId          369289 non-null  int64  \n",
            " 35  condition          369289 non-null  int64  \n",
            "dtypes: float64(34), int64(2)\n",
            "memory usage: 101.4 MB\n"
          ]
        },
        {
          "output_type": "display_data",
          "data": {
            "text/plain": [
              "None"
            ]
          },
          "metadata": {}
        },
        {
          "output_type": "stream",
          "name": "stdout",
          "text": [
            "<class 'pandas.core.frame.DataFrame'>\n",
            "RangeIndex: 41033 entries, 0 to 41032\n",
            "Data columns (total 36 columns):\n",
            " #   Column             Non-Null Count  Dtype  \n",
            "---  ------             --------------  -----  \n",
            " 0   MEAN_RR            41033 non-null  float64\n",
            " 1   MEDIAN_RR          41033 non-null  float64\n",
            " 2   SDRR               41033 non-null  float64\n",
            " 3   RMSSD              41033 non-null  float64\n",
            " 4   SDSD               41033 non-null  float64\n",
            " 5   SDRR_RMSSD         41033 non-null  float64\n",
            " 6   HR                 41033 non-null  float64\n",
            " 7   pNN25              41033 non-null  float64\n",
            " 8   pNN50              41033 non-null  float64\n",
            " 9   SD1                41033 non-null  float64\n",
            " 10  SD2                41033 non-null  float64\n",
            " 11  KURT               41033 non-null  float64\n",
            " 12  SKEW               41033 non-null  float64\n",
            " 13  MEAN_REL_RR        41033 non-null  float64\n",
            " 14  MEDIAN_REL_RR      41033 non-null  float64\n",
            " 15  SDRR_REL_RR        41033 non-null  float64\n",
            " 16  RMSSD_REL_RR       41033 non-null  float64\n",
            " 17  SDSD_REL_RR        41033 non-null  float64\n",
            " 18  SDRR_RMSSD_REL_RR  41033 non-null  float64\n",
            " 19  KURT_REL_RR        41033 non-null  float64\n",
            " 20  SKEW_REL_RR        41033 non-null  float64\n",
            " 21  VLF                41033 non-null  float64\n",
            " 22  VLF_PCT            41033 non-null  float64\n",
            " 23  LF                 41033 non-null  float64\n",
            " 24  LF_PCT             41033 non-null  float64\n",
            " 25  LF_NU              41033 non-null  float64\n",
            " 26  HF                 41033 non-null  float64\n",
            " 27  HF_PCT             41033 non-null  float64\n",
            " 28  HF_NU              41033 non-null  float64\n",
            " 29  TP                 41033 non-null  float64\n",
            " 30  LF_HF              41033 non-null  float64\n",
            " 31  HF_LF              41033 non-null  float64\n",
            " 32  sampen             41033 non-null  float64\n",
            " 33  higuci             41033 non-null  float64\n",
            " 34  datasetId          41033 non-null  int64  \n",
            " 35  condition          41033 non-null  int64  \n",
            "dtypes: float64(34), int64(2)\n",
            "memory usage: 11.3 MB\n"
          ]
        },
        {
          "output_type": "display_data",
          "data": {
            "text/plain": [
              "None"
            ]
          },
          "metadata": {}
        },
        {
          "output_type": "stream",
          "name": "stdout",
          "text": [
            "<class 'pandas.core.frame.DataFrame'>\n",
            "Int64Index: 10805 entries, 17 to 36693\n",
            "Data columns (total 18 columns):\n",
            " #   Column       Non-Null Count  Dtype  \n",
            "---  ------       --------------  -----  \n",
            " 0   MEAN_RR      10805 non-null  float64\n",
            " 1   SDRR         10805 non-null  float64\n",
            " 2   HR           10805 non-null  float64\n",
            " 3   VLF          10805 non-null  float64\n",
            " 4   VLF_PCT      10805 non-null  float64\n",
            " 5   LF           10805 non-null  float64\n",
            " 6   LF_PCT       10805 non-null  float64\n",
            " 7   LF_NU        10805 non-null  float64\n",
            " 8   HF           10805 non-null  float64\n",
            " 9   HF_PCT       10805 non-null  float64\n",
            " 10  HF_NU        10805 non-null  float64\n",
            " 11  TP           10805 non-null  float64\n",
            " 12  LF_HF        10805 non-null  float64\n",
            " 13  HF_LF        10805 non-null  float64\n",
            " 14  PA           10805 non-null  object \n",
            " 15  ID           10805 non-null  int64  \n",
            " 16  categories   10805 non-null  int64  \n",
            " 17  device_time  10805 non-null  object \n",
            "dtypes: float64(14), int64(2), object(2)\n",
            "memory usage: 1.6+ MB\n"
          ]
        },
        {
          "output_type": "display_data",
          "data": {
            "text/plain": [
              "None"
            ]
          },
          "metadata": {}
        },
        {
          "output_type": "stream",
          "name": "stdout",
          "text": [
            "<class 'pandas.core.frame.DataFrame'>\n",
            "Int64Index: 32751 entries, 1 to 37025\n",
            "Data columns (total 18 columns):\n",
            " #   Column       Non-Null Count  Dtype  \n",
            "---  ------       --------------  -----  \n",
            " 0   MEAN_RR      32751 non-null  float64\n",
            " 1   SDRR         32751 non-null  float64\n",
            " 2   HR           32751 non-null  float64\n",
            " 3   VLF          32751 non-null  float64\n",
            " 4   VLF_PCT      32751 non-null  float64\n",
            " 5   LF           32751 non-null  float64\n",
            " 6   LF_PCT       32751 non-null  float64\n",
            " 7   LF_NU        32751 non-null  float64\n",
            " 8   HF           32751 non-null  float64\n",
            " 9   HF_PCT       32751 non-null  float64\n",
            " 10  HF_NU        32751 non-null  float64\n",
            " 11  TP           32751 non-null  float64\n",
            " 12  LF_HF        32751 non-null  float64\n",
            " 13  HF_LF        32751 non-null  float64\n",
            " 14  PA           32751 non-null  object \n",
            " 15  ID           32751 non-null  int64  \n",
            " 16  categories   32751 non-null  int64  \n",
            " 17  device_time  32751 non-null  object \n",
            "dtypes: float64(14), int64(2), object(2)\n",
            "memory usage: 4.7+ MB\n"
          ]
        },
        {
          "output_type": "display_data",
          "data": {
            "text/plain": [
              "None"
            ]
          },
          "metadata": {}
        },
        {
          "output_type": "stream",
          "name": "stdout",
          "text": [
            "<class 'pandas.core.frame.DataFrame'>\n",
            "RangeIndex: 37026 entries, 0 to 37025\n",
            "Data columns (total 18 columns):\n",
            " #   Column       Non-Null Count  Dtype  \n",
            "---  ------       --------------  -----  \n",
            " 0   MEAN_RR      37026 non-null  float64\n",
            " 1   SDRR         37026 non-null  float64\n",
            " 2   HR           37026 non-null  float64\n",
            " 3   VLF          37026 non-null  float64\n",
            " 4   VLF_PCT      37026 non-null  float64\n",
            " 5   LF           37026 non-null  float64\n",
            " 6   LF_PCT       37026 non-null  float64\n",
            " 7   LF_NU        37026 non-null  float64\n",
            " 8   HF           37026 non-null  float64\n",
            " 9   HF_PCT       37026 non-null  float64\n",
            " 10  HF_NU        37026 non-null  float64\n",
            " 11  TP           37026 non-null  float64\n",
            " 12  LF_HF        37026 non-null  float64\n",
            " 13  HF_LF        37026 non-null  float64\n",
            " 14  PA           35352 non-null  object \n",
            " 15  ID           37026 non-null  int64  \n",
            " 16  categories   37026 non-null  int64  \n",
            " 17  device_time  37026 non-null  object \n",
            "dtypes: float64(14), int64(2), object(2)\n",
            "memory usage: 5.1+ MB\n"
          ]
        },
        {
          "output_type": "display_data",
          "data": {
            "text/plain": [
              "None"
            ]
          },
          "metadata": {}
        }
      ]
    },
    {
      "cell_type": "code",
      "source": [
        "#encode the labels\n",
        "df_train['condition'] = df_train['condition'].map({'no stress':0, 'interruption':1, 'time pressure':2})\n",
        "df_test['condition'] = df_test['condition'].map({'no stress':0, 'interruption':1, 'time pressure':2})"
      ],
      "metadata": {
        "id": "AH80sb5jhGu7"
      },
      "execution_count": null,
      "outputs": []
    },
    {
      "cell_type": "code",
      "source": [
        "df_train.head()"
      ],
      "metadata": {
        "colab": {
          "base_uri": "https://localhost:8080/",
          "height": 299
        },
        "id": "dVj8_8iohMXR",
        "outputId": "e444759b-4cba-4499-fa1a-a742c8038425"
      },
      "execution_count": null,
      "outputs": [
        {
          "output_type": "execute_result",
          "data": {
            "text/plain": [
              "      MEAN_RR   MEDIAN_RR        SDRR      RMSSD       SDSD  SDRR_RMSSD  \\\n",
              "0  885.157845  853.763730  140.972741  15.554505  15.553371    9.063146   \n",
              "1  939.425371  948.357865   81.317742  12.964439  12.964195    6.272369   \n",
              "2  898.186047  907.006860   84.497236  16.305279  16.305274    5.182201   \n",
              "3  881.757865  893.460030   90.370537  15.720468  15.720068    5.748591   \n",
              "4  809.625331  811.184865   62.766242  19.213819  19.213657    3.266724   \n",
              "\n",
              "          HR      pNN25     pNN50        SD1  ...         HF    HF_PCT  \\\n",
              "0  69.499952  11.133333  0.533333  11.001565  ...  15.522603  0.421047   \n",
              "1  64.363150   5.600000  0.000000   9.170129  ...   2.108525  0.070133   \n",
              "2  67.450066  13.066667  0.200000  11.533417  ...  13.769729  0.512671   \n",
              "3  68.809562  11.800000  0.133333  11.119476  ...  18.181913  0.529387   \n",
              "4  74.565728  20.200000  0.200000  13.590641  ...  48.215822  1.839473   \n",
              "\n",
              "      HF_NU           TP       LF_HF     HF_LF    sampen    higuci  datasetId  \\\n",
              "0  1.514737  3686.666157   65.018055  0.015380  2.139754  1.163485          2   \n",
              "1  0.304603  3006.487251  327.296635  0.003055  2.174499  1.084711          2   \n",
              "2  1.049528  2685.879461   94.280910  0.010607  2.135350  1.176315          2   \n",
              "3  1.775294  3434.520980   55.328701  0.018074  2.178341  1.179688          2   \n",
              "4  3.279993  2621.175204   29.487873  0.033912  2.221121  1.249612          2   \n",
              "\n",
              "   condition  \n",
              "0          0  \n",
              "1          1  \n",
              "2          1  \n",
              "3          0  \n",
              "4          0  \n",
              "\n",
              "[5 rows x 36 columns]"
            ],
            "text/html": [
              "\n",
              "  <div id=\"df-e6985e76-afad-4674-ae55-46af0e4d7e81\">\n",
              "    <div class=\"colab-df-container\">\n",
              "      <div>\n",
              "<style scoped>\n",
              "    .dataframe tbody tr th:only-of-type {\n",
              "        vertical-align: middle;\n",
              "    }\n",
              "\n",
              "    .dataframe tbody tr th {\n",
              "        vertical-align: top;\n",
              "    }\n",
              "\n",
              "    .dataframe thead th {\n",
              "        text-align: right;\n",
              "    }\n",
              "</style>\n",
              "<table border=\"1\" class=\"dataframe\">\n",
              "  <thead>\n",
              "    <tr style=\"text-align: right;\">\n",
              "      <th></th>\n",
              "      <th>MEAN_RR</th>\n",
              "      <th>MEDIAN_RR</th>\n",
              "      <th>SDRR</th>\n",
              "      <th>RMSSD</th>\n",
              "      <th>SDSD</th>\n",
              "      <th>SDRR_RMSSD</th>\n",
              "      <th>HR</th>\n",
              "      <th>pNN25</th>\n",
              "      <th>pNN50</th>\n",
              "      <th>SD1</th>\n",
              "      <th>...</th>\n",
              "      <th>HF</th>\n",
              "      <th>HF_PCT</th>\n",
              "      <th>HF_NU</th>\n",
              "      <th>TP</th>\n",
              "      <th>LF_HF</th>\n",
              "      <th>HF_LF</th>\n",
              "      <th>sampen</th>\n",
              "      <th>higuci</th>\n",
              "      <th>datasetId</th>\n",
              "      <th>condition</th>\n",
              "    </tr>\n",
              "  </thead>\n",
              "  <tbody>\n",
              "    <tr>\n",
              "      <th>0</th>\n",
              "      <td>885.157845</td>\n",
              "      <td>853.763730</td>\n",
              "      <td>140.972741</td>\n",
              "      <td>15.554505</td>\n",
              "      <td>15.553371</td>\n",
              "      <td>9.063146</td>\n",
              "      <td>69.499952</td>\n",
              "      <td>11.133333</td>\n",
              "      <td>0.533333</td>\n",
              "      <td>11.001565</td>\n",
              "      <td>...</td>\n",
              "      <td>15.522603</td>\n",
              "      <td>0.421047</td>\n",
              "      <td>1.514737</td>\n",
              "      <td>3686.666157</td>\n",
              "      <td>65.018055</td>\n",
              "      <td>0.015380</td>\n",
              "      <td>2.139754</td>\n",
              "      <td>1.163485</td>\n",
              "      <td>2</td>\n",
              "      <td>0</td>\n",
              "    </tr>\n",
              "    <tr>\n",
              "      <th>1</th>\n",
              "      <td>939.425371</td>\n",
              "      <td>948.357865</td>\n",
              "      <td>81.317742</td>\n",
              "      <td>12.964439</td>\n",
              "      <td>12.964195</td>\n",
              "      <td>6.272369</td>\n",
              "      <td>64.363150</td>\n",
              "      <td>5.600000</td>\n",
              "      <td>0.000000</td>\n",
              "      <td>9.170129</td>\n",
              "      <td>...</td>\n",
              "      <td>2.108525</td>\n",
              "      <td>0.070133</td>\n",
              "      <td>0.304603</td>\n",
              "      <td>3006.487251</td>\n",
              "      <td>327.296635</td>\n",
              "      <td>0.003055</td>\n",
              "      <td>2.174499</td>\n",
              "      <td>1.084711</td>\n",
              "      <td>2</td>\n",
              "      <td>1</td>\n",
              "    </tr>\n",
              "    <tr>\n",
              "      <th>2</th>\n",
              "      <td>898.186047</td>\n",
              "      <td>907.006860</td>\n",
              "      <td>84.497236</td>\n",
              "      <td>16.305279</td>\n",
              "      <td>16.305274</td>\n",
              "      <td>5.182201</td>\n",
              "      <td>67.450066</td>\n",
              "      <td>13.066667</td>\n",
              "      <td>0.200000</td>\n",
              "      <td>11.533417</td>\n",
              "      <td>...</td>\n",
              "      <td>13.769729</td>\n",
              "      <td>0.512671</td>\n",
              "      <td>1.049528</td>\n",
              "      <td>2685.879461</td>\n",
              "      <td>94.280910</td>\n",
              "      <td>0.010607</td>\n",
              "      <td>2.135350</td>\n",
              "      <td>1.176315</td>\n",
              "      <td>2</td>\n",
              "      <td>1</td>\n",
              "    </tr>\n",
              "    <tr>\n",
              "      <th>3</th>\n",
              "      <td>881.757865</td>\n",
              "      <td>893.460030</td>\n",
              "      <td>90.370537</td>\n",
              "      <td>15.720468</td>\n",
              "      <td>15.720068</td>\n",
              "      <td>5.748591</td>\n",
              "      <td>68.809562</td>\n",
              "      <td>11.800000</td>\n",
              "      <td>0.133333</td>\n",
              "      <td>11.119476</td>\n",
              "      <td>...</td>\n",
              "      <td>18.181913</td>\n",
              "      <td>0.529387</td>\n",
              "      <td>1.775294</td>\n",
              "      <td>3434.520980</td>\n",
              "      <td>55.328701</td>\n",
              "      <td>0.018074</td>\n",
              "      <td>2.178341</td>\n",
              "      <td>1.179688</td>\n",
              "      <td>2</td>\n",
              "      <td>0</td>\n",
              "    </tr>\n",
              "    <tr>\n",
              "      <th>4</th>\n",
              "      <td>809.625331</td>\n",
              "      <td>811.184865</td>\n",
              "      <td>62.766242</td>\n",
              "      <td>19.213819</td>\n",
              "      <td>19.213657</td>\n",
              "      <td>3.266724</td>\n",
              "      <td>74.565728</td>\n",
              "      <td>20.200000</td>\n",
              "      <td>0.200000</td>\n",
              "      <td>13.590641</td>\n",
              "      <td>...</td>\n",
              "      <td>48.215822</td>\n",
              "      <td>1.839473</td>\n",
              "      <td>3.279993</td>\n",
              "      <td>2621.175204</td>\n",
              "      <td>29.487873</td>\n",
              "      <td>0.033912</td>\n",
              "      <td>2.221121</td>\n",
              "      <td>1.249612</td>\n",
              "      <td>2</td>\n",
              "      <td>0</td>\n",
              "    </tr>\n",
              "  </tbody>\n",
              "</table>\n",
              "<p>5 rows × 36 columns</p>\n",
              "</div>\n",
              "      <button class=\"colab-df-convert\" onclick=\"convertToInteractive('df-e6985e76-afad-4674-ae55-46af0e4d7e81')\"\n",
              "              title=\"Convert this dataframe to an interactive table.\"\n",
              "              style=\"display:none;\">\n",
              "        \n",
              "  <svg xmlns=\"http://www.w3.org/2000/svg\" height=\"24px\"viewBox=\"0 0 24 24\"\n",
              "       width=\"24px\">\n",
              "    <path d=\"M0 0h24v24H0V0z\" fill=\"none\"/>\n",
              "    <path d=\"M18.56 5.44l.94 2.06.94-2.06 2.06-.94-2.06-.94-.94-2.06-.94 2.06-2.06.94zm-11 1L8.5 8.5l.94-2.06 2.06-.94-2.06-.94L8.5 2.5l-.94 2.06-2.06.94zm10 10l.94 2.06.94-2.06 2.06-.94-2.06-.94-.94-2.06-.94 2.06-2.06.94z\"/><path d=\"M17.41 7.96l-1.37-1.37c-.4-.4-.92-.59-1.43-.59-.52 0-1.04.2-1.43.59L10.3 9.45l-7.72 7.72c-.78.78-.78 2.05 0 2.83L4 21.41c.39.39.9.59 1.41.59.51 0 1.02-.2 1.41-.59l7.78-7.78 2.81-2.81c.8-.78.8-2.07 0-2.86zM5.41 20L4 18.59l7.72-7.72 1.47 1.35L5.41 20z\"/>\n",
              "  </svg>\n",
              "      </button>\n",
              "      \n",
              "  <style>\n",
              "    .colab-df-container {\n",
              "      display:flex;\n",
              "      flex-wrap:wrap;\n",
              "      gap: 12px;\n",
              "    }\n",
              "\n",
              "    .colab-df-convert {\n",
              "      background-color: #E8F0FE;\n",
              "      border: none;\n",
              "      border-radius: 50%;\n",
              "      cursor: pointer;\n",
              "      display: none;\n",
              "      fill: #1967D2;\n",
              "      height: 32px;\n",
              "      padding: 0 0 0 0;\n",
              "      width: 32px;\n",
              "    }\n",
              "\n",
              "    .colab-df-convert:hover {\n",
              "      background-color: #E2EBFA;\n",
              "      box-shadow: 0px 1px 2px rgba(60, 64, 67, 0.3), 0px 1px 3px 1px rgba(60, 64, 67, 0.15);\n",
              "      fill: #174EA6;\n",
              "    }\n",
              "\n",
              "    [theme=dark] .colab-df-convert {\n",
              "      background-color: #3B4455;\n",
              "      fill: #D2E3FC;\n",
              "    }\n",
              "\n",
              "    [theme=dark] .colab-df-convert:hover {\n",
              "      background-color: #434B5C;\n",
              "      box-shadow: 0px 1px 3px 1px rgba(0, 0, 0, 0.15);\n",
              "      filter: drop-shadow(0px 1px 2px rgba(0, 0, 0, 0.3));\n",
              "      fill: #FFFFFF;\n",
              "    }\n",
              "  </style>\n",
              "\n",
              "      <script>\n",
              "        const buttonEl =\n",
              "          document.querySelector('#df-e6985e76-afad-4674-ae55-46af0e4d7e81 button.colab-df-convert');\n",
              "        buttonEl.style.display =\n",
              "          google.colab.kernel.accessAllowed ? 'block' : 'none';\n",
              "\n",
              "        async function convertToInteractive(key) {\n",
              "          const element = document.querySelector('#df-e6985e76-afad-4674-ae55-46af0e4d7e81');\n",
              "          const dataTable =\n",
              "            await google.colab.kernel.invokeFunction('convertToInteractive',\n",
              "                                                     [key], {});\n",
              "          if (!dataTable) return;\n",
              "\n",
              "          const docLinkHtml = 'Like what you see? Visit the ' +\n",
              "            '<a target=\"_blank\" href=https://colab.research.google.com/notebooks/data_table.ipynb>data table notebook</a>'\n",
              "            + ' to learn more about interactive tables.';\n",
              "          element.innerHTML = '';\n",
              "          dataTable['output_type'] = 'display_data';\n",
              "          await google.colab.output.renderOutput(dataTable, element);\n",
              "          const docLink = document.createElement('div');\n",
              "          docLink.innerHTML = docLinkHtml;\n",
              "          element.appendChild(docLink);\n",
              "        }\n",
              "      </script>\n",
              "    </div>\n",
              "  </div>\n",
              "  "
            ]
          },
          "metadata": {},
          "execution_count": 153
        }
      ]
    },
    {
      "cell_type": "code",
      "source": [
        "df_PA_all5_int.head()"
      ],
      "metadata": {
        "colab": {
          "base_uri": "https://localhost:8080/",
          "height": 357
        },
        "id": "wt1P26C_G9Ac",
        "outputId": "1c1a82cb-b572-47f6-aa52-c36d921ada87"
      },
      "execution_count": null,
      "outputs": [
        {
          "output_type": "execute_result",
          "data": {
            "text/plain": [
              "   MEAN_RR  SDRR         HR     VLF    VLF_PCT      LF     LF_PCT      LF_NU  \\\n",
              "1    611.0  43.0  98.199673  1286.0  56.852343   913.0  40.362511  95.802728   \n",
              "2    633.0  54.0  94.786730   674.0  29.665493  1410.0  62.059859  90.967742   \n",
              "3    649.0  49.0  92.449923  1142.0  70.147420   379.0  23.280098  88.139535   \n",
              "4    635.0  54.0  94.488189  1337.0  61.955514   605.0  28.035218  81.208054   \n",
              "5    602.0  50.0  99.667774  1394.0  80.253310   290.0  16.695452  90.062112   \n",
              "\n",
              "      HF    HF_PCT      HF_NU      TP      LF_HF     HF_LF         PA  ID  \\\n",
              "1   40.0  1.768347   4.197272  2262.0  22.825000  0.043812  breakfast   1   \n",
              "2  140.0  6.161972   9.032258  2272.0  10.071429  0.099291  breakfast   1   \n",
              "3   51.0  3.132678  11.860465  1628.0   7.431373  0.134565  breakfast   1   \n",
              "4  140.0  6.487488  18.791946  2158.0   4.321429  0.231405  breakfast   1   \n",
              "5   32.0  1.842257   9.937888  1737.0   9.062500  0.110345  breakfast   1   \n",
              "\n",
              "   categories          device_time  \n",
              "1           1  2016-01-07 08:28:00  \n",
              "2           1  2016-01-07 08:28:38  \n",
              "3           1  2016-01-07 08:29:53  \n",
              "4           1  2016-01-07 08:32:23  \n",
              "5           1  2016-01-07 08:34:53  "
            ],
            "text/html": [
              "\n",
              "  <div id=\"df-676e3609-a4b7-4002-af78-9fe205abe057\">\n",
              "    <div class=\"colab-df-container\">\n",
              "      <div>\n",
              "<style scoped>\n",
              "    .dataframe tbody tr th:only-of-type {\n",
              "        vertical-align: middle;\n",
              "    }\n",
              "\n",
              "    .dataframe tbody tr th {\n",
              "        vertical-align: top;\n",
              "    }\n",
              "\n",
              "    .dataframe thead th {\n",
              "        text-align: right;\n",
              "    }\n",
              "</style>\n",
              "<table border=\"1\" class=\"dataframe\">\n",
              "  <thead>\n",
              "    <tr style=\"text-align: right;\">\n",
              "      <th></th>\n",
              "      <th>MEAN_RR</th>\n",
              "      <th>SDRR</th>\n",
              "      <th>HR</th>\n",
              "      <th>VLF</th>\n",
              "      <th>VLF_PCT</th>\n",
              "      <th>LF</th>\n",
              "      <th>LF_PCT</th>\n",
              "      <th>LF_NU</th>\n",
              "      <th>HF</th>\n",
              "      <th>HF_PCT</th>\n",
              "      <th>HF_NU</th>\n",
              "      <th>TP</th>\n",
              "      <th>LF_HF</th>\n",
              "      <th>HF_LF</th>\n",
              "      <th>PA</th>\n",
              "      <th>ID</th>\n",
              "      <th>categories</th>\n",
              "      <th>device_time</th>\n",
              "    </tr>\n",
              "  </thead>\n",
              "  <tbody>\n",
              "    <tr>\n",
              "      <th>1</th>\n",
              "      <td>611.0</td>\n",
              "      <td>43.0</td>\n",
              "      <td>98.199673</td>\n",
              "      <td>1286.0</td>\n",
              "      <td>56.852343</td>\n",
              "      <td>913.0</td>\n",
              "      <td>40.362511</td>\n",
              "      <td>95.802728</td>\n",
              "      <td>40.0</td>\n",
              "      <td>1.768347</td>\n",
              "      <td>4.197272</td>\n",
              "      <td>2262.0</td>\n",
              "      <td>22.825000</td>\n",
              "      <td>0.043812</td>\n",
              "      <td>breakfast</td>\n",
              "      <td>1</td>\n",
              "      <td>1</td>\n",
              "      <td>2016-01-07 08:28:00</td>\n",
              "    </tr>\n",
              "    <tr>\n",
              "      <th>2</th>\n",
              "      <td>633.0</td>\n",
              "      <td>54.0</td>\n",
              "      <td>94.786730</td>\n",
              "      <td>674.0</td>\n",
              "      <td>29.665493</td>\n",
              "      <td>1410.0</td>\n",
              "      <td>62.059859</td>\n",
              "      <td>90.967742</td>\n",
              "      <td>140.0</td>\n",
              "      <td>6.161972</td>\n",
              "      <td>9.032258</td>\n",
              "      <td>2272.0</td>\n",
              "      <td>10.071429</td>\n",
              "      <td>0.099291</td>\n",
              "      <td>breakfast</td>\n",
              "      <td>1</td>\n",
              "      <td>1</td>\n",
              "      <td>2016-01-07 08:28:38</td>\n",
              "    </tr>\n",
              "    <tr>\n",
              "      <th>3</th>\n",
              "      <td>649.0</td>\n",
              "      <td>49.0</td>\n",
              "      <td>92.449923</td>\n",
              "      <td>1142.0</td>\n",
              "      <td>70.147420</td>\n",
              "      <td>379.0</td>\n",
              "      <td>23.280098</td>\n",
              "      <td>88.139535</td>\n",
              "      <td>51.0</td>\n",
              "      <td>3.132678</td>\n",
              "      <td>11.860465</td>\n",
              "      <td>1628.0</td>\n",
              "      <td>7.431373</td>\n",
              "      <td>0.134565</td>\n",
              "      <td>breakfast</td>\n",
              "      <td>1</td>\n",
              "      <td>1</td>\n",
              "      <td>2016-01-07 08:29:53</td>\n",
              "    </tr>\n",
              "    <tr>\n",
              "      <th>4</th>\n",
              "      <td>635.0</td>\n",
              "      <td>54.0</td>\n",
              "      <td>94.488189</td>\n",
              "      <td>1337.0</td>\n",
              "      <td>61.955514</td>\n",
              "      <td>605.0</td>\n",
              "      <td>28.035218</td>\n",
              "      <td>81.208054</td>\n",
              "      <td>140.0</td>\n",
              "      <td>6.487488</td>\n",
              "      <td>18.791946</td>\n",
              "      <td>2158.0</td>\n",
              "      <td>4.321429</td>\n",
              "      <td>0.231405</td>\n",
              "      <td>breakfast</td>\n",
              "      <td>1</td>\n",
              "      <td>1</td>\n",
              "      <td>2016-01-07 08:32:23</td>\n",
              "    </tr>\n",
              "    <tr>\n",
              "      <th>5</th>\n",
              "      <td>602.0</td>\n",
              "      <td>50.0</td>\n",
              "      <td>99.667774</td>\n",
              "      <td>1394.0</td>\n",
              "      <td>80.253310</td>\n",
              "      <td>290.0</td>\n",
              "      <td>16.695452</td>\n",
              "      <td>90.062112</td>\n",
              "      <td>32.0</td>\n",
              "      <td>1.842257</td>\n",
              "      <td>9.937888</td>\n",
              "      <td>1737.0</td>\n",
              "      <td>9.062500</td>\n",
              "      <td>0.110345</td>\n",
              "      <td>breakfast</td>\n",
              "      <td>1</td>\n",
              "      <td>1</td>\n",
              "      <td>2016-01-07 08:34:53</td>\n",
              "    </tr>\n",
              "  </tbody>\n",
              "</table>\n",
              "</div>\n",
              "      <button class=\"colab-df-convert\" onclick=\"convertToInteractive('df-676e3609-a4b7-4002-af78-9fe205abe057')\"\n",
              "              title=\"Convert this dataframe to an interactive table.\"\n",
              "              style=\"display:none;\">\n",
              "        \n",
              "  <svg xmlns=\"http://www.w3.org/2000/svg\" height=\"24px\"viewBox=\"0 0 24 24\"\n",
              "       width=\"24px\">\n",
              "    <path d=\"M0 0h24v24H0V0z\" fill=\"none\"/>\n",
              "    <path d=\"M18.56 5.44l.94 2.06.94-2.06 2.06-.94-2.06-.94-.94-2.06-.94 2.06-2.06.94zm-11 1L8.5 8.5l.94-2.06 2.06-.94-2.06-.94L8.5 2.5l-.94 2.06-2.06.94zm10 10l.94 2.06.94-2.06 2.06-.94-2.06-.94-.94-2.06-.94 2.06-2.06.94z\"/><path d=\"M17.41 7.96l-1.37-1.37c-.4-.4-.92-.59-1.43-.59-.52 0-1.04.2-1.43.59L10.3 9.45l-7.72 7.72c-.78.78-.78 2.05 0 2.83L4 21.41c.39.39.9.59 1.41.59.51 0 1.02-.2 1.41-.59l7.78-7.78 2.81-2.81c.8-.78.8-2.07 0-2.86zM5.41 20L4 18.59l7.72-7.72 1.47 1.35L5.41 20z\"/>\n",
              "  </svg>\n",
              "      </button>\n",
              "      \n",
              "  <style>\n",
              "    .colab-df-container {\n",
              "      display:flex;\n",
              "      flex-wrap:wrap;\n",
              "      gap: 12px;\n",
              "    }\n",
              "\n",
              "    .colab-df-convert {\n",
              "      background-color: #E8F0FE;\n",
              "      border: none;\n",
              "      border-radius: 50%;\n",
              "      cursor: pointer;\n",
              "      display: none;\n",
              "      fill: #1967D2;\n",
              "      height: 32px;\n",
              "      padding: 0 0 0 0;\n",
              "      width: 32px;\n",
              "    }\n",
              "\n",
              "    .colab-df-convert:hover {\n",
              "      background-color: #E2EBFA;\n",
              "      box-shadow: 0px 1px 2px rgba(60, 64, 67, 0.3), 0px 1px 3px 1px rgba(60, 64, 67, 0.15);\n",
              "      fill: #174EA6;\n",
              "    }\n",
              "\n",
              "    [theme=dark] .colab-df-convert {\n",
              "      background-color: #3B4455;\n",
              "      fill: #D2E3FC;\n",
              "    }\n",
              "\n",
              "    [theme=dark] .colab-df-convert:hover {\n",
              "      background-color: #434B5C;\n",
              "      box-shadow: 0px 1px 3px 1px rgba(0, 0, 0, 0.15);\n",
              "      filter: drop-shadow(0px 1px 2px rgba(0, 0, 0, 0.3));\n",
              "      fill: #FFFFFF;\n",
              "    }\n",
              "  </style>\n",
              "\n",
              "      <script>\n",
              "        const buttonEl =\n",
              "          document.querySelector('#df-676e3609-a4b7-4002-af78-9fe205abe057 button.colab-df-convert');\n",
              "        buttonEl.style.display =\n",
              "          google.colab.kernel.accessAllowed ? 'block' : 'none';\n",
              "\n",
              "        async function convertToInteractive(key) {\n",
              "          const element = document.querySelector('#df-676e3609-a4b7-4002-af78-9fe205abe057');\n",
              "          const dataTable =\n",
              "            await google.colab.kernel.invokeFunction('convertToInteractive',\n",
              "                                                     [key], {});\n",
              "          if (!dataTable) return;\n",
              "\n",
              "          const docLinkHtml = 'Like what you see? Visit the ' +\n",
              "            '<a target=\"_blank\" href=https://colab.research.google.com/notebooks/data_table.ipynb>data table notebook</a>'\n",
              "            + ' to learn more about interactive tables.';\n",
              "          element.innerHTML = '';\n",
              "          dataTable['output_type'] = 'display_data';\n",
              "          await google.colab.output.renderOutput(dataTable, element);\n",
              "          const docLink = document.createElement('div');\n",
              "          docLink.innerHTML = docLinkHtml;\n",
              "          element.appendChild(docLink);\n",
              "        }\n",
              "      </script>\n",
              "    </div>\n",
              "  </div>\n",
              "  "
            ]
          },
          "metadata": {},
          "execution_count": 168
        }
      ]
    },
    {
      "cell_type": "code",
      "source": [
        "#df_train_split, df_test_split = train_test_split(df_test, test_size=0.1, random_state=None)"
      ],
      "metadata": {
        "id": "u7XvEJ8UX1Nt"
      },
      "execution_count": null,
      "outputs": []
    },
    {
      "cell_type": "code",
      "source": [
        "#df_train_split, df_test_split = train_test_split(df_test, test_size=0.1, random_state=None)"
      ],
      "metadata": {
        "id": "nVwbxsfctWyE"
      },
      "execution_count": null,
      "outputs": []
    },
    {
      "cell_type": "code",
      "source": [
        "#Split the datasets into train and test\n",
        "X_train, y_train, X_test, y_test = df_train.iloc[:, :-1].values, df_train.iloc[:, -1].values, df_test.iloc[:, :-1].values, df_test.iloc[:,-1].values"
      ],
      "metadata": {
        "id": "y_jBA38uhPsc"
      },
      "execution_count": null,
      "outputs": []
    },
    {
      "cell_type": "code",
      "source": [
        "PA_train, PA_label, PA_ID, PA_cat, PA_dtime = df_PA_all.iloc[:, 0:14].values, df_PA_all.iloc[:, 14].values, df_PA_all.iloc[:, 15].values, df_PA_all.iloc[:, 16].values, df_PA_all.iloc[:, 17].values"
      ],
      "metadata": {
        "id": "Hp-B5H-9V5kQ"
      },
      "execution_count": null,
      "outputs": []
    },
    {
      "cell_type": "code",
      "source": [
        "XPA_train, yPA_train, yPA_label, yPA_ID, yPA_dtime = df_PA_all5_int.iloc[:, 0:14].values, df_PA_all5_int.loc[:, \"categories\"].values, df_PA_all5_int.loc[:, \"PA\"].values, df_PA_all5_int.loc[:, \"ID\"].values, df_PA_all5_int.loc[:, \"device_time\"].values"
      ],
      "metadata": {
        "id": "Gs1RcmNWD8Wk"
      },
      "execution_count": null,
      "outputs": []
    },
    {
      "cell_type": "code",
      "source": [
        "XPA5_train, yPA5_train, yPA5_label, yPA5_ID, yPA5_dtime = df_PA_working_int.iloc[:, 0:14].values, df_PA_working_int.loc[:, \"categories\"].values, df_PA_working_int.loc[:, \"PA\"].values, df_PA_working_int.loc[:, \"ID\"].values, df_PA_working_int.loc[:, \"device_time\"].values"
      ],
      "metadata": {
        "id": "KMFvI1hdWUYh"
      },
      "execution_count": null,
      "outputs": []
    },
    {
      "cell_type": "code",
      "source": [
        "X_train.shape"
      ],
      "metadata": {
        "colab": {
          "base_uri": "https://localhost:8080/"
        },
        "id": "3uzNjSlXe6aP",
        "outputId": "0e6b5d32-1f80-4c0c-9889-581f30bed7bd"
      },
      "execution_count": null,
      "outputs": [
        {
          "output_type": "execute_result",
          "data": {
            "text/plain": [
              "(369289, 35)"
            ]
          },
          "metadata": {},
          "execution_count": 88
        }
      ]
    },
    {
      "cell_type": "code",
      "source": [
        "y_train"
      ],
      "metadata": {
        "colab": {
          "base_uri": "https://localhost:8080/"
        },
        "id": "TC8yHq2sO5xf",
        "outputId": "5b93b4ca-a622-47a2-ec6f-82f647db1f07"
      },
      "execution_count": null,
      "outputs": [
        {
          "output_type": "execute_result",
          "data": {
            "text/plain": [
              "array([0, 1, 1, ..., 0, 0, 0])"
            ]
          },
          "metadata": {},
          "execution_count": 93
        }
      ]
    },
    {
      "cell_type": "code",
      "source": [
        "XPA_train.shape"
      ],
      "metadata": {
        "colab": {
          "base_uri": "https://localhost:8080/"
        },
        "id": "drAOCJomWMZ9",
        "outputId": "f4133078-60e8-481b-8760-c6341fc55ab8"
      },
      "execution_count": null,
      "outputs": [
        {
          "output_type": "execute_result",
          "data": {
            "text/plain": [
              "(32751, 14)"
            ]
          },
          "metadata": {},
          "execution_count": 171
        }
      ]
    },
    {
      "cell_type": "code",
      "source": [
        "XPA_train"
      ],
      "metadata": {
        "colab": {
          "base_uri": "https://localhost:8080/"
        },
        "id": "ZX9GUrGjz6xn",
        "outputId": "bd1b2e86-816e-4a00-f131-01ecc2195254"
      },
      "execution_count": null,
      "outputs": [
        {
          "output_type": "execute_result",
          "data": {
            "text/plain": [
              "array([[6.1100000e+02, 4.3000000e+01, 9.8199673e+01, ..., 2.2620000e+03,\n",
              "        2.2825000e+01, 4.3812000e-02],\n",
              "       [6.3300000e+02, 5.4000000e+01, 9.4786730e+01, ..., 2.2720000e+03,\n",
              "        1.0071429e+01, 9.9291000e-02],\n",
              "       [6.4900000e+02, 4.9000000e+01, 9.2449923e+01, ..., 1.6280000e+03,\n",
              "        7.4313730e+00, 1.3456500e-01],\n",
              "       ...,\n",
              "       [8.1500000e+02, 5.4000000e+01, 7.3619632e+01, ..., 2.4410000e+03,\n",
              "        2.0217390e+00, 4.9462400e-01],\n",
              "       [8.0300000e+02, 5.6000000e+01, 7.4719801e+01, ..., 3.2890000e+03,\n",
              "        9.1116200e-01, 1.0975000e+00],\n",
              "       [8.0900000e+02, 6.7000000e+01, 7.4165637e+01, ..., 3.8790000e+03,\n",
              "        9.1114100e-01, 1.0975250e+00]])"
            ]
          },
          "metadata": {},
          "execution_count": 172
        }
      ]
    },
    {
      "cell_type": "code",
      "source": [
        "yPA_train"
      ],
      "metadata": {
        "colab": {
          "base_uri": "https://localhost:8080/"
        },
        "id": "4w3KVUoRGnKC",
        "outputId": "a39f3f5e-c5df-4058-8023-b4de0a356e56"
      },
      "execution_count": null,
      "outputs": [
        {
          "output_type": "execute_result",
          "data": {
            "text/plain": [
              "array([1, 1, 1, ..., 3, 3, 3])"
            ]
          },
          "metadata": {},
          "execution_count": 173
        }
      ]
    },
    {
      "cell_type": "code",
      "source": [
        "yPA5_train"
      ],
      "metadata": {
        "colab": {
          "base_uri": "https://localhost:8080/"
        },
        "id": "H5qaV-owWZRI",
        "outputId": "30c82421-c7d1-4aa8-e3b7-4df8ceb05ea3"
      },
      "execution_count": null,
      "outputs": [
        {
          "output_type": "execute_result",
          "data": {
            "text/plain": [
              "array([5, 5, 5, ..., 5, 5, 5])"
            ]
          },
          "metadata": {},
          "execution_count": 174
        }
      ]
    },
    {
      "cell_type": "code",
      "source": [
        "yPA_label"
      ],
      "metadata": {
        "colab": {
          "base_uri": "https://localhost:8080/"
        },
        "id": "1LUlerg5WPa3",
        "outputId": "5ed74ed5-f91f-47e0-c04c-9187095d8fc3"
      },
      "execution_count": null,
      "outputs": [
        {
          "output_type": "execute_result",
          "data": {
            "text/plain": [
              "array(['breakfast', 'breakfast', 'breakfast', ..., 'leisure time-home',\n",
              "       'leisure time-home', 'leisure time-home'], dtype=object)"
            ]
          },
          "metadata": {},
          "execution_count": 175
        }
      ]
    },
    {
      "cell_type": "code",
      "source": [
        "yPA_ID"
      ],
      "metadata": {
        "colab": {
          "base_uri": "https://localhost:8080/"
        },
        "id": "c07cxLtsWSAW",
        "outputId": "dbaffc46-63b4-4778-9b5b-438944903dd2"
      },
      "execution_count": null,
      "outputs": [
        {
          "output_type": "execute_result",
          "data": {
            "text/plain": [
              "array([1, 1, 1, ..., 4, 4, 4])"
            ]
          },
          "metadata": {},
          "execution_count": 176
        }
      ]
    },
    {
      "cell_type": "code",
      "source": [
        "yPA_dtime"
      ],
      "metadata": {
        "colab": {
          "base_uri": "https://localhost:8080/"
        },
        "id": "EAz1vEJmy-h7",
        "outputId": "e5c580a5-77dc-4c42-c66b-cdbba99aae13"
      },
      "execution_count": null,
      "outputs": [
        {
          "output_type": "execute_result",
          "data": {
            "text/plain": [
              "array(['2016-01-07 08:28:00', '2016-01-07 08:28:38',\n",
              "       '2016-01-07 08:29:53', ..., '2016-03-06 04:57:48',\n",
              "       '2016-03-06 05:00:18', '2016-03-06 05:02:47'], dtype=object)"
            ]
          },
          "metadata": {},
          "execution_count": 177
        }
      ]
    },
    {
      "cell_type": "code",
      "source": [
        "y_unlabeled = PA_cat\n",
        "y_unlabeled[:] = -1\n",
        "y_unlabeled.size"
      ],
      "metadata": {
        "colab": {
          "base_uri": "https://localhost:8080/"
        },
        "id": "V-zb__w1m98z",
        "outputId": "b83af3b4-3e1d-41d7-bc11-6cc97ac384a8"
      },
      "execution_count": null,
      "outputs": [
        {
          "output_type": "execute_result",
          "data": {
            "text/plain": [
              "37026"
            ]
          },
          "metadata": {},
          "execution_count": 63
        }
      ]
    },
    {
      "cell_type": "code",
      "source": [
        "#Split the datasets into train and test\n",
        "#X_train, y_train, X_test, y_test = df_train_split.iloc[:, :-1].values, df_train_split.iloc[:, -1].values, df_test_split.iloc[:, :-1].values, df_test_split.iloc[:,-1].values"
      ],
      "metadata": {
        "id": "A3FM7pkQYyVy"
      },
      "execution_count": null,
      "outputs": []
    },
    {
      "cell_type": "code",
      "source": [
        "#sScaler = StandardScaler()"
      ],
      "metadata": {
        "id": "NIOzCAy9-ZoL"
      },
      "execution_count": null,
      "outputs": []
    },
    {
      "cell_type": "code",
      "source": [
        "#sScaler.fit(X_train)"
      ],
      "metadata": {
        "id": "HM0ZiKkzAKfw"
      },
      "execution_count": null,
      "outputs": []
    },
    {
      "cell_type": "code",
      "source": [
        "#X_train = sScaler.transform(X_train)\n",
        "#X_test = sScaler.transform(X_test)"
      ],
      "metadata": {
        "id": "c6KnhFo5AgNu"
      },
      "execution_count": null,
      "outputs": []
    },
    {
      "cell_type": "code",
      "source": [
        "SelectFeature = SelectKBest(f_classif, k=10)"
      ],
      "metadata": {
        "id": "m-gqehqK-dFM"
      },
      "execution_count": null,
      "outputs": []
    },
    {
      "cell_type": "code",
      "source": [
        "X_train_new = SelectFeature.fit_transform(X_train, y_train)\n",
        "SelectFeature.get_support(True)"
      ],
      "metadata": {
        "colab": {
          "base_uri": "https://localhost:8080/"
        },
        "id": "1NA81zwz-nsB",
        "outputId": "f4956130-b0d5-4899-d0aa-1fffafae53c2"
      },
      "execution_count": null,
      "outputs": [
        {
          "output_type": "stream",
          "name": "stderr",
          "text": [
            "/usr/local/lib/python3.7/dist-packages/sklearn/feature_selection/_univariate_selection.py:112: UserWarning: Features [34] are constant.\n",
            "  warnings.warn(\"Features %s are constant.\" % constant_features_idx, UserWarning)\n",
            "/usr/local/lib/python3.7/dist-packages/sklearn/feature_selection/_univariate_selection.py:113: RuntimeWarning: invalid value encountered in true_divide\n",
            "  f = msb / msw\n"
          ]
        },
        {
          "output_type": "execute_result",
          "data": {
            "text/plain": [
              "array([ 0,  1,  3,  4,  6,  7,  9, 18, 21, 23])"
            ]
          },
          "metadata": {},
          "execution_count": 60
        }
      ]
    },
    {
      "cell_type": "code",
      "source": [
        "filter_autoselect=SelectFeature.get_support()\n",
        "filter_autoselect"
      ],
      "metadata": {
        "colab": {
          "base_uri": "https://localhost:8080/"
        },
        "id": "ksi08i81aqAF",
        "outputId": "8caa67e1-be08-471c-e58f-b7e9312205eb"
      },
      "execution_count": null,
      "outputs": [
        {
          "output_type": "execute_result",
          "data": {
            "text/plain": [
              "array([ True,  True, False,  True,  True, False,  True,  True, False,\n",
              "        True, False, False, False, False, False, False, False, False,\n",
              "        True, False, False,  True, False,  True, False, False, False,\n",
              "       False, False, False, False, False, False, False, False])"
            ]
          },
          "metadata": {},
          "execution_count": 61
        }
      ]
    },
    {
      "cell_type": "code",
      "source": [
        "# filter for the top 3 out of 14\n",
        "filter_top3 = [ False,  False, True, False, False, False,  False,  False, False,\n",
        "       False, False, False, False, False, False, False, False, False,\n",
        "       False, False, False, False, False,  True, False, False, True,\n",
        "       False, False, False, False, False, False, False, False]"
      ],
      "metadata": {
        "id": "_hz3UdzfcmLY"
      },
      "execution_count": null,
      "outputs": []
    },
    {
      "cell_type": "code",
      "source": [
        "# filter for the top 7 out of 14\n",
        "filter_top7 = [ True,  False, True, False, False, False,  True,  False, False,\n",
        "       False, False, False, False, False, False, False, False, False,\n",
        "       False, False, False, True, False,  True, False, False, True,\n",
        "       False, False, True, False, False, False, False, False]"
      ],
      "metadata": {
        "id": "ZexvOsZk7BB0"
      },
      "execution_count": null,
      "outputs": []
    },
    {
      "cell_type": "code",
      "source": [
        "# filter for the common 14 features \n",
        "filter = [ True,  False, True, False, False, False,  True,  False, False,\n",
        "       False, False, False, False, False, False, False, False, False,\n",
        "       False, False, False, True, True,  True, True, True, True,\n",
        "       True, True, True, True, True, False, False, False]"
      ],
      "metadata": {
        "id": "Mk0EB6yLuqea"
      },
      "execution_count": null,
      "outputs": []
    },
    {
      "cell_type": "code",
      "source": [
        "X_train_new = X_train[:,filter]\n",
        "X_train_new.shape"
      ],
      "metadata": {
        "colab": {
          "base_uri": "https://localhost:8080/"
        },
        "id": "cbFlzpQy_zh_",
        "outputId": "525987ef-0b6e-40ac-97c9-ed6303a82f94"
      },
      "execution_count": null,
      "outputs": [
        {
          "output_type": "execute_result",
          "data": {
            "text/plain": [
              "(369289, 14)"
            ]
          },
          "metadata": {},
          "execution_count": 157
        }
      ]
    },
    {
      "cell_type": "code",
      "source": [
        "X_test_new = X_test[:,filter]\n",
        "X_test_new.shape"
      ],
      "metadata": {
        "colab": {
          "base_uri": "https://localhost:8080/"
        },
        "id": "_K2yMoiK_42m",
        "outputId": "df42d780-ba2d-4c61-8488-db3579ee07a3"
      },
      "execution_count": null,
      "outputs": [
        {
          "output_type": "execute_result",
          "data": {
            "text/plain": [
              "(41033, 14)"
            ]
          },
          "metadata": {},
          "execution_count": 158
        }
      ]
    },
    {
      "cell_type": "code",
      "source": [
        "xc_X_train_new=X_train_new[:,1]\n",
        "yc_X_train_new=X_train_new[:,5]\n",
        "zc_X_train_new=X_train_new[:,8]"
      ],
      "metadata": {
        "id": "dnpQVC3OUk4Z"
      },
      "execution_count": null,
      "outputs": []
    },
    {
      "cell_type": "code",
      "source": [
        "xc_X_test_new=X_test_new[:,1]\n",
        "yc_X_test_new=X_test_new[:,5]\n",
        "zc_X_test_new=X_test_new[:,8]\n",
        "X_test_new[:,1].size"
      ],
      "metadata": {
        "id": "pxYgh2x_VVfN",
        "colab": {
          "base_uri": "https://localhost:8080/"
        },
        "outputId": "d21a0526-bec2-4df1-9108-82cda96dddf0"
      },
      "execution_count": null,
      "outputs": [
        {
          "output_type": "execute_result",
          "data": {
            "text/plain": [
              "41033"
            ]
          },
          "metadata": {},
          "execution_count": 190
        }
      ]
    },
    {
      "cell_type": "code",
      "source": [
        "xc_PA = XPA_train[:,1]\n",
        "yc_PA = XPA_train[:,5]\n",
        "zc_PA = XPA_train[:,8]\n",
        "xc_PA.size"
      ],
      "metadata": {
        "colab": {
          "base_uri": "https://localhost:8080/"
        },
        "id": "WigDqO_GI1Pw",
        "outputId": "d86fa409-021b-4675-e032-cf1fb3a73d9f"
      },
      "execution_count": null,
      "outputs": [
        {
          "output_type": "execute_result",
          "data": {
            "text/plain": [
              "32751"
            ]
          },
          "metadata": {},
          "execution_count": 194
        }
      ]
    },
    {
      "cell_type": "code",
      "source": [
        "xc_PA5 = XPA5_train[:,1]\n",
        "yc_PA5 = XPA5_train[:,5]\n",
        "zc_PA5 = XPA5_train[:,8]"
      ],
      "metadata": {
        "id": "mTjrpSRXSNdB"
      },
      "execution_count": null,
      "outputs": []
    },
    {
      "cell_type": "code",
      "source": [
        "xc =np.concatenate((xc_X_test_new,xc_PA))\n",
        "yc =np.concatenate((yc_X_test_new,yc_PA))\n",
        "zc =np.concatenate((zc_X_test_new,zc_PA))\n",
        "xc.size"
      ],
      "metadata": {
        "colab": {
          "base_uri": "https://localhost:8080/"
        },
        "id": "TtTV4s9kKzIf",
        "outputId": "aa7ae5fd-ae24-498d-8168-0050a6da2ed5"
      },
      "execution_count": null,
      "outputs": [
        {
          "output_type": "execute_result",
          "data": {
            "text/plain": [
              "73784"
            ]
          },
          "metadata": {},
          "execution_count": 195
        }
      ]
    },
    {
      "cell_type": "code",
      "source": [
        "xc5 =np.concatenate([xc_X_test_new,xc_PA5])\n",
        "yc5 =np.concatenate([yc_X_test_new,yc_PA5])\n",
        "zc5 =np.concatenate([zc_X_test_new,zc_PA5])\n",
        "xc5.size"
      ],
      "metadata": {
        "colab": {
          "base_uri": "https://localhost:8080/"
        },
        "id": "vHFZY_zBSa37",
        "outputId": "46bb0c20-5aa1-4b8a-98df-2d28fc845496"
      },
      "execution_count": null,
      "outputs": [
        {
          "output_type": "execute_result",
          "data": {
            "text/plain": [
              "51838"
            ]
          },
          "metadata": {},
          "execution_count": 197
        }
      ]
    },
    {
      "cell_type": "code",
      "source": [
        "i3=np.full(yPA_train.size, 3)\n",
        "color_i = np.concatenate([y_test, i3])\n",
        "print(yPA_train.size)\n",
        "print(color_i.size)"
      ],
      "metadata": {
        "colab": {
          "base_uri": "https://localhost:8080/"
        },
        "id": "zFoB2TzdMT3P",
        "outputId": "2674ea0a-96a5-4fbb-d17d-035a04e2312a"
      },
      "execution_count": null,
      "outputs": [
        {
          "output_type": "stream",
          "name": "stdout",
          "text": [
            "32751\n"
          ]
        },
        {
          "output_type": "execute_result",
          "data": {
            "text/plain": [
              "73784"
            ]
          },
          "metadata": {},
          "execution_count": 201
        }
      ]
    },
    {
      "cell_type": "code",
      "source": [
        "i3=np.full(yPA5_train.size, 3)\n",
        "color5_i = np.concatenate([y_test, i3])\n",
        "print(yPA5_train.size)\n",
        "print(color5_i.size)"
      ],
      "metadata": {
        "colab": {
          "base_uri": "https://localhost:8080/"
        },
        "id": "hDPtRfYrSqC-",
        "outputId": "1afd6937-4f70-47a7-b7bf-4f2fac72f500"
      },
      "execution_count": null,
      "outputs": [
        {
          "output_type": "stream",
          "name": "stdout",
          "text": [
            "10805\n",
            "51838\n"
          ]
        }
      ]
    },
    {
      "cell_type": "code",
      "source": [
        "colormap = np.array(['g', 'b', 'r', 'y'])"
      ],
      "metadata": {
        "id": "7Hnqk9ZnUmDL"
      },
      "execution_count": null,
      "outputs": []
    },
    {
      "cell_type": "code",
      "source": [
        "\n",
        "colormap = np.array(['r', 'r', 'r', 'g'])\n",
        "fig = plt.figure()\n",
        "ax = fig.gca(projection='3d')\n",
        "ax.scatter(yc, xc, zc, s=1, c=colormap[color_i])\n",
        "ax.set_xlabel(\"LF\"); ax.set_ylabel(\"SDRR\"); ax.set_zlabel(\"HF\")\n",
        "ax.xaxis.set_pane_color((1.0, 1.0, 1.0, 0.0))\n",
        "ax.yaxis.set_pane_color((1.0, 1.0, 1.0, 0.0))\n",
        "ax.zaxis.set_pane_color((1.0, 1.0, 1.0, 0.0))\n",
        "ax.xaxis._axinfo[\"grid\"]['color'] =  (1,1,1,0)\n",
        "ax.yaxis._axinfo[\"grid\"]['color'] =  (1,1,1,0)\n",
        "ax.zaxis._axinfo[\"grid\"]['color'] =  (1,1,1,0)\n",
        "ax.set_xlim3d(0,30000)\n",
        "ax.set_ylim3d(0,1500)\n",
        "ax.set_zlim3d(0,30000)\n",
        "plt.show()\n",
        "plt.scatter(yc, zc, s=1, c=colormap[color_i])\n",
        "plt.xlim(0,30000)\n",
        "plt.ylim(0,30000)\n",
        "plt.show()"
      ],
      "metadata": {
        "id": "6sClXZaPY7yQ",
        "colab": {
          "base_uri": "https://localhost:8080/",
          "height": 500
        },
        "outputId": "195224f4-31e2-46c0-c25e-091e322d2165"
      },
      "execution_count": null,
      "outputs": [
        {
          "output_type": "display_data",
          "data": {
            "text/plain": [
              "<Figure size 432x288 with 1 Axes>"
            ],
            "image/png": "[encoded data removed]"
          },
          "metadata": {
            "needs_background": "light"
          }
        },
        {
          "output_type": "display_data",
          "data": {
            "text/plain": [
              "<Figure size 432x288 with 1 Axes>"
            ],
            "image/png": "[encoded data removed]"
          },
          "metadata": {
            "needs_background": "light"
          }
        }
      ]
    },
    {
      "cell_type": "code",
      "source": [
        "colormap = np.array(['r', 'r', 'r', 'y'])\n",
        "fig = plt.figure()\n",
        "ax = fig.gca(projection='3d')\n",
        "ax.scatter(yc5, xc5, zc5, s=1, c=colormap[color5_i])\n",
        "ax.set_xlabel(\"LF\"); ax.set_ylabel(\"SDRR\"); ax.set_zlabel(\"HF\")\n",
        "ax.xaxis.set_pane_color((1.0, 1.0, 1.0, 0.0))\n",
        "ax.yaxis.set_pane_color((1.0, 1.0, 1.0, 0.0))\n",
        "ax.zaxis.set_pane_color((1.0, 1.0, 1.0, 0.0))\n",
        "ax.xaxis._axinfo[\"grid\"]['color'] =  (1,1,1,0)\n",
        "ax.yaxis._axinfo[\"grid\"]['color'] =  (1,1,1,0)\n",
        "ax.zaxis._axinfo[\"grid\"]['color'] =  (1,1,1,0)\n",
        "ax.set_xlim3d(0,30000)\n",
        "ax.set_ylim3d(0,1500)\n",
        "ax.set_zlim3d(0,30000)\n",
        "plt.show()\n",
        "plt.scatter(yc5, zc5, s=1, c=colormap[color5_i])\n",
        "plt.xlim(0,30000)\n",
        "plt.ylim(0,30000)\n",
        "plt.show()"
      ],
      "metadata": {
        "colab": {
          "base_uri": "https://localhost:8080/",
          "height": 500
        },
        "outputId": "3ae10764-a33a-4459-9f6c-773aba13d160",
        "id": "imbXhKz1S8K7"
      },
      "execution_count": null,
      "outputs": [
        {
          "output_type": "display_data",
          "data": {
            "text/plain": [
              "<Figure size 432x288 with 1 Axes>"
            ],
            "image/png": "[encoded data removed]"
          },
          "metadata": {
            "needs_background": "light"
          }
        },
        {
          "output_type": "display_data",
          "data": {
            "text/plain": [
              "<Figure size 432x288 with 1 Axes>"
            ],
            "image/png": "[encoded data removed]"
          },
          "metadata": {
            "needs_background": "light"
          }
        }
      ]
    },
    {
      "cell_type": "code",
      "source": [
        "fig = plt.figure()\n",
        "ax = fig.gca(projection='3d')\n",
        "ax.scatter(yc_X_test_new, xc_X_test_new, zc_X_test_new, s=1, c=colormap[y_test])\n",
        "ax.set_xlabel(\"LF\"); ax.set_ylabel(\"SDRR\"); ax.set_zlabel(\"HF\")\n",
        "ax.xaxis.set_pane_color((1.0, 1.0, 1.0, 0.0))\n",
        "ax.yaxis.set_pane_color((1.0, 1.0, 1.0, 0.0))\n",
        "ax.zaxis.set_pane_color((1.0, 1.0, 1.0, 0.0))\n",
        "ax.xaxis._axinfo[\"grid\"]['color'] =  (1,1,1,0)\n",
        "ax.yaxis._axinfo[\"grid\"]['color'] =  (1,1,1,0)\n",
        "ax.zaxis._axinfo[\"grid\"]['color'] =  (1,1,1,0)\n",
        "ax.set_xlim3d(0,30000)\n",
        "ax.set_ylim3d(0,1500)\n",
        "ax.set_zlim3d(0,30000)\n",
        "plt.show()"
      ],
      "metadata": {
        "colab": {
          "base_uri": "https://localhost:8080/",
          "height": 248
        },
        "outputId": "215497b3-8ed1-49bf-9d2e-a6850c05cde7",
        "id": "MhDh1rUCbdyF"
      },
      "execution_count": null,
      "outputs": [
        {
          "output_type": "display_data",
          "data": {
            "text/plain": [
              "<Figure size 432x288 with 1 Axes>"
            ],
            "image/png": "[encoded data removed]"
          },
          "metadata": {
            "needs_background": "light"
          }
        }
      ]
    },
    {
      "cell_type": "code",
      "source": [
        "plt.scatter(yc_X_test_new, zc_X_test_new, s=1, c=colormap[y_test])\n",
        "plt.xlim(0,30000)\n",
        "plt.ylim(0,30000)\n",
        "plt.show()"
      ],
      "metadata": {
        "colab": {
          "base_uri": "https://localhost:8080/",
          "height": 269
        },
        "id": "fuUbwTlBiT2z",
        "outputId": "063d3b67-907c-4e5c-ec1d-8e20142bfc7a"
      },
      "execution_count": null,
      "outputs": [
        {
          "output_type": "display_data",
          "data": {
            "text/plain": [
              "<Figure size 432x288 with 1 Axes>"
            ],
            "image/png": "[encoded data removed]"
          },
          "metadata": {
            "needs_background": "light"
          }
        }
      ]
    },
    {
      "cell_type": "code",
      "source": [
        "#fig = plt.figure()\n",
        "#ax = fig.gca(projection='3d')\n",
        "\n",
        "#ax.scatter(test_yc, test_xc, test_zc, s=1, c=colormap[y_test])\n",
        "#plt.show()"
      ],
      "metadata": {
        "id": "8-kgbxZrWuqa"
      },
      "execution_count": null,
      "outputs": []
    },
    {
      "cell_type": "code",
      "source": [
        "#X_train_mixed = np.concatenate((X_train_new, PA_train),axis=0)\n",
        "#y_train_mixed = np.concatenate((y_train, y_unlabeled), axis=0)\n",
        "#print(X_train_new.shape)\n",
        "#print(PA_train.shape)\n",
        "#print(X_train_mixed.shape)\n",
        "#print(y_train.shape)\n",
        "#print(y_unlabeled.shape)\n",
        "#print(y_train_mixed.shape)"
      ],
      "metadata": {
        "colab": {
          "base_uri": "https://localhost:8080/"
        },
        "id": "9pki6Tdioast",
        "outputId": "eaa94ec2-4f83-487f-8392-ecf53b69f418"
      },
      "execution_count": null,
      "outputs": [
        {
          "output_type": "stream",
          "name": "stdout",
          "text": [
            "(369289, 14)\n",
            "(37026, 14)\n",
            "(406315, 14)\n",
            "(369289,)\n",
            "(37026,)\n",
            "(406315,)\n"
          ]
        }
      ]
    },
    {
      "cell_type": "code",
      "source": [],
      "metadata": {
        "id": "l9C-8HZ6HqVv"
      },
      "execution_count": null,
      "outputs": []
    },
    {
      "cell_type": "code",
      "source": [
        "#label_prop_model = LabelSpreading(kernel='knn', n_neighbors=100, max_iter=30, n_jobs=-1)\n",
        "#label_prop_model.fit(X_train_mixed, y_train_mixed)"
      ],
      "metadata": {
        "colab": {
          "base_uri": "https://localhost:8080/"
        },
        "id": "brsVHajlpyQG",
        "outputId": "c4d035b9-1f5c-4b7f-81f9-a5e91decd538"
      },
      "execution_count": null,
      "outputs": [
        {
          "output_type": "execute_result",
          "data": {
            "text/plain": [
              "LabelSpreading(kernel='knn', n_jobs=-1, n_neighbors=100)"
            ]
          },
          "metadata": {},
          "execution_count": 62
        }
      ]
    },
    {
      "cell_type": "code",
      "source": [
        "#pd.DataFrame(label_prop_model.transduction_[-y_unlabeled.size:]).to_csv(\"/content/drive/MyDrive/SWELL/hrv PA/swell_label_transduction_to_PA_knn100.csv\")"
      ],
      "metadata": {
        "id": "HkwzC-nYs4C9"
      },
      "execution_count": null,
      "outputs": []
    },
    {
      "cell_type": "code",
      "source": [
        "#label_prop_model = LabelSpreading(kernel='knn', n_neighbors=10, max_iter=30, n_jobs=-1)\n",
        "#label_prop_model.fit(X_train_mixed, y_train_mixed)"
      ],
      "metadata": {
        "colab": {
          "base_uri": "https://localhost:8080/"
        },
        "outputId": "d6f02b16-c045-4c64-da62-21b49f46db95",
        "id": "Bl35wKk-0vkG"
      },
      "execution_count": null,
      "outputs": [
        {
          "output_type": "execute_result",
          "data": {
            "text/plain": [
              "LabelSpreading(kernel='knn', n_jobs=-1, n_neighbors=10)"
            ]
          },
          "metadata": {},
          "execution_count": 65
        }
      ]
    },
    {
      "cell_type": "code",
      "source": [
        "#pd.DataFrame(label_prop_model.transduction_[-y_unlabeled.size:]).to_csv(\"/content/drive/MyDrive/SWELL/hrv PA/swell_label_transduction_to_PA_knn10.csv\")"
      ],
      "metadata": {
        "id": "ZSY6IXhl0vkL"
      },
      "execution_count": null,
      "outputs": []
    },
    {
      "cell_type": "code",
      "source": [
        "#label_prop_model = LabelSpreading(kernel='knn', n_neighbors=7, max_iter=30, n_jobs=-1)\n",
        "#label_prop_model.fit(X_train_mixed, y_train_mixed)"
      ],
      "metadata": {
        "colab": {
          "base_uri": "https://localhost:8080/"
        },
        "outputId": "93d2e5f9-023e-4999-b330-cb7fcf711971",
        "id": "eEQ1hP711BQw"
      },
      "execution_count": null,
      "outputs": [
        {
          "output_type": "execute_result",
          "data": {
            "text/plain": [
              "LabelSpreading(kernel='knn', n_jobs=-1)"
            ]
          },
          "metadata": {},
          "execution_count": 68
        }
      ]
    },
    {
      "cell_type": "code",
      "source": [
        "#pd.DataFrame(label_prop_model.transduction_[-y_unlabeled.size:]).to_csv(\"/content/drive/MyDrive/SWELL/hrv PA/swell_label_transduction_to_PA_knn7.csv\")"
      ],
      "metadata": {
        "id": "67NV9iKG1BQ0"
      },
      "execution_count": null,
      "outputs": []
    },
    {
      "cell_type": "code",
      "source": [
        "# Random Forest Model\n",
        "RFC = RandomForestClassifier(n_estimators=100, criterion='entropy', max_features='sqrt', n_jobs=-1)"
      ],
      "metadata": {
        "id": "5i-E2Ga5KIeu"
      },
      "execution_count": null,
      "outputs": []
    },
    {
      "cell_type": "code",
      "source": [
        "RFC.fit(XPA_train, yPA_train)"
      ],
      "metadata": {
        "colab": {
          "base_uri": "https://localhost:8080/"
        },
        "id": "Aqe2c2bllVDC",
        "outputId": "e5b3f2b4-8078-4a95-c271-6f19a22308f8"
      },
      "execution_count": null,
      "outputs": [
        {
          "output_type": "execute_result",
          "data": {
            "text/plain": [
              "RandomForestClassifier(criterion='entropy', max_features='sqrt', n_jobs=-1)"
            ]
          },
          "metadata": {},
          "execution_count": 315
        }
      ]
    },
    {
      "cell_type": "code",
      "source": [
        "RFC.score(X_test_new, np.full(y_test.size, 5))"
      ],
      "metadata": {
        "colab": {
          "base_uri": "https://localhost:8080/"
        },
        "id": "WUIcQtXI-DLm",
        "outputId": "5d8086ae-92fd-459a-e02e-f75cc6150dc4"
      },
      "execution_count": null,
      "outputs": [
        {
          "output_type": "execute_result",
          "data": {
            "text/plain": [
              "0.631637949942729"
            ]
          },
          "metadata": {},
          "execution_count": 316
        }
      ]
    },
    {
      "cell_type": "code",
      "source": [
        "RFC_cf=confusion_matrix(np.full(y_test.size, 5), RFC.predict(X_test_new))\n",
        "print(RFC_cf)"
      ],
      "metadata": {
        "colab": {
          "base_uri": "https://localhost:8080/"
        },
        "id": "sHhvJP6c4nZl",
        "outputId": "072c1fbc-e873-4768-d47a-7b21a6a6e1f3"
      },
      "execution_count": null,
      "outputs": [
        {
          "output_type": "stream",
          "name": "stdout",
          "text": [
            "[[    0     0     0     0     0]\n",
            " [    0     0     0     0     0]\n",
            " [    0     0     0     0     0]\n",
            " [    0     0     0     0     0]\n",
            " [  822  1039   897 12357 25918]]\n"
          ]
        }
      ]
    },
    {
      "cell_type": "code",
      "source": [
        "import time\n",
        "\n",
        "start_time = time.time()\n",
        "importances = RFC.feature_importances_\n",
        "std = np.std([tree.feature_importances_ for tree in RFC.estimators_], axis=0)\n",
        "elapsed_time = time.time() - start_time\n",
        "\n",
        "print(f\"Elapsed time to compute the importances: {elapsed_time:.3f} seconds\")\n"
      ],
      "metadata": {
        "colab": {
          "base_uri": "https://localhost:8080/"
        },
        "id": "VKVeG955-m4A",
        "outputId": "6dd32fc8-c757-4d44-99f2-03b6c66ec1c2"
      },
      "execution_count": null,
      "outputs": [
        {
          "output_type": "stream",
          "name": "stdout",
          "text": [
            "Elapsed time to compute the importances: 0.104 seconds\n"
          ]
        }
      ]
    },
    {
      "cell_type": "code",
      "source": [
        "#feature_names = [f\"feature {i}\" for i in range(X_train_new.shape[1])]\n",
        "feature_names = [\"MEAN_RR\", \"SDRR\", \"HR\", \"VLF\", \"VLF%\", \"LF\", \"LF%\", \"LF norm%\", \"HF\", \"HF%\", \"HF norm%\", \"TP\", \"LF/HF\", \"HF/LF\"]\n",
        "print(feature_names)\n",
        "forest_importances = pd.Series(importances, index=feature_names)\n",
        "\n",
        "fig, ax = plt.subplots()\n",
        "forest_importances.plot.bar(yerr=std, ax=ax)\n",
        "ax.set_title(\"Feature importances using MDI\")\n",
        "ax.set_ylabel(\"Mean decrease in impurity\")\n",
        "fig.tight_layout()"
      ],
      "metadata": {
        "colab": {
          "base_uri": "https://localhost:8080/",
          "height": 315
        },
        "id": "Yt63EQ6C_HF4",
        "outputId": "728727c6-e336-4a75-c818-a80836b3ec8f"
      },
      "execution_count": null,
      "outputs": [
        {
          "output_type": "stream",
          "name": "stdout",
          "text": [
            "['MEAN_RR', 'SDRR', 'HR', 'VLF', 'VLF%', 'LF', 'LF%', 'LF norm%', 'HF', 'HF%', 'HF norm%', 'TP', 'LF/HF', 'HF/LF']\n"
          ]
        },
        {
          "output_type": "display_data",
          "data": {
            "text/plain": [
              "<Figure size 432x288 with 1 Axes>"
            ],
            "image/png": "[encoded data removed]"
          },
          "metadata": {
            "needs_background": "light"
          }
        }
      ]
    },
    {
      "cell_type": "code",
      "source": [
        "from sklearn.inspection import permutation_importance\n",
        "\n",
        "start_time = time.time()\n",
        "result = permutation_importance(RFC, X_test_new, y_test, n_repeats=10, random_state=42, n_jobs=2)\n",
        "elapsed_time = time.time() - start_time\n",
        "print(f\"Elapsed time to compute the importances: {elapsed_time:.3f} seconds\")\n",
        "\n",
        "forest_importances = pd.Series(result.importances_mean, index=feature_names)"
      ],
      "metadata": {
        "colab": {
          "base_uri": "https://localhost:8080/"
        },
        "id": "pmblbM0RDB5M",
        "outputId": "3e281f27-aaf1-462a-ac27-31db37038b22"
      },
      "execution_count": null,
      "outputs": [
        {
          "output_type": "stream",
          "name": "stdout",
          "text": [
            "Elapsed time to compute the importances: 10.259 seconds\n"
          ]
        }
      ]
    },
    {
      "cell_type": "code",
      "source": [
        "fig, ax = plt.subplots()\n",
        "forest_importances.plot.bar(yerr=result.importances_std, ax=ax)\n",
        "ax.set_title(\"Feature importances using permutation on full model\")\n",
        "ax.set_ylabel(\"Mean accuracy decrease\")\n",
        "fig.tight_layout()\n",
        "plt.show()"
      ],
      "metadata": {
        "colab": {
          "base_uri": "https://localhost:8080/",
          "height": 297
        },
        "id": "5RwfRk5IDeMo",
        "outputId": "19c55896-559b-450d-8a80-73fb70fa0cb1"
      },
      "execution_count": null,
      "outputs": [
        {
          "output_type": "display_data",
          "data": {
            "text/plain": [
              "<Figure size 432x288 with 1 Axes>"
            ],
            "image/png": "[encoded data removed]"
          },
          "metadata": {
            "needs_background": "light"
          }
        }
      ]
    },
    {
      "cell_type": "code",
      "source": [
        "#Adaboost model\n",
        "# Instantiate dt\n",
        "DTC = DecisionTreeClassifier(max_depth=2, random_state=1)\n",
        "# Instantiate ada\n",
        "ADA = AdaBoostClassifier(base_estimator=DTC, n_estimators=100, random_state=1)\n",
        "ADA.fit(X_train_new, y_train)"
      ],
      "metadata": {
        "id": "yxK4jKzVIMEM"
      },
      "execution_count": null,
      "outputs": []
    },
    {
      "cell_type": "code",
      "source": [
        "y_pred_proba = ADA.predict_proba(X_test_new)"
      ],
      "metadata": {
        "id": "HchI9I78IPqV"
      },
      "execution_count": null,
      "outputs": []
    },
    {
      "cell_type": "code",
      "source": [
        "#ada_roc_auc = roc_auc_score(y_test, y_pred_proba)\n",
        "#print('ROC AUC score: {:.2f}'.format(ada_roc_auc))\n",
        "ADA.score(X_test_new, y_test)"
      ],
      "metadata": {
        "id": "XbcdCtefISDA"
      },
      "execution_count": null,
      "outputs": []
    },
    {
      "cell_type": "code",
      "source": [
        "ADA_y_predict = ADA.predict(X_test_new)\n",
        "ADA_cf=confusion_matrix(y_test, ADA_y_predict)\n",
        "print(metrics.classification_report(y_test, ADA_y_predict))"
      ],
      "metadata": {
        "id": "BZX1LQX7IWCO"
      },
      "execution_count": null,
      "outputs": []
    },
    {
      "cell_type": "code",
      "source": [
        "metrics.ConfusionMatrixDisplay.from_predictions(y_test, ADA_y_predict, display_labels=ADA.classes_, \n",
        "                                                normalize=None, cmap=plt.cm.Blues)\n",
        "plt.show()"
      ],
      "metadata": {
        "id": "KSJJe51Y3FPm"
      },
      "execution_count": null,
      "outputs": []
    },
    {
      "cell_type": "code",
      "source": [
        "metrics.ConfusionMatrixDisplay.from_predictions(y_test, ADA_y_predict, display_labels=ADA.classes_, \n",
        "                                                normalize='true', cmap=plt.cm.Blues)\n",
        "plt.show()"
      ],
      "metadata": {
        "id": "qle5LnyL3FPt"
      },
      "execution_count": null,
      "outputs": []
    },
    {
      "cell_type": "code",
      "source": [
        "#xgb model\n",
        "XGB = XGBClassifier()"
      ],
      "metadata": {
        "id": "YHKd87xpIj5k"
      },
      "execution_count": null,
      "outputs": []
    },
    {
      "cell_type": "code",
      "source": [
        "#fit the model\n",
        "XGB.fit(X_train_new, y_train)"
      ],
      "metadata": {
        "id": "t1cXHWPsI0iY"
      },
      "execution_count": null,
      "outputs": []
    },
    {
      "cell_type": "code",
      "source": [
        "XGB.score(X_test_new, y_test)"
      ],
      "metadata": {
        "id": "nAggLVF1I3x4"
      },
      "execution_count": null,
      "outputs": []
    },
    {
      "cell_type": "code",
      "source": [
        "XGB_y_predict = XGB.predict(X_test_new)\n",
        "XGB_cf=confusion_matrix(y_test, XGB_y_predict)\n",
        "print(metrics.classification_report(y_test, XGB_y_predict))"
      ],
      "metadata": {
        "id": "JFrNtQ3m4I6G"
      },
      "execution_count": null,
      "outputs": []
    },
    {
      "cell_type": "code",
      "source": [
        "metrics.ConfusionMatrixDisplay.from_predictions(y_test, XGB_y_predict, display_labels=XGB.classes_, \n",
        "                                                normalize=None, cmap=plt.cm.Blues)\n",
        "plt.show()"
      ],
      "metadata": {
        "id": "wvY1NLPb4I6J"
      },
      "execution_count": null,
      "outputs": []
    },
    {
      "cell_type": "code",
      "source": [
        "metrics.ConfusionMatrixDisplay.from_predictions(y_test, XGB_y_predict, display_labels=XGB.classes_, \n",
        "                                                normalize='true', cmap=plt.cm.Blues)\n",
        "plt.show()"
      ],
      "metadata": {
        "id": "d_iK_Nnh4I6M"
      },
      "execution_count": null,
      "outputs": []
    },
    {
      "cell_type": "code",
      "source": [
        "#Multi-layer NN model 20 hidden layers 300 nodes\n",
        "#MLPC = MLPClassifier(solver='adam', activation='relu', hidden_layer_sizes=(20, 300), \n",
        "#                     max_iter=10000, early_stopping=True, random_state=42)"
      ],
      "metadata": {
        "id": "c68UjmVfmz_3"
      },
      "execution_count": null,
      "outputs": []
    },
    {
      "cell_type": "code",
      "source": [
        "#MLPC.fit(X_train_new, y_train)"
      ],
      "metadata": {
        "id": "_2ga4aaKm7Fq"
      },
      "execution_count": null,
      "outputs": []
    },
    {
      "cell_type": "code",
      "source": [
        "#MLPC.score(X_test_new, y_test)"
      ],
      "metadata": {
        "id": "wWkfiNTsojWG"
      },
      "execution_count": null,
      "outputs": []
    },
    {
      "cell_type": "code",
      "source": [
        "#MLPC_y_predict = MLPC.predict(X_test_new)\n",
        "#MLPC_cf=confusion_matrix(y_test, MLPC_y_predict)\n",
        "#print(metrics.classification_report(y_test, MLPC_y_predict))"
      ],
      "metadata": {
        "id": "5NL_CcQo46W6"
      },
      "execution_count": null,
      "outputs": []
    },
    {
      "cell_type": "code",
      "source": [
        "#metrics.ConfusionMatrixDisplay.from_predictions(y_test, MLPC_y_predict, display_labels=MLPC.classes_, \n",
        "#                                                normalize=None, cmap=plt.cm.Blues)\n",
        "#plt.show()"
      ],
      "metadata": {
        "id": "nD00s8Zl46W9"
      },
      "execution_count": null,
      "outputs": []
    },
    {
      "cell_type": "code",
      "source": [
        "#metrics.ConfusionMatrixDisplay.from_predictions(y_test, MLPC_y_predict, display_labels=MLPC.classes_, \n",
        "#                                                normalize='true', cmap=plt.cm.Blues)\n",
        "#plt.show()"
      ],
      "metadata": {
        "id": "VtoguOq646W-"
      },
      "execution_count": null,
      "outputs": []
    },
    {
      "cell_type": "code",
      "source": [
        "#Multi-layer NN model 20 hidden layers 200 nodes\n",
        "#MLPC = MLPClassifier(solver='adam', activation='relu', hidden_layer_sizes=(20, 200), \n",
        "#                     max_iter=10000, early_stopping=True, random_state=42)"
      ],
      "metadata": {
        "id": "H0C1M1-oLNd4"
      },
      "execution_count": null,
      "outputs": []
    },
    {
      "cell_type": "code",
      "source": [
        "#MLPC.fit(X_train_new, y_train)"
      ],
      "metadata": {
        "id": "E8ryVezuLNd6"
      },
      "execution_count": null,
      "outputs": []
    },
    {
      "cell_type": "code",
      "source": [
        "#MLPC.score(X_test_new, y_test)"
      ],
      "metadata": {
        "id": "RZtRsGFdLNd9"
      },
      "execution_count": null,
      "outputs": []
    },
    {
      "cell_type": "code",
      "source": [
        "#MLPC_y_predict = MLPC.predict(X_test_new)\n",
        "#MLPC_cf=confusion_matrix(y_test, MLPC_y_predict)\n",
        "#print(metrics.classification_report(y_test, MLPC_y_predict))\n",
        "#print(MLPC_cf)"
      ],
      "metadata": {
        "id": "Ab_VYw_yLNd_"
      },
      "execution_count": null,
      "outputs": []
    },
    {
      "cell_type": "code",
      "source": [
        "#Multi-layer NN model 10 hidden layers 200 nodes\n",
        "MLPC = MLPClassifier(solver='adam', activation='relu', hidden_layer_sizes=(20, 200), \n",
        "                     max_iter=10000, early_stopping=True, random_state=42)"
      ],
      "metadata": {
        "id": "NugJm8g1vPvG"
      },
      "execution_count": null,
      "outputs": []
    },
    {
      "cell_type": "code",
      "source": [
        "MLPC.fit(X_train_new, y_train)"
      ],
      "metadata": {
        "id": "32VBmk7xvPvH"
      },
      "execution_count": null,
      "outputs": []
    },
    {
      "cell_type": "code",
      "source": [
        "MLPC.score(X_test_new, y_test)"
      ],
      "metadata": {
        "id": "FGFPboMavPvJ"
      },
      "execution_count": null,
      "outputs": []
    },
    {
      "cell_type": "code",
      "source": [
        "MLPC_y_predict = MLPC.predict(X_test_new)\n",
        "MLPC_cf=confusion_matrix(y_test, MLPC_y_predict)\n",
        "print(metrics.classification_report(y_test, MLPC_y_predict))\n",
        "print(MLPC_cf)"
      ],
      "metadata": {
        "id": "IEjlfBpNvPvK"
      },
      "execution_count": null,
      "outputs": []
    },
    {
      "cell_type": "code",
      "source": [
        "#Multi-layer NN model 20 hidden layers 100 nodes each\n",
        "MLPC = MLPClassifier(solver='adam', activation='relu', hidden_layer_sizes=(20, 200), \n",
        "                     max_iter=10000, early_stopping=True, random_state=42)"
      ],
      "metadata": {
        "id": "1c6V0oXw24jI"
      },
      "execution_count": null,
      "outputs": []
    },
    {
      "cell_type": "code",
      "source": [
        "MLPC.fit(X_train_new, y_train)"
      ],
      "metadata": {
        "id": "FgClr1w224jJ"
      },
      "execution_count": null,
      "outputs": []
    },
    {
      "cell_type": "code",
      "source": [
        "MLPC.score(X_test_new, y_test)"
      ],
      "metadata": {
        "id": "nBCiCJUe24jK"
      },
      "execution_count": null,
      "outputs": []
    },
    {
      "cell_type": "code",
      "source": [
        "MLPC_y_predict = MLPC.predict(X_test_new)\n",
        "MLPC_cf=confusion_matrix(y_test, MLPC_y_predict)\n",
        "print(metrics.classification_report(y_test, MLPC_y_predict))"
      ],
      "metadata": {
        "id": "jiChpX645QKJ"
      },
      "execution_count": null,
      "outputs": []
    },
    {
      "cell_type": "code",
      "source": [
        "metrics.ConfusionMatrixDisplay.from_predictions(y_test, MLPC_y_predict, display_labels=MLPC.classes_, \n",
        "                                                normalize=None, cmap=plt.cm.Blues)\n",
        "plt.show()"
      ],
      "metadata": {
        "id": "M8H_SH_H5QKL"
      },
      "execution_count": null,
      "outputs": []
    },
    {
      "cell_type": "code",
      "source": [
        "metrics.ConfusionMatrixDisplay.from_predictions(y_test, MLPC_y_predict, display_labels=MLPC.classes_, \n",
        "                                                normalize='true', cmap=plt.cm.Blues)\n",
        "plt.show()"
      ],
      "metadata": {
        "id": "C8mQjgmT5QKM"
      },
      "execution_count": null,
      "outputs": []
    },
    {
      "cell_type": "code",
      "source": [
        "# K-nn model k=10\n",
        "\n",
        "KNC = KNeighborsClassifier(n_neighbors=7)\n",
        "KNC.fit(X_train_new, y_train)"
      ],
      "metadata": {
        "id": "-jdJwSpG773f"
      },
      "execution_count": null,
      "outputs": []
    },
    {
      "cell_type": "code",
      "source": [
        "KNC.score(X_test_new, y_test)"
      ],
      "metadata": {
        "id": "53APjg9v7_Zh"
      },
      "execution_count": null,
      "outputs": []
    },
    {
      "cell_type": "code",
      "source": [
        "KNC_y_predict = KNC.predict(X_test_new)\n",
        "KNC_cf=confusion_matrix(y_test, KNC_y_predict)\n",
        "print(metrics.classification_report(y_test, KNC_y_predict))"
      ],
      "metadata": {
        "id": "2qSA7sJi8ZXz"
      },
      "execution_count": null,
      "outputs": []
    },
    {
      "cell_type": "code",
      "source": [
        "metrics.ConfusionMatrixDisplay.from_predictions(y_test, KNC_y_predict, display_labels=KNC.classes_, \n",
        "                                                normalize=None, cmap=plt.cm.Blues)\n",
        "plt.show()"
      ],
      "metadata": {
        "id": "GZxRtVAe8ZX2"
      },
      "execution_count": null,
      "outputs": []
    },
    {
      "cell_type": "code",
      "source": [
        "metrics.ConfusionMatrixDisplay.from_predictions(y_test, KNC_y_predict, display_labels=KNC.classes_, \n",
        "                                                normalize='true', cmap=plt.cm.Blues)\n",
        "plt.show()"
      ],
      "metadata": {
        "id": "70f6jaGa8ZX5"
      },
      "execution_count": null,
      "outputs": []
    },
    {
      "cell_type": "code",
      "source": [
        "# confusion matrix examples\n",
        "from sklearn.metrics import plot_confusion_matrix\n",
        "import seaborn as sn\n",
        "cf=[[5/62, 38/62, 19/62],[12/200, 44/200, 144/200],[0/376, 40/376, 336/376]]\n",
        "sn.heatmap(cf, annot=True, cmap='flare')\n",
        "plt.show()"
      ],
      "metadata": {
        "id": "Xcat4v1k0Usn"
      },
      "execution_count": null,
      "outputs": []
    },
    {
      "cell_type": "markdown",
      "source": [],
      "metadata": {
        "id": "hTBwi3r9pRRn"
      }
    },
    {
      "cell_type": "code",
      "source": [
        "# SVC self_training\n",
        "#scaler = StandardScaler()\n",
        "#X_train_scaled = scaler.fit_transform(X_train_new)\n",
        "#X_test_scaled = scaler.transform(X_test_new)\n",
        "#svm = SVC()\n",
        "#svm.fit(X_train_scaled, y_train)\n",
        "\n",
        "#new methods\n",
        "#svc_model = SVC(kernel='rbf', \n",
        "#            probability=True, \n",
        "#            C=1.0, # default = 1.0\n",
        "#            gamma='scale', # default = 'scale'\n",
        "#            random_state=0\n",
        "#           )\n",
        "#SVCC = svc_model.fit(X_train_new, y_train)"
      ],
      "metadata": {
        "id": "M0Ehyd1cWuun"
      },
      "execution_count": null,
      "outputs": []
    },
    {
      "cell_type": "code",
      "source": [
        "#svc_y_predict = svc_model.predict(X_test_new)\n",
        "#svc_model.score(X_test_new, y_test)\n",
        "#print(metrics.classification_report(y_test, svc_y_predict))"
      ],
      "metadata": {
        "id": "-mUWu1AveQKz"
      },
      "execution_count": null,
      "outputs": []
    },
    {
      "cell_type": "code",
      "source": [
        "#svc_cf=confusion_matrix(y_test, svc_y_predict)"
      ],
      "metadata": {
        "id": "7GPvvQ_qezTJ"
      },
      "execution_count": null,
      "outputs": []
    },
    {
      "cell_type": "code",
      "source": [
        "#metrics.ConfusionMatrixDisplay.from_predictions(y_test, svc_y_predict, display_labels=svm.classes_, \n",
        "#                                                normalize=None, cmap=plt.cm.Blues)\n",
        "#plt.show()"
      ],
      "metadata": {
        "id": "bn-KjWru1RjH"
      },
      "execution_count": null,
      "outputs": []
    },
    {
      "cell_type": "code",
      "source": [
        "#metrics.ConfusionMatrixDisplay.from_predictions(y_test, svc_y_predict, display_labels=svm.classes_, \n",
        "#                                                normalize='true', cmap=plt.cm.Blues)\n",
        "#plt.show()"
      ],
      "metadata": {
        "id": "YJraEHXF1mA0"
      },
      "execution_count": null,
      "outputs": []
    },
    {
      "cell_type": "code",
      "source": [
        "#SVC_sleep_predict = svm.predict(HRV_P1_test)\n",
        "#pd.DataFrame(SVC_sleep_predict).to_csv(\"/content/drive/MyDrive/SWELL/hrv sleep/SVC_predict_P1.csv\")\n",
        "#SVC_sleep_predict = svm.predict(HRV_P2_test)\n",
        "#pd.DataFrame(SVC_sleep_predict).to_csv(\"/content/drive/MyDrive/SWELL/hrv sleep/SVC_predict_P2.csv\")\n",
        "#SVC_sleep_predict = svm.predict(HRV_P3_test)\n",
        "#pd.DataFrame(SVC_sleep_predict).to_csv(\"/content/drive/MyDrive/SWELL/hrv sleep/SVC_predict_P3.csv\")"
      ],
      "metadata": {
        "id": "97ngnZjqlH8J"
      },
      "execution_count": null,
      "outputs": []
    },
    {
      "cell_type": "code",
      "source": [],
      "metadata": {
        "id": "x_GDiMY2WfR2"
      },
      "execution_count": null,
      "outputs": []
    }
  ]
}