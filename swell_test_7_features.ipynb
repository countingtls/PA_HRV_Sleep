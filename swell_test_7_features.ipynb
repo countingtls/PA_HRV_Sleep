{
  "nbformat": 4,
  "nbformat_minor": 0,
  "metadata": {
    "colab": {
      "provenance": [],
      "history_visible": true,
      "mount_file_id": "1u5xZp8lc1XcGqna-JtlG1txB2uV_ktK_",
      "authorship_tag": "ABX9TyP4Jnd9iqgkcm+bg0r+5KN3",
      "include_colab_link": true
    },
    "kernelspec": {
      "name": "python3",
      "display_name": "Python 3"
    },
    "language_info": {
      "name": "python"
    },
    "accelerator": "TPU",
    "gpuClass": "standard"
  },
  "cells": [
    {
      "cell_type": "markdown",
      "metadata": {
        "id": "view-in-github",
        "colab_type": "text"
      },
      "source": [
        "<a href=\"https://colab.research.google.com/github/countingtls/PA_HRV_Sleep/blob/main/swell_test_7_features.ipynb\" target=\"_parent\"><img src=\"https://colab.research.google.com/assets/colab-badge.svg\" alt=\"Open In Colab\"/></a>"
      ]
    },
    {
      "cell_type": "code",
      "source": [
        "import pandas as pd\n",
        "import numpy as np\n",
        "import os\n",
        "import sklearn.pipeline\n",
        "import matplotlib.pyplot as plt\n",
        "\n",
        "from sklearn import metrics\n",
        "from sklearn.svm import SVC\n",
        "from sklearn.semi_supervised import LabelSpreading\n",
        "from sklearn.semi_supervised import SelfTrainingClassifier\n",
        "from sklearn.model_selection import train_test_split\n",
        "\n",
        "from xgboost import XGBClassifier\n",
        "\n",
        "from sklearn.neighbors import KNeighborsClassifier\n",
        "from sklearn.tree import DecisionTreeClassifier\n",
        "from sklearn.ensemble import AdaBoostClassifier\n",
        "from sklearn.metrics import roc_auc_score\n",
        "\n",
        "from sklearn.model_selection import train_test_split\n",
        "from sklearn.feature_selection import SelectKBest, f_classif, chi2\n",
        "from sklearn.ensemble import RandomForestClassifier\n",
        "from sklearn.svm import SVC\n",
        "from sklearn.preprocessing import StandardScaler\n",
        "from sklearn.metrics import confusion_matrix\n",
        "\n",
        "from sklearn.neural_network import MLPClassifier"
      ],
      "metadata": {
        "id": "c5cEnV_BgItk"
      },
      "execution_count": 74,
      "outputs": []
    },
    {
      "cell_type": "code",
      "source": [
        "from google.colab import drive\n",
        "drive.mount('/content/drive', force_remount=True)"
      ],
      "metadata": {
        "colab": {
          "base_uri": "https://localhost:8080/"
        },
        "id": "tsj6kyi0klzL",
        "outputId": "5708c156-c1df-4cca-cc7b-0e3993b4fab4"
      },
      "execution_count": 78,
      "outputs": [
        {
          "output_type": "stream",
          "name": "stdout",
          "text": [
            "Mounted at /content/drive\n"
          ]
        }
      ]
    },
    {
      "cell_type": "code",
      "source": [
        "!pip install pyhrv"
      ],
      "metadata": {
        "colab": {
          "base_uri": "https://localhost:8080/"
        },
        "id": "Wg4TUwkauc5q",
        "outputId": "68684b91-0fcf-4f52-dc4d-10bdd8766c7b"
      },
      "execution_count": 79,
      "outputs": [
        {
          "output_type": "stream",
          "name": "stdout",
          "text": [
            "Looking in indexes: https://pypi.org/simple, https://us-python.pkg.dev/colab-wheels/public/simple/\n",
            "Requirement already satisfied: pyhrv in /usr/local/lib/python3.7/dist-packages (0.4.1)\n",
            "Requirement already satisfied: scipy in /usr/local/lib/python3.7/dist-packages (from pyhrv) (1.7.3)\n",
            "Requirement already satisfied: matplotlib in /usr/local/lib/python3.7/dist-packages (from pyhrv) (3.2.2)\n",
            "Requirement already satisfied: biosppy in /usr/local/lib/python3.7/dist-packages (from pyhrv) (1.0.0)\n",
            "Requirement already satisfied: spectrum in /usr/local/lib/python3.7/dist-packages (from pyhrv) (0.8.1)\n",
            "Requirement already satisfied: nolds in /usr/local/lib/python3.7/dist-packages (from pyhrv) (0.5.2)\n",
            "Requirement already satisfied: numpy in /usr/local/lib/python3.7/dist-packages (from pyhrv) (1.21.6)\n",
            "Requirement already satisfied: h5py in /usr/local/lib/python3.7/dist-packages (from biosppy->pyhrv) (3.1.0)\n",
            "Requirement already satisfied: scikit-learn in /usr/local/lib/python3.7/dist-packages (from biosppy->pyhrv) (1.0.2)\n",
            "Requirement already satisfied: joblib in /usr/local/lib/python3.7/dist-packages (from biosppy->pyhrv) (1.2.0)\n",
            "Requirement already satisfied: shortuuid in /usr/local/lib/python3.7/dist-packages (from biosppy->pyhrv) (1.0.11)\n",
            "Requirement already satisfied: six in /usr/local/lib/python3.7/dist-packages (from biosppy->pyhrv) (1.15.0)\n",
            "Requirement already satisfied: opencv-python in /usr/local/lib/python3.7/dist-packages (from biosppy->pyhrv) (4.6.0.66)\n",
            "Requirement already satisfied: bidict in /usr/local/lib/python3.7/dist-packages (from biosppy->pyhrv) (0.22.0)\n",
            "Requirement already satisfied: cached-property in /usr/local/lib/python3.7/dist-packages (from h5py->biosppy->pyhrv) (1.5.2)\n",
            "Requirement already satisfied: pyparsing!=2.0.4,!=2.1.2,!=2.1.6,>=2.0.1 in /usr/local/lib/python3.7/dist-packages (from matplotlib->pyhrv) (3.0.9)\n",
            "Requirement already satisfied: cycler>=0.10 in /usr/local/lib/python3.7/dist-packages (from matplotlib->pyhrv) (0.11.0)\n",
            "Requirement already satisfied: kiwisolver>=1.0.1 in /usr/local/lib/python3.7/dist-packages (from matplotlib->pyhrv) (1.4.4)\n",
            "Requirement already satisfied: python-dateutil>=2.1 in /usr/local/lib/python3.7/dist-packages (from matplotlib->pyhrv) (2.8.2)\n",
            "Requirement already satisfied: typing-extensions in /usr/local/lib/python3.7/dist-packages (from kiwisolver>=1.0.1->matplotlib->pyhrv) (4.1.1)\n",
            "Requirement already satisfied: setuptools in /usr/local/lib/python3.7/dist-packages (from nolds->pyhrv) (57.4.0)\n",
            "Requirement already satisfied: future in /usr/local/lib/python3.7/dist-packages (from nolds->pyhrv) (0.16.0)\n",
            "Requirement already satisfied: threadpoolctl>=2.0.0 in /usr/local/lib/python3.7/dist-packages (from scikit-learn->biosppy->pyhrv) (3.1.0)\n",
            "Requirement already satisfied: easydev in /usr/local/lib/python3.7/dist-packages (from spectrum->pyhrv) (0.12.0)\n",
            "Requirement already satisfied: colorama in /usr/local/lib/python3.7/dist-packages (from easydev->spectrum->pyhrv) (0.4.6)\n",
            "Requirement already satisfied: colorlog in /usr/local/lib/python3.7/dist-packages (from easydev->spectrum->pyhrv) (6.7.0)\n",
            "Requirement already satisfied: pexpect in /usr/local/lib/python3.7/dist-packages (from easydev->spectrum->pyhrv) (4.8.0)\n",
            "Requirement already satisfied: ptyprocess>=0.5 in /usr/local/lib/python3.7/dist-packages (from pexpect->easydev->spectrum->pyhrv) (0.7.0)\n"
          ]
        }
      ]
    },
    {
      "cell_type": "code",
      "source": [
        "!pip install hrv_analysis"
      ],
      "metadata": {
        "colab": {
          "base_uri": "https://localhost:8080/"
        },
        "id": "pCHMgRsQvILq",
        "outputId": "e3abe8a7-7a1b-4c37-fcc0-41a2da1f8be2"
      },
      "execution_count": 80,
      "outputs": [
        {
          "output_type": "stream",
          "name": "stdout",
          "text": [
            "Looking in indexes: https://pypi.org/simple, https://us-python.pkg.dev/colab-wheels/public/simple/\n",
            "Requirement already satisfied: hrv_analysis in /usr/local/lib/python3.7/dist-packages (1.0.4)\n",
            "Requirement already satisfied: astropy>=3.0.4 in /usr/local/lib/python3.7/dist-packages (from hrv_analysis) (4.3.1)\n",
            "Requirement already satisfied: matplotlib>=2.2.2 in /usr/local/lib/python3.7/dist-packages (from hrv_analysis) (3.2.2)\n",
            "Requirement already satisfied: numpy>=1.15.1 in /usr/local/lib/python3.7/dist-packages (from hrv_analysis) (1.21.6)\n",
            "Requirement already satisfied: nolds>=0.4.1 in /usr/local/lib/python3.7/dist-packages (from hrv_analysis) (0.5.2)\n",
            "Requirement already satisfied: pandas>=0.23.4 in /usr/local/lib/python3.7/dist-packages (from hrv_analysis) (1.3.5)\n",
            "Requirement already satisfied: scipy>=1.1.0 in /usr/local/lib/python3.7/dist-packages (from hrv_analysis) (1.7.3)\n",
            "Requirement already satisfied: importlib-metadata in /usr/local/lib/python3.7/dist-packages (from astropy>=3.0.4->hrv_analysis) (4.13.0)\n",
            "Requirement already satisfied: pyerfa>=1.7.3 in /usr/local/lib/python3.7/dist-packages (from astropy>=3.0.4->hrv_analysis) (2.0.0.1)\n",
            "Requirement already satisfied: cycler>=0.10 in /usr/local/lib/python3.7/dist-packages (from matplotlib>=2.2.2->hrv_analysis) (0.11.0)\n",
            "Requirement already satisfied: kiwisolver>=1.0.1 in /usr/local/lib/python3.7/dist-packages (from matplotlib>=2.2.2->hrv_analysis) (1.4.4)\n",
            "Requirement already satisfied: python-dateutil>=2.1 in /usr/local/lib/python3.7/dist-packages (from matplotlib>=2.2.2->hrv_analysis) (2.8.2)\n",
            "Requirement already satisfied: pyparsing!=2.0.4,!=2.1.2,!=2.1.6,>=2.0.1 in /usr/local/lib/python3.7/dist-packages (from matplotlib>=2.2.2->hrv_analysis) (3.0.9)\n",
            "Requirement already satisfied: typing-extensions in /usr/local/lib/python3.7/dist-packages (from kiwisolver>=1.0.1->matplotlib>=2.2.2->hrv_analysis) (4.1.1)\n",
            "Requirement already satisfied: setuptools in /usr/local/lib/python3.7/dist-packages (from nolds>=0.4.1->hrv_analysis) (57.4.0)\n",
            "Requirement already satisfied: future in /usr/local/lib/python3.7/dist-packages (from nolds>=0.4.1->hrv_analysis) (0.16.0)\n",
            "Requirement already satisfied: pytz>=2017.3 in /usr/local/lib/python3.7/dist-packages (from pandas>=0.23.4->hrv_analysis) (2022.6)\n",
            "Requirement already satisfied: six>=1.5 in /usr/local/lib/python3.7/dist-packages (from python-dateutil>=2.1->matplotlib>=2.2.2->hrv_analysis) (1.15.0)\n",
            "Requirement already satisfied: zipp>=0.5 in /usr/local/lib/python3.7/dist-packages (from importlib-metadata->astropy>=3.0.4->hrv_analysis) (3.10.0)\n"
          ]
        }
      ]
    },
    {
      "cell_type": "code",
      "source": [
        "#Read in the dataset\n",
        "\n",
        "df_test = pd.read_csv(\"/content/drive/MyDrive/SWELL/hrv dataset/data/final/test.csv\")\n",
        "df_train = pd.read_csv(\"/content/drive/MyDrive/SWELL/hrv dataset/data/final/train.csv\")\n",
        "print(f\"df_train shape{df_train.shape}\")\n",
        "print(f\"df_test shape{df_test.shape}\")"
      ],
      "metadata": {
        "colab": {
          "base_uri": "https://localhost:8080/"
        },
        "id": "pmum_SqTgM3F",
        "outputId": "28be9ac2-6485-4dcd-cc51-711942279b28"
      },
      "execution_count": 81,
      "outputs": [
        {
          "output_type": "stream",
          "name": "stdout",
          "text": [
            "df_train shape(369289, 36)\n",
            "df_test shape(41033, 36)\n"
          ]
        }
      ]
    },
    {
      "cell_type": "code",
      "source": [
        "df_train.head()"
      ],
      "metadata": {
        "colab": {
          "base_uri": "https://localhost:8080/",
          "height": 299
        },
        "id": "BNjyNE94g3Kf",
        "outputId": "bd6a8163-9298-401f-a710-4fb67af5e488"
      },
      "execution_count": 92,
      "outputs": [
        {
          "output_type": "execute_result",
          "data": {
            "text/plain": [
              "      MEAN_RR   MEDIAN_RR        SDRR      RMSSD       SDSD  SDRR_RMSSD  \\\n",
              "0  885.157845  853.763730  140.972741  15.554505  15.553371    9.063146   \n",
              "1  939.425371  948.357865   81.317742  12.964439  12.964195    6.272369   \n",
              "2  898.186047  907.006860   84.497236  16.305279  16.305274    5.182201   \n",
              "3  881.757865  893.460030   90.370537  15.720468  15.720068    5.748591   \n",
              "4  809.625331  811.184865   62.766242  19.213819  19.213657    3.266724   \n",
              "\n",
              "          HR      pNN25     pNN50        SD1  ...         HF    HF_PCT  \\\n",
              "0  69.499952  11.133333  0.533333  11.001565  ...  15.522603  0.421047   \n",
              "1  64.363150   5.600000  0.000000   9.170129  ...   2.108525  0.070133   \n",
              "2  67.450066  13.066667  0.200000  11.533417  ...  13.769729  0.512671   \n",
              "3  68.809562  11.800000  0.133333  11.119476  ...  18.181913  0.529387   \n",
              "4  74.565728  20.200000  0.200000  13.590641  ...  48.215822  1.839473   \n",
              "\n",
              "      HF_NU           TP       LF_HF     HF_LF    sampen    higuci  datasetId  \\\n",
              "0  1.514737  3686.666157   65.018055  0.015380  2.139754  1.163485          2   \n",
              "1  0.304603  3006.487251  327.296635  0.003055  2.174499  1.084711          2   \n",
              "2  1.049528  2685.879461   94.280910  0.010607  2.135350  1.176315          2   \n",
              "3  1.775294  3434.520980   55.328701  0.018074  2.178341  1.179688          2   \n",
              "4  3.279993  2621.175204   29.487873  0.033912  2.221121  1.249612          2   \n",
              "\n",
              "      condition  \n",
              "0     no stress  \n",
              "1  interruption  \n",
              "2  interruption  \n",
              "3     no stress  \n",
              "4     no stress  \n",
              "\n",
              "[5 rows x 36 columns]"
            ],
            "text/html": [
              "\n",
              "  <div id=\"df-8e40a188-4ba2-4e1f-85ff-23c6f5064139\">\n",
              "    <div class=\"colab-df-container\">\n",
              "      <div>\n",
              "<style scoped>\n",
              "    .dataframe tbody tr th:only-of-type {\n",
              "        vertical-align: middle;\n",
              "    }\n",
              "\n",
              "    .dataframe tbody tr th {\n",
              "        vertical-align: top;\n",
              "    }\n",
              "\n",
              "    .dataframe thead th {\n",
              "        text-align: right;\n",
              "    }\n",
              "</style>\n",
              "<table border=\"1\" class=\"dataframe\">\n",
              "  <thead>\n",
              "    <tr style=\"text-align: right;\">\n",
              "      <th></th>\n",
              "      <th>MEAN_RR</th>\n",
              "      <th>MEDIAN_RR</th>\n",
              "      <th>SDRR</th>\n",
              "      <th>RMSSD</th>\n",
              "      <th>SDSD</th>\n",
              "      <th>SDRR_RMSSD</th>\n",
              "      <th>HR</th>\n",
              "      <th>pNN25</th>\n",
              "      <th>pNN50</th>\n",
              "      <th>SD1</th>\n",
              "      <th>...</th>\n",
              "      <th>HF</th>\n",
              "      <th>HF_PCT</th>\n",
              "      <th>HF_NU</th>\n",
              "      <th>TP</th>\n",
              "      <th>LF_HF</th>\n",
              "      <th>HF_LF</th>\n",
              "      <th>sampen</th>\n",
              "      <th>higuci</th>\n",
              "      <th>datasetId</th>\n",
              "      <th>condition</th>\n",
              "    </tr>\n",
              "  </thead>\n",
              "  <tbody>\n",
              "    <tr>\n",
              "      <th>0</th>\n",
              "      <td>885.157845</td>\n",
              "      <td>853.763730</td>\n",
              "      <td>140.972741</td>\n",
              "      <td>15.554505</td>\n",
              "      <td>15.553371</td>\n",
              "      <td>9.063146</td>\n",
              "      <td>69.499952</td>\n",
              "      <td>11.133333</td>\n",
              "      <td>0.533333</td>\n",
              "      <td>11.001565</td>\n",
              "      <td>...</td>\n",
              "      <td>15.522603</td>\n",
              "      <td>0.421047</td>\n",
              "      <td>1.514737</td>\n",
              "      <td>3686.666157</td>\n",
              "      <td>65.018055</td>\n",
              "      <td>0.015380</td>\n",
              "      <td>2.139754</td>\n",
              "      <td>1.163485</td>\n",
              "      <td>2</td>\n",
              "      <td>no stress</td>\n",
              "    </tr>\n",
              "    <tr>\n",
              "      <th>1</th>\n",
              "      <td>939.425371</td>\n",
              "      <td>948.357865</td>\n",
              "      <td>81.317742</td>\n",
              "      <td>12.964439</td>\n",
              "      <td>12.964195</td>\n",
              "      <td>6.272369</td>\n",
              "      <td>64.363150</td>\n",
              "      <td>5.600000</td>\n",
              "      <td>0.000000</td>\n",
              "      <td>9.170129</td>\n",
              "      <td>...</td>\n",
              "      <td>2.108525</td>\n",
              "      <td>0.070133</td>\n",
              "      <td>0.304603</td>\n",
              "      <td>3006.487251</td>\n",
              "      <td>327.296635</td>\n",
              "      <td>0.003055</td>\n",
              "      <td>2.174499</td>\n",
              "      <td>1.084711</td>\n",
              "      <td>2</td>\n",
              "      <td>interruption</td>\n",
              "    </tr>\n",
              "    <tr>\n",
              "      <th>2</th>\n",
              "      <td>898.186047</td>\n",
              "      <td>907.006860</td>\n",
              "      <td>84.497236</td>\n",
              "      <td>16.305279</td>\n",
              "      <td>16.305274</td>\n",
              "      <td>5.182201</td>\n",
              "      <td>67.450066</td>\n",
              "      <td>13.066667</td>\n",
              "      <td>0.200000</td>\n",
              "      <td>11.533417</td>\n",
              "      <td>...</td>\n",
              "      <td>13.769729</td>\n",
              "      <td>0.512671</td>\n",
              "      <td>1.049528</td>\n",
              "      <td>2685.879461</td>\n",
              "      <td>94.280910</td>\n",
              "      <td>0.010607</td>\n",
              "      <td>2.135350</td>\n",
              "      <td>1.176315</td>\n",
              "      <td>2</td>\n",
              "      <td>interruption</td>\n",
              "    </tr>\n",
              "    <tr>\n",
              "      <th>3</th>\n",
              "      <td>881.757865</td>\n",
              "      <td>893.460030</td>\n",
              "      <td>90.370537</td>\n",
              "      <td>15.720468</td>\n",
              "      <td>15.720068</td>\n",
              "      <td>5.748591</td>\n",
              "      <td>68.809562</td>\n",
              "      <td>11.800000</td>\n",
              "      <td>0.133333</td>\n",
              "      <td>11.119476</td>\n",
              "      <td>...</td>\n",
              "      <td>18.181913</td>\n",
              "      <td>0.529387</td>\n",
              "      <td>1.775294</td>\n",
              "      <td>3434.520980</td>\n",
              "      <td>55.328701</td>\n",
              "      <td>0.018074</td>\n",
              "      <td>2.178341</td>\n",
              "      <td>1.179688</td>\n",
              "      <td>2</td>\n",
              "      <td>no stress</td>\n",
              "    </tr>\n",
              "    <tr>\n",
              "      <th>4</th>\n",
              "      <td>809.625331</td>\n",
              "      <td>811.184865</td>\n",
              "      <td>62.766242</td>\n",
              "      <td>19.213819</td>\n",
              "      <td>19.213657</td>\n",
              "      <td>3.266724</td>\n",
              "      <td>74.565728</td>\n",
              "      <td>20.200000</td>\n",
              "      <td>0.200000</td>\n",
              "      <td>13.590641</td>\n",
              "      <td>...</td>\n",
              "      <td>48.215822</td>\n",
              "      <td>1.839473</td>\n",
              "      <td>3.279993</td>\n",
              "      <td>2621.175204</td>\n",
              "      <td>29.487873</td>\n",
              "      <td>0.033912</td>\n",
              "      <td>2.221121</td>\n",
              "      <td>1.249612</td>\n",
              "      <td>2</td>\n",
              "      <td>no stress</td>\n",
              "    </tr>\n",
              "  </tbody>\n",
              "</table>\n",
              "<p>5 rows × 36 columns</p>\n",
              "</div>\n",
              "      <button class=\"colab-df-convert\" onclick=\"convertToInteractive('df-8e40a188-4ba2-4e1f-85ff-23c6f5064139')\"\n",
              "              title=\"Convert this dataframe to an interactive table.\"\n",
              "              style=\"display:none;\">\n",
              "        \n",
              "  <svg xmlns=\"http://www.w3.org/2000/svg\" height=\"24px\"viewBox=\"0 0 24 24\"\n",
              "       width=\"24px\">\n",
              "    <path d=\"M0 0h24v24H0V0z\" fill=\"none\"/>\n",
              "    <path d=\"M18.56 5.44l.94 2.06.94-2.06 2.06-.94-2.06-.94-.94-2.06-.94 2.06-2.06.94zm-11 1L8.5 8.5l.94-2.06 2.06-.94-2.06-.94L8.5 2.5l-.94 2.06-2.06.94zm10 10l.94 2.06.94-2.06 2.06-.94-2.06-.94-.94-2.06-.94 2.06-2.06.94z\"/><path d=\"M17.41 7.96l-1.37-1.37c-.4-.4-.92-.59-1.43-.59-.52 0-1.04.2-1.43.59L10.3 9.45l-7.72 7.72c-.78.78-.78 2.05 0 2.83L4 21.41c.39.39.9.59 1.41.59.51 0 1.02-.2 1.41-.59l7.78-7.78 2.81-2.81c.8-.78.8-2.07 0-2.86zM5.41 20L4 18.59l7.72-7.72 1.47 1.35L5.41 20z\"/>\n",
              "  </svg>\n",
              "      </button>\n",
              "      \n",
              "  <style>\n",
              "    .colab-df-container {\n",
              "      display:flex;\n",
              "      flex-wrap:wrap;\n",
              "      gap: 12px;\n",
              "    }\n",
              "\n",
              "    .colab-df-convert {\n",
              "      background-color: #E8F0FE;\n",
              "      border: none;\n",
              "      border-radius: 50%;\n",
              "      cursor: pointer;\n",
              "      display: none;\n",
              "      fill: #1967D2;\n",
              "      height: 32px;\n",
              "      padding: 0 0 0 0;\n",
              "      width: 32px;\n",
              "    }\n",
              "\n",
              "    .colab-df-convert:hover {\n",
              "      background-color: #E2EBFA;\n",
              "      box-shadow: 0px 1px 2px rgba(60, 64, 67, 0.3), 0px 1px 3px 1px rgba(60, 64, 67, 0.15);\n",
              "      fill: #174EA6;\n",
              "    }\n",
              "\n",
              "    [theme=dark] .colab-df-convert {\n",
              "      background-color: #3B4455;\n",
              "      fill: #D2E3FC;\n",
              "    }\n",
              "\n",
              "    [theme=dark] .colab-df-convert:hover {\n",
              "      background-color: #434B5C;\n",
              "      box-shadow: 0px 1px 3px 1px rgba(0, 0, 0, 0.15);\n",
              "      filter: drop-shadow(0px 1px 2px rgba(0, 0, 0, 0.3));\n",
              "      fill: #FFFFFF;\n",
              "    }\n",
              "  </style>\n",
              "\n",
              "      <script>\n",
              "        const buttonEl =\n",
              "          document.querySelector('#df-8e40a188-4ba2-4e1f-85ff-23c6f5064139 button.colab-df-convert');\n",
              "        buttonEl.style.display =\n",
              "          google.colab.kernel.accessAllowed ? 'block' : 'none';\n",
              "\n",
              "        async function convertToInteractive(key) {\n",
              "          const element = document.querySelector('#df-8e40a188-4ba2-4e1f-85ff-23c6f5064139');\n",
              "          const dataTable =\n",
              "            await google.colab.kernel.invokeFunction('convertToInteractive',\n",
              "                                                     [key], {});\n",
              "          if (!dataTable) return;\n",
              "\n",
              "          const docLinkHtml = 'Like what you see? Visit the ' +\n",
              "            '<a target=\"_blank\" href=https://colab.research.google.com/notebooks/data_table.ipynb>data table notebook</a>'\n",
              "            + ' to learn more about interactive tables.';\n",
              "          element.innerHTML = '';\n",
              "          dataTable['output_type'] = 'display_data';\n",
              "          await google.colab.output.renderOutput(dataTable, element);\n",
              "          const docLink = document.createElement('div');\n",
              "          docLink.innerHTML = docLinkHtml;\n",
              "          element.appendChild(docLink);\n",
              "        }\n",
              "      </script>\n",
              "    </div>\n",
              "  </div>\n",
              "  "
            ]
          },
          "metadata": {},
          "execution_count": 92
        }
      ]
    },
    {
      "cell_type": "code",
      "source": [
        "df_train['condition'].unique()"
      ],
      "metadata": {
        "colab": {
          "base_uri": "https://localhost:8080/"
        },
        "id": "AL7rueX0g3Ve",
        "outputId": "9edce42f-2df0-4b5d-f6aa-abeb99f3c02a"
      },
      "execution_count": 98,
      "outputs": [
        {
          "output_type": "execute_result",
          "data": {
            "text/plain": [
              "array(['no stress', 'interruption', 'time pressure'], dtype=object)"
            ]
          },
          "metadata": {},
          "execution_count": 98
        }
      ]
    },
    {
      "cell_type": "code",
      "source": [
        "#check if there is any missing value in the datasets\n",
        "display(df_train.info())\n",
        "display(df_test.info())"
      ],
      "metadata": {
        "colab": {
          "base_uri": "https://localhost:8080/",
          "height": 1000
        },
        "id": "v_lLiJyig_XA",
        "outputId": "f49d64a6-dc69-4d8c-884f-475b9ab15d09"
      },
      "execution_count": 100,
      "outputs": [
        {
          "output_type": "stream",
          "name": "stdout",
          "text": [
            "<class 'pandas.core.frame.DataFrame'>\n",
            "RangeIndex: 369289 entries, 0 to 369288\n",
            "Data columns (total 36 columns):\n",
            " #   Column             Non-Null Count   Dtype  \n",
            "---  ------             --------------   -----  \n",
            " 0   MEAN_RR            369289 non-null  float64\n",
            " 1   MEDIAN_RR          369289 non-null  float64\n",
            " 2   SDRR               369289 non-null  float64\n",
            " 3   RMSSD              369289 non-null  float64\n",
            " 4   SDSD               369289 non-null  float64\n",
            " 5   SDRR_RMSSD         369289 non-null  float64\n",
            " 6   HR                 369289 non-null  float64\n",
            " 7   pNN25              369289 non-null  float64\n",
            " 8   pNN50              369289 non-null  float64\n",
            " 9   SD1                369289 non-null  float64\n",
            " 10  SD2                369289 non-null  float64\n",
            " 11  KURT               369289 non-null  float64\n",
            " 12  SKEW               369289 non-null  float64\n",
            " 13  MEAN_REL_RR        369289 non-null  float64\n",
            " 14  MEDIAN_REL_RR      369289 non-null  float64\n",
            " 15  SDRR_REL_RR        369289 non-null  float64\n",
            " 16  RMSSD_REL_RR       369289 non-null  float64\n",
            " 17  SDSD_REL_RR        369289 non-null  float64\n",
            " 18  SDRR_RMSSD_REL_RR  369289 non-null  float64\n",
            " 19  KURT_REL_RR        369289 non-null  float64\n",
            " 20  SKEW_REL_RR        369289 non-null  float64\n",
            " 21  VLF                369289 non-null  float64\n",
            " 22  VLF_PCT            369289 non-null  float64\n",
            " 23  LF                 369289 non-null  float64\n",
            " 24  LF_PCT             369289 non-null  float64\n",
            " 25  LF_NU              369289 non-null  float64\n",
            " 26  HF                 369289 non-null  float64\n",
            " 27  HF_PCT             369289 non-null  float64\n",
            " 28  HF_NU              369289 non-null  float64\n",
            " 29  TP                 369289 non-null  float64\n",
            " 30  LF_HF              369289 non-null  float64\n",
            " 31  HF_LF              369289 non-null  float64\n",
            " 32  sampen             369289 non-null  float64\n",
            " 33  higuci             369289 non-null  float64\n",
            " 34  datasetId          369289 non-null  int64  \n",
            " 35  condition          369289 non-null  object \n",
            "dtypes: float64(34), int64(1), object(1)\n",
            "memory usage: 101.4+ MB\n"
          ]
        },
        {
          "output_type": "display_data",
          "data": {
            "text/plain": [
              "None"
            ]
          },
          "metadata": {}
        },
        {
          "output_type": "stream",
          "name": "stdout",
          "text": [
            "<class 'pandas.core.frame.DataFrame'>\n",
            "RangeIndex: 41033 entries, 0 to 41032\n",
            "Data columns (total 36 columns):\n",
            " #   Column             Non-Null Count  Dtype  \n",
            "---  ------             --------------  -----  \n",
            " 0   MEAN_RR            41033 non-null  float64\n",
            " 1   MEDIAN_RR          41033 non-null  float64\n",
            " 2   SDRR               41033 non-null  float64\n",
            " 3   RMSSD              41033 non-null  float64\n",
            " 4   SDSD               41033 non-null  float64\n",
            " 5   SDRR_RMSSD         41033 non-null  float64\n",
            " 6   HR                 41033 non-null  float64\n",
            " 7   pNN25              41033 non-null  float64\n",
            " 8   pNN50              41033 non-null  float64\n",
            " 9   SD1                41033 non-null  float64\n",
            " 10  SD2                41033 non-null  float64\n",
            " 11  KURT               41033 non-null  float64\n",
            " 12  SKEW               41033 non-null  float64\n",
            " 13  MEAN_REL_RR        41033 non-null  float64\n",
            " 14  MEDIAN_REL_RR      41033 non-null  float64\n",
            " 15  SDRR_REL_RR        41033 non-null  float64\n",
            " 16  RMSSD_REL_RR       41033 non-null  float64\n",
            " 17  SDSD_REL_RR        41033 non-null  float64\n",
            " 18  SDRR_RMSSD_REL_RR  41033 non-null  float64\n",
            " 19  KURT_REL_RR        41033 non-null  float64\n",
            " 20  SKEW_REL_RR        41033 non-null  float64\n",
            " 21  VLF                41033 non-null  float64\n",
            " 22  VLF_PCT            41033 non-null  float64\n",
            " 23  LF                 41033 non-null  float64\n",
            " 24  LF_PCT             41033 non-null  float64\n",
            " 25  LF_NU              41033 non-null  float64\n",
            " 26  HF                 41033 non-null  float64\n",
            " 27  HF_PCT             41033 non-null  float64\n",
            " 28  HF_NU              41033 non-null  float64\n",
            " 29  TP                 41033 non-null  float64\n",
            " 30  LF_HF              41033 non-null  float64\n",
            " 31  HF_LF              41033 non-null  float64\n",
            " 32  sampen             41033 non-null  float64\n",
            " 33  higuci             41033 non-null  float64\n",
            " 34  datasetId          41033 non-null  int64  \n",
            " 35  condition          41033 non-null  object \n",
            "dtypes: float64(34), int64(1), object(1)\n",
            "memory usage: 11.3+ MB\n"
          ]
        },
        {
          "output_type": "display_data",
          "data": {
            "text/plain": [
              "None"
            ]
          },
          "metadata": {}
        },
        {
          "output_type": "stream",
          "name": "stdout",
          "text": [
            "<class 'pandas.core.frame.DataFrame'>\n",
            "RangeIndex: 55 entries, 0 to 54\n",
            "Data columns (total 17 columns):\n",
            " #   Column         Non-Null Count  Dtype  \n",
            "---  ------         --------------  -----  \n",
            " 0   MEAN_RR        55 non-null     float64\n",
            " 1   SDNN           55 non-null     float64\n",
            " 2   HR             55 non-null     float64\n",
            " 3   VLF            55 non-null     float64\n",
            " 4   VLF_PCT        55 non-null     float64\n",
            " 5   LF             55 non-null     float64\n",
            " 6   LF_PCT         55 non-null     float64\n",
            " 7   LF_NU          55 non-null     float64\n",
            " 8   HF             55 non-null     float64\n",
            " 9   HF_PCT         55 non-null     float64\n",
            " 10  HF_NU          55 non-null     float64\n",
            " 11  TP             55 non-null     float64\n",
            " 12  LF_HF          55 non-null     float64\n",
            " 13  HF_LF          55 non-null     float64\n",
            " 14  Sleep Quality  55 non-null     int64  \n",
            " 15  PatchID        55 non-null     object \n",
            " 16  date           55 non-null     object \n",
            "dtypes: float64(14), int64(1), object(2)\n",
            "memory usage: 7.4+ KB\n"
          ]
        },
        {
          "output_type": "display_data",
          "data": {
            "text/plain": [
              "None"
            ]
          },
          "metadata": {}
        },
        {
          "output_type": "stream",
          "name": "stdout",
          "text": [
            "<class 'pandas.core.frame.DataFrame'>\n",
            "RangeIndex: 6019 entries, 0 to 6018\n",
            "Data columns (total 17 columns):\n",
            " #   Column         Non-Null Count  Dtype  \n",
            "---  ------         --------------  -----  \n",
            " 0   MEAN_RR        6019 non-null   float64\n",
            " 1   SDNN           6019 non-null   float64\n",
            " 2   HR             6019 non-null   float64\n",
            " 3   VLF            6019 non-null   float64\n",
            " 4   VLF_PCT        6019 non-null   float64\n",
            " 5   LF             6019 non-null   float64\n",
            " 6   LF_PCT         6019 non-null   float64\n",
            " 7   LF_NU          6019 non-null   float64\n",
            " 8   HF             6019 non-null   float64\n",
            " 9   HF_PCT         6019 non-null   float64\n",
            " 10  HF_NU          6019 non-null   float64\n",
            " 11  TP             6019 non-null   float64\n",
            " 12  LF_HF          6019 non-null   float64\n",
            " 13  HF_LF          6019 non-null   float64\n",
            " 14  Sleep Quality  0 non-null      float64\n",
            " 15  Date           6019 non-null   object \n",
            " 16  Device_date    6019 non-null   object \n",
            "dtypes: float64(15), object(2)\n",
            "memory usage: 799.5+ KB\n"
          ]
        },
        {
          "output_type": "display_data",
          "data": {
            "text/plain": [
              "None"
            ]
          },
          "metadata": {}
        },
        {
          "output_type": "stream",
          "name": "stdout",
          "text": [
            "<class 'pandas.core.frame.DataFrame'>\n",
            "RangeIndex: 6277 entries, 0 to 6276\n",
            "Data columns (total 17 columns):\n",
            " #   Column         Non-Null Count  Dtype  \n",
            "---  ------         --------------  -----  \n",
            " 0   MEAN_RR        6277 non-null   float64\n",
            " 1   SDNN           6277 non-null   float64\n",
            " 2   HR             6277 non-null   float64\n",
            " 3   VLF            6277 non-null   float64\n",
            " 4   VLF_PCT        6277 non-null   float64\n",
            " 5   LF             6277 non-null   float64\n",
            " 6   LF_PCT         6277 non-null   float64\n",
            " 7   LF_NU          6277 non-null   float64\n",
            " 8   HF             6277 non-null   float64\n",
            " 9   HF_PCT         6277 non-null   float64\n",
            " 10  HF_NU          6277 non-null   float64\n",
            " 11  TP             6277 non-null   float64\n",
            " 12  LF_HF          6277 non-null   float64\n",
            " 13  HF_LF          6277 non-null   float64\n",
            " 14  Sleep Quality  0 non-null      float64\n",
            " 15  Date           6277 non-null   object \n",
            " 16  Device_date    6277 non-null   object \n",
            "dtypes: float64(15), object(2)\n",
            "memory usage: 833.8+ KB\n"
          ]
        },
        {
          "output_type": "display_data",
          "data": {
            "text/plain": [
              "None"
            ]
          },
          "metadata": {}
        },
        {
          "output_type": "stream",
          "name": "stdout",
          "text": [
            "<class 'pandas.core.frame.DataFrame'>\n",
            "RangeIndex: 2344 entries, 0 to 2343\n",
            "Data columns (total 17 columns):\n",
            " #   Column         Non-Null Count  Dtype  \n",
            "---  ------         --------------  -----  \n",
            " 0   MEAN_RR        2344 non-null   float64\n",
            " 1   SDNN           2344 non-null   float64\n",
            " 2   HR             2344 non-null   float64\n",
            " 3   VLF            2344 non-null   float64\n",
            " 4   VLF_PCT        2344 non-null   float64\n",
            " 5   LF             2344 non-null   float64\n",
            " 6   LF_PCT         2344 non-null   float64\n",
            " 7   LF_NU          2344 non-null   float64\n",
            " 8   HF             2344 non-null   float64\n",
            " 9   HF_PCT         2344 non-null   float64\n",
            " 10  HF_NU          2344 non-null   float64\n",
            " 11  TP             2344 non-null   float64\n",
            " 12  LF_HF          2344 non-null   float64\n",
            " 13  HF_LF          2344 non-null   float64\n",
            " 14  Sleep Quality  0 non-null      float64\n",
            " 15  Date           2344 non-null   object \n",
            " 16  Device_date    2344 non-null   object \n",
            "dtypes: float64(15), object(2)\n",
            "memory usage: 311.4+ KB\n"
          ]
        },
        {
          "output_type": "display_data",
          "data": {
            "text/plain": [
              "None"
            ]
          },
          "metadata": {}
        },
        {
          "output_type": "stream",
          "name": "stdout",
          "text": [
            "<class 'pandas.core.frame.DataFrame'>\n",
            "RangeIndex: 37026 entries, 0 to 37025\n",
            "Data columns (total 18 columns):\n",
            " #   Column       Non-Null Count  Dtype  \n",
            "---  ------       --------------  -----  \n",
            " 0   MEAN_RR      37026 non-null  float64\n",
            " 1   SDRR         37026 non-null  float64\n",
            " 2   HR           37026 non-null  float64\n",
            " 3   VLF          37026 non-null  float64\n",
            " 4   VLF_PCT      37026 non-null  float64\n",
            " 5   LF           37026 non-null  float64\n",
            " 6   LF_PCT       37026 non-null  float64\n",
            " 7   LF_NU        37026 non-null  float64\n",
            " 8   HF           37026 non-null  float64\n",
            " 9   HF_PCT       37026 non-null  float64\n",
            " 10  HF_NU        37026 non-null  float64\n",
            " 11  TP           37026 non-null  float64\n",
            " 12  LF_HF        37026 non-null  float64\n",
            " 13  HF_LF        37026 non-null  float64\n",
            " 14  PA           35352 non-null  object \n",
            " 15  ID           37026 non-null  int64  \n",
            " 16  categories   37026 non-null  int64  \n",
            " 17  device_time  37026 non-null  object \n",
            "dtypes: float64(14), int64(2), object(2)\n",
            "memory usage: 5.1+ MB\n"
          ]
        },
        {
          "output_type": "display_data",
          "data": {
            "text/plain": [
              "None"
            ]
          },
          "metadata": {}
        }
      ]
    },
    {
      "cell_type": "code",
      "source": [
        "#encode the labels\n",
        "df_train['condition'] = df_train['condition'].map({'no stress':0, 'interruption':1, 'time pressure':2})\n",
        "df_test['condition'] = df_test['condition'].map({'no stress':0, 'interruption':1, 'time pressure':2})"
      ],
      "metadata": {
        "id": "AH80sb5jhGu7"
      },
      "execution_count": 101,
      "outputs": []
    },
    {
      "cell_type": "code",
      "source": [
        "df_train.head()"
      ],
      "metadata": {
        "colab": {
          "base_uri": "https://localhost:8080/",
          "height": 299
        },
        "id": "dVj8_8iohMXR",
        "outputId": "93fa8f54-49d9-4e6a-bece-05f72caa00af"
      },
      "execution_count": 102,
      "outputs": [
        {
          "output_type": "execute_result",
          "data": {
            "text/plain": [
              "      MEAN_RR   MEDIAN_RR        SDRR      RMSSD       SDSD  SDRR_RMSSD  \\\n",
              "0  885.157845  853.763730  140.972741  15.554505  15.553371    9.063146   \n",
              "1  939.425371  948.357865   81.317742  12.964439  12.964195    6.272369   \n",
              "2  898.186047  907.006860   84.497236  16.305279  16.305274    5.182201   \n",
              "3  881.757865  893.460030   90.370537  15.720468  15.720068    5.748591   \n",
              "4  809.625331  811.184865   62.766242  19.213819  19.213657    3.266724   \n",
              "\n",
              "          HR      pNN25     pNN50        SD1  ...         HF    HF_PCT  \\\n",
              "0  69.499952  11.133333  0.533333  11.001565  ...  15.522603  0.421047   \n",
              "1  64.363150   5.600000  0.000000   9.170129  ...   2.108525  0.070133   \n",
              "2  67.450066  13.066667  0.200000  11.533417  ...  13.769729  0.512671   \n",
              "3  68.809562  11.800000  0.133333  11.119476  ...  18.181913  0.529387   \n",
              "4  74.565728  20.200000  0.200000  13.590641  ...  48.215822  1.839473   \n",
              "\n",
              "      HF_NU           TP       LF_HF     HF_LF    sampen    higuci  datasetId  \\\n",
              "0  1.514737  3686.666157   65.018055  0.015380  2.139754  1.163485          2   \n",
              "1  0.304603  3006.487251  327.296635  0.003055  2.174499  1.084711          2   \n",
              "2  1.049528  2685.879461   94.280910  0.010607  2.135350  1.176315          2   \n",
              "3  1.775294  3434.520980   55.328701  0.018074  2.178341  1.179688          2   \n",
              "4  3.279993  2621.175204   29.487873  0.033912  2.221121  1.249612          2   \n",
              "\n",
              "   condition  \n",
              "0          0  \n",
              "1          1  \n",
              "2          1  \n",
              "3          0  \n",
              "4          0  \n",
              "\n",
              "[5 rows x 36 columns]"
            ],
            "text/html": [
              "\n",
              "  <div id=\"df-5845ccfd-e1c5-4b85-83ed-8da48fbf4e81\">\n",
              "    <div class=\"colab-df-container\">\n",
              "      <div>\n",
              "<style scoped>\n",
              "    .dataframe tbody tr th:only-of-type {\n",
              "        vertical-align: middle;\n",
              "    }\n",
              "\n",
              "    .dataframe tbody tr th {\n",
              "        vertical-align: top;\n",
              "    }\n",
              "\n",
              "    .dataframe thead th {\n",
              "        text-align: right;\n",
              "    }\n",
              "</style>\n",
              "<table border=\"1\" class=\"dataframe\">\n",
              "  <thead>\n",
              "    <tr style=\"text-align: right;\">\n",
              "      <th></th>\n",
              "      <th>MEAN_RR</th>\n",
              "      <th>MEDIAN_RR</th>\n",
              "      <th>SDRR</th>\n",
              "      <th>RMSSD</th>\n",
              "      <th>SDSD</th>\n",
              "      <th>SDRR_RMSSD</th>\n",
              "      <th>HR</th>\n",
              "      <th>pNN25</th>\n",
              "      <th>pNN50</th>\n",
              "      <th>SD1</th>\n",
              "      <th>...</th>\n",
              "      <th>HF</th>\n",
              "      <th>HF_PCT</th>\n",
              "      <th>HF_NU</th>\n",
              "      <th>TP</th>\n",
              "      <th>LF_HF</th>\n",
              "      <th>HF_LF</th>\n",
              "      <th>sampen</th>\n",
              "      <th>higuci</th>\n",
              "      <th>datasetId</th>\n",
              "      <th>condition</th>\n",
              "    </tr>\n",
              "  </thead>\n",
              "  <tbody>\n",
              "    <tr>\n",
              "      <th>0</th>\n",
              "      <td>885.157845</td>\n",
              "      <td>853.763730</td>\n",
              "      <td>140.972741</td>\n",
              "      <td>15.554505</td>\n",
              "      <td>15.553371</td>\n",
              "      <td>9.063146</td>\n",
              "      <td>69.499952</td>\n",
              "      <td>11.133333</td>\n",
              "      <td>0.533333</td>\n",
              "      <td>11.001565</td>\n",
              "      <td>...</td>\n",
              "      <td>15.522603</td>\n",
              "      <td>0.421047</td>\n",
              "      <td>1.514737</td>\n",
              "      <td>3686.666157</td>\n",
              "      <td>65.018055</td>\n",
              "      <td>0.015380</td>\n",
              "      <td>2.139754</td>\n",
              "      <td>1.163485</td>\n",
              "      <td>2</td>\n",
              "      <td>0</td>\n",
              "    </tr>\n",
              "    <tr>\n",
              "      <th>1</th>\n",
              "      <td>939.425371</td>\n",
              "      <td>948.357865</td>\n",
              "      <td>81.317742</td>\n",
              "      <td>12.964439</td>\n",
              "      <td>12.964195</td>\n",
              "      <td>6.272369</td>\n",
              "      <td>64.363150</td>\n",
              "      <td>5.600000</td>\n",
              "      <td>0.000000</td>\n",
              "      <td>9.170129</td>\n",
              "      <td>...</td>\n",
              "      <td>2.108525</td>\n",
              "      <td>0.070133</td>\n",
              "      <td>0.304603</td>\n",
              "      <td>3006.487251</td>\n",
              "      <td>327.296635</td>\n",
              "      <td>0.003055</td>\n",
              "      <td>2.174499</td>\n",
              "      <td>1.084711</td>\n",
              "      <td>2</td>\n",
              "      <td>1</td>\n",
              "    </tr>\n",
              "    <tr>\n",
              "      <th>2</th>\n",
              "      <td>898.186047</td>\n",
              "      <td>907.006860</td>\n",
              "      <td>84.497236</td>\n",
              "      <td>16.305279</td>\n",
              "      <td>16.305274</td>\n",
              "      <td>5.182201</td>\n",
              "      <td>67.450066</td>\n",
              "      <td>13.066667</td>\n",
              "      <td>0.200000</td>\n",
              "      <td>11.533417</td>\n",
              "      <td>...</td>\n",
              "      <td>13.769729</td>\n",
              "      <td>0.512671</td>\n",
              "      <td>1.049528</td>\n",
              "      <td>2685.879461</td>\n",
              "      <td>94.280910</td>\n",
              "      <td>0.010607</td>\n",
              "      <td>2.135350</td>\n",
              "      <td>1.176315</td>\n",
              "      <td>2</td>\n",
              "      <td>1</td>\n",
              "    </tr>\n",
              "    <tr>\n",
              "      <th>3</th>\n",
              "      <td>881.757865</td>\n",
              "      <td>893.460030</td>\n",
              "      <td>90.370537</td>\n",
              "      <td>15.720468</td>\n",
              "      <td>15.720068</td>\n",
              "      <td>5.748591</td>\n",
              "      <td>68.809562</td>\n",
              "      <td>11.800000</td>\n",
              "      <td>0.133333</td>\n",
              "      <td>11.119476</td>\n",
              "      <td>...</td>\n",
              "      <td>18.181913</td>\n",
              "      <td>0.529387</td>\n",
              "      <td>1.775294</td>\n",
              "      <td>3434.520980</td>\n",
              "      <td>55.328701</td>\n",
              "      <td>0.018074</td>\n",
              "      <td>2.178341</td>\n",
              "      <td>1.179688</td>\n",
              "      <td>2</td>\n",
              "      <td>0</td>\n",
              "    </tr>\n",
              "    <tr>\n",
              "      <th>4</th>\n",
              "      <td>809.625331</td>\n",
              "      <td>811.184865</td>\n",
              "      <td>62.766242</td>\n",
              "      <td>19.213819</td>\n",
              "      <td>19.213657</td>\n",
              "      <td>3.266724</td>\n",
              "      <td>74.565728</td>\n",
              "      <td>20.200000</td>\n",
              "      <td>0.200000</td>\n",
              "      <td>13.590641</td>\n",
              "      <td>...</td>\n",
              "      <td>48.215822</td>\n",
              "      <td>1.839473</td>\n",
              "      <td>3.279993</td>\n",
              "      <td>2621.175204</td>\n",
              "      <td>29.487873</td>\n",
              "      <td>0.033912</td>\n",
              "      <td>2.221121</td>\n",
              "      <td>1.249612</td>\n",
              "      <td>2</td>\n",
              "      <td>0</td>\n",
              "    </tr>\n",
              "  </tbody>\n",
              "</table>\n",
              "<p>5 rows × 36 columns</p>\n",
              "</div>\n",
              "      <button class=\"colab-df-convert\" onclick=\"convertToInteractive('df-5845ccfd-e1c5-4b85-83ed-8da48fbf4e81')\"\n",
              "              title=\"Convert this dataframe to an interactive table.\"\n",
              "              style=\"display:none;\">\n",
              "        \n",
              "  <svg xmlns=\"http://www.w3.org/2000/svg\" height=\"24px\"viewBox=\"0 0 24 24\"\n",
              "       width=\"24px\">\n",
              "    <path d=\"M0 0h24v24H0V0z\" fill=\"none\"/>\n",
              "    <path d=\"M18.56 5.44l.94 2.06.94-2.06 2.06-.94-2.06-.94-.94-2.06-.94 2.06-2.06.94zm-11 1L8.5 8.5l.94-2.06 2.06-.94-2.06-.94L8.5 2.5l-.94 2.06-2.06.94zm10 10l.94 2.06.94-2.06 2.06-.94-2.06-.94-.94-2.06-.94 2.06-2.06.94z\"/><path d=\"M17.41 7.96l-1.37-1.37c-.4-.4-.92-.59-1.43-.59-.52 0-1.04.2-1.43.59L10.3 9.45l-7.72 7.72c-.78.78-.78 2.05 0 2.83L4 21.41c.39.39.9.59 1.41.59.51 0 1.02-.2 1.41-.59l7.78-7.78 2.81-2.81c.8-.78.8-2.07 0-2.86zM5.41 20L4 18.59l7.72-7.72 1.47 1.35L5.41 20z\"/>\n",
              "  </svg>\n",
              "      </button>\n",
              "      \n",
              "  <style>\n",
              "    .colab-df-container {\n",
              "      display:flex;\n",
              "      flex-wrap:wrap;\n",
              "      gap: 12px;\n",
              "    }\n",
              "\n",
              "    .colab-df-convert {\n",
              "      background-color: #E8F0FE;\n",
              "      border: none;\n",
              "      border-radius: 50%;\n",
              "      cursor: pointer;\n",
              "      display: none;\n",
              "      fill: #1967D2;\n",
              "      height: 32px;\n",
              "      padding: 0 0 0 0;\n",
              "      width: 32px;\n",
              "    }\n",
              "\n",
              "    .colab-df-convert:hover {\n",
              "      background-color: #E2EBFA;\n",
              "      box-shadow: 0px 1px 2px rgba(60, 64, 67, 0.3), 0px 1px 3px 1px rgba(60, 64, 67, 0.15);\n",
              "      fill: #174EA6;\n",
              "    }\n",
              "\n",
              "    [theme=dark] .colab-df-convert {\n",
              "      background-color: #3B4455;\n",
              "      fill: #D2E3FC;\n",
              "    }\n",
              "\n",
              "    [theme=dark] .colab-df-convert:hover {\n",
              "      background-color: #434B5C;\n",
              "      box-shadow: 0px 1px 3px 1px rgba(0, 0, 0, 0.15);\n",
              "      filter: drop-shadow(0px 1px 2px rgba(0, 0, 0, 0.3));\n",
              "      fill: #FFFFFF;\n",
              "    }\n",
              "  </style>\n",
              "\n",
              "      <script>\n",
              "        const buttonEl =\n",
              "          document.querySelector('#df-5845ccfd-e1c5-4b85-83ed-8da48fbf4e81 button.colab-df-convert');\n",
              "        buttonEl.style.display =\n",
              "          google.colab.kernel.accessAllowed ? 'block' : 'none';\n",
              "\n",
              "        async function convertToInteractive(key) {\n",
              "          const element = document.querySelector('#df-5845ccfd-e1c5-4b85-83ed-8da48fbf4e81');\n",
              "          const dataTable =\n",
              "            await google.colab.kernel.invokeFunction('convertToInteractive',\n",
              "                                                     [key], {});\n",
              "          if (!dataTable) return;\n",
              "\n",
              "          const docLinkHtml = 'Like what you see? Visit the ' +\n",
              "            '<a target=\"_blank\" href=https://colab.research.google.com/notebooks/data_table.ipynb>data table notebook</a>'\n",
              "            + ' to learn more about interactive tables.';\n",
              "          element.innerHTML = '';\n",
              "          dataTable['output_type'] = 'display_data';\n",
              "          await google.colab.output.renderOutput(dataTable, element);\n",
              "          const docLink = document.createElement('div');\n",
              "          docLink.innerHTML = docLinkHtml;\n",
              "          element.appendChild(docLink);\n",
              "        }\n",
              "      </script>\n",
              "    </div>\n",
              "  </div>\n",
              "  "
            ]
          },
          "metadata": {},
          "execution_count": 102
        }
      ]
    },
    {
      "cell_type": "code",
      "source": [
        "#df_train_split, df_test_split = train_test_split(df_test, test_size=0.1, random_state=None)"
      ],
      "metadata": {
        "id": "u7XvEJ8UX1Nt"
      },
      "execution_count": 103,
      "outputs": []
    },
    {
      "cell_type": "code",
      "source": [
        "#Split the datasets into train and test\n",
        "X_train, y_train, X_test, y_test = df_train.iloc[:, :-1].values, df_train.iloc[:, -1].values, df_test.iloc[:, :-1].values, df_test.iloc[:,-1].values"
      ],
      "metadata": {
        "id": "y_jBA38uhPsc"
      },
      "execution_count": 104,
      "outputs": []
    },
    {
      "cell_type": "code",
      "source": [
        "X_train.shape"
      ],
      "metadata": {
        "colab": {
          "base_uri": "https://localhost:8080/"
        },
        "id": "3uzNjSlXe6aP",
        "outputId": "0ed37094-fc8f-4117-9419-20f0bdd8fcdf"
      },
      "execution_count": 110,
      "outputs": [
        {
          "output_type": "execute_result",
          "data": {
            "text/plain": [
              "(369289, 35)"
            ]
          },
          "metadata": {},
          "execution_count": 110
        }
      ]
    },
    {
      "cell_type": "code",
      "source": [
        "SelectFeature = SelectKBest(f_classif, k=20)"
      ],
      "metadata": {
        "id": "m-gqehqK-dFM"
      },
      "execution_count": 130,
      "outputs": []
    },
    {
      "cell_type": "code",
      "source": [
        "X_train.shape"
      ],
      "metadata": {
        "colab": {
          "base_uri": "https://localhost:8080/"
        },
        "id": "ILhzxn0o_0lz",
        "outputId": "8c80d421-b7b3-4b85-cf0b-b8e250aa32f1"
      },
      "execution_count": 131,
      "outputs": [
        {
          "output_type": "execute_result",
          "data": {
            "text/plain": [
              "(369289, 35)"
            ]
          },
          "metadata": {},
          "execution_count": 131
        }
      ]
    },
    {
      "cell_type": "code",
      "source": [
        "X_train_new = SelectFeature.fit_transform(X_train, y_train)\n",
        "SelectFeature.get_support(True)"
      ],
      "metadata": {
        "colab": {
          "base_uri": "https://localhost:8080/"
        },
        "id": "1NA81zwz-nsB",
        "outputId": "47f5b12a-24be-4292-fd22-4b408fa4b199"
      },
      "execution_count": 132,
      "outputs": [
        {
          "output_type": "stream",
          "name": "stderr",
          "text": [
            "/usr/local/lib/python3.7/dist-packages/sklearn/feature_selection/_univariate_selection.py:112: UserWarning: Features [34] are constant.\n",
            "  warnings.warn(\"Features %s are constant.\" % constant_features_idx, UserWarning)\n",
            "/usr/local/lib/python3.7/dist-packages/sklearn/feature_selection/_univariate_selection.py:113: RuntimeWarning: invalid value encountered in true_divide\n",
            "  f = msb / msw\n"
          ]
        },
        {
          "output_type": "execute_result",
          "data": {
            "text/plain": [
              "array([ 0,  1,  3,  4,  6,  7,  9, 18, 21, 22, 23, 24, 25, 27, 28, 29, 30,\n",
              "       31, 32, 33])"
            ]
          },
          "metadata": {},
          "execution_count": 132
        }
      ]
    },
    {
      "cell_type": "code",
      "source": [
        "filter_autoselect=SelectFeature.get_support()\n",
        "filter_autoselect"
      ],
      "metadata": {
        "colab": {
          "base_uri": "https://localhost:8080/"
        },
        "id": "ksi08i81aqAF",
        "outputId": "f2b92ac1-a1ad-4549-a276-53282d65dfb1"
      },
      "execution_count": 133,
      "outputs": [
        {
          "output_type": "execute_result",
          "data": {
            "text/plain": [
              "array([ True,  True, False,  True,  True, False,  True,  True, False,\n",
              "        True, False, False, False, False, False, False, False, False,\n",
              "        True, False, False,  True,  True,  True,  True,  True, False,\n",
              "        True,  True,  True,  True,  True,  True,  True, False])"
            ]
          },
          "metadata": {},
          "execution_count": 133
        }
      ]
    },
    {
      "cell_type": "code",
      "source": [
        "# filter for the top 3 out of 14\n",
        "filter_top3 = [ False,  False, True, False, False, False,  False,  False, False,\n",
        "       False, False, False, False, False, False, False, False, False,\n",
        "       False, False, False, False, False,  True, False, False, True,\n",
        "       False, False, False, False, False, False, False, False]"
      ],
      "metadata": {
        "id": "_hz3UdzfcmLY"
      },
      "execution_count": 134,
      "outputs": []
    },
    {
      "cell_type": "code",
      "source": [
        "# filter for the top 7 out of 14\n",
        "filter = [ True,  False, True, False, False, False,  True,  False, False,\n",
        "       False, False, False, False, False, False, False, False, False,\n",
        "       False, False, False, True, False,  True, False, False, True,\n",
        "       False, False, True, False, False, False, False, False]"
      ],
      "metadata": {
        "id": "m4rmua_fw9Mn"
      },
      "execution_count": 135,
      "outputs": []
    },
    {
      "cell_type": "code",
      "source": [
        "# filter for the common 14 features \n",
        "filter_14 = [ True,  False, True, False, False, False,  True,  False, False,\n",
        "       False, False, False, False, False, False, False, False, False,\n",
        "       False, False, False, True, True,  True, True, True, True,\n",
        "       True, True, True, True, True, False, False, False]"
      ],
      "metadata": {
        "id": "Mk0EB6yLuqea"
      },
      "execution_count": 136,
      "outputs": []
    },
    {
      "cell_type": "code",
      "source": [
        "X_train_new = X_train[:,filter]\n",
        "X_train_new.shape"
      ],
      "metadata": {
        "colab": {
          "base_uri": "https://localhost:8080/"
        },
        "id": "cbFlzpQy_zh_",
        "outputId": "9e6074e5-9366-44e8-f4f2-3c32f249a210"
      },
      "execution_count": 137,
      "outputs": [
        {
          "output_type": "execute_result",
          "data": {
            "text/plain": [
              "(369289, 7)"
            ]
          },
          "metadata": {},
          "execution_count": 137
        }
      ]
    },
    {
      "cell_type": "code",
      "source": [
        "X_test_new = X_test[:,filter]\n",
        "X_test_new.shape"
      ],
      "metadata": {
        "colab": {
          "base_uri": "https://localhost:8080/"
        },
        "id": "_K2yMoiK_42m",
        "outputId": "5c128529-2b48-4cdf-8979-9b7cfd66125d"
      },
      "execution_count": 138,
      "outputs": [
        {
          "output_type": "execute_result",
          "data": {
            "text/plain": [
              "(41033, 7)"
            ]
          },
          "metadata": {},
          "execution_count": 138
        }
      ]
    },
    {
      "cell_type": "code",
      "source": [
        "#print(X_train_new[0:5,:])"
      ],
      "metadata": {
        "id": "lrtNGwbiNvZl"
      },
      "execution_count": 139,
      "outputs": []
    },
    {
      "cell_type": "code",
      "source": [
        "#train_xc=X_train_new[:,0]\n",
        "#train_yc=X_train_new[:,1]\n",
        "#train_zc=X_train_new[:,2]"
      ],
      "metadata": {
        "id": "dnpQVC3OUk4Z"
      },
      "execution_count": 140,
      "outputs": []
    },
    {
      "cell_type": "code",
      "source": [
        "#print(X_test_new[0:5,:])"
      ],
      "metadata": {
        "id": "SyLYFiMrsnq4"
      },
      "execution_count": 141,
      "outputs": []
    },
    {
      "cell_type": "code",
      "source": [
        "#test_xc=X_test_new[:,0]\n",
        "#test_yc=X_test_new[:,1]\n",
        "#test_zc=X_test_new[:,2]"
      ],
      "metadata": {
        "id": "pxYgh2x_VVfN"
      },
      "execution_count": 142,
      "outputs": []
    },
    {
      "cell_type": "code",
      "source": [
        "#colormap = np.array(['r', 'g', 'b'])"
      ],
      "metadata": {
        "id": "7Hnqk9ZnUmDL"
      },
      "execution_count": 143,
      "outputs": []
    },
    {
      "cell_type": "code",
      "source": [
        "#fig = plt.figure()\n",
        "#ax = fig.gca(projection='3d')\n",
        "\n",
        "#ax.scatter(train_yc, train_xc, train_zc, s=1, c=colormap[y_train])\n",
        "#plt.show()"
      ],
      "metadata": {
        "id": "6sClXZaPY7yQ"
      },
      "execution_count": 144,
      "outputs": []
    },
    {
      "cell_type": "code",
      "source": [
        "#fig = plt.figure()\n",
        "#ax = fig.gca(projection='3d')\n",
        "\n",
        "#ax.scatter(test_yc, test_xc, test_zc, s=1, c=colormap[y_test])\n",
        "#plt.show()"
      ],
      "metadata": {
        "id": "8-kgbxZrWuqa"
      },
      "execution_count": 145,
      "outputs": []
    },
    {
      "cell_type": "code",
      "source": [
        "# Random Forest Model\n",
        "RFC = RandomForestClassifier(n_estimators=100, max_features='log2', n_jobs=-1)"
      ],
      "metadata": {
        "id": "5i-E2Ga5KIeu"
      },
      "execution_count": 146,
      "outputs": []
    },
    {
      "cell_type": "code",
      "source": [
        "RFC.fit(X_train_new, y_train)"
      ],
      "metadata": {
        "colab": {
          "base_uri": "https://localhost:8080/"
        },
        "id": "Aqe2c2bllVDC",
        "outputId": "1be8e3b6-45e6-456b-bd60-0df0cb881665"
      },
      "execution_count": 147,
      "outputs": [
        {
          "output_type": "execute_result",
          "data": {
            "text/plain": [
              "RandomForestClassifier(max_features='log2', n_jobs=-1)"
            ]
          },
          "metadata": {},
          "execution_count": 147
        }
      ]
    },
    {
      "cell_type": "code",
      "source": [
        "RFC.score(X_test_new, y_test)"
      ],
      "metadata": {
        "colab": {
          "base_uri": "https://localhost:8080/"
        },
        "id": "WUIcQtXI-DLm",
        "outputId": "4785b836-caf6-452e-8de4-2cbb1e7099e7"
      },
      "execution_count": 148,
      "outputs": [
        {
          "output_type": "execute_result",
          "data": {
            "text/plain": [
              "0.9999268881144445"
            ]
          },
          "metadata": {},
          "execution_count": 148
        }
      ]
    },
    {
      "cell_type": "code",
      "source": [
        "RFC_cf=confusion_matrix(y_test, RFC.predict(X_test_new))\n",
        "print(RFC_cf)"
      ],
      "metadata": {
        "colab": {
          "base_uri": "https://localhost:8080/"
        },
        "id": "sHhvJP6c4nZl",
        "outputId": "04bc35eb-9092-46c9-ac30-8f6706db1aa1"
      },
      "execution_count": 149,
      "outputs": [
        {
          "output_type": "stream",
          "name": "stdout",
          "text": [
            "[[22155     0     3]\n",
            " [    0 11782     0]\n",
            " [    0     0  7093]]\n"
          ]
        }
      ]
    },
    {
      "cell_type": "code",
      "source": [
        "import time\n",
        "\n",
        "start_time = time.time()\n",
        "importances = RFC.feature_importances_\n",
        "std = np.std([tree.feature_importances_ for tree in RFC.estimators_], axis=0)\n",
        "elapsed_time = time.time() - start_time\n",
        "\n",
        "print(f\"Elapsed time to compute the importances: {elapsed_time:.3f} seconds\")\n"
      ],
      "metadata": {
        "colab": {
          "base_uri": "https://localhost:8080/"
        },
        "id": "VKVeG955-m4A",
        "outputId": "30abf731-e921-4fea-926a-549d83a609be"
      },
      "execution_count": 150,
      "outputs": [
        {
          "output_type": "stream",
          "name": "stdout",
          "text": [
            "Elapsed time to compute the importances: 0.112 seconds\n"
          ]
        }
      ]
    },
    {
      "cell_type": "code",
      "source": [
        "#feature_names = [f\"feature {i}\" for i in range(X_train_new.shape[1])]\n",
        "feature_names = [\"MEAN_RR\", \"SDRR\", \"HR\", \"VLF\", \"LF\", \"HF\", \"TP\"]\n",
        "print(feature_names)\n",
        "forest_importances = pd.Series(importances, index=feature_names)\n",
        "\n",
        "fig, ax = plt.subplots()\n",
        "forest_importances.plot.bar(yerr=std, ax=ax)\n",
        "ax.set_title(\"Feature importances using MDI\")\n",
        "ax.set_ylabel(\"Mean decrease in impurity\")\n",
        "fig.tight_layout()\n",
        "fig.savefig(\"Figure 3.png\", dpi=300, format='png')\n",
        "plt.show()"
      ],
      "metadata": {
        "colab": {
          "base_uri": "https://localhost:8080/",
          "height": 315
        },
        "id": "Yt63EQ6C_HF4",
        "outputId": "0a8f1fef-ade4-4d78-cbc3-eea57edb62b8"
      },
      "execution_count": 152,
      "outputs": [
        {
          "output_type": "stream",
          "name": "stdout",
          "text": [
            "['MEAN_RR', 'SDRR', 'HR', 'VLF', 'LF', 'HF', 'TP']\n"
          ]
        },
        {
          "output_type": "display_data",
          "data": {
            "text/plain": [
              "<Figure size 432x288 with 1 Axes>"
            ],
            "image/png": "[encoded data removed]"
          },
          "metadata": {
            "needs_background": "light"
          }
        }
      ]
    },
    {
      "cell_type": "code",
      "source": [
        "from sklearn.inspection import permutation_importance\n",
        "\n",
        "start_time = time.time()\n",
        "result = permutation_importance(RFC, X_test_new, y_test, n_repeats=10, random_state=42, n_jobs=2)\n",
        "elapsed_time = time.time() - start_time\n",
        "print(f\"Elapsed time to compute the importances: {elapsed_time:.3f} seconds\")\n",
        "\n",
        "forest_importances = pd.Series(result.importances_mean, index=feature_names)"
      ],
      "metadata": {
        "colab": {
          "base_uri": "https://localhost:8080/"
        },
        "id": "pmblbM0RDB5M",
        "outputId": "936bb8fe-475b-45c8-9428-22861efe5616"
      },
      "execution_count": 153,
      "outputs": [
        {
          "output_type": "stream",
          "name": "stdout",
          "text": [
            "Elapsed time to compute the importances: 36.667 seconds\n"
          ]
        }
      ]
    },
    {
      "cell_type": "code",
      "source": [
        "fig, ax = plt.subplots()\n",
        "forest_importances.plot.bar(yerr=result.importances_std, ax=ax)\n",
        "ax.set_title(\"Feature importances using permutation on full model\")\n",
        "ax.set_ylabel(\"Mean accuracy decrease\")\n",
        "fig.tight_layout()\n",
        "fig.savefig(\"Figure 4.png\", dpi=300, format='png')\n",
        "plt.show()"
      ],
      "metadata": {
        "colab": {
          "base_uri": "https://localhost:8080/",
          "height": 297
        },
        "id": "5RwfRk5IDeMo",
        "outputId": "06727b69-15d1-4b97-8773-b9ca621f84a9"
      },
      "execution_count": 154,
      "outputs": [
        {
          "output_type": "display_data",
          "data": {
            "text/plain": [
              "<Figure size 432x288 with 1 Axes>"
            ],
            "image/png": "[encoded data removed]"
          },
          "metadata": {
            "needs_background": "light"
          }
        }
      ]
    }
  ]
}