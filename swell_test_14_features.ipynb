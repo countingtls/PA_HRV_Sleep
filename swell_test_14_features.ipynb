{
  "nbformat": 4,
  "nbformat_minor": 0,
  "metadata": {
    "colab": {
      "provenance": [],
      "history_visible": true,
      "mount_file_id": "1u5xZp8lc1XcGqna-JtlG1txB2uV_ktK_",
      "authorship_tag": "ABX9TyO/blSO0Hsrds8nuz2QlUPt",
      "include_colab_link": true
    },
    "kernelspec": {
      "name": "python3",
      "display_name": "Python 3"
    },
    "language_info": {
      "name": "python"
    },
    "accelerator": "TPU",
    "gpuClass": "standard"
  },
  "cells": [
    {
      "cell_type": "markdown",
      "metadata": {
        "id": "view-in-github",
        "colab_type": "text"
      },
      "source": [
        "<a href=\"https://colab.research.google.com/github/countingtls/PA_HRV_Sleep/blob/main/swell_test_14_features.ipynb\" target=\"_parent\"><img src=\"https://colab.research.google.com/assets/colab-badge.svg\" alt=\"Open In Colab\"/></a>"
      ]
    },
    {
      "cell_type": "code",
      "source": [
        "import pandas as pd\n",
        "import numpy as np\n",
        "import os\n",
        "import sklearn.pipeline\n",
        "import matplotlib.pyplot as plt\n",
        "\n",
        "from sklearn import metrics\n",
        "from sklearn.svm import SVC\n",
        "from sklearn.semi_supervised import LabelSpreading\n",
        "from sklearn.semi_supervised import SelfTrainingClassifier\n",
        "from sklearn.model_selection import train_test_split\n",
        "\n",
        "from xgboost import XGBClassifier\n",
        "\n",
        "from sklearn.neighbors import KNeighborsClassifier\n",
        "from sklearn.tree import DecisionTreeClassifier\n",
        "from sklearn.ensemble import AdaBoostClassifier\n",
        "from sklearn.metrics import roc_auc_score\n",
        "\n",
        "from sklearn.model_selection import train_test_split\n",
        "from sklearn.feature_selection import SelectKBest, f_classif, chi2\n",
        "from sklearn.ensemble import RandomForestClassifier\n",
        "from sklearn.svm import SVC\n",
        "from sklearn.preprocessing import StandardScaler\n",
        "from sklearn.metrics import confusion_matrix\n",
        "\n",
        "from sklearn.neural_network import MLPClassifier"
      ],
      "metadata": {
        "id": "c5cEnV_BgItk"
      },
      "execution_count": null,
      "outputs": []
    },
    {
      "cell_type": "code",
      "source": [
        "#import hrvanalysis as hrva"
      ],
      "metadata": {
        "id": "b4ymNJM6s5ii"
      },
      "execution_count": null,
      "outputs": []
    },
    {
      "cell_type": "code",
      "source": [
        "#with open(\"/content/hrv-analysis/tests/test_nn_intervals.txt\", \"r\") as text_file:\n",
        "#  lines = text_file.readlines()\n",
        "#nn_intervals = list(map(lambda x: int(x.strip()), lines))\n",
        "#print(nn_intervals)"
      ],
      "metadata": {
        "id": "KtHdXZgCtx18"
      },
      "execution_count": null,
      "outputs": []
    },
    {
      "cell_type": "code",
      "source": [
        "#rr_intervals_list = [100, 110, 100, 130, 100, 100, 70, 100, 120, 100]\n",
        "#rr_intervals_without_outliers = hrva.remove_outliers(rr_intervals=rr_intervals_list,  \n",
        "#                                                low_rri=300, high_rri=2000)\n",
        "#interpolated_rr_intervals = hrva.interpolate_nan_values(rr_intervals=rr_intervals_without_outliers, \n",
        "#                                                   interpolation_method=\"linear\")\n",
        "#nn_intervals_list = hrva.remove_ectopic_beats(rr_intervals=interpolated_rr_intervals, method=\"malik\")\n",
        "#interpolated_nn_intervals = hrva.interpolate_nan_values(rr_intervals=nn_intervals_list)\n",
        "#print(interpolated_nn_intervals)"
      ],
      "metadata": {
        "id": "0mEVaMLPs89u"
      },
      "execution_count": null,
      "outputs": []
    },
    {
      "cell_type": "code",
      "source": [
        "from google.colab import drive\n",
        "drive.mount('/content/drive', force_remount=True)"
      ],
      "metadata": {
        "colab": {
          "base_uri": "https://localhost:8080/"
        },
        "id": "tsj6kyi0klzL",
        "outputId": "e4e8bbe2-0a9e-4742-b664-7b391cfc03e4"
      },
      "execution_count": null,
      "outputs": [
        {
          "output_type": "stream",
          "name": "stdout",
          "text": [
            "Mounted at /content/drive\n"
          ]
        }
      ]
    },
    {
      "cell_type": "code",
      "source": [
        "!pip install pyhrv"
      ],
      "metadata": {
        "colab": {
          "base_uri": "https://localhost:8080/"
        },
        "id": "Wg4TUwkauc5q",
        "outputId": "6f403e91-4e74-48c7-f454-356ac401be63"
      },
      "execution_count": null,
      "outputs": [
        {
          "output_type": "stream",
          "name": "stdout",
          "text": [
            "Looking in indexes: https://pypi.org/simple, https://us-python.pkg.dev/colab-wheels/public/simple/\n",
            "Collecting pyhrv\n",
            "  Downloading pyhrv-0.4.1-py3-none-any.whl (3.2 MB)\n",
            "\u001b[K     |████████████████████████████████| 3.2 MB 5.2 MB/s \n",
            "\u001b[?25hRequirement already satisfied: matplotlib in /usr/local/lib/python3.7/dist-packages (from pyhrv) (3.2.2)\n",
            "Collecting biosppy\n",
            "  Downloading biosppy-1.0.0-py2.py3-none-any.whl (106 kB)\n",
            "\u001b[K     |████████████████████████████████| 106 kB 40.0 MB/s \n",
            "\u001b[?25hRequirement already satisfied: numpy in /usr/local/lib/python3.7/dist-packages (from pyhrv) (1.21.6)\n",
            "Requirement already satisfied: scipy in /usr/local/lib/python3.7/dist-packages (from pyhrv) (1.7.3)\n",
            "Collecting nolds\n",
            "  Downloading nolds-0.5.2-py2.py3-none-any.whl (39 kB)\n",
            "Collecting spectrum\n",
            "  Downloading spectrum-0.8.1.tar.gz (230 kB)\n",
            "\u001b[K     |████████████████████████████████| 230 kB 16.2 MB/s \n",
            "\u001b[?25hCollecting shortuuid\n",
            "  Downloading shortuuid-1.0.11-py3-none-any.whl (10 kB)\n",
            "Requirement already satisfied: six in /usr/local/lib/python3.7/dist-packages (from biosppy->pyhrv) (1.15.0)\n",
            "Requirement already satisfied: opencv-python in /usr/local/lib/python3.7/dist-packages (from biosppy->pyhrv) (4.6.0.66)\n",
            "Requirement already satisfied: joblib in /usr/local/lib/python3.7/dist-packages (from biosppy->pyhrv) (1.2.0)\n",
            "Requirement already satisfied: scikit-learn in /usr/local/lib/python3.7/dist-packages (from biosppy->pyhrv) (1.0.2)\n",
            "Collecting bidict\n",
            "  Downloading bidict-0.22.0-py3-none-any.whl (36 kB)\n",
            "Requirement already satisfied: h5py in /usr/local/lib/python3.7/dist-packages (from biosppy->pyhrv) (3.1.0)\n",
            "Requirement already satisfied: cached-property in /usr/local/lib/python3.7/dist-packages (from h5py->biosppy->pyhrv) (1.5.2)\n",
            "Requirement already satisfied: pyparsing!=2.0.4,!=2.1.2,!=2.1.6,>=2.0.1 in /usr/local/lib/python3.7/dist-packages (from matplotlib->pyhrv) (3.0.9)\n",
            "Requirement already satisfied: python-dateutil>=2.1 in /usr/local/lib/python3.7/dist-packages (from matplotlib->pyhrv) (2.8.2)\n",
            "Requirement already satisfied: kiwisolver>=1.0.1 in /usr/local/lib/python3.7/dist-packages (from matplotlib->pyhrv) (1.4.4)\n",
            "Requirement already satisfied: cycler>=0.10 in /usr/local/lib/python3.7/dist-packages (from matplotlib->pyhrv) (0.11.0)\n",
            "Requirement already satisfied: typing-extensions in /usr/local/lib/python3.7/dist-packages (from kiwisolver>=1.0.1->matplotlib->pyhrv) (4.1.1)\n",
            "Requirement already satisfied: setuptools in /usr/local/lib/python3.7/dist-packages (from nolds->pyhrv) (57.4.0)\n",
            "Requirement already satisfied: future in /usr/local/lib/python3.7/dist-packages (from nolds->pyhrv) (0.16.0)\n",
            "Requirement already satisfied: threadpoolctl>=2.0.0 in /usr/local/lib/python3.7/dist-packages (from scikit-learn->biosppy->pyhrv) (3.1.0)\n",
            "Collecting easydev\n",
            "  Downloading easydev-0.12.0.tar.gz (47 kB)\n",
            "\u001b[K     |████████████████████████████████| 47 kB 4.5 MB/s \n",
            "\u001b[?25hCollecting colorama\n",
            "  Downloading colorama-0.4.6-py2.py3-none-any.whl (25 kB)\n",
            "Requirement already satisfied: pexpect in /usr/local/lib/python3.7/dist-packages (from easydev->spectrum->pyhrv) (4.8.0)\n",
            "Collecting colorlog\n",
            "  Downloading colorlog-6.7.0-py2.py3-none-any.whl (11 kB)\n",
            "Requirement already satisfied: ptyprocess>=0.5 in /usr/local/lib/python3.7/dist-packages (from pexpect->easydev->spectrum->pyhrv) (0.7.0)\n",
            "Building wheels for collected packages: spectrum, easydev\n",
            "  Building wheel for spectrum (setup.py) ... \u001b[?25l\u001b[?25hdone\n",
            "  Created wheel for spectrum: filename=spectrum-0.8.1-cp37-cp37m-linux_x86_64.whl size=235158 sha256=3bebb77c6f2e7672e736cee89f5c0f63d7db760f0a85d02d8e0e4ddfdd57774d\n",
            "  Stored in directory: /root/.cache/pip/wheels/79/db/9c/92fa684ca088447807d08672e7609b48102c6161ac9c7e3c62\n",
            "  Building wheel for easydev (setup.py) ... \u001b[?25l\u001b[?25hdone\n",
            "  Created wheel for easydev: filename=easydev-0.12.0-py3-none-any.whl size=64232 sha256=61fad19818bbcefe8fbdf263fa14b489388f66033327f5626d90cd858d8d1f1d\n",
            "  Stored in directory: /root/.cache/pip/wheels/82/ab/83/fdfc4017ea44a585b6754752cc5f63f2d0d63fcc1317e7174b\n",
            "Successfully built spectrum easydev\n",
            "Installing collected packages: colorlog, colorama, shortuuid, easydev, bidict, spectrum, nolds, biosppy, pyhrv\n",
            "Successfully installed bidict-0.22.0 biosppy-1.0.0 colorama-0.4.6 colorlog-6.7.0 easydev-0.12.0 nolds-0.5.2 pyhrv-0.4.1 shortuuid-1.0.11 spectrum-0.8.1\n"
          ]
        }
      ]
    },
    {
      "cell_type": "code",
      "source": [
        "!pip install hrv_analysis"
      ],
      "metadata": {
        "colab": {
          "base_uri": "https://localhost:8080/"
        },
        "id": "pCHMgRsQvILq",
        "outputId": "43341d5b-b47f-464a-e10f-7d76cb915a56"
      },
      "execution_count": null,
      "outputs": [
        {
          "output_type": "stream",
          "name": "stdout",
          "text": [
            "Looking in indexes: https://pypi.org/simple, https://us-python.pkg.dev/colab-wheels/public/simple/\n",
            "Collecting hrv_analysis\n",
            "  Downloading hrv_analysis-1.0.4-py3-none-any.whl (28 kB)\n",
            "Requirement already satisfied: matplotlib>=2.2.2 in /usr/local/lib/python3.7/dist-packages (from hrv_analysis) (3.2.2)\n",
            "Requirement already satisfied: nolds>=0.4.1 in /usr/local/lib/python3.7/dist-packages (from hrv_analysis) (0.5.2)\n",
            "Requirement already satisfied: scipy>=1.1.0 in /usr/local/lib/python3.7/dist-packages (from hrv_analysis) (1.7.3)\n",
            "Requirement already satisfied: pandas>=0.23.4 in /usr/local/lib/python3.7/dist-packages (from hrv_analysis) (1.3.5)\n",
            "Requirement already satisfied: astropy>=3.0.4 in /usr/local/lib/python3.7/dist-packages (from hrv_analysis) (4.3.1)\n",
            "Requirement already satisfied: numpy>=1.15.1 in /usr/local/lib/python3.7/dist-packages (from hrv_analysis) (1.21.6)\n",
            "Requirement already satisfied: importlib-metadata in /usr/local/lib/python3.7/dist-packages (from astropy>=3.0.4->hrv_analysis) (4.13.0)\n",
            "Requirement already satisfied: pyerfa>=1.7.3 in /usr/local/lib/python3.7/dist-packages (from astropy>=3.0.4->hrv_analysis) (2.0.0.1)\n",
            "Requirement already satisfied: cycler>=0.10 in /usr/local/lib/python3.7/dist-packages (from matplotlib>=2.2.2->hrv_analysis) (0.11.0)\n",
            "Requirement already satisfied: pyparsing!=2.0.4,!=2.1.2,!=2.1.6,>=2.0.1 in /usr/local/lib/python3.7/dist-packages (from matplotlib>=2.2.2->hrv_analysis) (3.0.9)\n",
            "Requirement already satisfied: kiwisolver>=1.0.1 in /usr/local/lib/python3.7/dist-packages (from matplotlib>=2.2.2->hrv_analysis) (1.4.4)\n",
            "Requirement already satisfied: python-dateutil>=2.1 in /usr/local/lib/python3.7/dist-packages (from matplotlib>=2.2.2->hrv_analysis) (2.8.2)\n",
            "Requirement already satisfied: typing-extensions in /usr/local/lib/python3.7/dist-packages (from kiwisolver>=1.0.1->matplotlib>=2.2.2->hrv_analysis) (4.1.1)\n",
            "Requirement already satisfied: future in /usr/local/lib/python3.7/dist-packages (from nolds>=0.4.1->hrv_analysis) (0.16.0)\n",
            "Requirement already satisfied: setuptools in /usr/local/lib/python3.7/dist-packages (from nolds>=0.4.1->hrv_analysis) (57.4.0)\n",
            "Requirement already satisfied: pytz>=2017.3 in /usr/local/lib/python3.7/dist-packages (from pandas>=0.23.4->hrv_analysis) (2022.6)\n",
            "Requirement already satisfied: six>=1.5 in /usr/local/lib/python3.7/dist-packages (from python-dateutil>=2.1->matplotlib>=2.2.2->hrv_analysis) (1.15.0)\n",
            "Requirement already satisfied: zipp>=0.5 in /usr/local/lib/python3.7/dist-packages (from importlib-metadata->astropy>=3.0.4->hrv_analysis) (3.10.0)\n",
            "Installing collected packages: hrv-analysis\n",
            "Successfully installed hrv-analysis-1.0.4\n"
          ]
        }
      ]
    },
    {
      "cell_type": "code",
      "source": [
        "#Read in the dataset\n",
        "\n",
        "df_test = pd.read_csv(\"/content/drive/MyDrive/SWELL/hrv dataset/data/final/test.csv\")\n",
        "df_train = pd.read_csv(\"/content/drive/MyDrive/SWELL/hrv dataset/data/final/train.csv\")\n",
        "print(f\"df_train shape{df_train.shape}\")\n",
        "print(f\"df_test shape{df_test.shape}\")"
      ],
      "metadata": {
        "colab": {
          "base_uri": "https://localhost:8080/"
        },
        "id": "pmum_SqTgM3F",
        "outputId": "a70b72e8-069f-4419-a03b-a80656a237fe"
      },
      "execution_count": null,
      "outputs": [
        {
          "output_type": "stream",
          "name": "stdout",
          "text": [
            "df_train shape(369289, 36)\n",
            "df_test shape(41033, 36)\n"
          ]
        }
      ]
    },
    {
      "cell_type": "code",
      "source": [
        "df_PA_all = pd.read_csv(\"/content/drive/MyDrive/SWELL/hrv PA/PA_all_p.csv\")\n",
        "print(f\"df_PA_all shape{df_PA_all.shape}\")"
      ],
      "metadata": {
        "colab": {
          "base_uri": "https://localhost:8080/"
        },
        "id": "PhXaZpfvVBjK",
        "outputId": "e9daf5ef-2526-407c-cd18-1970307c1462"
      },
      "execution_count": null,
      "outputs": [
        {
          "output_type": "stream",
          "name": "stdout",
          "text": [
            "df_PA_all shape(37026, 18)\n"
          ]
        }
      ]
    },
    {
      "cell_type": "code",
      "source": [
        "#Read the sleep quality dataset\n",
        "\n",
        "df_sleep = pd.read_csv(\"/content/drive/MyDrive/SWELL/hrv sleep/total_daily_HRV.csv\")\n",
        "print(f\"df_sleep shape{df_sleep.shape}\")"
      ],
      "metadata": {
        "colab": {
          "base_uri": "https://localhost:8080/"
        },
        "outputId": "3be399b8-b533-496f-fe80-d8eff6e9a633",
        "id": "cJwAuT_Wcofv"
      },
      "execution_count": null,
      "outputs": [
        {
          "output_type": "stream",
          "name": "stdout",
          "text": [
            "df_sleep shape(55, 17)\n"
          ]
        }
      ]
    },
    {
      "cell_type": "code",
      "source": [
        "#Read the 02A7005A dataset\n",
        "\n",
        "HRV_02A7005A = pd.read_csv(\"/content/drive/MyDrive/SWELL/hrv sleep/3 persons/02A7005A_total.csv\")\n",
        "print(f\"HRV_02A7005A shape{HRV_02A7005A.shape}\")"
      ],
      "metadata": {
        "colab": {
          "base_uri": "https://localhost:8080/"
        },
        "outputId": "dae91cc7-7790-4904-f5ae-dd1af8eadd8d",
        "id": "f-4eDm_Nuv3X"
      },
      "execution_count": null,
      "outputs": [
        {
          "output_type": "stream",
          "name": "stdout",
          "text": [
            "HRV_02A7005A shape(6019, 17)\n"
          ]
        }
      ]
    },
    {
      "cell_type": "code",
      "source": [
        "#Read the 029E005A dataset\n",
        "\n",
        "HRV_029E005A = pd.read_csv(\"/content/drive/MyDrive/SWELL/hrv sleep/3 persons/029E005A_total.csv\")\n",
        "print(f\"HRV_029E005A shape{HRV_029E005A.shape}\")"
      ],
      "metadata": {
        "colab": {
          "base_uri": "https://localhost:8080/"
        },
        "id": "UrMgmDj4IHb6",
        "outputId": "8672f33f-90f0-46ff-e115-e737059d0246"
      },
      "execution_count": null,
      "outputs": [
        {
          "output_type": "stream",
          "name": "stdout",
          "text": [
            "HRV_029E005A shape(6277, 17)\n"
          ]
        }
      ]
    },
    {
      "cell_type": "code",
      "source": [
        "#Read the 0275005A dataset\n",
        "\n",
        "HRV_0275005A = pd.read_csv(\"/content/drive/MyDrive/SWELL/hrv sleep/3 persons/0275005A_total.csv\")\n",
        "print(f\"HRV_0275005A shape{HRV_0275005A.shape}\")"
      ],
      "metadata": {
        "colab": {
          "base_uri": "https://localhost:8080/"
        },
        "id": "DMlH8m8GQ-eZ",
        "outputId": "9364a567-6943-47e3-8522-84fa73ea67dc"
      },
      "execution_count": null,
      "outputs": [
        {
          "output_type": "stream",
          "name": "stdout",
          "text": [
            "HRV_0275005A shape(2344, 17)\n"
          ]
        }
      ]
    },
    {
      "cell_type": "code",
      "source": [
        "p1_raw = pd.read_csv(\"/content/drive/MyDrive/SWELL/hrv dataset/data/raw/rri/p1.txt\", sep=None, engine='python', \n",
        "header=None, quoting=0, skipinitialspace=True)\n",
        "print(f\"p1_raw{p1_raw.shape}\")"
      ],
      "metadata": {
        "colab": {
          "base_uri": "https://localhost:8080/"
        },
        "id": "rLgOdmNb2RsZ",
        "outputId": "e8bdd9d3-f60e-45ae-a855-0c254068d68e"
      },
      "execution_count": null,
      "outputs": [
        {
          "output_type": "stream",
          "name": "stdout",
          "text": [
            "p1_raw(35974, 2)\n"
          ]
        }
      ]
    },
    {
      "cell_type": "code",
      "source": [
        "display(p1_raw.info())"
      ],
      "metadata": {
        "colab": {
          "base_uri": "https://localhost:8080/",
          "height": 199
        },
        "id": "lZOom_S_4Sle",
        "outputId": "dd1b9908-e75b-472d-f858-cf63339dd321"
      },
      "execution_count": null,
      "outputs": [
        {
          "output_type": "stream",
          "name": "stdout",
          "text": [
            "<class 'pandas.core.frame.DataFrame'>\n",
            "RangeIndex: 35974 entries, 0 to 35973\n",
            "Data columns (total 2 columns):\n",
            " #   Column  Non-Null Count  Dtype  \n",
            "---  ------  --------------  -----  \n",
            " 0   0       35974 non-null  float64\n",
            " 1   1       35974 non-null  float64\n",
            "dtypes: float64(2)\n",
            "memory usage: 562.2 KB\n"
          ]
        },
        {
          "output_type": "display_data",
          "data": {
            "text/plain": [
              "None"
            ]
          },
          "metadata": {}
        }
      ]
    },
    {
      "cell_type": "code",
      "source": [
        "hrv_window_in_min = 5\n",
        "hrv_window_in_sec = hrv_window_in_min * 60\n",
        "sampling_rate_hz = 4\n",
        "hrv_window_samples = hrv_window_in_sec * sampling_rate_hz\n",
        "m = hrv_window_samples \n",
        "t1=p1_raw.iloc[0:m-1,1].values"
      ],
      "metadata": {
        "id": "dgaQNUqc4rs0"
      },
      "execution_count": null,
      "outputs": []
    },
    {
      "cell_type": "code",
      "source": [
        "from hrvanalysis import *\n",
        "rr_intervals_without_outliers = remove_outliers(rr_intervals=t1, low_rri=300, high_rri=2000)\n",
        "interpolated_rr_intervals = interpolate_nan_values(rr_intervals=rr_intervals_without_outliers,\n",
        "                                                   interpolation_method=\"linear\")\n",
        "nn_intervals_list = remove_ectopic_beats(rr_intervals=interpolated_rr_intervals, method=\"malik\")\n",
        "interpolated_nn_intervals = interpolate_nan_values(rr_intervals=nn_intervals_list)\n",
        "t1_nni = interpolated_nn_intervals"
      ],
      "metadata": {
        "colab": {
          "base_uri": "https://localhost:8080/"
        },
        "id": "dtuOFjEt5jyb",
        "outputId": "5baf3b10-def1-41f5-fa1e-02939227dfc0"
      },
      "execution_count": null,
      "outputs": [
        {
          "output_type": "stream",
          "name": "stdout",
          "text": [
            "0 outlier(s) have been deleted.\n",
            "0 ectopic beat(s) have been deleted with malik rule.\n"
          ]
        }
      ]
    },
    {
      "cell_type": "code",
      "source": [
        "t1_time_domain_features = get_time_domain_features(t1_nni)\n",
        "t1_frequency_domain_features = get_frequency_domain_features(t1_nni)\n",
        "t1_geometrical_features = get_geometrical_features(t1_nni)\n",
        "t1_poincare_plot_features = get_poincare_plot_features(t1_nni)\n",
        "t1_csi_cvi_featuress = get_csi_cvi_features(t1_nni)\n",
        "t1_sampen = get_sampen(t1_nni)\n",
        "print(t1_time_domain_features)\n",
        "print(t1_frequency_domain_features)\n",
        "print(t1_geometrical_features)\n",
        "print(t1_poincare_plot_features)\n",
        "print(t1_csi_cvi_featuress)\n",
        "print(t1_sampen)"
      ],
      "metadata": {
        "colab": {
          "base_uri": "https://localhost:8080/"
        },
        "id": "J5o4pdTf60F5",
        "outputId": "3d209f14-67d3-4372-950d-29c03908aaa3"
      },
      "execution_count": null,
      "outputs": [
        {
          "output_type": "stream",
          "name": "stdout",
          "text": [
            "{'mean_nni': 932.1795375479568, 'sdnn': 131.44268945640002, 'sdsd': 13.61806603470211, 'nni_50': 4, 'pnni_50': 0.333889816360601, 'nni_20': 155, 'pnni_20': 12.93823038397329, 'rmssd': 13.618171445401018, 'median_nni': 966.36998, 'range_nni': 657.66723, 'cvsd': 0.014608957713470962, 'cvnni': 0.14100576569418402, 'mean_hr': 65.99109917173085, 'max_hr': 113.2847796026676, 'min_hr': 50.53457579887373, 'std_hr': 11.767116979417475}\n",
            "{'lf': 1203.1308721280757, 'hf': 5.006709739241741, 'lf_hf_ratio': 240.30369939326425, 'lfnu': 99.58558447196855, 'hfnu': 0.4144155280314421, 'total_power': 3768.7890349625077, 'vlf': 2560.6514530951904}\n",
            "{'triangular_index': 23.50980392156863, 'tinn': None}\n",
            "{'sd1': 9.633448317027561, 'sd2': 185.63824470347265, 'ratio_sd2_sd1': 19.27017601530581}\n",
            "{'csi': 19.27017601530581, 'cvi': 4.456569207719794, 'Modified_csi': 14309.126602433318}\n",
            "{'sampen': 0.355685151443028}\n"
          ]
        }
      ]
    },
    {
      "cell_type": "code",
      "source": [],
      "metadata": {
        "id": "d5-L0ot15j5v"
      },
      "execution_count": null,
      "outputs": []
    },
    {
      "cell_type": "code",
      "source": [
        "df_train.head()"
      ],
      "metadata": {
        "colab": {
          "base_uri": "https://localhost:8080/",
          "height": 299
        },
        "id": "BNjyNE94g3Kf",
        "outputId": "e59ec27a-078a-4768-832a-211e5ed5c88d"
      },
      "execution_count": null,
      "outputs": [
        {
          "output_type": "execute_result",
          "data": {
            "text/plain": [
              "      MEAN_RR   MEDIAN_RR        SDRR      RMSSD       SDSD  SDRR_RMSSD  \\\n",
              "0  885.157845  853.763730  140.972741  15.554505  15.553371    9.063146   \n",
              "1  939.425371  948.357865   81.317742  12.964439  12.964195    6.272369   \n",
              "2  898.186047  907.006860   84.497236  16.305279  16.305274    5.182201   \n",
              "3  881.757865  893.460030   90.370537  15.720468  15.720068    5.748591   \n",
              "4  809.625331  811.184865   62.766242  19.213819  19.213657    3.266724   \n",
              "\n",
              "          HR      pNN25     pNN50        SD1  ...         HF    HF_PCT  \\\n",
              "0  69.499952  11.133333  0.533333  11.001565  ...  15.522603  0.421047   \n",
              "1  64.363150   5.600000  0.000000   9.170129  ...   2.108525  0.070133   \n",
              "2  67.450066  13.066667  0.200000  11.533417  ...  13.769729  0.512671   \n",
              "3  68.809562  11.800000  0.133333  11.119476  ...  18.181913  0.529387   \n",
              "4  74.565728  20.200000  0.200000  13.590641  ...  48.215822  1.839473   \n",
              "\n",
              "      HF_NU           TP       LF_HF     HF_LF    sampen    higuci  datasetId  \\\n",
              "0  1.514737  3686.666157   65.018055  0.015380  2.139754  1.163485          2   \n",
              "1  0.304603  3006.487251  327.296635  0.003055  2.174499  1.084711          2   \n",
              "2  1.049528  2685.879461   94.280910  0.010607  2.135350  1.176315          2   \n",
              "3  1.775294  3434.520980   55.328701  0.018074  2.178341  1.179688          2   \n",
              "4  3.279993  2621.175204   29.487873  0.033912  2.221121  1.249612          2   \n",
              "\n",
              "      condition  \n",
              "0     no stress  \n",
              "1  interruption  \n",
              "2  interruption  \n",
              "3     no stress  \n",
              "4     no stress  \n",
              "\n",
              "[5 rows x 36 columns]"
            ],
            "text/html": [
              "\n",
              "  <div id=\"df-3329cc92-2b0c-488d-934a-df9eb4f59dba\">\n",
              "    <div class=\"colab-df-container\">\n",
              "      <div>\n",
              "<style scoped>\n",
              "    .dataframe tbody tr th:only-of-type {\n",
              "        vertical-align: middle;\n",
              "    }\n",
              "\n",
              "    .dataframe tbody tr th {\n",
              "        vertical-align: top;\n",
              "    }\n",
              "\n",
              "    .dataframe thead th {\n",
              "        text-align: right;\n",
              "    }\n",
              "</style>\n",
              "<table border=\"1\" class=\"dataframe\">\n",
              "  <thead>\n",
              "    <tr style=\"text-align: right;\">\n",
              "      <th></th>\n",
              "      <th>MEAN_RR</th>\n",
              "      <th>MEDIAN_RR</th>\n",
              "      <th>SDRR</th>\n",
              "      <th>RMSSD</th>\n",
              "      <th>SDSD</th>\n",
              "      <th>SDRR_RMSSD</th>\n",
              "      <th>HR</th>\n",
              "      <th>pNN25</th>\n",
              "      <th>pNN50</th>\n",
              "      <th>SD1</th>\n",
              "      <th>...</th>\n",
              "      <th>HF</th>\n",
              "      <th>HF_PCT</th>\n",
              "      <th>HF_NU</th>\n",
              "      <th>TP</th>\n",
              "      <th>LF_HF</th>\n",
              "      <th>HF_LF</th>\n",
              "      <th>sampen</th>\n",
              "      <th>higuci</th>\n",
              "      <th>datasetId</th>\n",
              "      <th>condition</th>\n",
              "    </tr>\n",
              "  </thead>\n",
              "  <tbody>\n",
              "    <tr>\n",
              "      <th>0</th>\n",
              "      <td>885.157845</td>\n",
              "      <td>853.763730</td>\n",
              "      <td>140.972741</td>\n",
              "      <td>15.554505</td>\n",
              "      <td>15.553371</td>\n",
              "      <td>9.063146</td>\n",
              "      <td>69.499952</td>\n",
              "      <td>11.133333</td>\n",
              "      <td>0.533333</td>\n",
              "      <td>11.001565</td>\n",
              "      <td>...</td>\n",
              "      <td>15.522603</td>\n",
              "      <td>0.421047</td>\n",
              "      <td>1.514737</td>\n",
              "      <td>3686.666157</td>\n",
              "      <td>65.018055</td>\n",
              "      <td>0.015380</td>\n",
              "      <td>2.139754</td>\n",
              "      <td>1.163485</td>\n",
              "      <td>2</td>\n",
              "      <td>no stress</td>\n",
              "    </tr>\n",
              "    <tr>\n",
              "      <th>1</th>\n",
              "      <td>939.425371</td>\n",
              "      <td>948.357865</td>\n",
              "      <td>81.317742</td>\n",
              "      <td>12.964439</td>\n",
              "      <td>12.964195</td>\n",
              "      <td>6.272369</td>\n",
              "      <td>64.363150</td>\n",
              "      <td>5.600000</td>\n",
              "      <td>0.000000</td>\n",
              "      <td>9.170129</td>\n",
              "      <td>...</td>\n",
              "      <td>2.108525</td>\n",
              "      <td>0.070133</td>\n",
              "      <td>0.304603</td>\n",
              "      <td>3006.487251</td>\n",
              "      <td>327.296635</td>\n",
              "      <td>0.003055</td>\n",
              "      <td>2.174499</td>\n",
              "      <td>1.084711</td>\n",
              "      <td>2</td>\n",
              "      <td>interruption</td>\n",
              "    </tr>\n",
              "    <tr>\n",
              "      <th>2</th>\n",
              "      <td>898.186047</td>\n",
              "      <td>907.006860</td>\n",
              "      <td>84.497236</td>\n",
              "      <td>16.305279</td>\n",
              "      <td>16.305274</td>\n",
              "      <td>5.182201</td>\n",
              "      <td>67.450066</td>\n",
              "      <td>13.066667</td>\n",
              "      <td>0.200000</td>\n",
              "      <td>11.533417</td>\n",
              "      <td>...</td>\n",
              "      <td>13.769729</td>\n",
              "      <td>0.512671</td>\n",
              "      <td>1.049528</td>\n",
              "      <td>2685.879461</td>\n",
              "      <td>94.280910</td>\n",
              "      <td>0.010607</td>\n",
              "      <td>2.135350</td>\n",
              "      <td>1.176315</td>\n",
              "      <td>2</td>\n",
              "      <td>interruption</td>\n",
              "    </tr>\n",
              "    <tr>\n",
              "      <th>3</th>\n",
              "      <td>881.757865</td>\n",
              "      <td>893.460030</td>\n",
              "      <td>90.370537</td>\n",
              "      <td>15.720468</td>\n",
              "      <td>15.720068</td>\n",
              "      <td>5.748591</td>\n",
              "      <td>68.809562</td>\n",
              "      <td>11.800000</td>\n",
              "      <td>0.133333</td>\n",
              "      <td>11.119476</td>\n",
              "      <td>...</td>\n",
              "      <td>18.181913</td>\n",
              "      <td>0.529387</td>\n",
              "      <td>1.775294</td>\n",
              "      <td>3434.520980</td>\n",
              "      <td>55.328701</td>\n",
              "      <td>0.018074</td>\n",
              "      <td>2.178341</td>\n",
              "      <td>1.179688</td>\n",
              "      <td>2</td>\n",
              "      <td>no stress</td>\n",
              "    </tr>\n",
              "    <tr>\n",
              "      <th>4</th>\n",
              "      <td>809.625331</td>\n",
              "      <td>811.184865</td>\n",
              "      <td>62.766242</td>\n",
              "      <td>19.213819</td>\n",
              "      <td>19.213657</td>\n",
              "      <td>3.266724</td>\n",
              "      <td>74.565728</td>\n",
              "      <td>20.200000</td>\n",
              "      <td>0.200000</td>\n",
              "      <td>13.590641</td>\n",
              "      <td>...</td>\n",
              "      <td>48.215822</td>\n",
              "      <td>1.839473</td>\n",
              "      <td>3.279993</td>\n",
              "      <td>2621.175204</td>\n",
              "      <td>29.487873</td>\n",
              "      <td>0.033912</td>\n",
              "      <td>2.221121</td>\n",
              "      <td>1.249612</td>\n",
              "      <td>2</td>\n",
              "      <td>no stress</td>\n",
              "    </tr>\n",
              "  </tbody>\n",
              "</table>\n",
              "<p>5 rows × 36 columns</p>\n",
              "</div>\n",
              "      <button class=\"colab-df-convert\" onclick=\"convertToInteractive('df-3329cc92-2b0c-488d-934a-df9eb4f59dba')\"\n",
              "              title=\"Convert this dataframe to an interactive table.\"\n",
              "              style=\"display:none;\">\n",
              "        \n",
              "  <svg xmlns=\"http://www.w3.org/2000/svg\" height=\"24px\"viewBox=\"0 0 24 24\"\n",
              "       width=\"24px\">\n",
              "    <path d=\"M0 0h24v24H0V0z\" fill=\"none\"/>\n",
              "    <path d=\"M18.56 5.44l.94 2.06.94-2.06 2.06-.94-2.06-.94-.94-2.06-.94 2.06-2.06.94zm-11 1L8.5 8.5l.94-2.06 2.06-.94-2.06-.94L8.5 2.5l-.94 2.06-2.06.94zm10 10l.94 2.06.94-2.06 2.06-.94-2.06-.94-.94-2.06-.94 2.06-2.06.94z\"/><path d=\"M17.41 7.96l-1.37-1.37c-.4-.4-.92-.59-1.43-.59-.52 0-1.04.2-1.43.59L10.3 9.45l-7.72 7.72c-.78.78-.78 2.05 0 2.83L4 21.41c.39.39.9.59 1.41.59.51 0 1.02-.2 1.41-.59l7.78-7.78 2.81-2.81c.8-.78.8-2.07 0-2.86zM5.41 20L4 18.59l7.72-7.72 1.47 1.35L5.41 20z\"/>\n",
              "  </svg>\n",
              "      </button>\n",
              "      \n",
              "  <style>\n",
              "    .colab-df-container {\n",
              "      display:flex;\n",
              "      flex-wrap:wrap;\n",
              "      gap: 12px;\n",
              "    }\n",
              "\n",
              "    .colab-df-convert {\n",
              "      background-color: #E8F0FE;\n",
              "      border: none;\n",
              "      border-radius: 50%;\n",
              "      cursor: pointer;\n",
              "      display: none;\n",
              "      fill: #1967D2;\n",
              "      height: 32px;\n",
              "      padding: 0 0 0 0;\n",
              "      width: 32px;\n",
              "    }\n",
              "\n",
              "    .colab-df-convert:hover {\n",
              "      background-color: #E2EBFA;\n",
              "      box-shadow: 0px 1px 2px rgba(60, 64, 67, 0.3), 0px 1px 3px 1px rgba(60, 64, 67, 0.15);\n",
              "      fill: #174EA6;\n",
              "    }\n",
              "\n",
              "    [theme=dark] .colab-df-convert {\n",
              "      background-color: #3B4455;\n",
              "      fill: #D2E3FC;\n",
              "    }\n",
              "\n",
              "    [theme=dark] .colab-df-convert:hover {\n",
              "      background-color: #434B5C;\n",
              "      box-shadow: 0px 1px 3px 1px rgba(0, 0, 0, 0.15);\n",
              "      filter: drop-shadow(0px 1px 2px rgba(0, 0, 0, 0.3));\n",
              "      fill: #FFFFFF;\n",
              "    }\n",
              "  </style>\n",
              "\n",
              "      <script>\n",
              "        const buttonEl =\n",
              "          document.querySelector('#df-3329cc92-2b0c-488d-934a-df9eb4f59dba button.colab-df-convert');\n",
              "        buttonEl.style.display =\n",
              "          google.colab.kernel.accessAllowed ? 'block' : 'none';\n",
              "\n",
              "        async function convertToInteractive(key) {\n",
              "          const element = document.querySelector('#df-3329cc92-2b0c-488d-934a-df9eb4f59dba');\n",
              "          const dataTable =\n",
              "            await google.colab.kernel.invokeFunction('convertToInteractive',\n",
              "                                                     [key], {});\n",
              "          if (!dataTable) return;\n",
              "\n",
              "          const docLinkHtml = 'Like what you see? Visit the ' +\n",
              "            '<a target=\"_blank\" href=https://colab.research.google.com/notebooks/data_table.ipynb>data table notebook</a>'\n",
              "            + ' to learn more about interactive tables.';\n",
              "          element.innerHTML = '';\n",
              "          dataTable['output_type'] = 'display_data';\n",
              "          await google.colab.output.renderOutput(dataTable, element);\n",
              "          const docLink = document.createElement('div');\n",
              "          docLink.innerHTML = docLinkHtml;\n",
              "          element.appendChild(docLink);\n",
              "        }\n",
              "      </script>\n",
              "    </div>\n",
              "  </div>\n",
              "  "
            ]
          },
          "metadata": {},
          "execution_count": 19
        }
      ]
    },
    {
      "cell_type": "code",
      "source": [
        "df_PA_all.head()"
      ],
      "metadata": {
        "colab": {
          "base_uri": "https://localhost:8080/",
          "height": 357
        },
        "id": "BqwF-qy-VUCU",
        "outputId": "2bc4f1ca-4775-42d0-d8e3-d321f83b4183"
      },
      "execution_count": null,
      "outputs": [
        {
          "output_type": "execute_result",
          "data": {
            "text/plain": [
              "   MEAN_RR  SDRR          HR     VLF    VLF_PCT      LF     LF_PCT      LF_NU  \\\n",
              "0    580.0  25.0  103.448276     0.0   0.000000   173.0  80.092593  90.104167   \n",
              "1    611.0  43.0   98.199673  1286.0  56.852343   913.0  40.362511  95.802728   \n",
              "2    633.0  54.0   94.786730   674.0  29.665493  1410.0  62.059859  90.967742   \n",
              "3    649.0  49.0   92.449923  1142.0  70.147420   379.0  23.280098  88.139535   \n",
              "4    635.0  54.0   94.488189  1337.0  61.955514   605.0  28.035218  81.208054   \n",
              "\n",
              "      HF    HF_PCT      HF_NU      TP      LF_HF     HF_LF         PA  ID  \\\n",
              "0   19.0  8.796296   9.895833   216.0   9.105263  0.109827   on patch   1   \n",
              "1   40.0  1.768347   4.197272  2262.0  22.825000  0.043812  breakfast   1   \n",
              "2  140.0  6.161972   9.032258  2272.0  10.071429  0.099291  breakfast   1   \n",
              "3   51.0  3.132678  11.860465  1628.0   7.431373  0.134565  breakfast   1   \n",
              "4  140.0  6.487488  18.791946  2158.0   4.321429  0.231405  breakfast   1   \n",
              "\n",
              "   categories          device_time  \n",
              "0          -1  2016-01-07 08:27:41  \n",
              "1          -1  2016-01-07 08:28:00  \n",
              "2          -1  2016-01-07 08:28:38  \n",
              "3          -1  2016-01-07 08:29:53  \n",
              "4          -1  2016-01-07 08:32:23  "
            ],
            "text/html": [
              "\n",
              "  <div id=\"df-50459d3b-7e95-4029-a372-114d898e61f4\">\n",
              "    <div class=\"colab-df-container\">\n",
              "      <div>\n",
              "<style scoped>\n",
              "    .dataframe tbody tr th:only-of-type {\n",
              "        vertical-align: middle;\n",
              "    }\n",
              "\n",
              "    .dataframe tbody tr th {\n",
              "        vertical-align: top;\n",
              "    }\n",
              "\n",
              "    .dataframe thead th {\n",
              "        text-align: right;\n",
              "    }\n",
              "</style>\n",
              "<table border=\"1\" class=\"dataframe\">\n",
              "  <thead>\n",
              "    <tr style=\"text-align: right;\">\n",
              "      <th></th>\n",
              "      <th>MEAN_RR</th>\n",
              "      <th>SDRR</th>\n",
              "      <th>HR</th>\n",
              "      <th>VLF</th>\n",
              "      <th>VLF_PCT</th>\n",
              "      <th>LF</th>\n",
              "      <th>LF_PCT</th>\n",
              "      <th>LF_NU</th>\n",
              "      <th>HF</th>\n",
              "      <th>HF_PCT</th>\n",
              "      <th>HF_NU</th>\n",
              "      <th>TP</th>\n",
              "      <th>LF_HF</th>\n",
              "      <th>HF_LF</th>\n",
              "      <th>PA</th>\n",
              "      <th>ID</th>\n",
              "      <th>categories</th>\n",
              "      <th>device_time</th>\n",
              "    </tr>\n",
              "  </thead>\n",
              "  <tbody>\n",
              "    <tr>\n",
              "      <th>0</th>\n",
              "      <td>580.0</td>\n",
              "      <td>25.0</td>\n",
              "      <td>103.448276</td>\n",
              "      <td>0.0</td>\n",
              "      <td>0.000000</td>\n",
              "      <td>173.0</td>\n",
              "      <td>80.092593</td>\n",
              "      <td>90.104167</td>\n",
              "      <td>19.0</td>\n",
              "      <td>8.796296</td>\n",
              "      <td>9.895833</td>\n",
              "      <td>216.0</td>\n",
              "      <td>9.105263</td>\n",
              "      <td>0.109827</td>\n",
              "      <td>on patch</td>\n",
              "      <td>1</td>\n",
              "      <td>-1</td>\n",
              "      <td>2016-01-07 08:27:41</td>\n",
              "    </tr>\n",
              "    <tr>\n",
              "      <th>1</th>\n",
              "      <td>611.0</td>\n",
              "      <td>43.0</td>\n",
              "      <td>98.199673</td>\n",
              "      <td>1286.0</td>\n",
              "      <td>56.852343</td>\n",
              "      <td>913.0</td>\n",
              "      <td>40.362511</td>\n",
              "      <td>95.802728</td>\n",
              "      <td>40.0</td>\n",
              "      <td>1.768347</td>\n",
              "      <td>4.197272</td>\n",
              "      <td>2262.0</td>\n",
              "      <td>22.825000</td>\n",
              "      <td>0.043812</td>\n",
              "      <td>breakfast</td>\n",
              "      <td>1</td>\n",
              "      <td>-1</td>\n",
              "      <td>2016-01-07 08:28:00</td>\n",
              "    </tr>\n",
              "    <tr>\n",
              "      <th>2</th>\n",
              "      <td>633.0</td>\n",
              "      <td>54.0</td>\n",
              "      <td>94.786730</td>\n",
              "      <td>674.0</td>\n",
              "      <td>29.665493</td>\n",
              "      <td>1410.0</td>\n",
              "      <td>62.059859</td>\n",
              "      <td>90.967742</td>\n",
              "      <td>140.0</td>\n",
              "      <td>6.161972</td>\n",
              "      <td>9.032258</td>\n",
              "      <td>2272.0</td>\n",
              "      <td>10.071429</td>\n",
              "      <td>0.099291</td>\n",
              "      <td>breakfast</td>\n",
              "      <td>1</td>\n",
              "      <td>-1</td>\n",
              "      <td>2016-01-07 08:28:38</td>\n",
              "    </tr>\n",
              "    <tr>\n",
              "      <th>3</th>\n",
              "      <td>649.0</td>\n",
              "      <td>49.0</td>\n",
              "      <td>92.449923</td>\n",
              "      <td>1142.0</td>\n",
              "      <td>70.147420</td>\n",
              "      <td>379.0</td>\n",
              "      <td>23.280098</td>\n",
              "      <td>88.139535</td>\n",
              "      <td>51.0</td>\n",
              "      <td>3.132678</td>\n",
              "      <td>11.860465</td>\n",
              "      <td>1628.0</td>\n",
              "      <td>7.431373</td>\n",
              "      <td>0.134565</td>\n",
              "      <td>breakfast</td>\n",
              "      <td>1</td>\n",
              "      <td>-1</td>\n",
              "      <td>2016-01-07 08:29:53</td>\n",
              "    </tr>\n",
              "    <tr>\n",
              "      <th>4</th>\n",
              "      <td>635.0</td>\n",
              "      <td>54.0</td>\n",
              "      <td>94.488189</td>\n",
              "      <td>1337.0</td>\n",
              "      <td>61.955514</td>\n",
              "      <td>605.0</td>\n",
              "      <td>28.035218</td>\n",
              "      <td>81.208054</td>\n",
              "      <td>140.0</td>\n",
              "      <td>6.487488</td>\n",
              "      <td>18.791946</td>\n",
              "      <td>2158.0</td>\n",
              "      <td>4.321429</td>\n",
              "      <td>0.231405</td>\n",
              "      <td>breakfast</td>\n",
              "      <td>1</td>\n",
              "      <td>-1</td>\n",
              "      <td>2016-01-07 08:32:23</td>\n",
              "    </tr>\n",
              "  </tbody>\n",
              "</table>\n",
              "</div>\n",
              "      <button class=\"colab-df-convert\" onclick=\"convertToInteractive('df-50459d3b-7e95-4029-a372-114d898e61f4')\"\n",
              "              title=\"Convert this dataframe to an interactive table.\"\n",
              "              style=\"display:none;\">\n",
              "        \n",
              "  <svg xmlns=\"http://www.w3.org/2000/svg\" height=\"24px\"viewBox=\"0 0 24 24\"\n",
              "       width=\"24px\">\n",
              "    <path d=\"M0 0h24v24H0V0z\" fill=\"none\"/>\n",
              "    <path d=\"M18.56 5.44l.94 2.06.94-2.06 2.06-.94-2.06-.94-.94-2.06-.94 2.06-2.06.94zm-11 1L8.5 8.5l.94-2.06 2.06-.94-2.06-.94L8.5 2.5l-.94 2.06-2.06.94zm10 10l.94 2.06.94-2.06 2.06-.94-2.06-.94-.94-2.06-.94 2.06-2.06.94z\"/><path d=\"M17.41 7.96l-1.37-1.37c-.4-.4-.92-.59-1.43-.59-.52 0-1.04.2-1.43.59L10.3 9.45l-7.72 7.72c-.78.78-.78 2.05 0 2.83L4 21.41c.39.39.9.59 1.41.59.51 0 1.02-.2 1.41-.59l7.78-7.78 2.81-2.81c.8-.78.8-2.07 0-2.86zM5.41 20L4 18.59l7.72-7.72 1.47 1.35L5.41 20z\"/>\n",
              "  </svg>\n",
              "      </button>\n",
              "      \n",
              "  <style>\n",
              "    .colab-df-container {\n",
              "      display:flex;\n",
              "      flex-wrap:wrap;\n",
              "      gap: 12px;\n",
              "    }\n",
              "\n",
              "    .colab-df-convert {\n",
              "      background-color: #E8F0FE;\n",
              "      border: none;\n",
              "      border-radius: 50%;\n",
              "      cursor: pointer;\n",
              "      display: none;\n",
              "      fill: #1967D2;\n",
              "      height: 32px;\n",
              "      padding: 0 0 0 0;\n",
              "      width: 32px;\n",
              "    }\n",
              "\n",
              "    .colab-df-convert:hover {\n",
              "      background-color: #E2EBFA;\n",
              "      box-shadow: 0px 1px 2px rgba(60, 64, 67, 0.3), 0px 1px 3px 1px rgba(60, 64, 67, 0.15);\n",
              "      fill: #174EA6;\n",
              "    }\n",
              "\n",
              "    [theme=dark] .colab-df-convert {\n",
              "      background-color: #3B4455;\n",
              "      fill: #D2E3FC;\n",
              "    }\n",
              "\n",
              "    [theme=dark] .colab-df-convert:hover {\n",
              "      background-color: #434B5C;\n",
              "      box-shadow: 0px 1px 3px 1px rgba(0, 0, 0, 0.15);\n",
              "      filter: drop-shadow(0px 1px 2px rgba(0, 0, 0, 0.3));\n",
              "      fill: #FFFFFF;\n",
              "    }\n",
              "  </style>\n",
              "\n",
              "      <script>\n",
              "        const buttonEl =\n",
              "          document.querySelector('#df-50459d3b-7e95-4029-a372-114d898e61f4 button.colab-df-convert');\n",
              "        buttonEl.style.display =\n",
              "          google.colab.kernel.accessAllowed ? 'block' : 'none';\n",
              "\n",
              "        async function convertToInteractive(key) {\n",
              "          const element = document.querySelector('#df-50459d3b-7e95-4029-a372-114d898e61f4');\n",
              "          const dataTable =\n",
              "            await google.colab.kernel.invokeFunction('convertToInteractive',\n",
              "                                                     [key], {});\n",
              "          if (!dataTable) return;\n",
              "\n",
              "          const docLinkHtml = 'Like what you see? Visit the ' +\n",
              "            '<a target=\"_blank\" href=https://colab.research.google.com/notebooks/data_table.ipynb>data table notebook</a>'\n",
              "            + ' to learn more about interactive tables.';\n",
              "          element.innerHTML = '';\n",
              "          dataTable['output_type'] = 'display_data';\n",
              "          await google.colab.output.renderOutput(dataTable, element);\n",
              "          const docLink = document.createElement('div');\n",
              "          docLink.innerHTML = docLinkHtml;\n",
              "          element.appendChild(docLink);\n",
              "        }\n",
              "      </script>\n",
              "    </div>\n",
              "  </div>\n",
              "  "
            ]
          },
          "metadata": {},
          "execution_count": 20
        }
      ]
    },
    {
      "cell_type": "code",
      "source": [
        "df_sleep.head()"
      ],
      "metadata": {
        "colab": {
          "base_uri": "https://localhost:8080/",
          "height": 287
        },
        "id": "aq_gf3sOdi5m",
        "outputId": "dff46ed8-c7b8-41a0-ffe2-88ba1f3fe89c"
      },
      "execution_count": null,
      "outputs": [
        {
          "output_type": "execute_result",
          "data": {
            "text/plain": [
              "      MEAN_RR       SDNN         HR          VLF    VLF_PCT           LF  \\\n",
              "0  785.775623  87.717452  76.357675  2813.592798  39.701256  1902.991690   \n",
              "1  755.632458  69.821002  79.403683  2682.825776  50.419352  1121.892601   \n",
              "2  777.838565  70.807175  77.136829  2137.062780  41.707277  1095.028401   \n",
              "3  789.225064  68.534527  76.023941  2710.565217  53.790746  1045.636829   \n",
              "4  785.866290  66.472693  76.348866  2131.900188  47.167486   948.190207   \n",
              "\n",
              "      LF_PCT      LF_NU           HF     HF_PCT      HF_NU           TP  \\\n",
              "0  26.852201  60.335341  1251.033241  17.652729  39.664659  7086.911357   \n",
              "1  21.084149  65.194471   598.947494  11.256245  34.805529  5321.023866   \n",
              "2  21.370758  56.058273   858.346786  16.751640  43.941727  5123.956652   \n",
              "3  20.750501  59.763515   703.987212  13.970517  40.236485  5039.092072   \n",
              "4  20.978350  59.370062   648.894539  14.356546  40.629938  4519.851224   \n",
              "\n",
              "      LF_HF     HF_LF  Sleep Quality   PatchID        date  \n",
              "0  1.521136  0.657403              4  01F5005A   2016/11/8  \n",
              "1  1.873107  0.533872              4  01F5005A   2016/11/9  \n",
              "2  1.275741  0.783858              4  01F5005A  2016/11/10  \n",
              "3  1.485307  0.673262              4  01F5005A  2016/11/11  \n",
              "4  1.461239  0.684351              4  01F5005A  2016/11/12  "
            ],
            "text/html": [
              "\n",
              "  <div id=\"df-c867050e-2e88-4877-a071-e78917a3ec5e\">\n",
              "    <div class=\"colab-df-container\">\n",
              "      <div>\n",
              "<style scoped>\n",
              "    .dataframe tbody tr th:only-of-type {\n",
              "        vertical-align: middle;\n",
              "    }\n",
              "\n",
              "    .dataframe tbody tr th {\n",
              "        vertical-align: top;\n",
              "    }\n",
              "\n",
              "    .dataframe thead th {\n",
              "        text-align: right;\n",
              "    }\n",
              "</style>\n",
              "<table border=\"1\" class=\"dataframe\">\n",
              "  <thead>\n",
              "    <tr style=\"text-align: right;\">\n",
              "      <th></th>\n",
              "      <th>MEAN_RR</th>\n",
              "      <th>SDNN</th>\n",
              "      <th>HR</th>\n",
              "      <th>VLF</th>\n",
              "      <th>VLF_PCT</th>\n",
              "      <th>LF</th>\n",
              "      <th>LF_PCT</th>\n",
              "      <th>LF_NU</th>\n",
              "      <th>HF</th>\n",
              "      <th>HF_PCT</th>\n",
              "      <th>HF_NU</th>\n",
              "      <th>TP</th>\n",
              "      <th>LF_HF</th>\n",
              "      <th>HF_LF</th>\n",
              "      <th>Sleep Quality</th>\n",
              "      <th>PatchID</th>\n",
              "      <th>date</th>\n",
              "    </tr>\n",
              "  </thead>\n",
              "  <tbody>\n",
              "    <tr>\n",
              "      <th>0</th>\n",
              "      <td>785.775623</td>\n",
              "      <td>87.717452</td>\n",
              "      <td>76.357675</td>\n",
              "      <td>2813.592798</td>\n",
              "      <td>39.701256</td>\n",
              "      <td>1902.991690</td>\n",
              "      <td>26.852201</td>\n",
              "      <td>60.335341</td>\n",
              "      <td>1251.033241</td>\n",
              "      <td>17.652729</td>\n",
              "      <td>39.664659</td>\n",
              "      <td>7086.911357</td>\n",
              "      <td>1.521136</td>\n",
              "      <td>0.657403</td>\n",
              "      <td>4</td>\n",
              "      <td>01F5005A</td>\n",
              "      <td>2016/11/8</td>\n",
              "    </tr>\n",
              "    <tr>\n",
              "      <th>1</th>\n",
              "      <td>755.632458</td>\n",
              "      <td>69.821002</td>\n",
              "      <td>79.403683</td>\n",
              "      <td>2682.825776</td>\n",
              "      <td>50.419352</td>\n",
              "      <td>1121.892601</td>\n",
              "      <td>21.084149</td>\n",
              "      <td>65.194471</td>\n",
              "      <td>598.947494</td>\n",
              "      <td>11.256245</td>\n",
              "      <td>34.805529</td>\n",
              "      <td>5321.023866</td>\n",
              "      <td>1.873107</td>\n",
              "      <td>0.533872</td>\n",
              "      <td>4</td>\n",
              "      <td>01F5005A</td>\n",
              "      <td>2016/11/9</td>\n",
              "    </tr>\n",
              "    <tr>\n",
              "      <th>2</th>\n",
              "      <td>777.838565</td>\n",
              "      <td>70.807175</td>\n",
              "      <td>77.136829</td>\n",
              "      <td>2137.062780</td>\n",
              "      <td>41.707277</td>\n",
              "      <td>1095.028401</td>\n",
              "      <td>21.370758</td>\n",
              "      <td>56.058273</td>\n",
              "      <td>858.346786</td>\n",
              "      <td>16.751640</td>\n",
              "      <td>43.941727</td>\n",
              "      <td>5123.956652</td>\n",
              "      <td>1.275741</td>\n",
              "      <td>0.783858</td>\n",
              "      <td>4</td>\n",
              "      <td>01F5005A</td>\n",
              "      <td>2016/11/10</td>\n",
              "    </tr>\n",
              "    <tr>\n",
              "      <th>3</th>\n",
              "      <td>789.225064</td>\n",
              "      <td>68.534527</td>\n",
              "      <td>76.023941</td>\n",
              "      <td>2710.565217</td>\n",
              "      <td>53.790746</td>\n",
              "      <td>1045.636829</td>\n",
              "      <td>20.750501</td>\n",
              "      <td>59.763515</td>\n",
              "      <td>703.987212</td>\n",
              "      <td>13.970517</td>\n",
              "      <td>40.236485</td>\n",
              "      <td>5039.092072</td>\n",
              "      <td>1.485307</td>\n",
              "      <td>0.673262</td>\n",
              "      <td>4</td>\n",
              "      <td>01F5005A</td>\n",
              "      <td>2016/11/11</td>\n",
              "    </tr>\n",
              "    <tr>\n",
              "      <th>4</th>\n",
              "      <td>785.866290</td>\n",
              "      <td>66.472693</td>\n",
              "      <td>76.348866</td>\n",
              "      <td>2131.900188</td>\n",
              "      <td>47.167486</td>\n",
              "      <td>948.190207</td>\n",
              "      <td>20.978350</td>\n",
              "      <td>59.370062</td>\n",
              "      <td>648.894539</td>\n",
              "      <td>14.356546</td>\n",
              "      <td>40.629938</td>\n",
              "      <td>4519.851224</td>\n",
              "      <td>1.461239</td>\n",
              "      <td>0.684351</td>\n",
              "      <td>4</td>\n",
              "      <td>01F5005A</td>\n",
              "      <td>2016/11/12</td>\n",
              "    </tr>\n",
              "  </tbody>\n",
              "</table>\n",
              "</div>\n",
              "      <button class=\"colab-df-convert\" onclick=\"convertToInteractive('df-c867050e-2e88-4877-a071-e78917a3ec5e')\"\n",
              "              title=\"Convert this dataframe to an interactive table.\"\n",
              "              style=\"display:none;\">\n",
              "        \n",
              "  <svg xmlns=\"http://www.w3.org/2000/svg\" height=\"24px\"viewBox=\"0 0 24 24\"\n",
              "       width=\"24px\">\n",
              "    <path d=\"M0 0h24v24H0V0z\" fill=\"none\"/>\n",
              "    <path d=\"M18.56 5.44l.94 2.06.94-2.06 2.06-.94-2.06-.94-.94-2.06-.94 2.06-2.06.94zm-11 1L8.5 8.5l.94-2.06 2.06-.94-2.06-.94L8.5 2.5l-.94 2.06-2.06.94zm10 10l.94 2.06.94-2.06 2.06-.94-2.06-.94-.94-2.06-.94 2.06-2.06.94z\"/><path d=\"M17.41 7.96l-1.37-1.37c-.4-.4-.92-.59-1.43-.59-.52 0-1.04.2-1.43.59L10.3 9.45l-7.72 7.72c-.78.78-.78 2.05 0 2.83L4 21.41c.39.39.9.59 1.41.59.51 0 1.02-.2 1.41-.59l7.78-7.78 2.81-2.81c.8-.78.8-2.07 0-2.86zM5.41 20L4 18.59l7.72-7.72 1.47 1.35L5.41 20z\"/>\n",
              "  </svg>\n",
              "      </button>\n",
              "      \n",
              "  <style>\n",
              "    .colab-df-container {\n",
              "      display:flex;\n",
              "      flex-wrap:wrap;\n",
              "      gap: 12px;\n",
              "    }\n",
              "\n",
              "    .colab-df-convert {\n",
              "      background-color: #E8F0FE;\n",
              "      border: none;\n",
              "      border-radius: 50%;\n",
              "      cursor: pointer;\n",
              "      display: none;\n",
              "      fill: #1967D2;\n",
              "      height: 32px;\n",
              "      padding: 0 0 0 0;\n",
              "      width: 32px;\n",
              "    }\n",
              "\n",
              "    .colab-df-convert:hover {\n",
              "      background-color: #E2EBFA;\n",
              "      box-shadow: 0px 1px 2px rgba(60, 64, 67, 0.3), 0px 1px 3px 1px rgba(60, 64, 67, 0.15);\n",
              "      fill: #174EA6;\n",
              "    }\n",
              "\n",
              "    [theme=dark] .colab-df-convert {\n",
              "      background-color: #3B4455;\n",
              "      fill: #D2E3FC;\n",
              "    }\n",
              "\n",
              "    [theme=dark] .colab-df-convert:hover {\n",
              "      background-color: #434B5C;\n",
              "      box-shadow: 0px 1px 3px 1px rgba(0, 0, 0, 0.15);\n",
              "      filter: drop-shadow(0px 1px 2px rgba(0, 0, 0, 0.3));\n",
              "      fill: #FFFFFF;\n",
              "    }\n",
              "  </style>\n",
              "\n",
              "      <script>\n",
              "        const buttonEl =\n",
              "          document.querySelector('#df-c867050e-2e88-4877-a071-e78917a3ec5e button.colab-df-convert');\n",
              "        buttonEl.style.display =\n",
              "          google.colab.kernel.accessAllowed ? 'block' : 'none';\n",
              "\n",
              "        async function convertToInteractive(key) {\n",
              "          const element = document.querySelector('#df-c867050e-2e88-4877-a071-e78917a3ec5e');\n",
              "          const dataTable =\n",
              "            await google.colab.kernel.invokeFunction('convertToInteractive',\n",
              "                                                     [key], {});\n",
              "          if (!dataTable) return;\n",
              "\n",
              "          const docLinkHtml = 'Like what you see? Visit the ' +\n",
              "            '<a target=\"_blank\" href=https://colab.research.google.com/notebooks/data_table.ipynb>data table notebook</a>'\n",
              "            + ' to learn more about interactive tables.';\n",
              "          element.innerHTML = '';\n",
              "          dataTable['output_type'] = 'display_data';\n",
              "          await google.colab.output.renderOutput(dataTable, element);\n",
              "          const docLink = document.createElement('div');\n",
              "          docLink.innerHTML = docLinkHtml;\n",
              "          element.appendChild(docLink);\n",
              "        }\n",
              "      </script>\n",
              "    </div>\n",
              "  </div>\n",
              "  "
            ]
          },
          "metadata": {},
          "execution_count": 21
        }
      ]
    },
    {
      "cell_type": "code",
      "source": [
        "HRV_02A7005A.head()"
      ],
      "metadata": {
        "colab": {
          "base_uri": "https://localhost:8080/",
          "height": 374
        },
        "id": "Qp14BNKFwUwr",
        "outputId": "e58d91a8-dd4e-4a1c-b3ad-452d03cf6df7"
      },
      "execution_count": null,
      "outputs": [
        {
          "output_type": "execute_result",
          "data": {
            "text/plain": [
              "   MEAN_RR   SDNN          HR     VLF    VLF_PCT      LF     LF_PCT     LF_NU  \\\n",
              "0    484.0  166.0  123.966942  9288.0  27.330508  7306.0  21.498352  0.401340   \n",
              "1    452.0   55.0  132.743363  1709.0  56.626905   271.0   8.979457  0.352406   \n",
              "2    470.0   56.0  127.659574  1585.0  47.018689   422.0  12.518540  0.518428   \n",
              "3    507.0   51.0  118.343195   526.0  37.544611   396.0  28.265525  0.639742   \n",
              "4    504.0   43.0  119.047619   797.0  31.205951   964.0  37.744714  0.691039   \n",
              "\n",
              "        HF     HF_PCT     HF_NU       TP     LF_HF     HF_LF  Sleep Quality  \\\n",
              "0  10898.0  32.068032  0.598660  33984.0  0.670398  1.491651            NaN   \n",
              "1    498.0  16.500994  0.647594   3018.0  0.544177  1.837638            NaN   \n",
              "2    392.0  11.628597  0.481572   3371.0  1.076531  0.928910            NaN   \n",
              "3    223.0  15.917202  0.360258   1401.0  1.775785  0.563131            NaN   \n",
              "4    431.0  16.875489  0.308961   2554.0  2.236659  0.447095            NaN   \n",
              "\n",
              "         Date       Device_date  \n",
              "0  2016/10/27  2016/10/27 18:11  \n",
              "1  2016/10/27  2016/10/27 18:14  \n",
              "2  2016/10/27  2016/10/27 18:16  \n",
              "3  2016/10/27  2016/10/27 18:19  \n",
              "4  2016/10/27  2016/10/27 18:21  "
            ],
            "text/html": [
              "\n",
              "  <div id=\"df-0438ccbe-0218-48e7-af96-37ff0bb260dd\">\n",
              "    <div class=\"colab-df-container\">\n",
              "      <div>\n",
              "<style scoped>\n",
              "    .dataframe tbody tr th:only-of-type {\n",
              "        vertical-align: middle;\n",
              "    }\n",
              "\n",
              "    .dataframe tbody tr th {\n",
              "        vertical-align: top;\n",
              "    }\n",
              "\n",
              "    .dataframe thead th {\n",
              "        text-align: right;\n",
              "    }\n",
              "</style>\n",
              "<table border=\"1\" class=\"dataframe\">\n",
              "  <thead>\n",
              "    <tr style=\"text-align: right;\">\n",
              "      <th></th>\n",
              "      <th>MEAN_RR</th>\n",
              "      <th>SDNN</th>\n",
              "      <th>HR</th>\n",
              "      <th>VLF</th>\n",
              "      <th>VLF_PCT</th>\n",
              "      <th>LF</th>\n",
              "      <th>LF_PCT</th>\n",
              "      <th>LF_NU</th>\n",
              "      <th>HF</th>\n",
              "      <th>HF_PCT</th>\n",
              "      <th>HF_NU</th>\n",
              "      <th>TP</th>\n",
              "      <th>LF_HF</th>\n",
              "      <th>HF_LF</th>\n",
              "      <th>Sleep Quality</th>\n",
              "      <th>Date</th>\n",
              "      <th>Device_date</th>\n",
              "    </tr>\n",
              "  </thead>\n",
              "  <tbody>\n",
              "    <tr>\n",
              "      <th>0</th>\n",
              "      <td>484.0</td>\n",
              "      <td>166.0</td>\n",
              "      <td>123.966942</td>\n",
              "      <td>9288.0</td>\n",
              "      <td>27.330508</td>\n",
              "      <td>7306.0</td>\n",
              "      <td>21.498352</td>\n",
              "      <td>0.401340</td>\n",
              "      <td>10898.0</td>\n",
              "      <td>32.068032</td>\n",
              "      <td>0.598660</td>\n",
              "      <td>33984.0</td>\n",
              "      <td>0.670398</td>\n",
              "      <td>1.491651</td>\n",
              "      <td>NaN</td>\n",
              "      <td>2016/10/27</td>\n",
              "      <td>2016/10/27 18:11</td>\n",
              "    </tr>\n",
              "    <tr>\n",
              "      <th>1</th>\n",
              "      <td>452.0</td>\n",
              "      <td>55.0</td>\n",
              "      <td>132.743363</td>\n",
              "      <td>1709.0</td>\n",
              "      <td>56.626905</td>\n",
              "      <td>271.0</td>\n",
              "      <td>8.979457</td>\n",
              "      <td>0.352406</td>\n",
              "      <td>498.0</td>\n",
              "      <td>16.500994</td>\n",
              "      <td>0.647594</td>\n",
              "      <td>3018.0</td>\n",
              "      <td>0.544177</td>\n",
              "      <td>1.837638</td>\n",
              "      <td>NaN</td>\n",
              "      <td>2016/10/27</td>\n",
              "      <td>2016/10/27 18:14</td>\n",
              "    </tr>\n",
              "    <tr>\n",
              "      <th>2</th>\n",
              "      <td>470.0</td>\n",
              "      <td>56.0</td>\n",
              "      <td>127.659574</td>\n",
              "      <td>1585.0</td>\n",
              "      <td>47.018689</td>\n",
              "      <td>422.0</td>\n",
              "      <td>12.518540</td>\n",
              "      <td>0.518428</td>\n",
              "      <td>392.0</td>\n",
              "      <td>11.628597</td>\n",
              "      <td>0.481572</td>\n",
              "      <td>3371.0</td>\n",
              "      <td>1.076531</td>\n",
              "      <td>0.928910</td>\n",
              "      <td>NaN</td>\n",
              "      <td>2016/10/27</td>\n",
              "      <td>2016/10/27 18:16</td>\n",
              "    </tr>\n",
              "    <tr>\n",
              "      <th>3</th>\n",
              "      <td>507.0</td>\n",
              "      <td>51.0</td>\n",
              "      <td>118.343195</td>\n",
              "      <td>526.0</td>\n",
              "      <td>37.544611</td>\n",
              "      <td>396.0</td>\n",
              "      <td>28.265525</td>\n",
              "      <td>0.639742</td>\n",
              "      <td>223.0</td>\n",
              "      <td>15.917202</td>\n",
              "      <td>0.360258</td>\n",
              "      <td>1401.0</td>\n",
              "      <td>1.775785</td>\n",
              "      <td>0.563131</td>\n",
              "      <td>NaN</td>\n",
              "      <td>2016/10/27</td>\n",
              "      <td>2016/10/27 18:19</td>\n",
              "    </tr>\n",
              "    <tr>\n",
              "      <th>4</th>\n",
              "      <td>504.0</td>\n",
              "      <td>43.0</td>\n",
              "      <td>119.047619</td>\n",
              "      <td>797.0</td>\n",
              "      <td>31.205951</td>\n",
              "      <td>964.0</td>\n",
              "      <td>37.744714</td>\n",
              "      <td>0.691039</td>\n",
              "      <td>431.0</td>\n",
              "      <td>16.875489</td>\n",
              "      <td>0.308961</td>\n",
              "      <td>2554.0</td>\n",
              "      <td>2.236659</td>\n",
              "      <td>0.447095</td>\n",
              "      <td>NaN</td>\n",
              "      <td>2016/10/27</td>\n",
              "      <td>2016/10/27 18:21</td>\n",
              "    </tr>\n",
              "  </tbody>\n",
              "</table>\n",
              "</div>\n",
              "      <button class=\"colab-df-convert\" onclick=\"convertToInteractive('df-0438ccbe-0218-48e7-af96-37ff0bb260dd')\"\n",
              "              title=\"Convert this dataframe to an interactive table.\"\n",
              "              style=\"display:none;\">\n",
              "        \n",
              "  <svg xmlns=\"http://www.w3.org/2000/svg\" height=\"24px\"viewBox=\"0 0 24 24\"\n",
              "       width=\"24px\">\n",
              "    <path d=\"M0 0h24v24H0V0z\" fill=\"none\"/>\n",
              "    <path d=\"M18.56 5.44l.94 2.06.94-2.06 2.06-.94-2.06-.94-.94-2.06-.94 2.06-2.06.94zm-11 1L8.5 8.5l.94-2.06 2.06-.94-2.06-.94L8.5 2.5l-.94 2.06-2.06.94zm10 10l.94 2.06.94-2.06 2.06-.94-2.06-.94-.94-2.06-.94 2.06-2.06.94z\"/><path d=\"M17.41 7.96l-1.37-1.37c-.4-.4-.92-.59-1.43-.59-.52 0-1.04.2-1.43.59L10.3 9.45l-7.72 7.72c-.78.78-.78 2.05 0 2.83L4 21.41c.39.39.9.59 1.41.59.51 0 1.02-.2 1.41-.59l7.78-7.78 2.81-2.81c.8-.78.8-2.07 0-2.86zM5.41 20L4 18.59l7.72-7.72 1.47 1.35L5.41 20z\"/>\n",
              "  </svg>\n",
              "      </button>\n",
              "      \n",
              "  <style>\n",
              "    .colab-df-container {\n",
              "      display:flex;\n",
              "      flex-wrap:wrap;\n",
              "      gap: 12px;\n",
              "    }\n",
              "\n",
              "    .colab-df-convert {\n",
              "      background-color: #E8F0FE;\n",
              "      border: none;\n",
              "      border-radius: 50%;\n",
              "      cursor: pointer;\n",
              "      display: none;\n",
              "      fill: #1967D2;\n",
              "      height: 32px;\n",
              "      padding: 0 0 0 0;\n",
              "      width: 32px;\n",
              "    }\n",
              "\n",
              "    .colab-df-convert:hover {\n",
              "      background-color: #E2EBFA;\n",
              "      box-shadow: 0px 1px 2px rgba(60, 64, 67, 0.3), 0px 1px 3px 1px rgba(60, 64, 67, 0.15);\n",
              "      fill: #174EA6;\n",
              "    }\n",
              "\n",
              "    [theme=dark] .colab-df-convert {\n",
              "      background-color: #3B4455;\n",
              "      fill: #D2E3FC;\n",
              "    }\n",
              "\n",
              "    [theme=dark] .colab-df-convert:hover {\n",
              "      background-color: #434B5C;\n",
              "      box-shadow: 0px 1px 3px 1px rgba(0, 0, 0, 0.15);\n",
              "      filter: drop-shadow(0px 1px 2px rgba(0, 0, 0, 0.3));\n",
              "      fill: #FFFFFF;\n",
              "    }\n",
              "  </style>\n",
              "\n",
              "      <script>\n",
              "        const buttonEl =\n",
              "          document.querySelector('#df-0438ccbe-0218-48e7-af96-37ff0bb260dd button.colab-df-convert');\n",
              "        buttonEl.style.display =\n",
              "          google.colab.kernel.accessAllowed ? 'block' : 'none';\n",
              "\n",
              "        async function convertToInteractive(key) {\n",
              "          const element = document.querySelector('#df-0438ccbe-0218-48e7-af96-37ff0bb260dd');\n",
              "          const dataTable =\n",
              "            await google.colab.kernel.invokeFunction('convertToInteractive',\n",
              "                                                     [key], {});\n",
              "          if (!dataTable) return;\n",
              "\n",
              "          const docLinkHtml = 'Like what you see? Visit the ' +\n",
              "            '<a target=\"_blank\" href=https://colab.research.google.com/notebooks/data_table.ipynb>data table notebook</a>'\n",
              "            + ' to learn more about interactive tables.';\n",
              "          element.innerHTML = '';\n",
              "          dataTable['output_type'] = 'display_data';\n",
              "          await google.colab.output.renderOutput(dataTable, element);\n",
              "          const docLink = document.createElement('div');\n",
              "          docLink.innerHTML = docLinkHtml;\n",
              "          element.appendChild(docLink);\n",
              "        }\n",
              "      </script>\n",
              "    </div>\n",
              "  </div>\n",
              "  "
            ]
          },
          "metadata": {},
          "execution_count": 22
        }
      ]
    },
    {
      "cell_type": "code",
      "source": [
        "HRV_029E005A.head()"
      ],
      "metadata": {
        "colab": {
          "base_uri": "https://localhost:8080/",
          "height": 374
        },
        "id": "NpA7TQHKIfOQ",
        "outputId": "00a2f20b-084c-451d-ff86-5815de99c103"
      },
      "execution_count": null,
      "outputs": [
        {
          "output_type": "execute_result",
          "data": {
            "text/plain": [
              "   MEAN_RR  SDNN         HR    VLF    VLF_PCT     LF     LF_PCT     LF_NU  \\\n",
              "0    837.0  60.0  71.684588    0.0   0.000000  196.0   7.626459  0.101397   \n",
              "1    825.0  47.0  72.727273    0.0   0.000000  965.0  32.198866  0.333795   \n",
              "2    819.0  40.0  73.260073  142.0   9.679618  658.0  44.853442  0.540674   \n",
              "3    827.0  38.0  72.551391   36.0   3.753910  411.0  42.857143  0.493397   \n",
              "4    789.0  59.0  76.045627  989.0  54.310818  435.0  23.887974  0.588633   \n",
              "\n",
              "       HF     HF_PCT     HF_NU      TP     LF_HF     HF_LF  Sleep Quality  \\\n",
              "0  1737.0  67.587549  0.898603  2570.0  0.112838  8.862245            NaN   \n",
              "1  1926.0  64.264264  0.666205  2997.0  0.501038  1.995855            NaN   \n",
              "2   559.0  38.104976  0.459326  1467.0  1.177102  0.849544            NaN   \n",
              "3   422.0  44.004171  0.506603   959.0  0.973934  1.026764            NaN   \n",
              "4   304.0  16.694124  0.411367  1821.0  1.430921  0.698851            NaN   \n",
              "\n",
              "         Date       Device_date  \n",
              "0   2016/11/7   2016/11/7 18:24  \n",
              "1  2016/11/23  2016/11/23 13:01  \n",
              "2  2016/11/23  2016/11/23 13:01  \n",
              "3  2016/11/23  2016/11/23 13:02  \n",
              "4  2016/11/23  2016/11/23 13:03  "
            ],
            "text/html": [
              "\n",
              "  <div id=\"df-f07c8e25-54bb-43cc-95f1-a77607195358\">\n",
              "    <div class=\"colab-df-container\">\n",
              "      <div>\n",
              "<style scoped>\n",
              "    .dataframe tbody tr th:only-of-type {\n",
              "        vertical-align: middle;\n",
              "    }\n",
              "\n",
              "    .dataframe tbody tr th {\n",
              "        vertical-align: top;\n",
              "    }\n",
              "\n",
              "    .dataframe thead th {\n",
              "        text-align: right;\n",
              "    }\n",
              "</style>\n",
              "<table border=\"1\" class=\"dataframe\">\n",
              "  <thead>\n",
              "    <tr style=\"text-align: right;\">\n",
              "      <th></th>\n",
              "      <th>MEAN_RR</th>\n",
              "      <th>SDNN</th>\n",
              "      <th>HR</th>\n",
              "      <th>VLF</th>\n",
              "      <th>VLF_PCT</th>\n",
              "      <th>LF</th>\n",
              "      <th>LF_PCT</th>\n",
              "      <th>LF_NU</th>\n",
              "      <th>HF</th>\n",
              "      <th>HF_PCT</th>\n",
              "      <th>HF_NU</th>\n",
              "      <th>TP</th>\n",
              "      <th>LF_HF</th>\n",
              "      <th>HF_LF</th>\n",
              "      <th>Sleep Quality</th>\n",
              "      <th>Date</th>\n",
              "      <th>Device_date</th>\n",
              "    </tr>\n",
              "  </thead>\n",
              "  <tbody>\n",
              "    <tr>\n",
              "      <th>0</th>\n",
              "      <td>837.0</td>\n",
              "      <td>60.0</td>\n",
              "      <td>71.684588</td>\n",
              "      <td>0.0</td>\n",
              "      <td>0.000000</td>\n",
              "      <td>196.0</td>\n",
              "      <td>7.626459</td>\n",
              "      <td>0.101397</td>\n",
              "      <td>1737.0</td>\n",
              "      <td>67.587549</td>\n",
              "      <td>0.898603</td>\n",
              "      <td>2570.0</td>\n",
              "      <td>0.112838</td>\n",
              "      <td>8.862245</td>\n",
              "      <td>NaN</td>\n",
              "      <td>2016/11/7</td>\n",
              "      <td>2016/11/7 18:24</td>\n",
              "    </tr>\n",
              "    <tr>\n",
              "      <th>1</th>\n",
              "      <td>825.0</td>\n",
              "      <td>47.0</td>\n",
              "      <td>72.727273</td>\n",
              "      <td>0.0</td>\n",
              "      <td>0.000000</td>\n",
              "      <td>965.0</td>\n",
              "      <td>32.198866</td>\n",
              "      <td>0.333795</td>\n",
              "      <td>1926.0</td>\n",
              "      <td>64.264264</td>\n",
              "      <td>0.666205</td>\n",
              "      <td>2997.0</td>\n",
              "      <td>0.501038</td>\n",
              "      <td>1.995855</td>\n",
              "      <td>NaN</td>\n",
              "      <td>2016/11/23</td>\n",
              "      <td>2016/11/23 13:01</td>\n",
              "    </tr>\n",
              "    <tr>\n",
              "      <th>2</th>\n",
              "      <td>819.0</td>\n",
              "      <td>40.0</td>\n",
              "      <td>73.260073</td>\n",
              "      <td>142.0</td>\n",
              "      <td>9.679618</td>\n",
              "      <td>658.0</td>\n",
              "      <td>44.853442</td>\n",
              "      <td>0.540674</td>\n",
              "      <td>559.0</td>\n",
              "      <td>38.104976</td>\n",
              "      <td>0.459326</td>\n",
              "      <td>1467.0</td>\n",
              "      <td>1.177102</td>\n",
              "      <td>0.849544</td>\n",
              "      <td>NaN</td>\n",
              "      <td>2016/11/23</td>\n",
              "      <td>2016/11/23 13:01</td>\n",
              "    </tr>\n",
              "    <tr>\n",
              "      <th>3</th>\n",
              "      <td>827.0</td>\n",
              "      <td>38.0</td>\n",
              "      <td>72.551391</td>\n",
              "      <td>36.0</td>\n",
              "      <td>3.753910</td>\n",
              "      <td>411.0</td>\n",
              "      <td>42.857143</td>\n",
              "      <td>0.493397</td>\n",
              "      <td>422.0</td>\n",
              "      <td>44.004171</td>\n",
              "      <td>0.506603</td>\n",
              "      <td>959.0</td>\n",
              "      <td>0.973934</td>\n",
              "      <td>1.026764</td>\n",
              "      <td>NaN</td>\n",
              "      <td>2016/11/23</td>\n",
              "      <td>2016/11/23 13:02</td>\n",
              "    </tr>\n",
              "    <tr>\n",
              "      <th>4</th>\n",
              "      <td>789.0</td>\n",
              "      <td>59.0</td>\n",
              "      <td>76.045627</td>\n",
              "      <td>989.0</td>\n",
              "      <td>54.310818</td>\n",
              "      <td>435.0</td>\n",
              "      <td>23.887974</td>\n",
              "      <td>0.588633</td>\n",
              "      <td>304.0</td>\n",
              "      <td>16.694124</td>\n",
              "      <td>0.411367</td>\n",
              "      <td>1821.0</td>\n",
              "      <td>1.430921</td>\n",
              "      <td>0.698851</td>\n",
              "      <td>NaN</td>\n",
              "      <td>2016/11/23</td>\n",
              "      <td>2016/11/23 13:03</td>\n",
              "    </tr>\n",
              "  </tbody>\n",
              "</table>\n",
              "</div>\n",
              "      <button class=\"colab-df-convert\" onclick=\"convertToInteractive('df-f07c8e25-54bb-43cc-95f1-a77607195358')\"\n",
              "              title=\"Convert this dataframe to an interactive table.\"\n",
              "              style=\"display:none;\">\n",
              "        \n",
              "  <svg xmlns=\"http://www.w3.org/2000/svg\" height=\"24px\"viewBox=\"0 0 24 24\"\n",
              "       width=\"24px\">\n",
              "    <path d=\"M0 0h24v24H0V0z\" fill=\"none\"/>\n",
              "    <path d=\"M18.56 5.44l.94 2.06.94-2.06 2.06-.94-2.06-.94-.94-2.06-.94 2.06-2.06.94zm-11 1L8.5 8.5l.94-2.06 2.06-.94-2.06-.94L8.5 2.5l-.94 2.06-2.06.94zm10 10l.94 2.06.94-2.06 2.06-.94-2.06-.94-.94-2.06-.94 2.06-2.06.94z\"/><path d=\"M17.41 7.96l-1.37-1.37c-.4-.4-.92-.59-1.43-.59-.52 0-1.04.2-1.43.59L10.3 9.45l-7.72 7.72c-.78.78-.78 2.05 0 2.83L4 21.41c.39.39.9.59 1.41.59.51 0 1.02-.2 1.41-.59l7.78-7.78 2.81-2.81c.8-.78.8-2.07 0-2.86zM5.41 20L4 18.59l7.72-7.72 1.47 1.35L5.41 20z\"/>\n",
              "  </svg>\n",
              "      </button>\n",
              "      \n",
              "  <style>\n",
              "    .colab-df-container {\n",
              "      display:flex;\n",
              "      flex-wrap:wrap;\n",
              "      gap: 12px;\n",
              "    }\n",
              "\n",
              "    .colab-df-convert {\n",
              "      background-color: #E8F0FE;\n",
              "      border: none;\n",
              "      border-radius: 50%;\n",
              "      cursor: pointer;\n",
              "      display: none;\n",
              "      fill: #1967D2;\n",
              "      height: 32px;\n",
              "      padding: 0 0 0 0;\n",
              "      width: 32px;\n",
              "    }\n",
              "\n",
              "    .colab-df-convert:hover {\n",
              "      background-color: #E2EBFA;\n",
              "      box-shadow: 0px 1px 2px rgba(60, 64, 67, 0.3), 0px 1px 3px 1px rgba(60, 64, 67, 0.15);\n",
              "      fill: #174EA6;\n",
              "    }\n",
              "\n",
              "    [theme=dark] .colab-df-convert {\n",
              "      background-color: #3B4455;\n",
              "      fill: #D2E3FC;\n",
              "    }\n",
              "\n",
              "    [theme=dark] .colab-df-convert:hover {\n",
              "      background-color: #434B5C;\n",
              "      box-shadow: 0px 1px 3px 1px rgba(0, 0, 0, 0.15);\n",
              "      filter: drop-shadow(0px 1px 2px rgba(0, 0, 0, 0.3));\n",
              "      fill: #FFFFFF;\n",
              "    }\n",
              "  </style>\n",
              "\n",
              "      <script>\n",
              "        const buttonEl =\n",
              "          document.querySelector('#df-f07c8e25-54bb-43cc-95f1-a77607195358 button.colab-df-convert');\n",
              "        buttonEl.style.display =\n",
              "          google.colab.kernel.accessAllowed ? 'block' : 'none';\n",
              "\n",
              "        async function convertToInteractive(key) {\n",
              "          const element = document.querySelector('#df-f07c8e25-54bb-43cc-95f1-a77607195358');\n",
              "          const dataTable =\n",
              "            await google.colab.kernel.invokeFunction('convertToInteractive',\n",
              "                                                     [key], {});\n",
              "          if (!dataTable) return;\n",
              "\n",
              "          const docLinkHtml = 'Like what you see? Visit the ' +\n",
              "            '<a target=\"_blank\" href=https://colab.research.google.com/notebooks/data_table.ipynb>data table notebook</a>'\n",
              "            + ' to learn more about interactive tables.';\n",
              "          element.innerHTML = '';\n",
              "          dataTable['output_type'] = 'display_data';\n",
              "          await google.colab.output.renderOutput(dataTable, element);\n",
              "          const docLink = document.createElement('div');\n",
              "          docLink.innerHTML = docLinkHtml;\n",
              "          element.appendChild(docLink);\n",
              "        }\n",
              "      </script>\n",
              "    </div>\n",
              "  </div>\n",
              "  "
            ]
          },
          "metadata": {},
          "execution_count": 23
        }
      ]
    },
    {
      "cell_type": "code",
      "source": [
        "HRV_0275005A.head()"
      ],
      "metadata": {
        "id": "Y8E2AoPgRMVv",
        "colab": {
          "base_uri": "https://localhost:8080/",
          "height": 374
        },
        "outputId": "e403ee0a-b59f-4b93-8df6-11a6025cc9c9"
      },
      "execution_count": null,
      "outputs": [
        {
          "output_type": "execute_result",
          "data": {
            "text/plain": [
              "   MEAN_RR  SDNN         HR     VLF    VLF_PCT     LF     LF_PCT     LF_NU  \\\n",
              "0    761.0  37.0  78.843627     0.0   0.000000  302.0  28.171642  0.296952   \n",
              "1    783.0  59.0  76.628352   950.0  55.882353  396.0  23.294118  0.580645   \n",
              "2    832.0  68.0  72.115385  3533.0  86.086745  399.0   9.722222  0.757116   \n",
              "3    818.0  59.0  73.349633  2388.0  70.776526  266.0   7.883817  0.357527   \n",
              "4    811.0  54.0  73.982737  1322.0  64.143620  450.0  21.834061  0.715421   \n",
              "\n",
              "      HF     HF_PCT     HF_NU      TP     LF_HF     HF_LF  Sleep Quality  \\\n",
              "0  715.0  66.697761  0.703048  1072.0  0.422378  2.367550            NaN   \n",
              "1  286.0  16.823529  0.419355  1700.0  1.384615  0.722222            NaN   \n",
              "2  128.0   3.118908  0.242884  4104.0  3.117188  0.320802            NaN   \n",
              "3  478.0  14.167161  0.642473  3374.0  0.556485  1.796992            NaN   \n",
              "4  179.0   8.685104  0.284579  2061.0  2.513966  0.397778            NaN   \n",
              "\n",
              "        Date      Device_date  \n",
              "0  2016/11/7  2016/11/7 15:39  \n",
              "1  2016/11/7  2016/11/7 15:40  \n",
              "2  2016/11/7  2016/11/7 15:40  \n",
              "3  2016/11/7  2016/11/7 15:42  \n",
              "4  2016/11/7  2016/11/7 15:44  "
            ],
            "text/html": [
              "\n",
              "  <div id=\"df-332ad807-bcf0-4000-a2ba-bb30a1109d9f\">\n",
              "    <div class=\"colab-df-container\">\n",
              "      <div>\n",
              "<style scoped>\n",
              "    .dataframe tbody tr th:only-of-type {\n",
              "        vertical-align: middle;\n",
              "    }\n",
              "\n",
              "    .dataframe tbody tr th {\n",
              "        vertical-align: top;\n",
              "    }\n",
              "\n",
              "    .dataframe thead th {\n",
              "        text-align: right;\n",
              "    }\n",
              "</style>\n",
              "<table border=\"1\" class=\"dataframe\">\n",
              "  <thead>\n",
              "    <tr style=\"text-align: right;\">\n",
              "      <th></th>\n",
              "      <th>MEAN_RR</th>\n",
              "      <th>SDNN</th>\n",
              "      <th>HR</th>\n",
              "      <th>VLF</th>\n",
              "      <th>VLF_PCT</th>\n",
              "      <th>LF</th>\n",
              "      <th>LF_PCT</th>\n",
              "      <th>LF_NU</th>\n",
              "      <th>HF</th>\n",
              "      <th>HF_PCT</th>\n",
              "      <th>HF_NU</th>\n",
              "      <th>TP</th>\n",
              "      <th>LF_HF</th>\n",
              "      <th>HF_LF</th>\n",
              "      <th>Sleep Quality</th>\n",
              "      <th>Date</th>\n",
              "      <th>Device_date</th>\n",
              "    </tr>\n",
              "  </thead>\n",
              "  <tbody>\n",
              "    <tr>\n",
              "      <th>0</th>\n",
              "      <td>761.0</td>\n",
              "      <td>37.0</td>\n",
              "      <td>78.843627</td>\n",
              "      <td>0.0</td>\n",
              "      <td>0.000000</td>\n",
              "      <td>302.0</td>\n",
              "      <td>28.171642</td>\n",
              "      <td>0.296952</td>\n",
              "      <td>715.0</td>\n",
              "      <td>66.697761</td>\n",
              "      <td>0.703048</td>\n",
              "      <td>1072.0</td>\n",
              "      <td>0.422378</td>\n",
              "      <td>2.367550</td>\n",
              "      <td>NaN</td>\n",
              "      <td>2016/11/7</td>\n",
              "      <td>2016/11/7 15:39</td>\n",
              "    </tr>\n",
              "    <tr>\n",
              "      <th>1</th>\n",
              "      <td>783.0</td>\n",
              "      <td>59.0</td>\n",
              "      <td>76.628352</td>\n",
              "      <td>950.0</td>\n",
              "      <td>55.882353</td>\n",
              "      <td>396.0</td>\n",
              "      <td>23.294118</td>\n",
              "      <td>0.580645</td>\n",
              "      <td>286.0</td>\n",
              "      <td>16.823529</td>\n",
              "      <td>0.419355</td>\n",
              "      <td>1700.0</td>\n",
              "      <td>1.384615</td>\n",
              "      <td>0.722222</td>\n",
              "      <td>NaN</td>\n",
              "      <td>2016/11/7</td>\n",
              "      <td>2016/11/7 15:40</td>\n",
              "    </tr>\n",
              "    <tr>\n",
              "      <th>2</th>\n",
              "      <td>832.0</td>\n",
              "      <td>68.0</td>\n",
              "      <td>72.115385</td>\n",
              "      <td>3533.0</td>\n",
              "      <td>86.086745</td>\n",
              "      <td>399.0</td>\n",
              "      <td>9.722222</td>\n",
              "      <td>0.757116</td>\n",
              "      <td>128.0</td>\n",
              "      <td>3.118908</td>\n",
              "      <td>0.242884</td>\n",
              "      <td>4104.0</td>\n",
              "      <td>3.117188</td>\n",
              "      <td>0.320802</td>\n",
              "      <td>NaN</td>\n",
              "      <td>2016/11/7</td>\n",
              "      <td>2016/11/7 15:40</td>\n",
              "    </tr>\n",
              "    <tr>\n",
              "      <th>3</th>\n",
              "      <td>818.0</td>\n",
              "      <td>59.0</td>\n",
              "      <td>73.349633</td>\n",
              "      <td>2388.0</td>\n",
              "      <td>70.776526</td>\n",
              "      <td>266.0</td>\n",
              "      <td>7.883817</td>\n",
              "      <td>0.357527</td>\n",
              "      <td>478.0</td>\n",
              "      <td>14.167161</td>\n",
              "      <td>0.642473</td>\n",
              "      <td>3374.0</td>\n",
              "      <td>0.556485</td>\n",
              "      <td>1.796992</td>\n",
              "      <td>NaN</td>\n",
              "      <td>2016/11/7</td>\n",
              "      <td>2016/11/7 15:42</td>\n",
              "    </tr>\n",
              "    <tr>\n",
              "      <th>4</th>\n",
              "      <td>811.0</td>\n",
              "      <td>54.0</td>\n",
              "      <td>73.982737</td>\n",
              "      <td>1322.0</td>\n",
              "      <td>64.143620</td>\n",
              "      <td>450.0</td>\n",
              "      <td>21.834061</td>\n",
              "      <td>0.715421</td>\n",
              "      <td>179.0</td>\n",
              "      <td>8.685104</td>\n",
              "      <td>0.284579</td>\n",
              "      <td>2061.0</td>\n",
              "      <td>2.513966</td>\n",
              "      <td>0.397778</td>\n",
              "      <td>NaN</td>\n",
              "      <td>2016/11/7</td>\n",
              "      <td>2016/11/7 15:44</td>\n",
              "    </tr>\n",
              "  </tbody>\n",
              "</table>\n",
              "</div>\n",
              "      <button class=\"colab-df-convert\" onclick=\"convertToInteractive('df-332ad807-bcf0-4000-a2ba-bb30a1109d9f')\"\n",
              "              title=\"Convert this dataframe to an interactive table.\"\n",
              "              style=\"display:none;\">\n",
              "        \n",
              "  <svg xmlns=\"http://www.w3.org/2000/svg\" height=\"24px\"viewBox=\"0 0 24 24\"\n",
              "       width=\"24px\">\n",
              "    <path d=\"M0 0h24v24H0V0z\" fill=\"none\"/>\n",
              "    <path d=\"M18.56 5.44l.94 2.06.94-2.06 2.06-.94-2.06-.94-.94-2.06-.94 2.06-2.06.94zm-11 1L8.5 8.5l.94-2.06 2.06-.94-2.06-.94L8.5 2.5l-.94 2.06-2.06.94zm10 10l.94 2.06.94-2.06 2.06-.94-2.06-.94-.94-2.06-.94 2.06-2.06.94z\"/><path d=\"M17.41 7.96l-1.37-1.37c-.4-.4-.92-.59-1.43-.59-.52 0-1.04.2-1.43.59L10.3 9.45l-7.72 7.72c-.78.78-.78 2.05 0 2.83L4 21.41c.39.39.9.59 1.41.59.51 0 1.02-.2 1.41-.59l7.78-7.78 2.81-2.81c.8-.78.8-2.07 0-2.86zM5.41 20L4 18.59l7.72-7.72 1.47 1.35L5.41 20z\"/>\n",
              "  </svg>\n",
              "      </button>\n",
              "      \n",
              "  <style>\n",
              "    .colab-df-container {\n",
              "      display:flex;\n",
              "      flex-wrap:wrap;\n",
              "      gap: 12px;\n",
              "    }\n",
              "\n",
              "    .colab-df-convert {\n",
              "      background-color: #E8F0FE;\n",
              "      border: none;\n",
              "      border-radius: 50%;\n",
              "      cursor: pointer;\n",
              "      display: none;\n",
              "      fill: #1967D2;\n",
              "      height: 32px;\n",
              "      padding: 0 0 0 0;\n",
              "      width: 32px;\n",
              "    }\n",
              "\n",
              "    .colab-df-convert:hover {\n",
              "      background-color: #E2EBFA;\n",
              "      box-shadow: 0px 1px 2px rgba(60, 64, 67, 0.3), 0px 1px 3px 1px rgba(60, 64, 67, 0.15);\n",
              "      fill: #174EA6;\n",
              "    }\n",
              "\n",
              "    [theme=dark] .colab-df-convert {\n",
              "      background-color: #3B4455;\n",
              "      fill: #D2E3FC;\n",
              "    }\n",
              "\n",
              "    [theme=dark] .colab-df-convert:hover {\n",
              "      background-color: #434B5C;\n",
              "      box-shadow: 0px 1px 3px 1px rgba(0, 0, 0, 0.15);\n",
              "      filter: drop-shadow(0px 1px 2px rgba(0, 0, 0, 0.3));\n",
              "      fill: #FFFFFF;\n",
              "    }\n",
              "  </style>\n",
              "\n",
              "      <script>\n",
              "        const buttonEl =\n",
              "          document.querySelector('#df-332ad807-bcf0-4000-a2ba-bb30a1109d9f button.colab-df-convert');\n",
              "        buttonEl.style.display =\n",
              "          google.colab.kernel.accessAllowed ? 'block' : 'none';\n",
              "\n",
              "        async function convertToInteractive(key) {\n",
              "          const element = document.querySelector('#df-332ad807-bcf0-4000-a2ba-bb30a1109d9f');\n",
              "          const dataTable =\n",
              "            await google.colab.kernel.invokeFunction('convertToInteractive',\n",
              "                                                     [key], {});\n",
              "          if (!dataTable) return;\n",
              "\n",
              "          const docLinkHtml = 'Like what you see? Visit the ' +\n",
              "            '<a target=\"_blank\" href=https://colab.research.google.com/notebooks/data_table.ipynb>data table notebook</a>'\n",
              "            + ' to learn more about interactive tables.';\n",
              "          element.innerHTML = '';\n",
              "          dataTable['output_type'] = 'display_data';\n",
              "          await google.colab.output.renderOutput(dataTable, element);\n",
              "          const docLink = document.createElement('div');\n",
              "          docLink.innerHTML = docLinkHtml;\n",
              "          element.appendChild(docLink);\n",
              "        }\n",
              "      </script>\n",
              "    </div>\n",
              "  </div>\n",
              "  "
            ]
          },
          "metadata": {},
          "execution_count": 24
        }
      ]
    },
    {
      "cell_type": "code",
      "source": [
        "df_train['condition'].unique()"
      ],
      "metadata": {
        "colab": {
          "base_uri": "https://localhost:8080/"
        },
        "id": "AL7rueX0g3Ve",
        "outputId": "63a8ea54-3c51-4a54-c50f-c55bbca21301"
      },
      "execution_count": null,
      "outputs": [
        {
          "output_type": "execute_result",
          "data": {
            "text/plain": [
              "array(['no stress', 'interruption', 'time pressure'], dtype=object)"
            ]
          },
          "metadata": {},
          "execution_count": 25
        }
      ]
    },
    {
      "cell_type": "code",
      "source": [
        "df_PA_all['PA'].unique()"
      ],
      "metadata": {
        "colab": {
          "base_uri": "https://localhost:8080/"
        },
        "id": "DHlHIUZ7xBcK",
        "outputId": "71347728-0f38-4990-d7f8-8122cabf3455"
      },
      "execution_count": null,
      "outputs": [
        {
          "output_type": "execute_result",
          "data": {
            "text/plain": [
              "array(['on patch', 'breakfast', 'commuting-riding motor', nan,\n",
              "       'after up 6 floors', 'work-desk', 'lunch', 'work-discussion',\n",
              "       'work-meeting', 'arrive home', 'dinner', 'pre-sleep satus',\n",
              "       'go to bed & light off', 'sleep', 'off patch since itch',\n",
              "       'on patch at 40 min after swimming 1 hour-long', 'watch TV',\n",
              "       'go to bed', 'sleep (wake to watch the clock)', 'get up',\n",
              "       'off patch ', 'after swimming and showering', 'commuting-motor',\n",
              "       'dining', 'commuting-MRT', 'arrive office', 'sleeping',\n",
              "       '20 mins after home workout', 'chating ', 'discussion',\n",
              "       'meeting in English', 'dining+discussion',\n",
              "       '20 mins after swimming 1 hour', 'chatting', 'commuting',\n",
              "       'lunch break', 'taking MRT', 'dining ', 'relaxing', 'GO TO BED',\n",
              "       'GET UP', 'morning preparation', 'warm up for run',\n",
              "       'running (HR is not correct)', '45 min after running 10 km',\n",
              "       'prepare go out', 'to go upstairs', 'desk work', 'coffeex1',\n",
              "       'prepare meeting', 'meeting+discussion', 'desk working',\n",
              "       'dining at home', ' go to bed', '6:40-8:00 swimming 3000m',\n",
              "       'market shopping', 'house working', 'house chores', 'napping',\n",
              "       'accept facial care service', 'reading paper-lie down', 'cooking',\n",
              "       'pre-sleep status', 'morning prepare', '6:38-8:40 gym workout',\n",
              "       'reading paper', 'commuting-bus', 'family gattering',\n",
              "       'sleeping-go to pee', 'after shower', 'go upstairs',\n",
              "       'discussion with frustrated', 'walking', 'moring prepare',\n",
              "       '20 mins after swimming', 'dinning', ' go upstairs', 'meeting',\n",
              "       'go upstaires', 'using exercise equipment', 'off patch',\n",
              "       'pre-sleep', 'after home workout', 'after swimming',\n",
              "       'morning prepare+chatting', 'fixed PC problem', 'go up staires',\n",
              "       'reading paper on bed', 'wake up by clock', 'fall asleep',\n",
              "       'muscle streching', 'brainstorming', 'work chores',\n",
              "       'dinner outside', 'presleep status', 'sleeping (incorrect HR)',\n",
              "       'text for work', 'prepare food', 'home workout',\n",
              "       'already patch off', 'dealing with patch data',\n",
              "       'clean meeting room', 'after running and shower', 'chating',\n",
              "       'walking+ go upstaires', 'teaching', 'chatting&watch TV',\n",
              "       'mornin g prepare', 'after swimming 2100m', 'talking',\n",
              "       'meeting+discussing', 'dinner outside with drink', 'Taxi',\n",
              "       'at KTV with drink', 'eating', 'watch TV and lay down',\n",
              "       'after running', 'comnuting-motor', 'text email',\n",
              "       '15 mins after swimming', 'after shower prepare',\n",
              "       'one hour after runnng', 'surfing the internet',\n",
              "       'after-shower prepare', 'go upsatires', 'go upstires',\n",
              "       'timestamps out', 'awake', 'light sleep', 'text line',\n",
              "       'data manage', 'after work-out', 'prepare for  go out',\n",
              "       'catch up the train', 'on the train', 'massage therapy with pain',\n",
              "       'home chores', 'family gathering dinner',\n",
              "       'family gathering acitivity', 'commuting-car', 'exercise', 'study',\n",
              "       'exercise ', 'SLEEP', 'GETUP', 'MEETING ', 'READING', 'BROWSING',\n",
              "       'study ', 'browsing', 'cooking ', 'at the gym', 'driving',\n",
              "       'reading ', 'writing', 'Relax', 'snack', 'studing',\n",
              "       'go to bed, DF=8', 'Sleeping', 'working', 'working in lab', 'rest',\n",
              "       'studying', 'laying', 'gossip', 'relax', 'watching movie',\n",
              "       'bazaar', 'Patch off', 'working ', 'to go bed ( DF=5, Stressful',\n",
              "       'bathing', 'to go bed ( DF=8, relaxing', 'get up ',\n",
              "       'go to bed DF=7', 'Rest', 'Go to bed DF=8', 'Sleep',\n",
              "       'Get up S0L>5,WASO>5,NOA=0,SSQ=7', 'Breakfast',\n",
              "       'Get up S0L>5,WASO>5,NOA=0,SSQ=8', ' took bath', 'Lunch',\n",
              "       'go to bed DF=8', 'drinking', 'standing', 'taking medicine',\n",
              "       'buying drinks', 'waiting for order', 'Running', 'eating dinner',\n",
              "       'walking up stairs', 'leisure time-home', 'take medicine',\n",
              "       'jogging', 'rest(sit)', 'sit(wait for dinner)', 'eating(snack)',\n",
              "       'preparing to go out', 'standing(wait for bus)', 'commuting-taxi',\n",
              "       'activity-meditation', 'preparing', 'commuting-Bus',\n",
              "       'leisure time-outside', 'sit(rest)', 'talking on the phone',\n",
              "       'sit-wait for dinner', 'sit', 'meditation', 'rest-sit',\n",
              "       'meditation class', 'commuting-high speed rail',\n",
              "       'walking-up stairs'], dtype=object)"
            ]
          },
          "metadata": {},
          "execution_count": 26
        }
      ]
    },
    {
      "cell_type": "code",
      "source": [
        "#check if there is any missing value in the datasets\n",
        "display(df_train.info())\n",
        "display(df_test.info())\n",
        "display(df_sleep.info())\n",
        "display(HRV_02A7005A.info())\n",
        "display(HRV_029E005A.info())\n",
        "display(HRV_0275005A.info())\n",
        "display(df_PA_all.info())"
      ],
      "metadata": {
        "colab": {
          "base_uri": "https://localhost:8080/",
          "height": 1000
        },
        "id": "v_lLiJyig_XA",
        "outputId": "60f73e4f-7073-4971-c14c-fbc7690c5054"
      },
      "execution_count": null,
      "outputs": [
        {
          "output_type": "stream",
          "name": "stdout",
          "text": [
            "<class 'pandas.core.frame.DataFrame'>\n",
            "RangeIndex: 369289 entries, 0 to 369288\n",
            "Data columns (total 36 columns):\n",
            " #   Column             Non-Null Count   Dtype  \n",
            "---  ------             --------------   -----  \n",
            " 0   MEAN_RR            369289 non-null  float64\n",
            " 1   MEDIAN_RR          369289 non-null  float64\n",
            " 2   SDRR               369289 non-null  float64\n",
            " 3   RMSSD              369289 non-null  float64\n",
            " 4   SDSD               369289 non-null  float64\n",
            " 5   SDRR_RMSSD         369289 non-null  float64\n",
            " 6   HR                 369289 non-null  float64\n",
            " 7   pNN25              369289 non-null  float64\n",
            " 8   pNN50              369289 non-null  float64\n",
            " 9   SD1                369289 non-null  float64\n",
            " 10  SD2                369289 non-null  float64\n",
            " 11  KURT               369289 non-null  float64\n",
            " 12  SKEW               369289 non-null  float64\n",
            " 13  MEAN_REL_RR        369289 non-null  float64\n",
            " 14  MEDIAN_REL_RR      369289 non-null  float64\n",
            " 15  SDRR_REL_RR        369289 non-null  float64\n",
            " 16  RMSSD_REL_RR       369289 non-null  float64\n",
            " 17  SDSD_REL_RR        369289 non-null  float64\n",
            " 18  SDRR_RMSSD_REL_RR  369289 non-null  float64\n",
            " 19  KURT_REL_RR        369289 non-null  float64\n",
            " 20  SKEW_REL_RR        369289 non-null  float64\n",
            " 21  VLF                369289 non-null  float64\n",
            " 22  VLF_PCT            369289 non-null  float64\n",
            " 23  LF                 369289 non-null  float64\n",
            " 24  LF_PCT             369289 non-null  float64\n",
            " 25  LF_NU              369289 non-null  float64\n",
            " 26  HF                 369289 non-null  float64\n",
            " 27  HF_PCT             369289 non-null  float64\n",
            " 28  HF_NU              369289 non-null  float64\n",
            " 29  TP                 369289 non-null  float64\n",
            " 30  LF_HF              369289 non-null  float64\n",
            " 31  HF_LF              369289 non-null  float64\n",
            " 32  sampen             369289 non-null  float64\n",
            " 33  higuci             369289 non-null  float64\n",
            " 34  datasetId          369289 non-null  int64  \n",
            " 35  condition          369289 non-null  object \n",
            "dtypes: float64(34), int64(1), object(1)\n",
            "memory usage: 101.4+ MB\n"
          ]
        },
        {
          "output_type": "display_data",
          "data": {
            "text/plain": [
              "None"
            ]
          },
          "metadata": {}
        },
        {
          "output_type": "stream",
          "name": "stdout",
          "text": [
            "<class 'pandas.core.frame.DataFrame'>\n",
            "RangeIndex: 41033 entries, 0 to 41032\n",
            "Data columns (total 36 columns):\n",
            " #   Column             Non-Null Count  Dtype  \n",
            "---  ------             --------------  -----  \n",
            " 0   MEAN_RR            41033 non-null  float64\n",
            " 1   MEDIAN_RR          41033 non-null  float64\n",
            " 2   SDRR               41033 non-null  float64\n",
            " 3   RMSSD              41033 non-null  float64\n",
            " 4   SDSD               41033 non-null  float64\n",
            " 5   SDRR_RMSSD         41033 non-null  float64\n",
            " 6   HR                 41033 non-null  float64\n",
            " 7   pNN25              41033 non-null  float64\n",
            " 8   pNN50              41033 non-null  float64\n",
            " 9   SD1                41033 non-null  float64\n",
            " 10  SD2                41033 non-null  float64\n",
            " 11  KURT               41033 non-null  float64\n",
            " 12  SKEW               41033 non-null  float64\n",
            " 13  MEAN_REL_RR        41033 non-null  float64\n",
            " 14  MEDIAN_REL_RR      41033 non-null  float64\n",
            " 15  SDRR_REL_RR        41033 non-null  float64\n",
            " 16  RMSSD_REL_RR       41033 non-null  float64\n",
            " 17  SDSD_REL_RR        41033 non-null  float64\n",
            " 18  SDRR_RMSSD_REL_RR  41033 non-null  float64\n",
            " 19  KURT_REL_RR        41033 non-null  float64\n",
            " 20  SKEW_REL_RR        41033 non-null  float64\n",
            " 21  VLF                41033 non-null  float64\n",
            " 22  VLF_PCT            41033 non-null  float64\n",
            " 23  LF                 41033 non-null  float64\n",
            " 24  LF_PCT             41033 non-null  float64\n",
            " 25  LF_NU              41033 non-null  float64\n",
            " 26  HF                 41033 non-null  float64\n",
            " 27  HF_PCT             41033 non-null  float64\n",
            " 28  HF_NU              41033 non-null  float64\n",
            " 29  TP                 41033 non-null  float64\n",
            " 30  LF_HF              41033 non-null  float64\n",
            " 31  HF_LF              41033 non-null  float64\n",
            " 32  sampen             41033 non-null  float64\n",
            " 33  higuci             41033 non-null  float64\n",
            " 34  datasetId          41033 non-null  int64  \n",
            " 35  condition          41033 non-null  object \n",
            "dtypes: float64(34), int64(1), object(1)\n",
            "memory usage: 11.3+ MB\n"
          ]
        },
        {
          "output_type": "display_data",
          "data": {
            "text/plain": [
              "None"
            ]
          },
          "metadata": {}
        },
        {
          "output_type": "stream",
          "name": "stdout",
          "text": [
            "<class 'pandas.core.frame.DataFrame'>\n",
            "RangeIndex: 55 entries, 0 to 54\n",
            "Data columns (total 17 columns):\n",
            " #   Column         Non-Null Count  Dtype  \n",
            "---  ------         --------------  -----  \n",
            " 0   MEAN_RR        55 non-null     float64\n",
            " 1   SDNN           55 non-null     float64\n",
            " 2   HR             55 non-null     float64\n",
            " 3   VLF            55 non-null     float64\n",
            " 4   VLF_PCT        55 non-null     float64\n",
            " 5   LF             55 non-null     float64\n",
            " 6   LF_PCT         55 non-null     float64\n",
            " 7   LF_NU          55 non-null     float64\n",
            " 8   HF             55 non-null     float64\n",
            " 9   HF_PCT         55 non-null     float64\n",
            " 10  HF_NU          55 non-null     float64\n",
            " 11  TP             55 non-null     float64\n",
            " 12  LF_HF          55 non-null     float64\n",
            " 13  HF_LF          55 non-null     float64\n",
            " 14  Sleep Quality  55 non-null     int64  \n",
            " 15  PatchID        55 non-null     object \n",
            " 16  date           55 non-null     object \n",
            "dtypes: float64(14), int64(1), object(2)\n",
            "memory usage: 7.4+ KB\n"
          ]
        },
        {
          "output_type": "display_data",
          "data": {
            "text/plain": [
              "None"
            ]
          },
          "metadata": {}
        },
        {
          "output_type": "stream",
          "name": "stdout",
          "text": [
            "<class 'pandas.core.frame.DataFrame'>\n",
            "RangeIndex: 6019 entries, 0 to 6018\n",
            "Data columns (total 17 columns):\n",
            " #   Column         Non-Null Count  Dtype  \n",
            "---  ------         --------------  -----  \n",
            " 0   MEAN_RR        6019 non-null   float64\n",
            " 1   SDNN           6019 non-null   float64\n",
            " 2   HR             6019 non-null   float64\n",
            " 3   VLF            6019 non-null   float64\n",
            " 4   VLF_PCT        6019 non-null   float64\n",
            " 5   LF             6019 non-null   float64\n",
            " 6   LF_PCT         6019 non-null   float64\n",
            " 7   LF_NU          6019 non-null   float64\n",
            " 8   HF             6019 non-null   float64\n",
            " 9   HF_PCT         6019 non-null   float64\n",
            " 10  HF_NU          6019 non-null   float64\n",
            " 11  TP             6019 non-null   float64\n",
            " 12  LF_HF          6019 non-null   float64\n",
            " 13  HF_LF          6019 non-null   float64\n",
            " 14  Sleep Quality  0 non-null      float64\n",
            " 15  Date           6019 non-null   object \n",
            " 16  Device_date    6019 non-null   object \n",
            "dtypes: float64(15), object(2)\n",
            "memory usage: 799.5+ KB\n"
          ]
        },
        {
          "output_type": "display_data",
          "data": {
            "text/plain": [
              "None"
            ]
          },
          "metadata": {}
        },
        {
          "output_type": "stream",
          "name": "stdout",
          "text": [
            "<class 'pandas.core.frame.DataFrame'>\n",
            "RangeIndex: 6277 entries, 0 to 6276\n",
            "Data columns (total 17 columns):\n",
            " #   Column         Non-Null Count  Dtype  \n",
            "---  ------         --------------  -----  \n",
            " 0   MEAN_RR        6277 non-null   float64\n",
            " 1   SDNN           6277 non-null   float64\n",
            " 2   HR             6277 non-null   float64\n",
            " 3   VLF            6277 non-null   float64\n",
            " 4   VLF_PCT        6277 non-null   float64\n",
            " 5   LF             6277 non-null   float64\n",
            " 6   LF_PCT         6277 non-null   float64\n",
            " 7   LF_NU          6277 non-null   float64\n",
            " 8   HF             6277 non-null   float64\n",
            " 9   HF_PCT         6277 non-null   float64\n",
            " 10  HF_NU          6277 non-null   float64\n",
            " 11  TP             6277 non-null   float64\n",
            " 12  LF_HF          6277 non-null   float64\n",
            " 13  HF_LF          6277 non-null   float64\n",
            " 14  Sleep Quality  0 non-null      float64\n",
            " 15  Date           6277 non-null   object \n",
            " 16  Device_date    6277 non-null   object \n",
            "dtypes: float64(15), object(2)\n",
            "memory usage: 833.8+ KB\n"
          ]
        },
        {
          "output_type": "display_data",
          "data": {
            "text/plain": [
              "None"
            ]
          },
          "metadata": {}
        },
        {
          "output_type": "stream",
          "name": "stdout",
          "text": [
            "<class 'pandas.core.frame.DataFrame'>\n",
            "RangeIndex: 2344 entries, 0 to 2343\n",
            "Data columns (total 17 columns):\n",
            " #   Column         Non-Null Count  Dtype  \n",
            "---  ------         --------------  -----  \n",
            " 0   MEAN_RR        2344 non-null   float64\n",
            " 1   SDNN           2344 non-null   float64\n",
            " 2   HR             2344 non-null   float64\n",
            " 3   VLF            2344 non-null   float64\n",
            " 4   VLF_PCT        2344 non-null   float64\n",
            " 5   LF             2344 non-null   float64\n",
            " 6   LF_PCT         2344 non-null   float64\n",
            " 7   LF_NU          2344 non-null   float64\n",
            " 8   HF             2344 non-null   float64\n",
            " 9   HF_PCT         2344 non-null   float64\n",
            " 10  HF_NU          2344 non-null   float64\n",
            " 11  TP             2344 non-null   float64\n",
            " 12  LF_HF          2344 non-null   float64\n",
            " 13  HF_LF          2344 non-null   float64\n",
            " 14  Sleep Quality  0 non-null      float64\n",
            " 15  Date           2344 non-null   object \n",
            " 16  Device_date    2344 non-null   object \n",
            "dtypes: float64(15), object(2)\n",
            "memory usage: 311.4+ KB\n"
          ]
        },
        {
          "output_type": "display_data",
          "data": {
            "text/plain": [
              "None"
            ]
          },
          "metadata": {}
        },
        {
          "output_type": "stream",
          "name": "stdout",
          "text": [
            "<class 'pandas.core.frame.DataFrame'>\n",
            "RangeIndex: 37026 entries, 0 to 37025\n",
            "Data columns (total 18 columns):\n",
            " #   Column       Non-Null Count  Dtype  \n",
            "---  ------       --------------  -----  \n",
            " 0   MEAN_RR      37026 non-null  float64\n",
            " 1   SDRR         37026 non-null  float64\n",
            " 2   HR           37026 non-null  float64\n",
            " 3   VLF          37026 non-null  float64\n",
            " 4   VLF_PCT      37026 non-null  float64\n",
            " 5   LF           37026 non-null  float64\n",
            " 6   LF_PCT       37026 non-null  float64\n",
            " 7   LF_NU        37026 non-null  float64\n",
            " 8   HF           37026 non-null  float64\n",
            " 9   HF_PCT       37026 non-null  float64\n",
            " 10  HF_NU        37026 non-null  float64\n",
            " 11  TP           37026 non-null  float64\n",
            " 12  LF_HF        37026 non-null  float64\n",
            " 13  HF_LF        37026 non-null  float64\n",
            " 14  PA           35352 non-null  object \n",
            " 15  ID           37026 non-null  int64  \n",
            " 16  categories   37026 non-null  int64  \n",
            " 17  device_time  37026 non-null  object \n",
            "dtypes: float64(14), int64(2), object(2)\n",
            "memory usage: 5.1+ MB\n"
          ]
        },
        {
          "output_type": "display_data",
          "data": {
            "text/plain": [
              "None"
            ]
          },
          "metadata": {}
        }
      ]
    },
    {
      "cell_type": "code",
      "source": [
        "#encode the labels\n",
        "df_train['condition'] = df_train['condition'].map({'no stress':0, 'interruption':1, 'time pressure':2})\n",
        "df_test['condition'] = df_test['condition'].map({'no stress':0, 'interruption':1, 'time pressure':2})"
      ],
      "metadata": {
        "id": "AH80sb5jhGu7"
      },
      "execution_count": null,
      "outputs": []
    },
    {
      "cell_type": "code",
      "source": [
        "df_train.head()"
      ],
      "metadata": {
        "colab": {
          "base_uri": "https://localhost:8080/",
          "height": 299
        },
        "id": "dVj8_8iohMXR",
        "outputId": "81b0a592-e60a-4606-9f18-56fad7a15e44"
      },
      "execution_count": null,
      "outputs": [
        {
          "output_type": "execute_result",
          "data": {
            "text/plain": [
              "      MEAN_RR   MEDIAN_RR        SDRR      RMSSD       SDSD  SDRR_RMSSD  \\\n",
              "0  885.157845  853.763730  140.972741  15.554505  15.553371    9.063146   \n",
              "1  939.425371  948.357865   81.317742  12.964439  12.964195    6.272369   \n",
              "2  898.186047  907.006860   84.497236  16.305279  16.305274    5.182201   \n",
              "3  881.757865  893.460030   90.370537  15.720468  15.720068    5.748591   \n",
              "4  809.625331  811.184865   62.766242  19.213819  19.213657    3.266724   \n",
              "\n",
              "          HR      pNN25     pNN50        SD1  ...         HF    HF_PCT  \\\n",
              "0  69.499952  11.133333  0.533333  11.001565  ...  15.522603  0.421047   \n",
              "1  64.363150   5.600000  0.000000   9.170129  ...   2.108525  0.070133   \n",
              "2  67.450066  13.066667  0.200000  11.533417  ...  13.769729  0.512671   \n",
              "3  68.809562  11.800000  0.133333  11.119476  ...  18.181913  0.529387   \n",
              "4  74.565728  20.200000  0.200000  13.590641  ...  48.215822  1.839473   \n",
              "\n",
              "      HF_NU           TP       LF_HF     HF_LF    sampen    higuci  datasetId  \\\n",
              "0  1.514737  3686.666157   65.018055  0.015380  2.139754  1.163485          2   \n",
              "1  0.304603  3006.487251  327.296635  0.003055  2.174499  1.084711          2   \n",
              "2  1.049528  2685.879461   94.280910  0.010607  2.135350  1.176315          2   \n",
              "3  1.775294  3434.520980   55.328701  0.018074  2.178341  1.179688          2   \n",
              "4  3.279993  2621.175204   29.487873  0.033912  2.221121  1.249612          2   \n",
              "\n",
              "   condition  \n",
              "0          0  \n",
              "1          1  \n",
              "2          1  \n",
              "3          0  \n",
              "4          0  \n",
              "\n",
              "[5 rows x 36 columns]"
            ],
            "text/html": [
              "\n",
              "  <div id=\"df-00a9a3a2-b063-480f-94e3-db9208039544\">\n",
              "    <div class=\"colab-df-container\">\n",
              "      <div>\n",
              "<style scoped>\n",
              "    .dataframe tbody tr th:only-of-type {\n",
              "        vertical-align: middle;\n",
              "    }\n",
              "\n",
              "    .dataframe tbody tr th {\n",
              "        vertical-align: top;\n",
              "    }\n",
              "\n",
              "    .dataframe thead th {\n",
              "        text-align: right;\n",
              "    }\n",
              "</style>\n",
              "<table border=\"1\" class=\"dataframe\">\n",
              "  <thead>\n",
              "    <tr style=\"text-align: right;\">\n",
              "      <th></th>\n",
              "      <th>MEAN_RR</th>\n",
              "      <th>MEDIAN_RR</th>\n",
              "      <th>SDRR</th>\n",
              "      <th>RMSSD</th>\n",
              "      <th>SDSD</th>\n",
              "      <th>SDRR_RMSSD</th>\n",
              "      <th>HR</th>\n",
              "      <th>pNN25</th>\n",
              "      <th>pNN50</th>\n",
              "      <th>SD1</th>\n",
              "      <th>...</th>\n",
              "      <th>HF</th>\n",
              "      <th>HF_PCT</th>\n",
              "      <th>HF_NU</th>\n",
              "      <th>TP</th>\n",
              "      <th>LF_HF</th>\n",
              "      <th>HF_LF</th>\n",
              "      <th>sampen</th>\n",
              "      <th>higuci</th>\n",
              "      <th>datasetId</th>\n",
              "      <th>condition</th>\n",
              "    </tr>\n",
              "  </thead>\n",
              "  <tbody>\n",
              "    <tr>\n",
              "      <th>0</th>\n",
              "      <td>885.157845</td>\n",
              "      <td>853.763730</td>\n",
              "      <td>140.972741</td>\n",
              "      <td>15.554505</td>\n",
              "      <td>15.553371</td>\n",
              "      <td>9.063146</td>\n",
              "      <td>69.499952</td>\n",
              "      <td>11.133333</td>\n",
              "      <td>0.533333</td>\n",
              "      <td>11.001565</td>\n",
              "      <td>...</td>\n",
              "      <td>15.522603</td>\n",
              "      <td>0.421047</td>\n",
              "      <td>1.514737</td>\n",
              "      <td>3686.666157</td>\n",
              "      <td>65.018055</td>\n",
              "      <td>0.015380</td>\n",
              "      <td>2.139754</td>\n",
              "      <td>1.163485</td>\n",
              "      <td>2</td>\n",
              "      <td>0</td>\n",
              "    </tr>\n",
              "    <tr>\n",
              "      <th>1</th>\n",
              "      <td>939.425371</td>\n",
              "      <td>948.357865</td>\n",
              "      <td>81.317742</td>\n",
              "      <td>12.964439</td>\n",
              "      <td>12.964195</td>\n",
              "      <td>6.272369</td>\n",
              "      <td>64.363150</td>\n",
              "      <td>5.600000</td>\n",
              "      <td>0.000000</td>\n",
              "      <td>9.170129</td>\n",
              "      <td>...</td>\n",
              "      <td>2.108525</td>\n",
              "      <td>0.070133</td>\n",
              "      <td>0.304603</td>\n",
              "      <td>3006.487251</td>\n",
              "      <td>327.296635</td>\n",
              "      <td>0.003055</td>\n",
              "      <td>2.174499</td>\n",
              "      <td>1.084711</td>\n",
              "      <td>2</td>\n",
              "      <td>1</td>\n",
              "    </tr>\n",
              "    <tr>\n",
              "      <th>2</th>\n",
              "      <td>898.186047</td>\n",
              "      <td>907.006860</td>\n",
              "      <td>84.497236</td>\n",
              "      <td>16.305279</td>\n",
              "      <td>16.305274</td>\n",
              "      <td>5.182201</td>\n",
              "      <td>67.450066</td>\n",
              "      <td>13.066667</td>\n",
              "      <td>0.200000</td>\n",
              "      <td>11.533417</td>\n",
              "      <td>...</td>\n",
              "      <td>13.769729</td>\n",
              "      <td>0.512671</td>\n",
              "      <td>1.049528</td>\n",
              "      <td>2685.879461</td>\n",
              "      <td>94.280910</td>\n",
              "      <td>0.010607</td>\n",
              "      <td>2.135350</td>\n",
              "      <td>1.176315</td>\n",
              "      <td>2</td>\n",
              "      <td>1</td>\n",
              "    </tr>\n",
              "    <tr>\n",
              "      <th>3</th>\n",
              "      <td>881.757865</td>\n",
              "      <td>893.460030</td>\n",
              "      <td>90.370537</td>\n",
              "      <td>15.720468</td>\n",
              "      <td>15.720068</td>\n",
              "      <td>5.748591</td>\n",
              "      <td>68.809562</td>\n",
              "      <td>11.800000</td>\n",
              "      <td>0.133333</td>\n",
              "      <td>11.119476</td>\n",
              "      <td>...</td>\n",
              "      <td>18.181913</td>\n",
              "      <td>0.529387</td>\n",
              "      <td>1.775294</td>\n",
              "      <td>3434.520980</td>\n",
              "      <td>55.328701</td>\n",
              "      <td>0.018074</td>\n",
              "      <td>2.178341</td>\n",
              "      <td>1.179688</td>\n",
              "      <td>2</td>\n",
              "      <td>0</td>\n",
              "    </tr>\n",
              "    <tr>\n",
              "      <th>4</th>\n",
              "      <td>809.625331</td>\n",
              "      <td>811.184865</td>\n",
              "      <td>62.766242</td>\n",
              "      <td>19.213819</td>\n",
              "      <td>19.213657</td>\n",
              "      <td>3.266724</td>\n",
              "      <td>74.565728</td>\n",
              "      <td>20.200000</td>\n",
              "      <td>0.200000</td>\n",
              "      <td>13.590641</td>\n",
              "      <td>...</td>\n",
              "      <td>48.215822</td>\n",
              "      <td>1.839473</td>\n",
              "      <td>3.279993</td>\n",
              "      <td>2621.175204</td>\n",
              "      <td>29.487873</td>\n",
              "      <td>0.033912</td>\n",
              "      <td>2.221121</td>\n",
              "      <td>1.249612</td>\n",
              "      <td>2</td>\n",
              "      <td>0</td>\n",
              "    </tr>\n",
              "  </tbody>\n",
              "</table>\n",
              "<p>5 rows × 36 columns</p>\n",
              "</div>\n",
              "      <button class=\"colab-df-convert\" onclick=\"convertToInteractive('df-00a9a3a2-b063-480f-94e3-db9208039544')\"\n",
              "              title=\"Convert this dataframe to an interactive table.\"\n",
              "              style=\"display:none;\">\n",
              "        \n",
              "  <svg xmlns=\"http://www.w3.org/2000/svg\" height=\"24px\"viewBox=\"0 0 24 24\"\n",
              "       width=\"24px\">\n",
              "    <path d=\"M0 0h24v24H0V0z\" fill=\"none\"/>\n",
              "    <path d=\"M18.56 5.44l.94 2.06.94-2.06 2.06-.94-2.06-.94-.94-2.06-.94 2.06-2.06.94zm-11 1L8.5 8.5l.94-2.06 2.06-.94-2.06-.94L8.5 2.5l-.94 2.06-2.06.94zm10 10l.94 2.06.94-2.06 2.06-.94-2.06-.94-.94-2.06-.94 2.06-2.06.94z\"/><path d=\"M17.41 7.96l-1.37-1.37c-.4-.4-.92-.59-1.43-.59-.52 0-1.04.2-1.43.59L10.3 9.45l-7.72 7.72c-.78.78-.78 2.05 0 2.83L4 21.41c.39.39.9.59 1.41.59.51 0 1.02-.2 1.41-.59l7.78-7.78 2.81-2.81c.8-.78.8-2.07 0-2.86zM5.41 20L4 18.59l7.72-7.72 1.47 1.35L5.41 20z\"/>\n",
              "  </svg>\n",
              "      </button>\n",
              "      \n",
              "  <style>\n",
              "    .colab-df-container {\n",
              "      display:flex;\n",
              "      flex-wrap:wrap;\n",
              "      gap: 12px;\n",
              "    }\n",
              "\n",
              "    .colab-df-convert {\n",
              "      background-color: #E8F0FE;\n",
              "      border: none;\n",
              "      border-radius: 50%;\n",
              "      cursor: pointer;\n",
              "      display: none;\n",
              "      fill: #1967D2;\n",
              "      height: 32px;\n",
              "      padding: 0 0 0 0;\n",
              "      width: 32px;\n",
              "    }\n",
              "\n",
              "    .colab-df-convert:hover {\n",
              "      background-color: #E2EBFA;\n",
              "      box-shadow: 0px 1px 2px rgba(60, 64, 67, 0.3), 0px 1px 3px 1px rgba(60, 64, 67, 0.15);\n",
              "      fill: #174EA6;\n",
              "    }\n",
              "\n",
              "    [theme=dark] .colab-df-convert {\n",
              "      background-color: #3B4455;\n",
              "      fill: #D2E3FC;\n",
              "    }\n",
              "\n",
              "    [theme=dark] .colab-df-convert:hover {\n",
              "      background-color: #434B5C;\n",
              "      box-shadow: 0px 1px 3px 1px rgba(0, 0, 0, 0.15);\n",
              "      filter: drop-shadow(0px 1px 2px rgba(0, 0, 0, 0.3));\n",
              "      fill: #FFFFFF;\n",
              "    }\n",
              "  </style>\n",
              "\n",
              "      <script>\n",
              "        const buttonEl =\n",
              "          document.querySelector('#df-00a9a3a2-b063-480f-94e3-db9208039544 button.colab-df-convert');\n",
              "        buttonEl.style.display =\n",
              "          google.colab.kernel.accessAllowed ? 'block' : 'none';\n",
              "\n",
              "        async function convertToInteractive(key) {\n",
              "          const element = document.querySelector('#df-00a9a3a2-b063-480f-94e3-db9208039544');\n",
              "          const dataTable =\n",
              "            await google.colab.kernel.invokeFunction('convertToInteractive',\n",
              "                                                     [key], {});\n",
              "          if (!dataTable) return;\n",
              "\n",
              "          const docLinkHtml = 'Like what you see? Visit the ' +\n",
              "            '<a target=\"_blank\" href=https://colab.research.google.com/notebooks/data_table.ipynb>data table notebook</a>'\n",
              "            + ' to learn more about interactive tables.';\n",
              "          element.innerHTML = '';\n",
              "          dataTable['output_type'] = 'display_data';\n",
              "          await google.colab.output.renderOutput(dataTable, element);\n",
              "          const docLink = document.createElement('div');\n",
              "          docLink.innerHTML = docLinkHtml;\n",
              "          element.appendChild(docLink);\n",
              "        }\n",
              "      </script>\n",
              "    </div>\n",
              "  </div>\n",
              "  "
            ]
          },
          "metadata": {},
          "execution_count": 29
        }
      ]
    },
    {
      "cell_type": "code",
      "source": [
        "#df_train_split, df_test_split = train_test_split(df_test, test_size=0.1, random_state=None)"
      ],
      "metadata": {
        "id": "u7XvEJ8UX1Nt"
      },
      "execution_count": null,
      "outputs": []
    },
    {
      "cell_type": "code",
      "source": [
        "#Split the datasets into train and test\n",
        "X_train, y_train, X_test, y_test = df_train.iloc[:, :-1].values, df_train.iloc[:, -1].values, df_test.iloc[:, :-1].values, df_test.iloc[:,-1].values"
      ],
      "metadata": {
        "id": "y_jBA38uhPsc"
      },
      "execution_count": null,
      "outputs": []
    },
    {
      "cell_type": "code",
      "source": [
        "PA_train, PA_label, PA_ID, PA_cat, PA_dtime = df_PA_all.iloc[:, 0:14].values, df_PA_all.iloc[:, 14].values, df_PA_all.iloc[:, 15].values, df_PA_all.iloc[:, 16].values, df_PA_all.iloc[:, 17].values"
      ],
      "metadata": {
        "id": "Hp-B5H-9V5kQ"
      },
      "execution_count": null,
      "outputs": []
    },
    {
      "cell_type": "code",
      "source": [
        "#split the sleep dataset\n",
        "sleep_test, sleep_label = df_sleep.iloc[:, :-3].values, df_sleep.iloc[:, -3].values"
      ],
      "metadata": {
        "id": "xrFkXCrLeRzj"
      },
      "execution_count": null,
      "outputs": []
    },
    {
      "cell_type": "code",
      "source": [
        "HRV_P1_test, HRV_P1_info = HRV_02A7005A.iloc[:,:-3].values, HRV_02A7005A.iloc[:, -3:].values"
      ],
      "metadata": {
        "id": "oZqxZP7Dybo6"
      },
      "execution_count": null,
      "outputs": []
    },
    {
      "cell_type": "code",
      "source": [
        "HRV_P2_test, HRV_P2_info = HRV_029E005A.iloc[:,:-3].values, HRV_029E005A.iloc[:, -3:].values"
      ],
      "metadata": {
        "id": "5a0Gw87yIq1U"
      },
      "execution_count": null,
      "outputs": []
    },
    {
      "cell_type": "code",
      "source": [
        "HRV_P3_test, HRV_P3_info = HRV_0275005A.iloc[:,:-3].values, HRV_0275005A.iloc[:, -3:].values"
      ],
      "metadata": {
        "id": "IqIEF4fXRaGG"
      },
      "execution_count": null,
      "outputs": []
    },
    {
      "cell_type": "code",
      "source": [
        "X_train.shape"
      ],
      "metadata": {
        "colab": {
          "base_uri": "https://localhost:8080/"
        },
        "id": "3uzNjSlXe6aP",
        "outputId": "fd83149e-b65c-4709-e551-a00d61fd591f"
      },
      "execution_count": null,
      "outputs": [
        {
          "output_type": "execute_result",
          "data": {
            "text/plain": [
              "(369289, 35)"
            ]
          },
          "metadata": {},
          "execution_count": 37
        }
      ]
    },
    {
      "cell_type": "code",
      "source": [
        "PA_train.shape"
      ],
      "metadata": {
        "colab": {
          "base_uri": "https://localhost:8080/"
        },
        "id": "drAOCJomWMZ9",
        "outputId": "43d42f0b-93fb-4e12-d41b-b067557cfe72"
      },
      "execution_count": null,
      "outputs": [
        {
          "output_type": "execute_result",
          "data": {
            "text/plain": [
              "(37026, 14)"
            ]
          },
          "metadata": {},
          "execution_count": 38
        }
      ]
    },
    {
      "cell_type": "code",
      "source": [
        "PA_train"
      ],
      "metadata": {
        "colab": {
          "base_uri": "https://localhost:8080/"
        },
        "id": "ZX9GUrGjz6xn",
        "outputId": "5244a4df-8815-4ad8-fe63-83de34bf809d"
      },
      "execution_count": null,
      "outputs": [
        {
          "output_type": "execute_result",
          "data": {
            "text/plain": [
              "array([[5.80000000e+02, 2.50000000e+01, 1.03448276e+02, ...,\n",
              "        2.16000000e+02, 9.10526300e+00, 1.09827000e-01],\n",
              "       [6.11000000e+02, 4.30000000e+01, 9.81996730e+01, ...,\n",
              "        2.26200000e+03, 2.28250000e+01, 4.38120000e-02],\n",
              "       [6.33000000e+02, 5.40000000e+01, 9.47867300e+01, ...,\n",
              "        2.27200000e+03, 1.00714290e+01, 9.92910000e-02],\n",
              "       ...,\n",
              "       [8.15000000e+02, 5.40000000e+01, 7.36196320e+01, ...,\n",
              "        2.44100000e+03, 2.02173900e+00, 4.94624000e-01],\n",
              "       [8.03000000e+02, 5.60000000e+01, 7.47198010e+01, ...,\n",
              "        3.28900000e+03, 9.11162000e-01, 1.09750000e+00],\n",
              "       [8.09000000e+02, 6.70000000e+01, 7.41656370e+01, ...,\n",
              "        3.87900000e+03, 9.11141000e-01, 1.09752500e+00]])"
            ]
          },
          "metadata": {},
          "execution_count": 39
        }
      ]
    },
    {
      "cell_type": "code",
      "source": [
        "PA_label"
      ],
      "metadata": {
        "colab": {
          "base_uri": "https://localhost:8080/"
        },
        "id": "1LUlerg5WPa3",
        "outputId": "faa04476-37b8-4dbf-8512-443a5bd15d2f"
      },
      "execution_count": null,
      "outputs": [
        {
          "output_type": "execute_result",
          "data": {
            "text/plain": [
              "array(['on patch', 'breakfast', 'breakfast', ..., 'leisure time-home',\n",
              "       'leisure time-home', 'leisure time-home'], dtype=object)"
            ]
          },
          "metadata": {},
          "execution_count": 40
        }
      ]
    },
    {
      "cell_type": "code",
      "source": [
        "PA_ID"
      ],
      "metadata": {
        "colab": {
          "base_uri": "https://localhost:8080/"
        },
        "id": "c07cxLtsWSAW",
        "outputId": "b173912b-49be-4ef1-ca6e-461c69d922a2"
      },
      "execution_count": null,
      "outputs": [
        {
          "output_type": "execute_result",
          "data": {
            "text/plain": [
              "array([1, 1, 1, ..., 4, 4, 4])"
            ]
          },
          "metadata": {},
          "execution_count": 41
        }
      ]
    },
    {
      "cell_type": "code",
      "source": [
        "PA_cat"
      ],
      "metadata": {
        "colab": {
          "base_uri": "https://localhost:8080/"
        },
        "id": "4B_a7SeJy8eg",
        "outputId": "4e1704d6-ad37-4fa7-c1ff-c0b9626e56fe"
      },
      "execution_count": null,
      "outputs": [
        {
          "output_type": "execute_result",
          "data": {
            "text/plain": [
              "array([-1, -1, -1, ..., -1, -1, -1])"
            ]
          },
          "metadata": {},
          "execution_count": 42
        }
      ]
    },
    {
      "cell_type": "code",
      "source": [
        "PA_dtime"
      ],
      "metadata": {
        "colab": {
          "base_uri": "https://localhost:8080/"
        },
        "id": "EAz1vEJmy-h7",
        "outputId": "1445d793-aad7-4e29-8c23-252a1f37ee42"
      },
      "execution_count": null,
      "outputs": [
        {
          "output_type": "execute_result",
          "data": {
            "text/plain": [
              "array(['2016-01-07 08:27:41', '2016-01-07 08:28:00',\n",
              "       '2016-01-07 08:28:38', ..., '2016-03-06 04:57:48',\n",
              "       '2016-03-06 05:00:18', '2016-03-06 05:02:47'], dtype=object)"
            ]
          },
          "metadata": {},
          "execution_count": 43
        }
      ]
    },
    {
      "cell_type": "code",
      "source": [
        "y_unlabeled = PA_cat\n",
        "y_unlabeled[:] = -1\n",
        "y_unlabeled"
      ],
      "metadata": {
        "colab": {
          "base_uri": "https://localhost:8080/"
        },
        "id": "V-zb__w1m98z",
        "outputId": "331291a9-7fc4-4159-a88d-af3ab3ccc433"
      },
      "execution_count": null,
      "outputs": [
        {
          "output_type": "execute_result",
          "data": {
            "text/plain": [
              "array([-1, -1, -1, ..., -1, -1, -1])"
            ]
          },
          "metadata": {},
          "execution_count": 44
        }
      ]
    },
    {
      "cell_type": "code",
      "source": [
        "sleep_test.shape"
      ],
      "metadata": {
        "colab": {
          "base_uri": "https://localhost:8080/"
        },
        "id": "eHdIMQwZfAq-",
        "outputId": "0ed81af3-b529-4e1d-834a-86e772f710f3"
      },
      "execution_count": null,
      "outputs": [
        {
          "output_type": "execute_result",
          "data": {
            "text/plain": [
              "(55, 14)"
            ]
          },
          "metadata": {},
          "execution_count": 45
        }
      ]
    },
    {
      "cell_type": "code",
      "source": [
        "sleep_condition=4-sleep_label\n",
        "sleep_condition"
      ],
      "metadata": {
        "colab": {
          "base_uri": "https://localhost:8080/"
        },
        "id": "dUrkceUgfFtm",
        "outputId": "7614fda9-a4a6-4f03-eee3-6d837ea68773"
      },
      "execution_count": null,
      "outputs": [
        {
          "output_type": "execute_result",
          "data": {
            "text/plain": [
              "array([0, 0, 0, 0, 0, 0, 0, 0, 1, 1, 1, 1, 0, 0, 0, 0, 0, 2, 1, 1, 1, 1,\n",
              "       0, 0, 0, 0, 0, 0, 0, 1, 0, 0, 0, 0, 0, 0, 0, 0, 0, 0, 1, 1, 1, 0,\n",
              "       0, 0, 2, 2, 2, 1, 0, 0, 2, 2, 1])"
            ]
          },
          "metadata": {},
          "execution_count": 46
        }
      ]
    },
    {
      "cell_type": "code",
      "source": [
        "HRV_P1_test.shape"
      ],
      "metadata": {
        "id": "tlhp5Ghb0Qr9",
        "colab": {
          "base_uri": "https://localhost:8080/"
        },
        "outputId": "1ca3b2a4-985d-4265-8005-1b9e981e21e7"
      },
      "execution_count": null,
      "outputs": [
        {
          "output_type": "execute_result",
          "data": {
            "text/plain": [
              "(6019, 14)"
            ]
          },
          "metadata": {},
          "execution_count": 47
        }
      ]
    },
    {
      "cell_type": "code",
      "source": [
        "HRV_P2_test.shape"
      ],
      "metadata": {
        "colab": {
          "base_uri": "https://localhost:8080/"
        },
        "id": "OKHiRG1QI2Pm",
        "outputId": "df0c5c8f-eb08-42c9-c1c7-9ba131329d95"
      },
      "execution_count": null,
      "outputs": [
        {
          "output_type": "execute_result",
          "data": {
            "text/plain": [
              "(6277, 14)"
            ]
          },
          "metadata": {},
          "execution_count": 48
        }
      ]
    },
    {
      "cell_type": "code",
      "source": [
        "HRV_P3_test.shape"
      ],
      "metadata": {
        "id": "Za8KJKwwRhh3",
        "colab": {
          "base_uri": "https://localhost:8080/"
        },
        "outputId": "7b4ae100-a3d4-495a-c98d-a3cd4c78ad97"
      },
      "execution_count": null,
      "outputs": [
        {
          "output_type": "execute_result",
          "data": {
            "text/plain": [
              "(2344, 14)"
            ]
          },
          "metadata": {},
          "execution_count": 49
        }
      ]
    },
    {
      "cell_type": "code",
      "source": [
        "display(HRV_P1_info)"
      ],
      "metadata": {
        "colab": {
          "base_uri": "https://localhost:8080/",
          "height": 144
        },
        "id": "4UYfKCU7y5sC",
        "outputId": "5882dc12-d201-4394-e52e-3e6d6fbaa260"
      },
      "execution_count": null,
      "outputs": [
        {
          "output_type": "display_data",
          "data": {
            "text/plain": [
              "array([[nan, '2016/10/27', '2016/10/27 18:11'],\n",
              "       [nan, '2016/10/27', '2016/10/27 18:14'],\n",
              "       [nan, '2016/10/27', '2016/10/27 18:16'],\n",
              "       ...,\n",
              "       [nan, '2016/11/11', '2016/11/11 11:00'],\n",
              "       [nan, '2016/11/11', '2016/11/11 11:02'],\n",
              "       [nan, '2016/11/11', '2016/11/11 11:05']], dtype=object)"
            ]
          },
          "metadata": {}
        }
      ]
    },
    {
      "cell_type": "code",
      "source": [
        "display(HRV_P2_info)"
      ],
      "metadata": {
        "colab": {
          "base_uri": "https://localhost:8080/",
          "height": 144
        },
        "id": "_ZEvJqg1I7SJ",
        "outputId": "4a6123e5-a3de-494b-daa0-1588615c9930"
      },
      "execution_count": null,
      "outputs": [
        {
          "output_type": "display_data",
          "data": {
            "text/plain": [
              "array([[nan, '2016/11/7', '2016/11/7 18:24'],\n",
              "       [nan, '2016/11/23', '2016/11/23 13:01'],\n",
              "       [nan, '2016/11/23', '2016/11/23 13:01'],\n",
              "       ...,\n",
              "       [nan, '2016/12/8', '2016/12/8 21:22'],\n",
              "       [nan, '2016/12/8', '2016/12/8 21:25'],\n",
              "       [nan, '2016/12/8', '2016/12/8 21:27']], dtype=object)"
            ]
          },
          "metadata": {}
        }
      ]
    },
    {
      "cell_type": "code",
      "source": [
        "display(HRV_P3_info)"
      ],
      "metadata": {
        "id": "qRpvYLx7RofP",
        "colab": {
          "base_uri": "https://localhost:8080/",
          "height": 144
        },
        "outputId": "8c1ede3d-a088-4561-d000-57f49f7e6d5c"
      },
      "execution_count": null,
      "outputs": [
        {
          "output_type": "display_data",
          "data": {
            "text/plain": [
              "array([[nan, '2016/11/7', '2016/11/7 15:39'],\n",
              "       [nan, '2016/11/7', '2016/11/7 15:40'],\n",
              "       [nan, '2016/11/7', '2016/11/7 15:40'],\n",
              "       ...,\n",
              "       [nan, '2016/11/19', '2016/11/19 17:39'],\n",
              "       [nan, '2016/11/19', '2016/11/19 17:39'],\n",
              "       [nan, '2016/11/19', '2016/11/19 17:41']], dtype=object)"
            ]
          },
          "metadata": {}
        }
      ]
    },
    {
      "cell_type": "code",
      "source": [
        "#Split the datasets into train and test\n",
        "#X_train, y_train, X_test, y_test = df_train_split.iloc[:, :-1].values, df_train_split.iloc[:, -1].values, df_test_split.iloc[:, :-1].values, df_test_split.iloc[:,-1].values"
      ],
      "metadata": {
        "id": "A3FM7pkQYyVy"
      },
      "execution_count": null,
      "outputs": []
    },
    {
      "cell_type": "code",
      "source": [
        "#sScaler = StandardScaler()"
      ],
      "metadata": {
        "id": "NIOzCAy9-ZoL"
      },
      "execution_count": null,
      "outputs": []
    },
    {
      "cell_type": "code",
      "source": [
        "#sScaler.fit(X_train)"
      ],
      "metadata": {
        "id": "HM0ZiKkzAKfw"
      },
      "execution_count": null,
      "outputs": []
    },
    {
      "cell_type": "code",
      "source": [
        "#X_train = sScaler.transform(X_train)\n",
        "#X_test = sScaler.transform(X_test)"
      ],
      "metadata": {
        "id": "c6KnhFo5AgNu"
      },
      "execution_count": null,
      "outputs": []
    },
    {
      "cell_type": "code",
      "source": [
        "SelectFeature = SelectKBest(f_classif, k=20)"
      ],
      "metadata": {
        "id": "m-gqehqK-dFM"
      },
      "execution_count": null,
      "outputs": []
    },
    {
      "cell_type": "code",
      "source": [
        "X_train.shape"
      ],
      "metadata": {
        "colab": {
          "base_uri": "https://localhost:8080/"
        },
        "id": "ILhzxn0o_0lz",
        "outputId": "d7dfde25-1960-4dcf-d976-c0f3647698c5"
      },
      "execution_count": null,
      "outputs": [
        {
          "output_type": "execute_result",
          "data": {
            "text/plain": [
              "(369289, 35)"
            ]
          },
          "metadata": {},
          "execution_count": 58
        }
      ]
    },
    {
      "cell_type": "code",
      "source": [
        "X_train_new = SelectFeature.fit_transform(X_train, y_train)\n",
        "SelectFeature.get_support(True)"
      ],
      "metadata": {
        "colab": {
          "base_uri": "https://localhost:8080/"
        },
        "id": "1NA81zwz-nsB",
        "outputId": "eacc7b05-d308-4810-eb44-291ab2e6cefb"
      },
      "execution_count": null,
      "outputs": [
        {
          "output_type": "stream",
          "name": "stderr",
          "text": [
            "/usr/local/lib/python3.7/dist-packages/sklearn/feature_selection/_univariate_selection.py:112: UserWarning: Features [34] are constant.\n",
            "  warnings.warn(\"Features %s are constant.\" % constant_features_idx, UserWarning)\n",
            "/usr/local/lib/python3.7/dist-packages/sklearn/feature_selection/_univariate_selection.py:113: RuntimeWarning: invalid value encountered in true_divide\n",
            "  f = msb / msw\n"
          ]
        },
        {
          "output_type": "execute_result",
          "data": {
            "text/plain": [
              "array([ 0,  1,  3,  4,  6,  7,  9, 18, 21, 22, 23, 24, 25, 27, 28, 29, 30,\n",
              "       31, 32, 33])"
            ]
          },
          "metadata": {},
          "execution_count": 59
        }
      ]
    },
    {
      "cell_type": "code",
      "source": [
        "filter_autoselect=SelectFeature.get_support()\n",
        "filter_autoselect"
      ],
      "metadata": {
        "colab": {
          "base_uri": "https://localhost:8080/"
        },
        "id": "ksi08i81aqAF",
        "outputId": "fbb93415-567f-4515-ba91-4b524350018e"
      },
      "execution_count": null,
      "outputs": [
        {
          "output_type": "execute_result",
          "data": {
            "text/plain": [
              "array([ True,  True, False,  True,  True, False,  True,  True, False,\n",
              "        True, False, False, False, False, False, False, False, False,\n",
              "        True, False, False,  True,  True,  True,  True,  True, False,\n",
              "        True,  True,  True,  True,  True,  True,  True, False])"
            ]
          },
          "metadata": {},
          "execution_count": 60
        }
      ]
    },
    {
      "cell_type": "code",
      "source": [
        "# filter for the top 3 out of 14\n",
        "filter_top3 = [ False,  False, True, False, False, False,  False,  False, False,\n",
        "       False, False, False, False, False, False, False, False, False,\n",
        "       False, False, False, False, False,  True, False, False, True,\n",
        "       False, False, False, False, False, False, False, False]"
      ],
      "metadata": {
        "id": "_hz3UdzfcmLY"
      },
      "execution_count": null,
      "outputs": []
    },
    {
      "cell_type": "code",
      "source": [
        "# filter for the top 7 out of 14\n",
        "filter_top7 = [ True,  False, True, False, False, False,  True,  False, False,\n",
        "       False, False, False, False, False, False, False, False, False,\n",
        "       False, False, False, True, False,  True, False, False, True,\n",
        "       False, False, True, False, False, False, False, False]"
      ],
      "metadata": {
        "id": "m4rmua_fw9Mn"
      },
      "execution_count": null,
      "outputs": []
    },
    {
      "cell_type": "code",
      "source": [
        "# filter for the common 14 features \n",
        "filter = [ True,  False, True, False, False, False,  True,  False, False,\n",
        "       False, False, False, False, False, False, False, False, False,\n",
        "       False, False, False, True, True,  True, True, True, True,\n",
        "       True, True, True, True, True, False, False, False]"
      ],
      "metadata": {
        "id": "Mk0EB6yLuqea"
      },
      "execution_count": null,
      "outputs": []
    },
    {
      "cell_type": "code",
      "source": [
        "X_train_new = X_train[:,filter]\n",
        "X_train_new.shape"
      ],
      "metadata": {
        "colab": {
          "base_uri": "https://localhost:8080/"
        },
        "id": "cbFlzpQy_zh_",
        "outputId": "e771dda8-2b65-43af-cad8-195b7b4de010"
      },
      "execution_count": null,
      "outputs": [
        {
          "output_type": "execute_result",
          "data": {
            "text/plain": [
              "(369289, 14)"
            ]
          },
          "metadata": {},
          "execution_count": 63
        }
      ]
    },
    {
      "cell_type": "code",
      "source": [
        "X_test_new = X_test[:,filter]\n",
        "X_test_new.shape"
      ],
      "metadata": {
        "colab": {
          "base_uri": "https://localhost:8080/"
        },
        "id": "_K2yMoiK_42m",
        "outputId": "f3c8f3bb-c6a7-4265-b67d-a4229ef229e9"
      },
      "execution_count": null,
      "outputs": [
        {
          "output_type": "execute_result",
          "data": {
            "text/plain": [
              "(41033, 14)"
            ]
          },
          "metadata": {},
          "execution_count": 64
        }
      ]
    },
    {
      "cell_type": "code",
      "source": [
        "#print(X_train_new[0:5,:])"
      ],
      "metadata": {
        "id": "lrtNGwbiNvZl"
      },
      "execution_count": null,
      "outputs": []
    },
    {
      "cell_type": "code",
      "source": [
        "#train_xc=X_train_new[:,0]\n",
        "#train_yc=X_train_new[:,1]\n",
        "#train_zc=X_train_new[:,2]"
      ],
      "metadata": {
        "id": "dnpQVC3OUk4Z"
      },
      "execution_count": null,
      "outputs": []
    },
    {
      "cell_type": "code",
      "source": [
        "#print(X_test_new[0:5,:])"
      ],
      "metadata": {
        "id": "SyLYFiMrsnq4"
      },
      "execution_count": null,
      "outputs": []
    },
    {
      "cell_type": "code",
      "source": [
        "#test_xc=X_test_new[:,0]\n",
        "#test_yc=X_test_new[:,1]\n",
        "#test_zc=X_test_new[:,2]"
      ],
      "metadata": {
        "id": "pxYgh2x_VVfN"
      },
      "execution_count": null,
      "outputs": []
    },
    {
      "cell_type": "code",
      "source": [
        "#colormap = np.array(['r', 'g', 'b'])"
      ],
      "metadata": {
        "id": "7Hnqk9ZnUmDL"
      },
      "execution_count": null,
      "outputs": []
    },
    {
      "cell_type": "code",
      "source": [
        "#fig = plt.figure()\n",
        "#ax = fig.gca(projection='3d')\n",
        "\n",
        "#ax.scatter(train_yc, train_xc, train_zc, s=1, c=colormap[y_train])\n",
        "#plt.show()"
      ],
      "metadata": {
        "id": "6sClXZaPY7yQ"
      },
      "execution_count": null,
      "outputs": []
    },
    {
      "cell_type": "code",
      "source": [
        "#fig = plt.figure()\n",
        "#ax = fig.gca(projection='3d')\n",
        "\n",
        "#ax.scatter(test_yc, test_xc, test_zc, s=1, c=colormap[y_test])\n",
        "#plt.show()"
      ],
      "metadata": {
        "id": "8-kgbxZrWuqa"
      },
      "execution_count": null,
      "outputs": []
    },
    {
      "cell_type": "code",
      "source": [],
      "metadata": {
        "id": "7C5Ymu2dwx_Q"
      },
      "execution_count": null,
      "outputs": []
    },
    {
      "cell_type": "code",
      "source": [
        "X_train_mixed = np.concatenate((X_train_new, PA_train),axis=0)\n",
        "y_train_mixed = np.concatenate((y_train, y_unlabeled), axis=0)\n",
        "print(X_train_new.shape)\n",
        "print(PA_train.shape)\n",
        "print(X_train_mixed.shape)\n",
        "print(y_train.shape)\n",
        "print(y_unlabeled.shape)\n",
        "print(y_train_mixed.shape)"
      ],
      "metadata": {
        "colab": {
          "base_uri": "https://localhost:8080/"
        },
        "id": "9pki6Tdioast",
        "outputId": "8a9ddd0e-7e50-485f-8549-36ebaf6b307c"
      },
      "execution_count": null,
      "outputs": [
        {
          "output_type": "stream",
          "name": "stdout",
          "text": [
            "(369289, 14)\n",
            "(37026, 14)\n",
            "(406315, 14)\n",
            "(369289,)\n",
            "(37026,)\n",
            "(406315,)\n"
          ]
        }
      ]
    },
    {
      "cell_type": "code",
      "source": [
        "label_prop_model = LabelSpreading(kernel='knn', n_neighbors=100, max_iter=30, n_jobs=-1)\n",
        "label_prop_model.fit(X_train_mixed, y_train_mixed)"
      ],
      "metadata": {
        "colab": {
          "base_uri": "https://localhost:8080/"
        },
        "id": "brsVHajlpyQG",
        "outputId": "5477f4d0-e6ac-4189-d11b-b07e0a7efacb"
      },
      "execution_count": null,
      "outputs": [
        {
          "output_type": "execute_result",
          "data": {
            "text/plain": [
              "LabelSpreading(kernel='knn', n_jobs=-1, n_neighbors=100)"
            ]
          },
          "metadata": {},
          "execution_count": 73
        }
      ]
    },
    {
      "cell_type": "code",
      "source": [
        "pd.DataFrame(label_prop_model.transduction_[-y_unlabeled.size:]).to_csv(\"/content/drive/MyDrive/SWELL/hrv PA/swell_label_transduction_to_PA_knn100.csv\")"
      ],
      "metadata": {
        "id": "HkwzC-nYs4C9"
      },
      "execution_count": null,
      "outputs": []
    },
    {
      "cell_type": "code",
      "source": [
        "label_prop_model = LabelSpreading(kernel='knn', n_neighbors=10, max_iter=30, n_jobs=-1)\n",
        "label_prop_model.fit(X_train_mixed, y_train_mixed)"
      ],
      "metadata": {
        "colab": {
          "base_uri": "https://localhost:8080/"
        },
        "outputId": "94fc1e44-9776-409c-f4d8-eb06e37710ad",
        "id": "Bl35wKk-0vkG"
      },
      "execution_count": null,
      "outputs": [
        {
          "output_type": "execute_result",
          "data": {
            "text/plain": [
              "LabelSpreading(kernel='knn', n_jobs=-1, n_neighbors=10)"
            ]
          },
          "metadata": {},
          "execution_count": 75
        }
      ]
    },
    {
      "cell_type": "code",
      "source": [
        "pd.DataFrame(label_prop_model.transduction_[-y_unlabeled.size:]).to_csv(\"/content/drive/MyDrive/SWELL/hrv PA/swell_label_transduction_to_PA_knn10.csv\")"
      ],
      "metadata": {
        "id": "ZSY6IXhl0vkL"
      },
      "execution_count": null,
      "outputs": []
    },
    {
      "cell_type": "code",
      "source": [
        "label_prop_model = LabelSpreading(kernel='knn', n_neighbors=7, max_iter=30, n_jobs=-1)\n",
        "label_prop_model.fit(X_train_mixed, y_train_mixed)"
      ],
      "metadata": {
        "colab": {
          "base_uri": "https://localhost:8080/"
        },
        "outputId": "2d92aeb2-b93f-471d-a4ad-6180109db2a5",
        "id": "eEQ1hP711BQw"
      },
      "execution_count": null,
      "outputs": [
        {
          "output_type": "execute_result",
          "data": {
            "text/plain": [
              "LabelSpreading(kernel='knn', n_jobs=-1)"
            ]
          },
          "metadata": {},
          "execution_count": 77
        }
      ]
    },
    {
      "cell_type": "code",
      "source": [
        "pd.DataFrame(label_prop_model.transduction_[-y_unlabeled.size:]).to_csv(\"/content/drive/MyDrive/SWELL/hrv PA/swell_label_transduction_to_PA_knn7.csv\")"
      ],
      "metadata": {
        "id": "67NV9iKG1BQ0"
      },
      "execution_count": null,
      "outputs": []
    },
    {
      "cell_type": "code",
      "source": [
        "# Random Forest Model\n",
        "RFC = RandomForestClassifier(n_estimators=100, max_features='log2', n_jobs=-1)"
      ],
      "metadata": {
        "id": "5i-E2Ga5KIeu"
      },
      "execution_count": null,
      "outputs": []
    },
    {
      "cell_type": "code",
      "source": [
        "RFC.fit(X_train_new, y_train)"
      ],
      "metadata": {
        "colab": {
          "base_uri": "https://localhost:8080/"
        },
        "id": "Aqe2c2bllVDC",
        "outputId": "490f749d-5096-4d4a-dd00-3b87283235c5"
      },
      "execution_count": null,
      "outputs": [
        {
          "output_type": "execute_result",
          "data": {
            "text/plain": [
              "RandomForestClassifier(max_features='log2', n_jobs=-1)"
            ]
          },
          "metadata": {},
          "execution_count": 80
        }
      ]
    },
    {
      "cell_type": "code",
      "source": [
        "RFC.score(X_test_new, y_test)"
      ],
      "metadata": {
        "colab": {
          "base_uri": "https://localhost:8080/"
        },
        "id": "WUIcQtXI-DLm",
        "outputId": "57633a93-382d-4fe5-cc84-5e0476501c63"
      },
      "execution_count": null,
      "outputs": [
        {
          "output_type": "execute_result",
          "data": {
            "text/plain": [
              "0.9999756293714815"
            ]
          },
          "metadata": {},
          "execution_count": 81
        }
      ]
    },
    {
      "cell_type": "code",
      "source": [
        "RFC_cf=confusion_matrix(y_test, RFC.predict(X_test_new))\n",
        "print(RFC_cf)"
      ],
      "metadata": {
        "colab": {
          "base_uri": "https://localhost:8080/"
        },
        "id": "sHhvJP6c4nZl",
        "outputId": "5175c014-6a1f-4300-c9c0-eb9db1388f5c"
      },
      "execution_count": null,
      "outputs": [
        {
          "output_type": "stream",
          "name": "stdout",
          "text": [
            "[[22157     1     0]\n",
            " [    0 11782     0]\n",
            " [    0     0  7093]]\n"
          ]
        }
      ]
    },
    {
      "cell_type": "code",
      "source": [
        "import time\n",
        "\n",
        "start_time = time.time()\n",
        "importances = RFC.feature_importances_\n",
        "std = np.std([tree.feature_importances_ for tree in RFC.estimators_], axis=0)\n",
        "elapsed_time = time.time() - start_time\n",
        "\n",
        "print(f\"Elapsed time to compute the importances: {elapsed_time:.3f} seconds\")\n"
      ],
      "metadata": {
        "colab": {
          "base_uri": "https://localhost:8080/"
        },
        "id": "VKVeG955-m4A",
        "outputId": "a1e782e4-d01b-42f9-bc5a-031be68ba91f"
      },
      "execution_count": null,
      "outputs": [
        {
          "output_type": "stream",
          "name": "stdout",
          "text": [
            "Elapsed time to compute the importances: 0.110 seconds\n"
          ]
        }
      ]
    },
    {
      "cell_type": "code",
      "source": [
        "#feature_names = [f\"feature {i}\" for i in range(X_train_new.shape[1])]\n",
        "feature_names = [\"MEAN_RR\", \"SDRR\", \"HR\", \"VLF\", \"VLF%\", \"LF\", \"LF%\", \"LF norm%\", \"HF\", \"HF%\", \"HF norm%\", \"TP\", \"LF/HF\", \"HF/LF\"]\n",
        "print(feature_names)\n",
        "forest_importances = pd.Series(importances, index=feature_names)\n",
        "\n",
        "fig, ax = plt.subplots()\n",
        "forest_importances.plot.bar(yerr=std, ax=ax)\n",
        "ax.set_title(\"Feature importances using MDI\")\n",
        "ax.set_ylabel(\"Mean decrease in impurity\")\n",
        "fig.tight_layout()\n",
        "fig.savefig(\"Figure 1.png\", dpi=300, format='png')\n",
        "plt.show()"
      ],
      "metadata": {
        "colab": {
          "base_uri": "https://localhost:8080/",
          "height": 315
        },
        "id": "Yt63EQ6C_HF4",
        "outputId": "951431f5-f37d-4da3-bb50-ff84df519717"
      },
      "execution_count": null,
      "outputs": [
        {
          "output_type": "stream",
          "name": "stdout",
          "text": [
            "['MEAN_RR', 'SDRR', 'HR', 'VLF', 'VLF%', 'LF', 'LF%', 'LF norm%', 'HF', 'HF%', 'HF norm%', 'TP', 'LF/HF', 'HF/LF']\n"
          ]
        },
        {
          "output_type": "display_data",
          "data": {
            "text/plain": [
              "<Figure size 432x288 with 1 Axes>"
            ],
            "image/png": "[encoded data removed]"
          },
          "metadata": {
            "needs_background": "light"
          }
        }
      ]
    },
    {
      "cell_type": "code",
      "source": [
        "from sklearn.inspection import permutation_importance\n",
        "\n",
        "start_time = time.time()\n",
        "result = permutation_importance(RFC, X_test_new, y_test, n_repeats=10, random_state=42, n_jobs=2)\n",
        "elapsed_time = time.time() - start_time\n",
        "print(f\"Elapsed time to compute the importances: {elapsed_time:.3f} seconds\")\n",
        "\n",
        "forest_importances = pd.Series(result.importances_mean, index=feature_names)"
      ],
      "metadata": {
        "colab": {
          "base_uri": "https://localhost:8080/"
        },
        "id": "pmblbM0RDB5M",
        "outputId": "fc2aebda-d952-4e56-fce0-ce2007b00543"
      },
      "execution_count": null,
      "outputs": [
        {
          "output_type": "stream",
          "name": "stdout",
          "text": [
            "Elapsed time to compute the importances: 75.921 seconds\n"
          ]
        }
      ]
    },
    {
      "cell_type": "code",
      "source": [
        "fig, ax = plt.subplots()\n",
        "forest_importances.plot.bar(yerr=result.importances_std, ax=ax)\n",
        "ax.set_title(\"Feature importances using permutation on full model\")\n",
        "ax.set_ylabel(\"Mean accuracy decrease\")\n",
        "fig.tight_layout()\n",
        "fig.savefig(\"Figure 2.png\", dpi=300, format='png')\n",
        "plt.show()"
      ],
      "metadata": {
        "colab": {
          "base_uri": "https://localhost:8080/",
          "height": 297
        },
        "id": "5RwfRk5IDeMo",
        "outputId": "16f579da-8233-47ca-874f-00d52dd36034"
      },
      "execution_count": null,
      "outputs": [
        {
          "output_type": "display_data",
          "data": {
            "text/plain": [
              "<Figure size 432x288 with 1 Axes>"
            ],
            "image/png": "[encoded data removed]"
          },
          "metadata": {
            "needs_background": "light"
          }
        }
      ]
    },
    {
      "cell_type": "code",
      "source": [
        "#Adaboost model\n",
        "# Instantiate dt\n",
        "DTC = DecisionTreeClassifier(max_depth=2, random_state=1)\n",
        "# Instantiate ada\n",
        "ADA = AdaBoostClassifier(base_estimator=DTC, n_estimators=100, random_state=1)\n",
        "ADA.fit(X_train_new, y_train)"
      ],
      "metadata": {
        "colab": {
          "base_uri": "https://localhost:8080/"
        },
        "id": "yxK4jKzVIMEM",
        "outputId": "502845df-dd8a-4e92-e19f-1a25963d59a4"
      },
      "execution_count": null,
      "outputs": [
        {
          "output_type": "execute_result",
          "data": {
            "text/plain": [
              "AdaBoostClassifier(base_estimator=DecisionTreeClassifier(max_depth=2,\n",
              "                                                         random_state=1),\n",
              "                   n_estimators=100, random_state=1)"
            ]
          },
          "metadata": {},
          "execution_count": 80
        }
      ]
    },
    {
      "cell_type": "code",
      "source": [
        "y_pred_proba = ADA.predict_proba(X_test_new)"
      ],
      "metadata": {
        "id": "HchI9I78IPqV"
      },
      "execution_count": null,
      "outputs": []
    },
    {
      "cell_type": "code",
      "source": [
        "#ada_roc_auc = roc_auc_score(y_test, y_pred_proba)\n",
        "#print('ROC AUC score: {:.2f}'.format(ada_roc_auc))\n",
        "ADA.score(X_test_new, y_test)"
      ],
      "metadata": {
        "colab": {
          "base_uri": "https://localhost:8080/"
        },
        "id": "XbcdCtefISDA",
        "outputId": "78c5456e-b024-48fc-cd3a-7338d473be5c"
      },
      "execution_count": null,
      "outputs": [
        {
          "output_type": "execute_result",
          "data": {
            "text/plain": [
              "0.7697706723856408"
            ]
          },
          "metadata": {},
          "execution_count": 82
        }
      ]
    },
    {
      "cell_type": "code",
      "source": [
        "ADA_y_predict = ADA.predict(X_test_new)\n",
        "ADA_cf=confusion_matrix(y_test, ADA_y_predict)\n",
        "print(metrics.classification_report(y_test, ADA_y_predict))"
      ],
      "metadata": {
        "colab": {
          "base_uri": "https://localhost:8080/"
        },
        "id": "BZX1LQX7IWCO",
        "outputId": "97c0becd-a8a2-437d-c99a-e69069d6f238"
      },
      "execution_count": null,
      "outputs": [
        {
          "output_type": "stream",
          "name": "stdout",
          "text": [
            "              precision    recall  f1-score   support\n",
            "\n",
            "           0       0.81      0.80      0.81     22158\n",
            "           1       0.71      0.74      0.72     11782\n",
            "           2       0.74      0.73      0.74      7093\n",
            "\n",
            "    accuracy                           0.77     41033\n",
            "   macro avg       0.75      0.76      0.76     41033\n",
            "weighted avg       0.77      0.77      0.77     41033\n",
            "\n"
          ]
        }
      ]
    },
    {
      "cell_type": "code",
      "source": [
        "metrics.ConfusionMatrixDisplay.from_predictions(y_test, ADA_y_predict, display_labels=ADA.classes_, \n",
        "                                                normalize=None, cmap=plt.cm.Blues)\n",
        "plt.show()"
      ],
      "metadata": {
        "colab": {
          "base_uri": "https://localhost:8080/",
          "height": 279
        },
        "outputId": "cdff99e8-6ad8-4f59-cf39-5e7ea9d6bee3",
        "id": "KSJJe51Y3FPm"
      },
      "execution_count": null,
      "outputs": [
        {
          "output_type": "display_data",
          "data": {
            "text/plain": [
              "<Figure size 432x288 with 2 Axes>"
            ],
            "image/png": "[encoded data removed]"
          },
          "metadata": {
            "needs_background": "light"
          }
        }
      ]
    },
    {
      "cell_type": "code",
      "source": [
        "metrics.ConfusionMatrixDisplay.from_predictions(y_test, ADA_y_predict, display_labels=ADA.classes_, \n",
        "                                                normalize='true', cmap=plt.cm.Blues)\n",
        "plt.show()"
      ],
      "metadata": {
        "colab": {
          "base_uri": "https://localhost:8080/",
          "height": 279
        },
        "outputId": "58dea9a5-5dcb-4d56-c44d-d2bcec7a3bbd",
        "id": "qle5LnyL3FPt"
      },
      "execution_count": null,
      "outputs": [
        {
          "output_type": "display_data",
          "data": {
            "text/plain": [
              "<Figure size 432x288 with 2 Axes>"
            ],
            "image/png": "[encoded data removed]"
          },
          "metadata": {
            "needs_background": "light"
          }
        }
      ]
    },
    {
      "cell_type": "code",
      "source": [
        "#xgb model\n",
        "XGB = XGBClassifier()"
      ],
      "metadata": {
        "id": "YHKd87xpIj5k"
      },
      "execution_count": null,
      "outputs": []
    },
    {
      "cell_type": "code",
      "source": [
        "#fit the model\n",
        "XGB.fit(X_train_new, y_train)"
      ],
      "metadata": {
        "colab": {
          "base_uri": "https://localhost:8080/"
        },
        "id": "t1cXHWPsI0iY",
        "outputId": "67133b2d-d564-4596-b294-970892c69223"
      },
      "execution_count": null,
      "outputs": [
        {
          "output_type": "execute_result",
          "data": {
            "text/plain": [
              "XGBClassifier(objective='multi:softprob')"
            ]
          },
          "metadata": {},
          "execution_count": 87
        }
      ]
    },
    {
      "cell_type": "code",
      "source": [
        "XGB.score(X_test_new, y_test)"
      ],
      "metadata": {
        "colab": {
          "base_uri": "https://localhost:8080/"
        },
        "id": "nAggLVF1I3x4",
        "outputId": "0648ba2e-5d99-4f35-a94f-97a3ca38e5a7"
      },
      "execution_count": null,
      "outputs": [
        {
          "output_type": "execute_result",
          "data": {
            "text/plain": [
              "0.8123949016645139"
            ]
          },
          "metadata": {},
          "execution_count": 88
        }
      ]
    },
    {
      "cell_type": "code",
      "source": [
        "XGB_y_predict = XGB.predict(X_test_new)\n",
        "XGB_cf=confusion_matrix(y_test, XGB_y_predict)\n",
        "print(metrics.classification_report(y_test, XGB_y_predict))"
      ],
      "metadata": {
        "colab": {
          "base_uri": "https://localhost:8080/"
        },
        "outputId": "6278ed8e-83af-49f3-8892-e6d46bf279ff",
        "id": "JFrNtQ3m4I6G"
      },
      "execution_count": null,
      "outputs": [
        {
          "output_type": "stream",
          "name": "stdout",
          "text": [
            "              precision    recall  f1-score   support\n",
            "\n",
            "           0       0.79      0.93      0.86     22158\n",
            "           1       0.86      0.71      0.78     11782\n",
            "           2       0.83      0.62      0.71      7093\n",
            "\n",
            "    accuracy                           0.81     41033\n",
            "   macro avg       0.83      0.75      0.78     41033\n",
            "weighted avg       0.82      0.81      0.81     41033\n",
            "\n"
          ]
        }
      ]
    },
    {
      "cell_type": "code",
      "source": [
        "metrics.ConfusionMatrixDisplay.from_predictions(y_test, XGB_y_predict, display_labels=XGB.classes_, \n",
        "                                                normalize=None, cmap=plt.cm.Blues)\n",
        "plt.show()"
      ],
      "metadata": {
        "colab": {
          "base_uri": "https://localhost:8080/",
          "height": 279
        },
        "outputId": "78e898a1-b30f-4af8-a268-07c903c63492",
        "id": "wvY1NLPb4I6J"
      },
      "execution_count": null,
      "outputs": [
        {
          "output_type": "display_data",
          "data": {
            "text/plain": [
              "<Figure size 432x288 with 2 Axes>"
            ],
            "image/png": "[encoded data removed]"
          },
          "metadata": {
            "needs_background": "light"
          }
        }
      ]
    },
    {
      "cell_type": "code",
      "source": [
        "metrics.ConfusionMatrixDisplay.from_predictions(y_test, XGB_y_predict, display_labels=XGB.classes_, \n",
        "                                                normalize='true', cmap=plt.cm.Blues)\n",
        "plt.show()"
      ],
      "metadata": {
        "colab": {
          "base_uri": "https://localhost:8080/",
          "height": 279
        },
        "outputId": "cacf1658-5c22-4b30-9a72-dbb062608765",
        "id": "d_iK_Nnh4I6M"
      },
      "execution_count": null,
      "outputs": [
        {
          "output_type": "display_data",
          "data": {
            "text/plain": [
              "<Figure size 432x288 with 2 Axes>"
            ],
            "image/png": "[encoded data removed]"
          },
          "metadata": {
            "needs_background": "light"
          }
        }
      ]
    },
    {
      "cell_type": "code",
      "source": [
        "#Multi-layer NN model 20 hidden layers 300 nodes\n",
        "#MLPC = MLPClassifier(solver='adam', activation='relu', hidden_layer_sizes=(20, 300), \n",
        "#                     max_iter=10000, early_stopping=True, random_state=42)"
      ],
      "metadata": {
        "id": "c68UjmVfmz_3"
      },
      "execution_count": null,
      "outputs": []
    },
    {
      "cell_type": "code",
      "source": [
        "#MLPC.fit(X_train_new, y_train)"
      ],
      "metadata": {
        "id": "_2ga4aaKm7Fq"
      },
      "execution_count": null,
      "outputs": []
    },
    {
      "cell_type": "code",
      "source": [
        "#MLPC.score(X_test_new, y_test)"
      ],
      "metadata": {
        "id": "wWkfiNTsojWG"
      },
      "execution_count": null,
      "outputs": []
    },
    {
      "cell_type": "code",
      "source": [
        "#MLPC_y_predict = MLPC.predict(X_test_new)\n",
        "#MLPC_cf=confusion_matrix(y_test, MLPC_y_predict)\n",
        "#print(metrics.classification_report(y_test, MLPC_y_predict))"
      ],
      "metadata": {
        "id": "5NL_CcQo46W6"
      },
      "execution_count": null,
      "outputs": []
    },
    {
      "cell_type": "code",
      "source": [
        "#metrics.ConfusionMatrixDisplay.from_predictions(y_test, MLPC_y_predict, display_labels=MLPC.classes_, \n",
        "#                                                normalize=None, cmap=plt.cm.Blues)\n",
        "#plt.show()"
      ],
      "metadata": {
        "id": "nD00s8Zl46W9"
      },
      "execution_count": null,
      "outputs": []
    },
    {
      "cell_type": "code",
      "source": [
        "#metrics.ConfusionMatrixDisplay.from_predictions(y_test, MLPC_y_predict, display_labels=MLPC.classes_, \n",
        "#                                                normalize='true', cmap=plt.cm.Blues)\n",
        "#plt.show()"
      ],
      "metadata": {
        "id": "VtoguOq646W-"
      },
      "execution_count": null,
      "outputs": []
    },
    {
      "cell_type": "code",
      "source": [
        "#Multi-layer NN model 20 hidden layers 200 nodes\n",
        "#MLPC = MLPClassifier(solver='adam', activation='relu', hidden_layer_sizes=(10, 200), \n",
        "#                     max_iter=10000, early_stopping=True, random_state=42)"
      ],
      "metadata": {
        "id": "H0C1M1-oLNd4"
      },
      "execution_count": null,
      "outputs": []
    },
    {
      "cell_type": "code",
      "source": [
        "#MLPC.fit(X_train_new, y_train)"
      ],
      "metadata": {
        "id": "E8ryVezuLNd6"
      },
      "execution_count": null,
      "outputs": []
    },
    {
      "cell_type": "code",
      "source": [
        "#MLPC.score(X_test_new, y_test)"
      ],
      "metadata": {
        "id": "RZtRsGFdLNd9"
      },
      "execution_count": null,
      "outputs": []
    },
    {
      "cell_type": "code",
      "source": [
        "#MLPC_y_predict = MLPC.predict(X_test_new)\n",
        "#MLPC_cf=confusion_matrix(y_test, MLPC_y_predict)\n",
        "#print(metrics.classification_report(y_test, MLPC_y_predict))\n",
        "#print(MLPC_cf)"
      ],
      "metadata": {
        "id": "Ab_VYw_yLNd_"
      },
      "execution_count": null,
      "outputs": []
    },
    {
      "cell_type": "code",
      "source": [
        "#Multi-layer NN model 10 hidden layers 200 nodes\n",
        "MLPC = MLPClassifier(solver='adam', activation='relu', hidden_layer_sizes=(20, 200), \n",
        "                     max_iter=10000, early_stopping=True, random_state=42)"
      ],
      "metadata": {
        "id": "NugJm8g1vPvG"
      },
      "execution_count": null,
      "outputs": []
    },
    {
      "cell_type": "code",
      "source": [
        "MLPC.fit(X_train_new, y_train)"
      ],
      "metadata": {
        "id": "32VBmk7xvPvH",
        "colab": {
          "base_uri": "https://localhost:8080/"
        },
        "outputId": "8053eb9e-9d86-4a4f-fcce-3fdd1211f08e"
      },
      "execution_count": null,
      "outputs": [
        {
          "output_type": "execute_result",
          "data": {
            "text/plain": [
              "MLPClassifier(early_stopping=True, hidden_layer_sizes=(20, 200), max_iter=10000,\n",
              "              random_state=42)"
            ]
          },
          "metadata": {},
          "execution_count": 130
        }
      ]
    },
    {
      "cell_type": "code",
      "source": [
        "MLPC.score(X_test_new, y_test)"
      ],
      "metadata": {
        "id": "FGFPboMavPvJ",
        "colab": {
          "base_uri": "https://localhost:8080/"
        },
        "outputId": "a6d168d2-246f-4bae-bce4-e6fccc833627"
      },
      "execution_count": null,
      "outputs": [
        {
          "output_type": "execute_result",
          "data": {
            "text/plain": [
              "0.9777496161626008"
            ]
          },
          "metadata": {},
          "execution_count": 131
        }
      ]
    },
    {
      "cell_type": "code",
      "source": [
        "MLPC_y_predict = MLPC.predict(X_test_new)\n",
        "MLPC_cf=confusion_matrix(y_test, MLPC_y_predict)\n",
        "print(metrics.classification_report(y_test, MLPC_y_predict))\n",
        "print(MLPC_cf)"
      ],
      "metadata": {
        "id": "IEjlfBpNvPvK",
        "colab": {
          "base_uri": "https://localhost:8080/"
        },
        "outputId": "dc89633c-b371-4b3f-b4d1-e8afdbb633b5"
      },
      "execution_count": null,
      "outputs": [
        {
          "output_type": "stream",
          "name": "stdout",
          "text": [
            "              precision    recall  f1-score   support\n",
            "\n",
            "           0       0.97      0.99      0.98     22158\n",
            "           1       0.99      0.97      0.98     11782\n",
            "           2       0.98      0.95      0.97      7093\n",
            "\n",
            "    accuracy                           0.98     41033\n",
            "   macro avg       0.98      0.97      0.98     41033\n",
            "weighted avg       0.98      0.98      0.98     41033\n",
            "\n",
            "[[21936   106   116]\n",
            " [  325 11438    19]\n",
            " [  302    45  6746]]\n"
          ]
        }
      ]
    },
    {
      "cell_type": "code",
      "source": [
        "#Multi-layer NN model 20 hidden layers 100 nodes each\n",
        "MLPC_20_100 = MLPClassifier(solver='adam', activation='relu', hidden_layer_sizes=(20, 100), \n",
        "                     max_iter=10000, early_stopping=True, random_state=42)"
      ],
      "metadata": {
        "id": "1c6V0oXw24jI"
      },
      "execution_count": null,
      "outputs": []
    },
    {
      "cell_type": "code",
      "source": [
        "MLPC_20_100.fit(X_train_new, y_train)"
      ],
      "metadata": {
        "id": "FgClr1w224jJ",
        "colab": {
          "base_uri": "https://localhost:8080/"
        },
        "outputId": "3c24c30b-62cf-4388-fc9f-a1bef3844d0f"
      },
      "execution_count": null,
      "outputs": [
        {
          "output_type": "execute_result",
          "data": {
            "text/plain": [
              "MLPClassifier(early_stopping=True, hidden_layer_sizes=(20, 100), max_iter=10000,\n",
              "              random_state=42)"
            ]
          },
          "metadata": {},
          "execution_count": 107
        }
      ]
    },
    {
      "cell_type": "code",
      "source": [
        "MLPC_20_100.score(X_test_new, y_test)"
      ],
      "metadata": {
        "id": "nBCiCJUe24jK",
        "colab": {
          "base_uri": "https://localhost:8080/"
        },
        "outputId": "bf915c01-42d6-4f7a-e86d-d9a76d33cc6a"
      },
      "execution_count": null,
      "outputs": [
        {
          "output_type": "execute_result",
          "data": {
            "text/plain": [
              "0.9740452806277874"
            ]
          },
          "metadata": {},
          "execution_count": 108
        }
      ]
    },
    {
      "cell_type": "code",
      "source": [
        "MLPC_20_100_y_predict = MLPC_20_100.predict(X_test_new)\n",
        "MLPC_20_100_cf=confusion_matrix(y_test, MLPC_20_100_y_predict)\n",
        "print(metrics.classification_report(y_test, MLPC_20_100_y_predict))"
      ],
      "metadata": {
        "id": "jiChpX645QKJ",
        "colab": {
          "base_uri": "https://localhost:8080/"
        },
        "outputId": "b7ae9a69-d52b-4822-ff01-cc43ae1255e9"
      },
      "execution_count": null,
      "outputs": [
        {
          "output_type": "stream",
          "name": "stdout",
          "text": [
            "              precision    recall  f1-score   support\n",
            "\n",
            "           0       0.98      0.98      0.98     22158\n",
            "           1       0.97      0.97      0.97     11782\n",
            "           2       0.97      0.96      0.96      7093\n",
            "\n",
            "    accuracy                           0.97     41033\n",
            "   macro avg       0.97      0.97      0.97     41033\n",
            "weighted avg       0.97      0.97      0.97     41033\n",
            "\n"
          ]
        }
      ]
    },
    {
      "cell_type": "code",
      "source": [
        "metrics.ConfusionMatrixDisplay.from_predictions(y_test, MLPC_20_100_y_predict, display_labels=MLPC_20_100.classes_, \n",
        "                                                normalize=None, cmap=plt.cm.Blues)\n",
        "plt.show()"
      ],
      "metadata": {
        "id": "M8H_SH_H5QKL",
        "colab": {
          "base_uri": "https://localhost:8080/",
          "height": 279
        },
        "outputId": "9f9015b4-0ddd-48fa-dc35-fbfcf413817d"
      },
      "execution_count": null,
      "outputs": [
        {
          "output_type": "display_data",
          "data": {
            "text/plain": [
              "<Figure size 432x288 with 2 Axes>"
            ],
            "image/png": "[encoded data removed]"
          },
          "metadata": {
            "needs_background": "light"
          }
        }
      ]
    },
    {
      "cell_type": "code",
      "source": [
        "metrics.ConfusionMatrixDisplay.from_predictions(y_test, MLPC_20_100_y_predict, display_labels=MLPC_20_100.classes_, \n",
        "                                                normalize='true', cmap=plt.cm.Blues)\n",
        "plt.show()"
      ],
      "metadata": {
        "id": "C8mQjgmT5QKM",
        "colab": {
          "base_uri": "https://localhost:8080/",
          "height": 279
        },
        "outputId": "98413e55-5fae-442d-9cdb-b037b14fee0b"
      },
      "execution_count": null,
      "outputs": [
        {
          "output_type": "display_data",
          "data": {
            "text/plain": [
              "<Figure size 432x288 with 2 Axes>"
            ],
            "image/png": "[encoded data removed]"
          },
          "metadata": {
            "needs_background": "light"
          }
        }
      ]
    },
    {
      "cell_type": "code",
      "source": [
        "# K-nn model k=10\n",
        "\n",
        "KNC = KNeighborsClassifier(n_neighbors=7)\n",
        "KNC.fit(X_train_new, y_train)"
      ],
      "metadata": {
        "colab": {
          "base_uri": "https://localhost:8080/"
        },
        "id": "-jdJwSpG773f",
        "outputId": "8ae33b59-8eeb-4a6a-c13e-df413ead0fd1"
      },
      "execution_count": null,
      "outputs": [
        {
          "output_type": "execute_result",
          "data": {
            "text/plain": [
              "KNeighborsClassifier(n_neighbors=7)"
            ]
          },
          "metadata": {},
          "execution_count": 112
        }
      ]
    },
    {
      "cell_type": "code",
      "source": [
        "KNC.score(X_test_new, y_test)"
      ],
      "metadata": {
        "colab": {
          "base_uri": "https://localhost:8080/"
        },
        "id": "53APjg9v7_Zh",
        "outputId": "cdd49722-0906-40d8-97d9-65b1d28e841d"
      },
      "execution_count": null,
      "outputs": [
        {
          "output_type": "execute_result",
          "data": {
            "text/plain": [
              "0.9869617137425974"
            ]
          },
          "metadata": {},
          "execution_count": 113
        }
      ]
    },
    {
      "cell_type": "code",
      "source": [
        "KNC_y_predict = KNC.predict(X_test_new)\n",
        "KNC_cf=confusion_matrix(y_test, KNC_y_predict)\n",
        "print(metrics.classification_report(y_test, KNC_y_predict))"
      ],
      "metadata": {
        "colab": {
          "base_uri": "https://localhost:8080/"
        },
        "id": "2qSA7sJi8ZXz",
        "outputId": "95375981-43e0-45dd-addd-e75563f6a10c"
      },
      "execution_count": null,
      "outputs": [
        {
          "output_type": "stream",
          "name": "stdout",
          "text": [
            "              precision    recall  f1-score   support\n",
            "\n",
            "           0       0.99      0.99      0.99     22158\n",
            "           1       0.99      0.99      0.99     11782\n",
            "           2       0.98      0.98      0.98      7093\n",
            "\n",
            "    accuracy                           0.99     41033\n",
            "   macro avg       0.99      0.98      0.99     41033\n",
            "weighted avg       0.99      0.99      0.99     41033\n",
            "\n"
          ]
        }
      ]
    },
    {
      "cell_type": "code",
      "source": [
        "metrics.ConfusionMatrixDisplay.from_predictions(y_test, KNC_y_predict, display_labels=KNC.classes_, \n",
        "                                                normalize=None, cmap=plt.cm.Blues)\n",
        "plt.show()"
      ],
      "metadata": {
        "colab": {
          "base_uri": "https://localhost:8080/",
          "height": 279
        },
        "id": "GZxRtVAe8ZX2",
        "outputId": "1d0a8a6e-03e7-4009-f832-987aa033725d"
      },
      "execution_count": null,
      "outputs": [
        {
          "output_type": "display_data",
          "data": {
            "text/plain": [
              "<Figure size 432x288 with 2 Axes>"
            ],
            "image/png": "[encoded data removed]"
          },
          "metadata": {
            "needs_background": "light"
          }
        }
      ]
    },
    {
      "cell_type": "code",
      "source": [
        "metrics.ConfusionMatrixDisplay.from_predictions(y_test, KNC_y_predict, display_labels=KNC.classes_, \n",
        "                                                normalize='true', cmap=plt.cm.Blues)\n",
        "plt.show()"
      ],
      "metadata": {
        "colab": {
          "base_uri": "https://localhost:8080/",
          "height": 279
        },
        "id": "70f6jaGa8ZX5",
        "outputId": "8833d53c-54d0-4458-d047-7aa94aa8e7ab"
      },
      "execution_count": null,
      "outputs": [
        {
          "output_type": "display_data",
          "data": {
            "text/plain": [
              "<Figure size 432x288 with 2 Axes>"
            ],
            "image/png": "[encoded data removed]"
          },
          "metadata": {
            "needs_background": "light"
          }
        }
      ]
    },
    {
      "cell_type": "code",
      "source": [
        "#test sleep quality for different models\n",
        "\n",
        "KNC_sleep_predict = KNC.predict(HRV_P1_test)\n",
        "pd.DataFrame(KNC_sleep_predict).to_csv(\"/content/drive/MyDrive/SWELL/hrv sleep/KNC_predict_P1.csv\")\n",
        "KNC_sleep_predict = KNC.predict(HRV_P2_test)\n",
        "pd.DataFrame(KNC_sleep_predict).to_csv(\"/content/drive/MyDrive/SWELL/hrv sleep/KNC_predict_P2.csv\")\n",
        "KNC_sleep_predict = KNC.predict(HRV_P3_test)\n",
        "pd.DataFrame(KNC_sleep_predict).to_csv(\"/content/drive/MyDrive/SWELL/hrv sleep/KNC_predict_P3.csv\")"
      ],
      "metadata": {
        "id": "R7a4k34XjwWo"
      },
      "execution_count": null,
      "outputs": []
    },
    {
      "cell_type": "code",
      "source": [
        "MLPC_sleep_predict = MLPC.predict(HRV_P1_test)\n",
        "pd.DataFrame(MLPC_sleep_predict).to_csv(\"/content/drive/MyDrive/SWELL/hrv sleep/MLPC_predict_P1.csv\")\n",
        "MLPC_sleep_predict = MLPC.predict(HRV_P2_test)\n",
        "pd.DataFrame(MLPC_sleep_predict).to_csv(\"/content/drive/MyDrive/SWELL/hrv sleep/MLPC_predict_P2.csv\")\n",
        "MLPC_sleep_predict = MLPC.predict(HRV_P3_test)\n",
        "pd.DataFrame(MLPC_sleep_predict).to_csv(\"/content/drive/MyDrive/SWELL/hrv sleep/MLPC_predict_P3.csv\")"
      ],
      "metadata": {
        "id": "aRBeEbbxj2hI"
      },
      "execution_count": null,
      "outputs": []
    },
    {
      "cell_type": "code",
      "source": [
        "ADA_sleep_predict = ADA.predict(HRV_P1_test)\n",
        "pd.DataFrame(ADA_sleep_predict).to_csv(\"/content/drive/MyDrive/SWELL/hrv sleep/ADA_predict_P1.csv\")\n",
        "ADA_sleep_predict = ADA.predict(HRV_P2_test)\n",
        "pd.DataFrame(ADA_sleep_predict).to_csv(\"/content/drive/MyDrive/SWELL/hrv sleep/ADA_predict_P2.csv\")\n",
        "ADA_sleep_predict = ADA.predict(HRV_P2_test)\n",
        "pd.DataFrame(ADA_sleep_predict).to_csv(\"/content/drive/MyDrive/SWELL/hrv sleep/ADA_predict_P3.csv\")"
      ],
      "metadata": {
        "id": "2OVdFPBskvxl"
      },
      "execution_count": null,
      "outputs": []
    },
    {
      "cell_type": "code",
      "source": [
        "XGB_sleep_predict = XGB.predict(HRV_P1_test)\n",
        "pd.DataFrame(XGB_sleep_predict).to_csv(\"/content/drive/MyDrive/SWELL/hrv sleep/XGB_predict_P1.csv\")\n",
        "XGB_sleep_predict = XGB.predict(HRV_P2_test)\n",
        "pd.DataFrame(XGB_sleep_predict).to_csv(\"/content/drive/MyDrive/SWELL/hrv sleep/XGB_predict_P2.csv\")\n",
        "XGB_sleep_predict = XGB.predict(HRV_P3_test)\n",
        "pd.DataFrame(XGB_sleep_predict).to_csv(\"/content/drive/MyDrive/SWELL/hrv sleep/XGB_predict_P3.csv\")"
      ],
      "metadata": {
        "id": "-YTuMUwHkrh5"
      },
      "execution_count": null,
      "outputs": []
    },
    {
      "cell_type": "code",
      "source": [
        "RFC_sleep_predict = RFC.predict(HRV_P1_test)\n",
        "pd.DataFrame(RFC_sleep_predict).to_csv(\"/content/drive/MyDrive/SWELL/hrv sleep/RFC_predict_P1.csv\")\n",
        "RFC_sleep_predict = RFC.predict(HRV_P2_test)\n",
        "pd.DataFrame(RFC_sleep_predict).to_csv(\"/content/drive/MyDrive/SWELL/hrv sleep/RFC_predict_P2.csv\")\n",
        "RFC_sleep_predict = RFC.predict(HRV_P3_test)\n",
        "pd.DataFrame(RFC_sleep_predict).to_csv(\"/content/drive/MyDrive/SWELL/hrv sleep/RFC_predict_P3.csv\")"
      ],
      "metadata": {
        "id": "PFLN9w9Gk19r"
      },
      "execution_count": null,
      "outputs": []
    },
    {
      "cell_type": "code",
      "source": [
        "# confusion matrix examples\n",
        "from sklearn.metrics import plot_confusion_matrix\n",
        "import seaborn as sn\n",
        "cf=[[5/62, 38/62, 19/62],[12/200, 44/200, 144/200],[0/376, 40/376, 336/376]]\n",
        "sn.heatmap(cf, annot=True, cmap='flare')\n",
        "plt.show()"
      ],
      "metadata": {
        "id": "Xcat4v1k0Usn",
        "colab": {
          "base_uri": "https://localhost:8080/",
          "height": 265
        },
        "outputId": "d2948c13-1e1e-49d9-9b4e-5adae4aa2e1a"
      },
      "execution_count": null,
      "outputs": [
        {
          "output_type": "display_data",
          "data": {
            "text/plain": [
              "<Figure size 432x288 with 2 Axes>"
            ],
            "image/png": "[encoded data removed]"
          },
          "metadata": {
            "needs_background": "light"
          }
        }
      ]
    },
    {
      "cell_type": "markdown",
      "source": [],
      "metadata": {
        "id": "hTBwi3r9pRRn"
      }
    },
    {
      "cell_type": "code",
      "source": [
        "# SVC self_training\n",
        "#scaler = StandardScaler()\n",
        "#X_train_scaled = scaler.fit_transform(X_train_new)\n",
        "#X_test_scaled = scaler.transform(X_test_new)\n",
        "#svm = SVC()\n",
        "#svm.fit(X_train_scaled, y_train)\n",
        "\n",
        "#new methods\n",
        "#svc_model = SVC(kernel='rbf', \n",
        "#            probability=True, \n",
        "#            C=1.0, # default = 1.0\n",
        "#            gamma='scale', # default = 'scale'\n",
        "#            random_state=0\n",
        "#           )\n",
        "#SVCC = svc_model.fit(X_train_new, y_train)"
      ],
      "metadata": {
        "id": "M0Ehyd1cWuun"
      },
      "execution_count": null,
      "outputs": []
    },
    {
      "cell_type": "code",
      "source": [
        "#svc_y_predict = svc_model.predict(X_test_new)\n",
        "#svc_model.score(X_test_new, y_test)\n",
        "#print(metrics.classification_report(y_test, svc_y_predict))"
      ],
      "metadata": {
        "id": "-mUWu1AveQKz"
      },
      "execution_count": null,
      "outputs": []
    },
    {
      "cell_type": "code",
      "source": [
        "#svc_cf=confusion_matrix(y_test, svc_y_predict)"
      ],
      "metadata": {
        "id": "7GPvvQ_qezTJ"
      },
      "execution_count": null,
      "outputs": []
    },
    {
      "cell_type": "code",
      "source": [
        "#metrics.ConfusionMatrixDisplay.from_predictions(y_test, svc_y_predict, display_labels=svm.classes_, \n",
        "#                                                normalize=None, cmap=plt.cm.Blues)\n",
        "#plt.show()"
      ],
      "metadata": {
        "id": "bn-KjWru1RjH"
      },
      "execution_count": null,
      "outputs": []
    },
    {
      "cell_type": "code",
      "source": [
        "#metrics.ConfusionMatrixDisplay.from_predictions(y_test, svc_y_predict, display_labels=svm.classes_, \n",
        "#                                                normalize='true', cmap=plt.cm.Blues)\n",
        "#plt.show()"
      ],
      "metadata": {
        "id": "YJraEHXF1mA0"
      },
      "execution_count": null,
      "outputs": []
    },
    {
      "cell_type": "code",
      "source": [
        "#SVC_sleep_predict = svm.predict(HRV_P1_test)\n",
        "#pd.DataFrame(SVC_sleep_predict).to_csv(\"/content/drive/MyDrive/SWELL/hrv sleep/SVC_predict_P1.csv\")\n",
        "#SVC_sleep_predict = svm.predict(HRV_P2_test)\n",
        "#pd.DataFrame(SVC_sleep_predict).to_csv(\"/content/drive/MyDrive/SWELL/hrv sleep/SVC_predict_P2.csv\")\n",
        "#SVC_sleep_predict = svm.predict(HRV_P3_test)\n",
        "#pd.DataFrame(SVC_sleep_predict).to_csv(\"/content/drive/MyDrive/SWELL/hrv sleep/SVC_predict_P3.csv\")"
      ],
      "metadata": {
        "id": "97ngnZjqlH8J"
      },
      "execution_count": null,
      "outputs": []
    },
    {
      "cell_type": "code",
      "source": [],
      "metadata": {
        "id": "x_GDiMY2WfR2"
      },
      "execution_count": null,
      "outputs": []
    }
  ]
}