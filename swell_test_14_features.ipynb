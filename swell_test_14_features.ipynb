{
  "nbformat": 4,
  "nbformat_minor": 0,
  "metadata": {
    "colab": {
      "provenance": [],
      "history_visible": true,
      "mount_file_id": "1u5xZp8lc1XcGqna-JtlG1txB2uV_ktK_",
      "authorship_tag": "ABX9TyPDdTIrF5gWZC8YQkckCTt2",
      "include_colab_link": true
    },
    "kernelspec": {
      "name": "python3",
      "display_name": "Python 3"
    },
    "language_info": {
      "name": "python"
    },
    "accelerator": "TPU",
    "gpuClass": "standard"
  },
  "cells": [
    {
      "cell_type": "markdown",
      "metadata": {
        "id": "view-in-github",
        "colab_type": "text"
      },
      "source": [
        "<a href=\"https://colab.research.google.com/github/countingtls/PA_HRV_Sleep/blob/main/swell_test_14_features.ipynb\" target=\"_parent\"><img src=\"https://colab.research.google.com/assets/colab-badge.svg\" alt=\"Open In Colab\"/></a>"
      ]
    },
    {
      "cell_type": "code",
      "source": [
        "import pandas as pd\n",
        "import numpy as np\n",
        "import os\n",
        "import sklearn.pipeline\n",
        "import matplotlib.pyplot as plt\n",
        "\n",
        "from sklearn import metrics\n",
        "from sklearn.svm import SVC\n",
        "from sklearn.semi_supervised import LabelSpreading\n",
        "from sklearn.semi_supervised import SelfTrainingClassifier\n",
        "from sklearn.model_selection import train_test_split\n",
        "\n",
        "from xgboost import XGBClassifier\n",
        "\n",
        "from sklearn.neighbors import KNeighborsClassifier\n",
        "from sklearn.tree import DecisionTreeClassifier\n",
        "from sklearn.ensemble import AdaBoostClassifier\n",
        "from sklearn.metrics import roc_auc_score\n",
        "\n",
        "from sklearn.model_selection import train_test_split\n",
        "from sklearn.feature_selection import SelectKBest, f_classif, chi2\n",
        "from sklearn.ensemble import RandomForestClassifier\n",
        "from sklearn.svm import SVC\n",
        "from sklearn.preprocessing import StandardScaler\n",
        "from sklearn.metrics import confusion_matrix\n",
        "\n",
        "from sklearn.neural_network import MLPClassifier"
      ],
      "metadata": {
        "id": "c5cEnV_BgItk"
      },
      "execution_count": 89,
      "outputs": []
    },
    {
      "cell_type": "code",
      "source": [
        "#import hrvanalysis as hrva"
      ],
      "metadata": {
        "id": "b4ymNJM6s5ii"
      },
      "execution_count": 90,
      "outputs": []
    },
    {
      "cell_type": "code",
      "source": [
        "#with open(\"/content/hrv-analysis/tests/test_nn_intervals.txt\", \"r\") as text_file:\n",
        "#  lines = text_file.readlines()\n",
        "#nn_intervals = list(map(lambda x: int(x.strip()), lines))\n",
        "#print(nn_intervals)"
      ],
      "metadata": {
        "id": "KtHdXZgCtx18"
      },
      "execution_count": 91,
      "outputs": []
    },
    {
      "cell_type": "code",
      "source": [
        "#rr_intervals_list = [100, 110, 100, 130, 100, 100, 70, 100, 120, 100]\n",
        "#rr_intervals_without_outliers = hrva.remove_outliers(rr_intervals=rr_intervals_list,  \n",
        "#                                                low_rri=300, high_rri=2000)\n",
        "#interpolated_rr_intervals = hrva.interpolate_nan_values(rr_intervals=rr_intervals_without_outliers, \n",
        "#                                                   interpolation_method=\"linear\")\n",
        "#nn_intervals_list = hrva.remove_ectopic_beats(rr_intervals=interpolated_rr_intervals, method=\"malik\")\n",
        "#interpolated_nn_intervals = hrva.interpolate_nan_values(rr_intervals=nn_intervals_list)\n",
        "#print(interpolated_nn_intervals)"
      ],
      "metadata": {
        "id": "0mEVaMLPs89u"
      },
      "execution_count": 92,
      "outputs": []
    },
    {
      "cell_type": "code",
      "source": [
        "from google.colab import drive\n",
        "drive.mount('/content/drive', force_remount=True)"
      ],
      "metadata": {
        "colab": {
          "base_uri": "https://localhost:8080/"
        },
        "id": "tsj6kyi0klzL",
        "outputId": "a9bc1606-6583-416e-c21d-b5d77f6cc829"
      },
      "execution_count": 93,
      "outputs": [
        {
          "output_type": "stream",
          "name": "stdout",
          "text": [
            "Mounted at /content/drive\n"
          ]
        }
      ]
    },
    {
      "cell_type": "code",
      "source": [
        "#Read in the dataset\n",
        "\n",
        "df_test = pd.read_csv(\"/content/drive/MyDrive/SWELL/hrv dataset/data/final/test.csv\")\n",
        "df_train = pd.read_csv(\"/content/drive/MyDrive/SWELL/hrv dataset/data/final/train.csv\")\n",
        "print(f\"df_train shape{df_train.shape}\")\n",
        "print(f\"df_test shape{df_test.shape}\")"
      ],
      "metadata": {
        "colab": {
          "base_uri": "https://localhost:8080/"
        },
        "id": "pmum_SqTgM3F",
        "outputId": "3fcba18b-6e62-4362-cb05-b00cacca2fe3"
      },
      "execution_count": 94,
      "outputs": [
        {
          "output_type": "stream",
          "name": "stdout",
          "text": [
            "df_train shape(369289, 36)\n",
            "df_test shape(41033, 36)\n"
          ]
        }
      ]
    },
    {
      "cell_type": "code",
      "source": [
        "df_PA_work = pd.read_csv(\"/content/drive/MyDrive/SWELL/hrv PA/PA_work.csv\")\n",
        "print(f\"df_PA_work shape{df_PA_work.shape}\")"
      ],
      "metadata": {
        "colab": {
          "base_uri": "https://localhost:8080/"
        },
        "id": "PhXaZpfvVBjK",
        "outputId": "9c02b8bd-b531-449d-f297-a2fd016a7efe"
      },
      "execution_count": 95,
      "outputs": [
        {
          "output_type": "stream",
          "name": "stdout",
          "text": [
            "df_PA_work shape(10538, 16)\n"
          ]
        }
      ]
    },
    {
      "cell_type": "code",
      "source": [
        "#Read the sleep quality dataset\n",
        "\n",
        "df_sleep = pd.read_csv(\"/content/drive/MyDrive/SWELL/hrv sleep/total_daily_HRV.csv\")\n",
        "print(f\"df_sleep shape{df_sleep.shape}\")"
      ],
      "metadata": {
        "colab": {
          "base_uri": "https://localhost:8080/"
        },
        "outputId": "ecdc8e6d-c663-4d5c-b791-3a4fd42f63bb",
        "id": "cJwAuT_Wcofv"
      },
      "execution_count": 96,
      "outputs": [
        {
          "output_type": "stream",
          "name": "stdout",
          "text": [
            "df_sleep shape(55, 17)\n"
          ]
        }
      ]
    },
    {
      "cell_type": "code",
      "source": [
        "#Read the 02A7005A dataset\n",
        "\n",
        "HRV_02A7005A = pd.read_csv(\"/content/drive/MyDrive/SWELL/hrv sleep/3 persons/02A7005A_total.csv\")\n",
        "print(f\"HRV_02A7005A shape{HRV_02A7005A.shape}\")"
      ],
      "metadata": {
        "colab": {
          "base_uri": "https://localhost:8080/"
        },
        "outputId": "a7f94606-a485-48d4-c189-fe015750e7a9",
        "id": "f-4eDm_Nuv3X"
      },
      "execution_count": 97,
      "outputs": [
        {
          "output_type": "stream",
          "name": "stdout",
          "text": [
            "HRV_02A7005A shape(6019, 17)\n"
          ]
        }
      ]
    },
    {
      "cell_type": "code",
      "source": [
        "#Read the 029E005A dataset\n",
        "\n",
        "HRV_029E005A = pd.read_csv(\"/content/drive/MyDrive/SWELL/hrv sleep/3 persons/029E005A_total.csv\")\n",
        "print(f\"HRV_029E005A shape{HRV_029E005A.shape}\")"
      ],
      "metadata": {
        "colab": {
          "base_uri": "https://localhost:8080/"
        },
        "id": "UrMgmDj4IHb6",
        "outputId": "c827746f-806b-45a7-e57e-c61cf1017324"
      },
      "execution_count": 98,
      "outputs": [
        {
          "output_type": "stream",
          "name": "stdout",
          "text": [
            "HRV_029E005A shape(6277, 17)\n"
          ]
        }
      ]
    },
    {
      "cell_type": "code",
      "source": [
        "#Read the 0275005A dataset\n",
        "\n",
        "HRV_0275005A = pd.read_csv(\"/content/drive/MyDrive/SWELL/hrv sleep/3 persons/0275005A_total.csv\")\n",
        "print(f\"HRV_0275005A shape{HRV_0275005A.shape}\")"
      ],
      "metadata": {
        "colab": {
          "base_uri": "https://localhost:8080/"
        },
        "id": "DMlH8m8GQ-eZ",
        "outputId": "042ad544-63fc-4376-bc17-3b62ab116b8c"
      },
      "execution_count": 99,
      "outputs": [
        {
          "output_type": "stream",
          "name": "stdout",
          "text": [
            "HRV_0275005A shape(2344, 17)\n"
          ]
        }
      ]
    },
    {
      "cell_type": "code",
      "source": [
        "p1_raw = pd.read_csv(\"/content/drive/MyDrive/SWELL/hrv dataset/data/raw/rri/p1.txt\", sep=None, engine='python', \n",
        "header=None, quoting=0, skipinitialspace=True)\n",
        "print(f\"p1_raw{p1_raw.shape}\")"
      ],
      "metadata": {
        "colab": {
          "base_uri": "https://localhost:8080/"
        },
        "id": "rLgOdmNb2RsZ",
        "outputId": "c40778b2-b7a9-46cf-b216-ba9f146a03af"
      },
      "execution_count": 100,
      "outputs": [
        {
          "output_type": "stream",
          "name": "stdout",
          "text": [
            "p1_raw(35974, 2)\n"
          ]
        }
      ]
    },
    {
      "cell_type": "code",
      "source": [
        "display(p1_raw.info())"
      ],
      "metadata": {
        "colab": {
          "base_uri": "https://localhost:8080/",
          "height": 199
        },
        "id": "lZOom_S_4Sle",
        "outputId": "b2c1d2e5-4f86-4de1-a415-a2f066a956df"
      },
      "execution_count": 101,
      "outputs": [
        {
          "output_type": "stream",
          "name": "stdout",
          "text": [
            "<class 'pandas.core.frame.DataFrame'>\n",
            "RangeIndex: 35974 entries, 0 to 35973\n",
            "Data columns (total 2 columns):\n",
            " #   Column  Non-Null Count  Dtype  \n",
            "---  ------  --------------  -----  \n",
            " 0   0       35974 non-null  float64\n",
            " 1   1       35974 non-null  float64\n",
            "dtypes: float64(2)\n",
            "memory usage: 562.2 KB\n"
          ]
        },
        {
          "output_type": "display_data",
          "data": {
            "text/plain": [
              "None"
            ]
          },
          "metadata": {}
        }
      ]
    },
    {
      "cell_type": "code",
      "source": [
        "t1=p1_raw.iloc[0:239,1].values"
      ],
      "metadata": {
        "id": "dgaQNUqc4rs0"
      },
      "execution_count": 102,
      "outputs": []
    },
    {
      "cell_type": "code",
      "source": [
        "from hrvanalysis import *\n",
        "rr_intervals_without_outliers = remove_outliers(rr_intervals=t1, low_rri=300, high_rri=2000)\n",
        "interpolated_rr_intervals = interpolate_nan_values(rr_intervals=rr_intervals_without_outliers,\n",
        "                                                   interpolation_method=\"linear\")\n",
        "nn_intervals_list = remove_ectopic_beats(rr_intervals=interpolated_rr_intervals, method=\"malik\")\n",
        "interpolated_nn_intervals = interpolate_nan_values(rr_intervals=nn_intervals_list)\n",
        "t1_nni = interpolated_nn_intervals"
      ],
      "metadata": {
        "colab": {
          "base_uri": "https://localhost:8080/"
        },
        "id": "dtuOFjEt5jyb",
        "outputId": "1ee81269-0863-4167-8efb-1f72a805a53d"
      },
      "execution_count": 103,
      "outputs": [
        {
          "output_type": "stream",
          "name": "stdout",
          "text": [
            "0 outlier(s) have been deleted.\n",
            "0 ectopic beat(s) have been deleted with malik rule.\n"
          ]
        }
      ]
    },
    {
      "cell_type": "code",
      "source": [
        "t1_time_domain_features = get_time_domain_features(t1_nni)\n",
        "t1_frequency_domain_features = get_frequency_domain_features(t1_nni)\n",
        "t1_geometrical_features = get_geometrical_features(t1_nni)\n",
        "t1_poincare_plot_features = get_poincare_plot_features(t1_nni)\n",
        "t1_csi_cvi_featuress = get_csi_cvi_features(t1_nni)\n",
        "t1_sampen = get_sampen(t1_nni)\n",
        "print(t1_time_domain_features)\n",
        "print(t1_frequency_domain_features)\n",
        "print(t1_geometrical_features)\n",
        "print(t1_poincare_plot_features)\n",
        "print(t1_csi_cvi_featuress)\n",
        "print(t1_sampen)"
      ],
      "metadata": {
        "colab": {
          "base_uri": "https://localhost:8080/"
        },
        "id": "J5o4pdTf60F5",
        "outputId": "26d0f9be-ba4b-420a-ed57-a60ce25c8985"
      },
      "execution_count": 104,
      "outputs": [
        {
          "output_type": "stream",
          "name": "stdout",
          "text": [
            "{'mean_nni': 740.5845168619246, 'sdnn': 119.04397492970675, 'sdsd': 9.690144066745761, 'nni_50': 0, 'pnni_50': 0.0, 'nni_20': 13, 'pnni_20': 5.46218487394958, 'rmssd': 9.700553811543505, 'median_nni': 769.83751, 'range_nni': 447.40707999999995, 'cvsd': 0.01309851015066804, 'cvnni': 0.16074326726965782, 'mean_hr': 83.23274909439128, 'max_hr': 113.2847796026676, 'min_hr': 61.40961157653058, 'std_hr': 13.945255097166969}\n",
            "{'lf': 225.93665702157986, 'hf': 33.69413111495416, 'lf_hf_ratio': 6.705519612621928, 'lfnu': 87.02228986138763, 'hfnu': 12.977710138612364, 'total_power': 3848.304394658316, 'vlf': 3588.6736065217824}\n",
            "{'triangular_index': 14.058823529411764, 'tinn': None}\n",
            "{'sd1': 6.866406989502328, 'sd2': 168.2135202330176, 'ratio_sd2_sd1': 24.498041040997133}\n",
            "{'csi': 24.498041040997133, 'cvi': 4.266710423721102, 'Modified_csi': 16483.606889276267}\n",
            "{'sampen': 0.20543277845128557}\n"
          ]
        }
      ]
    },
    {
      "cell_type": "code",
      "source": [],
      "metadata": {
        "id": "d5-L0ot15j5v"
      },
      "execution_count": 104,
      "outputs": []
    },
    {
      "cell_type": "code",
      "source": [
        "df_train.head()"
      ],
      "metadata": {
        "colab": {
          "base_uri": "https://localhost:8080/",
          "height": 299
        },
        "id": "BNjyNE94g3Kf",
        "outputId": "61e14fb3-1fb3-44ae-c8db-b7e38c9628f5"
      },
      "execution_count": 105,
      "outputs": [
        {
          "output_type": "execute_result",
          "data": {
            "text/plain": [
              "      MEAN_RR   MEDIAN_RR        SDRR      RMSSD       SDSD  SDRR_RMSSD  \\\n",
              "0  885.157845  853.763730  140.972741  15.554505  15.553371    9.063146   \n",
              "1  939.425371  948.357865   81.317742  12.964439  12.964195    6.272369   \n",
              "2  898.186047  907.006860   84.497236  16.305279  16.305274    5.182201   \n",
              "3  881.757865  893.460030   90.370537  15.720468  15.720068    5.748591   \n",
              "4  809.625331  811.184865   62.766242  19.213819  19.213657    3.266724   \n",
              "\n",
              "          HR      pNN25     pNN50        SD1  ...         HF    HF_PCT  \\\n",
              "0  69.499952  11.133333  0.533333  11.001565  ...  15.522603  0.421047   \n",
              "1  64.363150   5.600000  0.000000   9.170129  ...   2.108525  0.070133   \n",
              "2  67.450066  13.066667  0.200000  11.533417  ...  13.769729  0.512671   \n",
              "3  68.809562  11.800000  0.133333  11.119476  ...  18.181913  0.529387   \n",
              "4  74.565728  20.200000  0.200000  13.590641  ...  48.215822  1.839473   \n",
              "\n",
              "      HF_NU           TP       LF_HF     HF_LF    sampen    higuci  datasetId  \\\n",
              "0  1.514737  3686.666157   65.018055  0.015380  2.139754  1.163485          2   \n",
              "1  0.304603  3006.487251  327.296635  0.003055  2.174499  1.084711          2   \n",
              "2  1.049528  2685.879461   94.280910  0.010607  2.135350  1.176315          2   \n",
              "3  1.775294  3434.520980   55.328701  0.018074  2.178341  1.179688          2   \n",
              "4  3.279993  2621.175204   29.487873  0.033912  2.221121  1.249612          2   \n",
              "\n",
              "      condition  \n",
              "0     no stress  \n",
              "1  interruption  \n",
              "2  interruption  \n",
              "3     no stress  \n",
              "4     no stress  \n",
              "\n",
              "[5 rows x 36 columns]"
            ],
            "text/html": [
              "\n",
              "  <div id=\"df-0d63f078-6d77-40a7-a7a0-66b40f32efed\">\n",
              "    <div class=\"colab-df-container\">\n",
              "      <div>\n",
              "<style scoped>\n",
              "    .dataframe tbody tr th:only-of-type {\n",
              "        vertical-align: middle;\n",
              "    }\n",
              "\n",
              "    .dataframe tbody tr th {\n",
              "        vertical-align: top;\n",
              "    }\n",
              "\n",
              "    .dataframe thead th {\n",
              "        text-align: right;\n",
              "    }\n",
              "</style>\n",
              "<table border=\"1\" class=\"dataframe\">\n",
              "  <thead>\n",
              "    <tr style=\"text-align: right;\">\n",
              "      <th></th>\n",
              "      <th>MEAN_RR</th>\n",
              "      <th>MEDIAN_RR</th>\n",
              "      <th>SDRR</th>\n",
              "      <th>RMSSD</th>\n",
              "      <th>SDSD</th>\n",
              "      <th>SDRR_RMSSD</th>\n",
              "      <th>HR</th>\n",
              "      <th>pNN25</th>\n",
              "      <th>pNN50</th>\n",
              "      <th>SD1</th>\n",
              "      <th>...</th>\n",
              "      <th>HF</th>\n",
              "      <th>HF_PCT</th>\n",
              "      <th>HF_NU</th>\n",
              "      <th>TP</th>\n",
              "      <th>LF_HF</th>\n",
              "      <th>HF_LF</th>\n",
              "      <th>sampen</th>\n",
              "      <th>higuci</th>\n",
              "      <th>datasetId</th>\n",
              "      <th>condition</th>\n",
              "    </tr>\n",
              "  </thead>\n",
              "  <tbody>\n",
              "    <tr>\n",
              "      <th>0</th>\n",
              "      <td>885.157845</td>\n",
              "      <td>853.763730</td>\n",
              "      <td>140.972741</td>\n",
              "      <td>15.554505</td>\n",
              "      <td>15.553371</td>\n",
              "      <td>9.063146</td>\n",
              "      <td>69.499952</td>\n",
              "      <td>11.133333</td>\n",
              "      <td>0.533333</td>\n",
              "      <td>11.001565</td>\n",
              "      <td>...</td>\n",
              "      <td>15.522603</td>\n",
              "      <td>0.421047</td>\n",
              "      <td>1.514737</td>\n",
              "      <td>3686.666157</td>\n",
              "      <td>65.018055</td>\n",
              "      <td>0.015380</td>\n",
              "      <td>2.139754</td>\n",
              "      <td>1.163485</td>\n",
              "      <td>2</td>\n",
              "      <td>no stress</td>\n",
              "    </tr>\n",
              "    <tr>\n",
              "      <th>1</th>\n",
              "      <td>939.425371</td>\n",
              "      <td>948.357865</td>\n",
              "      <td>81.317742</td>\n",
              "      <td>12.964439</td>\n",
              "      <td>12.964195</td>\n",
              "      <td>6.272369</td>\n",
              "      <td>64.363150</td>\n",
              "      <td>5.600000</td>\n",
              "      <td>0.000000</td>\n",
              "      <td>9.170129</td>\n",
              "      <td>...</td>\n",
              "      <td>2.108525</td>\n",
              "      <td>0.070133</td>\n",
              "      <td>0.304603</td>\n",
              "      <td>3006.487251</td>\n",
              "      <td>327.296635</td>\n",
              "      <td>0.003055</td>\n",
              "      <td>2.174499</td>\n",
              "      <td>1.084711</td>\n",
              "      <td>2</td>\n",
              "      <td>interruption</td>\n",
              "    </tr>\n",
              "    <tr>\n",
              "      <th>2</th>\n",
              "      <td>898.186047</td>\n",
              "      <td>907.006860</td>\n",
              "      <td>84.497236</td>\n",
              "      <td>16.305279</td>\n",
              "      <td>16.305274</td>\n",
              "      <td>5.182201</td>\n",
              "      <td>67.450066</td>\n",
              "      <td>13.066667</td>\n",
              "      <td>0.200000</td>\n",
              "      <td>11.533417</td>\n",
              "      <td>...</td>\n",
              "      <td>13.769729</td>\n",
              "      <td>0.512671</td>\n",
              "      <td>1.049528</td>\n",
              "      <td>2685.879461</td>\n",
              "      <td>94.280910</td>\n",
              "      <td>0.010607</td>\n",
              "      <td>2.135350</td>\n",
              "      <td>1.176315</td>\n",
              "      <td>2</td>\n",
              "      <td>interruption</td>\n",
              "    </tr>\n",
              "    <tr>\n",
              "      <th>3</th>\n",
              "      <td>881.757865</td>\n",
              "      <td>893.460030</td>\n",
              "      <td>90.370537</td>\n",
              "      <td>15.720468</td>\n",
              "      <td>15.720068</td>\n",
              "      <td>5.748591</td>\n",
              "      <td>68.809562</td>\n",
              "      <td>11.800000</td>\n",
              "      <td>0.133333</td>\n",
              "      <td>11.119476</td>\n",
              "      <td>...</td>\n",
              "      <td>18.181913</td>\n",
              "      <td>0.529387</td>\n",
              "      <td>1.775294</td>\n",
              "      <td>3434.520980</td>\n",
              "      <td>55.328701</td>\n",
              "      <td>0.018074</td>\n",
              "      <td>2.178341</td>\n",
              "      <td>1.179688</td>\n",
              "      <td>2</td>\n",
              "      <td>no stress</td>\n",
              "    </tr>\n",
              "    <tr>\n",
              "      <th>4</th>\n",
              "      <td>809.625331</td>\n",
              "      <td>811.184865</td>\n",
              "      <td>62.766242</td>\n",
              "      <td>19.213819</td>\n",
              "      <td>19.213657</td>\n",
              "      <td>3.266724</td>\n",
              "      <td>74.565728</td>\n",
              "      <td>20.200000</td>\n",
              "      <td>0.200000</td>\n",
              "      <td>13.590641</td>\n",
              "      <td>...</td>\n",
              "      <td>48.215822</td>\n",
              "      <td>1.839473</td>\n",
              "      <td>3.279993</td>\n",
              "      <td>2621.175204</td>\n",
              "      <td>29.487873</td>\n",
              "      <td>0.033912</td>\n",
              "      <td>2.221121</td>\n",
              "      <td>1.249612</td>\n",
              "      <td>2</td>\n",
              "      <td>no stress</td>\n",
              "    </tr>\n",
              "  </tbody>\n",
              "</table>\n",
              "<p>5 rows × 36 columns</p>\n",
              "</div>\n",
              "      <button class=\"colab-df-convert\" onclick=\"convertToInteractive('df-0d63f078-6d77-40a7-a7a0-66b40f32efed')\"\n",
              "              title=\"Convert this dataframe to an interactive table.\"\n",
              "              style=\"display:none;\">\n",
              "        \n",
              "  <svg xmlns=\"http://www.w3.org/2000/svg\" height=\"24px\"viewBox=\"0 0 24 24\"\n",
              "       width=\"24px\">\n",
              "    <path d=\"M0 0h24v24H0V0z\" fill=\"none\"/>\n",
              "    <path d=\"M18.56 5.44l.94 2.06.94-2.06 2.06-.94-2.06-.94-.94-2.06-.94 2.06-2.06.94zm-11 1L8.5 8.5l.94-2.06 2.06-.94-2.06-.94L8.5 2.5l-.94 2.06-2.06.94zm10 10l.94 2.06.94-2.06 2.06-.94-2.06-.94-.94-2.06-.94 2.06-2.06.94z\"/><path d=\"M17.41 7.96l-1.37-1.37c-.4-.4-.92-.59-1.43-.59-.52 0-1.04.2-1.43.59L10.3 9.45l-7.72 7.72c-.78.78-.78 2.05 0 2.83L4 21.41c.39.39.9.59 1.41.59.51 0 1.02-.2 1.41-.59l7.78-7.78 2.81-2.81c.8-.78.8-2.07 0-2.86zM5.41 20L4 18.59l7.72-7.72 1.47 1.35L5.41 20z\"/>\n",
              "  </svg>\n",
              "      </button>\n",
              "      \n",
              "  <style>\n",
              "    .colab-df-container {\n",
              "      display:flex;\n",
              "      flex-wrap:wrap;\n",
              "      gap: 12px;\n",
              "    }\n",
              "\n",
              "    .colab-df-convert {\n",
              "      background-color: #E8F0FE;\n",
              "      border: none;\n",
              "      border-radius: 50%;\n",
              "      cursor: pointer;\n",
              "      display: none;\n",
              "      fill: #1967D2;\n",
              "      height: 32px;\n",
              "      padding: 0 0 0 0;\n",
              "      width: 32px;\n",
              "    }\n",
              "\n",
              "    .colab-df-convert:hover {\n",
              "      background-color: #E2EBFA;\n",
              "      box-shadow: 0px 1px 2px rgba(60, 64, 67, 0.3), 0px 1px 3px 1px rgba(60, 64, 67, 0.15);\n",
              "      fill: #174EA6;\n",
              "    }\n",
              "\n",
              "    [theme=dark] .colab-df-convert {\n",
              "      background-color: #3B4455;\n",
              "      fill: #D2E3FC;\n",
              "    }\n",
              "\n",
              "    [theme=dark] .colab-df-convert:hover {\n",
              "      background-color: #434B5C;\n",
              "      box-shadow: 0px 1px 3px 1px rgba(0, 0, 0, 0.15);\n",
              "      filter: drop-shadow(0px 1px 2px rgba(0, 0, 0, 0.3));\n",
              "      fill: #FFFFFF;\n",
              "    }\n",
              "  </style>\n",
              "\n",
              "      <script>\n",
              "        const buttonEl =\n",
              "          document.querySelector('#df-0d63f078-6d77-40a7-a7a0-66b40f32efed button.colab-df-convert');\n",
              "        buttonEl.style.display =\n",
              "          google.colab.kernel.accessAllowed ? 'block' : 'none';\n",
              "\n",
              "        async function convertToInteractive(key) {\n",
              "          const element = document.querySelector('#df-0d63f078-6d77-40a7-a7a0-66b40f32efed');\n",
              "          const dataTable =\n",
              "            await google.colab.kernel.invokeFunction('convertToInteractive',\n",
              "                                                     [key], {});\n",
              "          if (!dataTable) return;\n",
              "\n",
              "          const docLinkHtml = 'Like what you see? Visit the ' +\n",
              "            '<a target=\"_blank\" href=https://colab.research.google.com/notebooks/data_table.ipynb>data table notebook</a>'\n",
              "            + ' to learn more about interactive tables.';\n",
              "          element.innerHTML = '';\n",
              "          dataTable['output_type'] = 'display_data';\n",
              "          await google.colab.output.renderOutput(dataTable, element);\n",
              "          const docLink = document.createElement('div');\n",
              "          docLink.innerHTML = docLinkHtml;\n",
              "          element.appendChild(docLink);\n",
              "        }\n",
              "      </script>\n",
              "    </div>\n",
              "  </div>\n",
              "  "
            ]
          },
          "metadata": {},
          "execution_count": 105
        }
      ]
    },
    {
      "cell_type": "code",
      "source": [
        "df_PA_work.head()"
      ],
      "metadata": {
        "colab": {
          "base_uri": "https://localhost:8080/",
          "height": 357
        },
        "id": "BqwF-qy-VUCU",
        "outputId": "7cbfed92-1aaa-484b-c309-060a31495d5e"
      },
      "execution_count": 106,
      "outputs": [
        {
          "output_type": "execute_result",
          "data": {
            "text/plain": [
              "   MEAN_RR   SDRR          HR     VLF    VLF_PCT     LF     LF_PCT      LF_NU  \\\n",
              "0    538.0  110.0  111.524164  1435.0  30.027202  523.0  10.943712  39.591219   \n",
              "1    504.0   56.0  119.047619  2959.0  96.541599   77.0   2.512235  83.695652   \n",
              "2    560.0   30.0  107.142857   521.0  65.534591  209.0  26.289308  80.694981   \n",
              "3    588.0   37.0  102.040816  1197.0  85.744986  143.0  10.243553  81.250000   \n",
              "4    628.0   37.0   95.541401   854.0  78.205128  109.0   9.981685  60.893855   \n",
              "\n",
              "      HF     HF_PCT      HF_NU      TP     LF_HF     HF_LF         PA  ID  \n",
              "0  798.0  16.698054  60.408781  4779.0  0.655388  1.525813  work-desk   1  \n",
              "1   15.0   0.489396  16.304348  3065.0  5.133333  0.194805  work-desk   1  \n",
              "2   50.0   6.289308  19.305019   795.0  4.180000  0.239234  work-desk   1  \n",
              "3   33.0   2.363897  18.750000  1396.0  4.333333  0.230769  work-desk   1  \n",
              "4   70.0   6.410256  39.106145  1092.0  1.557143  0.642202  work-desk   1  "
            ],
            "text/html": [
              "\n",
              "  <div id=\"df-90ed4241-5342-4986-9cc1-e391382174c2\">\n",
              "    <div class=\"colab-df-container\">\n",
              "      <div>\n",
              "<style scoped>\n",
              "    .dataframe tbody tr th:only-of-type {\n",
              "        vertical-align: middle;\n",
              "    }\n",
              "\n",
              "    .dataframe tbody tr th {\n",
              "        vertical-align: top;\n",
              "    }\n",
              "\n",
              "    .dataframe thead th {\n",
              "        text-align: right;\n",
              "    }\n",
              "</style>\n",
              "<table border=\"1\" class=\"dataframe\">\n",
              "  <thead>\n",
              "    <tr style=\"text-align: right;\">\n",
              "      <th></th>\n",
              "      <th>MEAN_RR</th>\n",
              "      <th>SDRR</th>\n",
              "      <th>HR</th>\n",
              "      <th>VLF</th>\n",
              "      <th>VLF_PCT</th>\n",
              "      <th>LF</th>\n",
              "      <th>LF_PCT</th>\n",
              "      <th>LF_NU</th>\n",
              "      <th>HF</th>\n",
              "      <th>HF_PCT</th>\n",
              "      <th>HF_NU</th>\n",
              "      <th>TP</th>\n",
              "      <th>LF_HF</th>\n",
              "      <th>HF_LF</th>\n",
              "      <th>PA</th>\n",
              "      <th>ID</th>\n",
              "    </tr>\n",
              "  </thead>\n",
              "  <tbody>\n",
              "    <tr>\n",
              "      <th>0</th>\n",
              "      <td>538.0</td>\n",
              "      <td>110.0</td>\n",
              "      <td>111.524164</td>\n",
              "      <td>1435.0</td>\n",
              "      <td>30.027202</td>\n",
              "      <td>523.0</td>\n",
              "      <td>10.943712</td>\n",
              "      <td>39.591219</td>\n",
              "      <td>798.0</td>\n",
              "      <td>16.698054</td>\n",
              "      <td>60.408781</td>\n",
              "      <td>4779.0</td>\n",
              "      <td>0.655388</td>\n",
              "      <td>1.525813</td>\n",
              "      <td>work-desk</td>\n",
              "      <td>1</td>\n",
              "    </tr>\n",
              "    <tr>\n",
              "      <th>1</th>\n",
              "      <td>504.0</td>\n",
              "      <td>56.0</td>\n",
              "      <td>119.047619</td>\n",
              "      <td>2959.0</td>\n",
              "      <td>96.541599</td>\n",
              "      <td>77.0</td>\n",
              "      <td>2.512235</td>\n",
              "      <td>83.695652</td>\n",
              "      <td>15.0</td>\n",
              "      <td>0.489396</td>\n",
              "      <td>16.304348</td>\n",
              "      <td>3065.0</td>\n",
              "      <td>5.133333</td>\n",
              "      <td>0.194805</td>\n",
              "      <td>work-desk</td>\n",
              "      <td>1</td>\n",
              "    </tr>\n",
              "    <tr>\n",
              "      <th>2</th>\n",
              "      <td>560.0</td>\n",
              "      <td>30.0</td>\n",
              "      <td>107.142857</td>\n",
              "      <td>521.0</td>\n",
              "      <td>65.534591</td>\n",
              "      <td>209.0</td>\n",
              "      <td>26.289308</td>\n",
              "      <td>80.694981</td>\n",
              "      <td>50.0</td>\n",
              "      <td>6.289308</td>\n",
              "      <td>19.305019</td>\n",
              "      <td>795.0</td>\n",
              "      <td>4.180000</td>\n",
              "      <td>0.239234</td>\n",
              "      <td>work-desk</td>\n",
              "      <td>1</td>\n",
              "    </tr>\n",
              "    <tr>\n",
              "      <th>3</th>\n",
              "      <td>588.0</td>\n",
              "      <td>37.0</td>\n",
              "      <td>102.040816</td>\n",
              "      <td>1197.0</td>\n",
              "      <td>85.744986</td>\n",
              "      <td>143.0</td>\n",
              "      <td>10.243553</td>\n",
              "      <td>81.250000</td>\n",
              "      <td>33.0</td>\n",
              "      <td>2.363897</td>\n",
              "      <td>18.750000</td>\n",
              "      <td>1396.0</td>\n",
              "      <td>4.333333</td>\n",
              "      <td>0.230769</td>\n",
              "      <td>work-desk</td>\n",
              "      <td>1</td>\n",
              "    </tr>\n",
              "    <tr>\n",
              "      <th>4</th>\n",
              "      <td>628.0</td>\n",
              "      <td>37.0</td>\n",
              "      <td>95.541401</td>\n",
              "      <td>854.0</td>\n",
              "      <td>78.205128</td>\n",
              "      <td>109.0</td>\n",
              "      <td>9.981685</td>\n",
              "      <td>60.893855</td>\n",
              "      <td>70.0</td>\n",
              "      <td>6.410256</td>\n",
              "      <td>39.106145</td>\n",
              "      <td>1092.0</td>\n",
              "      <td>1.557143</td>\n",
              "      <td>0.642202</td>\n",
              "      <td>work-desk</td>\n",
              "      <td>1</td>\n",
              "    </tr>\n",
              "  </tbody>\n",
              "</table>\n",
              "</div>\n",
              "      <button class=\"colab-df-convert\" onclick=\"convertToInteractive('df-90ed4241-5342-4986-9cc1-e391382174c2')\"\n",
              "              title=\"Convert this dataframe to an interactive table.\"\n",
              "              style=\"display:none;\">\n",
              "        \n",
              "  <svg xmlns=\"http://www.w3.org/2000/svg\" height=\"24px\"viewBox=\"0 0 24 24\"\n",
              "       width=\"24px\">\n",
              "    <path d=\"M0 0h24v24H0V0z\" fill=\"none\"/>\n",
              "    <path d=\"M18.56 5.44l.94 2.06.94-2.06 2.06-.94-2.06-.94-.94-2.06-.94 2.06-2.06.94zm-11 1L8.5 8.5l.94-2.06 2.06-.94-2.06-.94L8.5 2.5l-.94 2.06-2.06.94zm10 10l.94 2.06.94-2.06 2.06-.94-2.06-.94-.94-2.06-.94 2.06-2.06.94z\"/><path d=\"M17.41 7.96l-1.37-1.37c-.4-.4-.92-.59-1.43-.59-.52 0-1.04.2-1.43.59L10.3 9.45l-7.72 7.72c-.78.78-.78 2.05 0 2.83L4 21.41c.39.39.9.59 1.41.59.51 0 1.02-.2 1.41-.59l7.78-7.78 2.81-2.81c.8-.78.8-2.07 0-2.86zM5.41 20L4 18.59l7.72-7.72 1.47 1.35L5.41 20z\"/>\n",
              "  </svg>\n",
              "      </button>\n",
              "      \n",
              "  <style>\n",
              "    .colab-df-container {\n",
              "      display:flex;\n",
              "      flex-wrap:wrap;\n",
              "      gap: 12px;\n",
              "    }\n",
              "\n",
              "    .colab-df-convert {\n",
              "      background-color: #E8F0FE;\n",
              "      border: none;\n",
              "      border-radius: 50%;\n",
              "      cursor: pointer;\n",
              "      display: none;\n",
              "      fill: #1967D2;\n",
              "      height: 32px;\n",
              "      padding: 0 0 0 0;\n",
              "      width: 32px;\n",
              "    }\n",
              "\n",
              "    .colab-df-convert:hover {\n",
              "      background-color: #E2EBFA;\n",
              "      box-shadow: 0px 1px 2px rgba(60, 64, 67, 0.3), 0px 1px 3px 1px rgba(60, 64, 67, 0.15);\n",
              "      fill: #174EA6;\n",
              "    }\n",
              "\n",
              "    [theme=dark] .colab-df-convert {\n",
              "      background-color: #3B4455;\n",
              "      fill: #D2E3FC;\n",
              "    }\n",
              "\n",
              "    [theme=dark] .colab-df-convert:hover {\n",
              "      background-color: #434B5C;\n",
              "      box-shadow: 0px 1px 3px 1px rgba(0, 0, 0, 0.15);\n",
              "      filter: drop-shadow(0px 1px 2px rgba(0, 0, 0, 0.3));\n",
              "      fill: #FFFFFF;\n",
              "    }\n",
              "  </style>\n",
              "\n",
              "      <script>\n",
              "        const buttonEl =\n",
              "          document.querySelector('#df-90ed4241-5342-4986-9cc1-e391382174c2 button.colab-df-convert');\n",
              "        buttonEl.style.display =\n",
              "          google.colab.kernel.accessAllowed ? 'block' : 'none';\n",
              "\n",
              "        async function convertToInteractive(key) {\n",
              "          const element = document.querySelector('#df-90ed4241-5342-4986-9cc1-e391382174c2');\n",
              "          const dataTable =\n",
              "            await google.colab.kernel.invokeFunction('convertToInteractive',\n",
              "                                                     [key], {});\n",
              "          if (!dataTable) return;\n",
              "\n",
              "          const docLinkHtml = 'Like what you see? Visit the ' +\n",
              "            '<a target=\"_blank\" href=https://colab.research.google.com/notebooks/data_table.ipynb>data table notebook</a>'\n",
              "            + ' to learn more about interactive tables.';\n",
              "          element.innerHTML = '';\n",
              "          dataTable['output_type'] = 'display_data';\n",
              "          await google.colab.output.renderOutput(dataTable, element);\n",
              "          const docLink = document.createElement('div');\n",
              "          docLink.innerHTML = docLinkHtml;\n",
              "          element.appendChild(docLink);\n",
              "        }\n",
              "      </script>\n",
              "    </div>\n",
              "  </div>\n",
              "  "
            ]
          },
          "metadata": {},
          "execution_count": 106
        }
      ]
    },
    {
      "cell_type": "code",
      "source": [
        "df_sleep.head()"
      ],
      "metadata": {
        "colab": {
          "base_uri": "https://localhost:8080/",
          "height": 287
        },
        "id": "aq_gf3sOdi5m",
        "outputId": "18f44941-a240-4f2a-f223-2eb1b56df8bb"
      },
      "execution_count": 107,
      "outputs": [
        {
          "output_type": "execute_result",
          "data": {
            "text/plain": [
              "      MEAN_RR       SDNN         HR          VLF    VLF_PCT           LF  \\\n",
              "0  785.775623  87.717452  76.357675  2813.592798  39.701256  1902.991690   \n",
              "1  755.632458  69.821002  79.403683  2682.825776  50.419352  1121.892601   \n",
              "2  777.838565  70.807175  77.136829  2137.062780  41.707277  1095.028401   \n",
              "3  789.225064  68.534527  76.023941  2710.565217  53.790746  1045.636829   \n",
              "4  785.866290  66.472693  76.348866  2131.900188  47.167486   948.190207   \n",
              "\n",
              "      LF_PCT      LF_NU           HF     HF_PCT      HF_NU           TP  \\\n",
              "0  26.852201  60.335341  1251.033241  17.652729  39.664659  7086.911357   \n",
              "1  21.084149  65.194471   598.947494  11.256245  34.805529  5321.023866   \n",
              "2  21.370758  56.058273   858.346786  16.751640  43.941727  5123.956652   \n",
              "3  20.750501  59.763515   703.987212  13.970517  40.236485  5039.092072   \n",
              "4  20.978350  59.370062   648.894539  14.356546  40.629938  4519.851224   \n",
              "\n",
              "      LF_HF     HF_LF  Sleep Quality   PatchID        date  \n",
              "0  1.521136  0.657403              4  01F5005A   2016/11/8  \n",
              "1  1.873107  0.533872              4  01F5005A   2016/11/9  \n",
              "2  1.275741  0.783858              4  01F5005A  2016/11/10  \n",
              "3  1.485307  0.673262              4  01F5005A  2016/11/11  \n",
              "4  1.461239  0.684351              4  01F5005A  2016/11/12  "
            ],
            "text/html": [
              "\n",
              "  <div id=\"df-cac534b0-2366-4fcd-b142-8ae74d1046ee\">\n",
              "    <div class=\"colab-df-container\">\n",
              "      <div>\n",
              "<style scoped>\n",
              "    .dataframe tbody tr th:only-of-type {\n",
              "        vertical-align: middle;\n",
              "    }\n",
              "\n",
              "    .dataframe tbody tr th {\n",
              "        vertical-align: top;\n",
              "    }\n",
              "\n",
              "    .dataframe thead th {\n",
              "        text-align: right;\n",
              "    }\n",
              "</style>\n",
              "<table border=\"1\" class=\"dataframe\">\n",
              "  <thead>\n",
              "    <tr style=\"text-align: right;\">\n",
              "      <th></th>\n",
              "      <th>MEAN_RR</th>\n",
              "      <th>SDNN</th>\n",
              "      <th>HR</th>\n",
              "      <th>VLF</th>\n",
              "      <th>VLF_PCT</th>\n",
              "      <th>LF</th>\n",
              "      <th>LF_PCT</th>\n",
              "      <th>LF_NU</th>\n",
              "      <th>HF</th>\n",
              "      <th>HF_PCT</th>\n",
              "      <th>HF_NU</th>\n",
              "      <th>TP</th>\n",
              "      <th>LF_HF</th>\n",
              "      <th>HF_LF</th>\n",
              "      <th>Sleep Quality</th>\n",
              "      <th>PatchID</th>\n",
              "      <th>date</th>\n",
              "    </tr>\n",
              "  </thead>\n",
              "  <tbody>\n",
              "    <tr>\n",
              "      <th>0</th>\n",
              "      <td>785.775623</td>\n",
              "      <td>87.717452</td>\n",
              "      <td>76.357675</td>\n",
              "      <td>2813.592798</td>\n",
              "      <td>39.701256</td>\n",
              "      <td>1902.991690</td>\n",
              "      <td>26.852201</td>\n",
              "      <td>60.335341</td>\n",
              "      <td>1251.033241</td>\n",
              "      <td>17.652729</td>\n",
              "      <td>39.664659</td>\n",
              "      <td>7086.911357</td>\n",
              "      <td>1.521136</td>\n",
              "      <td>0.657403</td>\n",
              "      <td>4</td>\n",
              "      <td>01F5005A</td>\n",
              "      <td>2016/11/8</td>\n",
              "    </tr>\n",
              "    <tr>\n",
              "      <th>1</th>\n",
              "      <td>755.632458</td>\n",
              "      <td>69.821002</td>\n",
              "      <td>79.403683</td>\n",
              "      <td>2682.825776</td>\n",
              "      <td>50.419352</td>\n",
              "      <td>1121.892601</td>\n",
              "      <td>21.084149</td>\n",
              "      <td>65.194471</td>\n",
              "      <td>598.947494</td>\n",
              "      <td>11.256245</td>\n",
              "      <td>34.805529</td>\n",
              "      <td>5321.023866</td>\n",
              "      <td>1.873107</td>\n",
              "      <td>0.533872</td>\n",
              "      <td>4</td>\n",
              "      <td>01F5005A</td>\n",
              "      <td>2016/11/9</td>\n",
              "    </tr>\n",
              "    <tr>\n",
              "      <th>2</th>\n",
              "      <td>777.838565</td>\n",
              "      <td>70.807175</td>\n",
              "      <td>77.136829</td>\n",
              "      <td>2137.062780</td>\n",
              "      <td>41.707277</td>\n",
              "      <td>1095.028401</td>\n",
              "      <td>21.370758</td>\n",
              "      <td>56.058273</td>\n",
              "      <td>858.346786</td>\n",
              "      <td>16.751640</td>\n",
              "      <td>43.941727</td>\n",
              "      <td>5123.956652</td>\n",
              "      <td>1.275741</td>\n",
              "      <td>0.783858</td>\n",
              "      <td>4</td>\n",
              "      <td>01F5005A</td>\n",
              "      <td>2016/11/10</td>\n",
              "    </tr>\n",
              "    <tr>\n",
              "      <th>3</th>\n",
              "      <td>789.225064</td>\n",
              "      <td>68.534527</td>\n",
              "      <td>76.023941</td>\n",
              "      <td>2710.565217</td>\n",
              "      <td>53.790746</td>\n",
              "      <td>1045.636829</td>\n",
              "      <td>20.750501</td>\n",
              "      <td>59.763515</td>\n",
              "      <td>703.987212</td>\n",
              "      <td>13.970517</td>\n",
              "      <td>40.236485</td>\n",
              "      <td>5039.092072</td>\n",
              "      <td>1.485307</td>\n",
              "      <td>0.673262</td>\n",
              "      <td>4</td>\n",
              "      <td>01F5005A</td>\n",
              "      <td>2016/11/11</td>\n",
              "    </tr>\n",
              "    <tr>\n",
              "      <th>4</th>\n",
              "      <td>785.866290</td>\n",
              "      <td>66.472693</td>\n",
              "      <td>76.348866</td>\n",
              "      <td>2131.900188</td>\n",
              "      <td>47.167486</td>\n",
              "      <td>948.190207</td>\n",
              "      <td>20.978350</td>\n",
              "      <td>59.370062</td>\n",
              "      <td>648.894539</td>\n",
              "      <td>14.356546</td>\n",
              "      <td>40.629938</td>\n",
              "      <td>4519.851224</td>\n",
              "      <td>1.461239</td>\n",
              "      <td>0.684351</td>\n",
              "      <td>4</td>\n",
              "      <td>01F5005A</td>\n",
              "      <td>2016/11/12</td>\n",
              "    </tr>\n",
              "  </tbody>\n",
              "</table>\n",
              "</div>\n",
              "      <button class=\"colab-df-convert\" onclick=\"convertToInteractive('df-cac534b0-2366-4fcd-b142-8ae74d1046ee')\"\n",
              "              title=\"Convert this dataframe to an interactive table.\"\n",
              "              style=\"display:none;\">\n",
              "        \n",
              "  <svg xmlns=\"http://www.w3.org/2000/svg\" height=\"24px\"viewBox=\"0 0 24 24\"\n",
              "       width=\"24px\">\n",
              "    <path d=\"M0 0h24v24H0V0z\" fill=\"none\"/>\n",
              "    <path d=\"M18.56 5.44l.94 2.06.94-2.06 2.06-.94-2.06-.94-.94-2.06-.94 2.06-2.06.94zm-11 1L8.5 8.5l.94-2.06 2.06-.94-2.06-.94L8.5 2.5l-.94 2.06-2.06.94zm10 10l.94 2.06.94-2.06 2.06-.94-2.06-.94-.94-2.06-.94 2.06-2.06.94z\"/><path d=\"M17.41 7.96l-1.37-1.37c-.4-.4-.92-.59-1.43-.59-.52 0-1.04.2-1.43.59L10.3 9.45l-7.72 7.72c-.78.78-.78 2.05 0 2.83L4 21.41c.39.39.9.59 1.41.59.51 0 1.02-.2 1.41-.59l7.78-7.78 2.81-2.81c.8-.78.8-2.07 0-2.86zM5.41 20L4 18.59l7.72-7.72 1.47 1.35L5.41 20z\"/>\n",
              "  </svg>\n",
              "      </button>\n",
              "      \n",
              "  <style>\n",
              "    .colab-df-container {\n",
              "      display:flex;\n",
              "      flex-wrap:wrap;\n",
              "      gap: 12px;\n",
              "    }\n",
              "\n",
              "    .colab-df-convert {\n",
              "      background-color: #E8F0FE;\n",
              "      border: none;\n",
              "      border-radius: 50%;\n",
              "      cursor: pointer;\n",
              "      display: none;\n",
              "      fill: #1967D2;\n",
              "      height: 32px;\n",
              "      padding: 0 0 0 0;\n",
              "      width: 32px;\n",
              "    }\n",
              "\n",
              "    .colab-df-convert:hover {\n",
              "      background-color: #E2EBFA;\n",
              "      box-shadow: 0px 1px 2px rgba(60, 64, 67, 0.3), 0px 1px 3px 1px rgba(60, 64, 67, 0.15);\n",
              "      fill: #174EA6;\n",
              "    }\n",
              "\n",
              "    [theme=dark] .colab-df-convert {\n",
              "      background-color: #3B4455;\n",
              "      fill: #D2E3FC;\n",
              "    }\n",
              "\n",
              "    [theme=dark] .colab-df-convert:hover {\n",
              "      background-color: #434B5C;\n",
              "      box-shadow: 0px 1px 3px 1px rgba(0, 0, 0, 0.15);\n",
              "      filter: drop-shadow(0px 1px 2px rgba(0, 0, 0, 0.3));\n",
              "      fill: #FFFFFF;\n",
              "    }\n",
              "  </style>\n",
              "\n",
              "      <script>\n",
              "        const buttonEl =\n",
              "          document.querySelector('#df-cac534b0-2366-4fcd-b142-8ae74d1046ee button.colab-df-convert');\n",
              "        buttonEl.style.display =\n",
              "          google.colab.kernel.accessAllowed ? 'block' : 'none';\n",
              "\n",
              "        async function convertToInteractive(key) {\n",
              "          const element = document.querySelector('#df-cac534b0-2366-4fcd-b142-8ae74d1046ee');\n",
              "          const dataTable =\n",
              "            await google.colab.kernel.invokeFunction('convertToInteractive',\n",
              "                                                     [key], {});\n",
              "          if (!dataTable) return;\n",
              "\n",
              "          const docLinkHtml = 'Like what you see? Visit the ' +\n",
              "            '<a target=\"_blank\" href=https://colab.research.google.com/notebooks/data_table.ipynb>data table notebook</a>'\n",
              "            + ' to learn more about interactive tables.';\n",
              "          element.innerHTML = '';\n",
              "          dataTable['output_type'] = 'display_data';\n",
              "          await google.colab.output.renderOutput(dataTable, element);\n",
              "          const docLink = document.createElement('div');\n",
              "          docLink.innerHTML = docLinkHtml;\n",
              "          element.appendChild(docLink);\n",
              "        }\n",
              "      </script>\n",
              "    </div>\n",
              "  </div>\n",
              "  "
            ]
          },
          "metadata": {},
          "execution_count": 107
        }
      ]
    },
    {
      "cell_type": "code",
      "source": [
        "HRV_02A7005A.head()"
      ],
      "metadata": {
        "colab": {
          "base_uri": "https://localhost:8080/",
          "height": 374
        },
        "id": "Qp14BNKFwUwr",
        "outputId": "de129734-8cbf-4ba8-8885-c7d189bd89a3"
      },
      "execution_count": 108,
      "outputs": [
        {
          "output_type": "execute_result",
          "data": {
            "text/plain": [
              "   MEAN_RR   SDNN          HR     VLF    VLF_PCT      LF     LF_PCT     LF_NU  \\\n",
              "0    484.0  166.0  123.966942  9288.0  27.330508  7306.0  21.498352  0.401340   \n",
              "1    452.0   55.0  132.743363  1709.0  56.626905   271.0   8.979457  0.352406   \n",
              "2    470.0   56.0  127.659574  1585.0  47.018689   422.0  12.518540  0.518428   \n",
              "3    507.0   51.0  118.343195   526.0  37.544611   396.0  28.265525  0.639742   \n",
              "4    504.0   43.0  119.047619   797.0  31.205951   964.0  37.744714  0.691039   \n",
              "\n",
              "        HF     HF_PCT     HF_NU       TP     LF_HF     HF_LF  Sleep Quality  \\\n",
              "0  10898.0  32.068032  0.598660  33984.0  0.670398  1.491651            NaN   \n",
              "1    498.0  16.500994  0.647594   3018.0  0.544177  1.837638            NaN   \n",
              "2    392.0  11.628597  0.481572   3371.0  1.076531  0.928910            NaN   \n",
              "3    223.0  15.917202  0.360258   1401.0  1.775785  0.563131            NaN   \n",
              "4    431.0  16.875489  0.308961   2554.0  2.236659  0.447095            NaN   \n",
              "\n",
              "         Date       Device_date  \n",
              "0  2016/10/27  2016/10/27 18:11  \n",
              "1  2016/10/27  2016/10/27 18:14  \n",
              "2  2016/10/27  2016/10/27 18:16  \n",
              "3  2016/10/27  2016/10/27 18:19  \n",
              "4  2016/10/27  2016/10/27 18:21  "
            ],
            "text/html": [
              "\n",
              "  <div id=\"df-4f5b9d4b-29ce-434e-8719-478581679766\">\n",
              "    <div class=\"colab-df-container\">\n",
              "      <div>\n",
              "<style scoped>\n",
              "    .dataframe tbody tr th:only-of-type {\n",
              "        vertical-align: middle;\n",
              "    }\n",
              "\n",
              "    .dataframe tbody tr th {\n",
              "        vertical-align: top;\n",
              "    }\n",
              "\n",
              "    .dataframe thead th {\n",
              "        text-align: right;\n",
              "    }\n",
              "</style>\n",
              "<table border=\"1\" class=\"dataframe\">\n",
              "  <thead>\n",
              "    <tr style=\"text-align: right;\">\n",
              "      <th></th>\n",
              "      <th>MEAN_RR</th>\n",
              "      <th>SDNN</th>\n",
              "      <th>HR</th>\n",
              "      <th>VLF</th>\n",
              "      <th>VLF_PCT</th>\n",
              "      <th>LF</th>\n",
              "      <th>LF_PCT</th>\n",
              "      <th>LF_NU</th>\n",
              "      <th>HF</th>\n",
              "      <th>HF_PCT</th>\n",
              "      <th>HF_NU</th>\n",
              "      <th>TP</th>\n",
              "      <th>LF_HF</th>\n",
              "      <th>HF_LF</th>\n",
              "      <th>Sleep Quality</th>\n",
              "      <th>Date</th>\n",
              "      <th>Device_date</th>\n",
              "    </tr>\n",
              "  </thead>\n",
              "  <tbody>\n",
              "    <tr>\n",
              "      <th>0</th>\n",
              "      <td>484.0</td>\n",
              "      <td>166.0</td>\n",
              "      <td>123.966942</td>\n",
              "      <td>9288.0</td>\n",
              "      <td>27.330508</td>\n",
              "      <td>7306.0</td>\n",
              "      <td>21.498352</td>\n",
              "      <td>0.401340</td>\n",
              "      <td>10898.0</td>\n",
              "      <td>32.068032</td>\n",
              "      <td>0.598660</td>\n",
              "      <td>33984.0</td>\n",
              "      <td>0.670398</td>\n",
              "      <td>1.491651</td>\n",
              "      <td>NaN</td>\n",
              "      <td>2016/10/27</td>\n",
              "      <td>2016/10/27 18:11</td>\n",
              "    </tr>\n",
              "    <tr>\n",
              "      <th>1</th>\n",
              "      <td>452.0</td>\n",
              "      <td>55.0</td>\n",
              "      <td>132.743363</td>\n",
              "      <td>1709.0</td>\n",
              "      <td>56.626905</td>\n",
              "      <td>271.0</td>\n",
              "      <td>8.979457</td>\n",
              "      <td>0.352406</td>\n",
              "      <td>498.0</td>\n",
              "      <td>16.500994</td>\n",
              "      <td>0.647594</td>\n",
              "      <td>3018.0</td>\n",
              "      <td>0.544177</td>\n",
              "      <td>1.837638</td>\n",
              "      <td>NaN</td>\n",
              "      <td>2016/10/27</td>\n",
              "      <td>2016/10/27 18:14</td>\n",
              "    </tr>\n",
              "    <tr>\n",
              "      <th>2</th>\n",
              "      <td>470.0</td>\n",
              "      <td>56.0</td>\n",
              "      <td>127.659574</td>\n",
              "      <td>1585.0</td>\n",
              "      <td>47.018689</td>\n",
              "      <td>422.0</td>\n",
              "      <td>12.518540</td>\n",
              "      <td>0.518428</td>\n",
              "      <td>392.0</td>\n",
              "      <td>11.628597</td>\n",
              "      <td>0.481572</td>\n",
              "      <td>3371.0</td>\n",
              "      <td>1.076531</td>\n",
              "      <td>0.928910</td>\n",
              "      <td>NaN</td>\n",
              "      <td>2016/10/27</td>\n",
              "      <td>2016/10/27 18:16</td>\n",
              "    </tr>\n",
              "    <tr>\n",
              "      <th>3</th>\n",
              "      <td>507.0</td>\n",
              "      <td>51.0</td>\n",
              "      <td>118.343195</td>\n",
              "      <td>526.0</td>\n",
              "      <td>37.544611</td>\n",
              "      <td>396.0</td>\n",
              "      <td>28.265525</td>\n",
              "      <td>0.639742</td>\n",
              "      <td>223.0</td>\n",
              "      <td>15.917202</td>\n",
              "      <td>0.360258</td>\n",
              "      <td>1401.0</td>\n",
              "      <td>1.775785</td>\n",
              "      <td>0.563131</td>\n",
              "      <td>NaN</td>\n",
              "      <td>2016/10/27</td>\n",
              "      <td>2016/10/27 18:19</td>\n",
              "    </tr>\n",
              "    <tr>\n",
              "      <th>4</th>\n",
              "      <td>504.0</td>\n",
              "      <td>43.0</td>\n",
              "      <td>119.047619</td>\n",
              "      <td>797.0</td>\n",
              "      <td>31.205951</td>\n",
              "      <td>964.0</td>\n",
              "      <td>37.744714</td>\n",
              "      <td>0.691039</td>\n",
              "      <td>431.0</td>\n",
              "      <td>16.875489</td>\n",
              "      <td>0.308961</td>\n",
              "      <td>2554.0</td>\n",
              "      <td>2.236659</td>\n",
              "      <td>0.447095</td>\n",
              "      <td>NaN</td>\n",
              "      <td>2016/10/27</td>\n",
              "      <td>2016/10/27 18:21</td>\n",
              "    </tr>\n",
              "  </tbody>\n",
              "</table>\n",
              "</div>\n",
              "      <button class=\"colab-df-convert\" onclick=\"convertToInteractive('df-4f5b9d4b-29ce-434e-8719-478581679766')\"\n",
              "              title=\"Convert this dataframe to an interactive table.\"\n",
              "              style=\"display:none;\">\n",
              "        \n",
              "  <svg xmlns=\"http://www.w3.org/2000/svg\" height=\"24px\"viewBox=\"0 0 24 24\"\n",
              "       width=\"24px\">\n",
              "    <path d=\"M0 0h24v24H0V0z\" fill=\"none\"/>\n",
              "    <path d=\"M18.56 5.44l.94 2.06.94-2.06 2.06-.94-2.06-.94-.94-2.06-.94 2.06-2.06.94zm-11 1L8.5 8.5l.94-2.06 2.06-.94-2.06-.94L8.5 2.5l-.94 2.06-2.06.94zm10 10l.94 2.06.94-2.06 2.06-.94-2.06-.94-.94-2.06-.94 2.06-2.06.94z\"/><path d=\"M17.41 7.96l-1.37-1.37c-.4-.4-.92-.59-1.43-.59-.52 0-1.04.2-1.43.59L10.3 9.45l-7.72 7.72c-.78.78-.78 2.05 0 2.83L4 21.41c.39.39.9.59 1.41.59.51 0 1.02-.2 1.41-.59l7.78-7.78 2.81-2.81c.8-.78.8-2.07 0-2.86zM5.41 20L4 18.59l7.72-7.72 1.47 1.35L5.41 20z\"/>\n",
              "  </svg>\n",
              "      </button>\n",
              "      \n",
              "  <style>\n",
              "    .colab-df-container {\n",
              "      display:flex;\n",
              "      flex-wrap:wrap;\n",
              "      gap: 12px;\n",
              "    }\n",
              "\n",
              "    .colab-df-convert {\n",
              "      background-color: #E8F0FE;\n",
              "      border: none;\n",
              "      border-radius: 50%;\n",
              "      cursor: pointer;\n",
              "      display: none;\n",
              "      fill: #1967D2;\n",
              "      height: 32px;\n",
              "      padding: 0 0 0 0;\n",
              "      width: 32px;\n",
              "    }\n",
              "\n",
              "    .colab-df-convert:hover {\n",
              "      background-color: #E2EBFA;\n",
              "      box-shadow: 0px 1px 2px rgba(60, 64, 67, 0.3), 0px 1px 3px 1px rgba(60, 64, 67, 0.15);\n",
              "      fill: #174EA6;\n",
              "    }\n",
              "\n",
              "    [theme=dark] .colab-df-convert {\n",
              "      background-color: #3B4455;\n",
              "      fill: #D2E3FC;\n",
              "    }\n",
              "\n",
              "    [theme=dark] .colab-df-convert:hover {\n",
              "      background-color: #434B5C;\n",
              "      box-shadow: 0px 1px 3px 1px rgba(0, 0, 0, 0.15);\n",
              "      filter: drop-shadow(0px 1px 2px rgba(0, 0, 0, 0.3));\n",
              "      fill: #FFFFFF;\n",
              "    }\n",
              "  </style>\n",
              "\n",
              "      <script>\n",
              "        const buttonEl =\n",
              "          document.querySelector('#df-4f5b9d4b-29ce-434e-8719-478581679766 button.colab-df-convert');\n",
              "        buttonEl.style.display =\n",
              "          google.colab.kernel.accessAllowed ? 'block' : 'none';\n",
              "\n",
              "        async function convertToInteractive(key) {\n",
              "          const element = document.querySelector('#df-4f5b9d4b-29ce-434e-8719-478581679766');\n",
              "          const dataTable =\n",
              "            await google.colab.kernel.invokeFunction('convertToInteractive',\n",
              "                                                     [key], {});\n",
              "          if (!dataTable) return;\n",
              "\n",
              "          const docLinkHtml = 'Like what you see? Visit the ' +\n",
              "            '<a target=\"_blank\" href=https://colab.research.google.com/notebooks/data_table.ipynb>data table notebook</a>'\n",
              "            + ' to learn more about interactive tables.';\n",
              "          element.innerHTML = '';\n",
              "          dataTable['output_type'] = 'display_data';\n",
              "          await google.colab.output.renderOutput(dataTable, element);\n",
              "          const docLink = document.createElement('div');\n",
              "          docLink.innerHTML = docLinkHtml;\n",
              "          element.appendChild(docLink);\n",
              "        }\n",
              "      </script>\n",
              "    </div>\n",
              "  </div>\n",
              "  "
            ]
          },
          "metadata": {},
          "execution_count": 108
        }
      ]
    },
    {
      "cell_type": "code",
      "source": [
        "HRV_029E005A.head()"
      ],
      "metadata": {
        "colab": {
          "base_uri": "https://localhost:8080/",
          "height": 374
        },
        "id": "NpA7TQHKIfOQ",
        "outputId": "1ba98b51-c882-4c18-869d-fc0d90ba6e64"
      },
      "execution_count": 109,
      "outputs": [
        {
          "output_type": "execute_result",
          "data": {
            "text/plain": [
              "   MEAN_RR  SDNN         HR    VLF    VLF_PCT     LF     LF_PCT     LF_NU  \\\n",
              "0    837.0  60.0  71.684588    0.0   0.000000  196.0   7.626459  0.101397   \n",
              "1    825.0  47.0  72.727273    0.0   0.000000  965.0  32.198866  0.333795   \n",
              "2    819.0  40.0  73.260073  142.0   9.679618  658.0  44.853442  0.540674   \n",
              "3    827.0  38.0  72.551391   36.0   3.753910  411.0  42.857143  0.493397   \n",
              "4    789.0  59.0  76.045627  989.0  54.310818  435.0  23.887974  0.588633   \n",
              "\n",
              "       HF     HF_PCT     HF_NU      TP     LF_HF     HF_LF  Sleep Quality  \\\n",
              "0  1737.0  67.587549  0.898603  2570.0  0.112838  8.862245            NaN   \n",
              "1  1926.0  64.264264  0.666205  2997.0  0.501038  1.995855            NaN   \n",
              "2   559.0  38.104976  0.459326  1467.0  1.177102  0.849544            NaN   \n",
              "3   422.0  44.004171  0.506603   959.0  0.973934  1.026764            NaN   \n",
              "4   304.0  16.694124  0.411367  1821.0  1.430921  0.698851            NaN   \n",
              "\n",
              "         Date       Device_date  \n",
              "0   2016/11/7   2016/11/7 18:24  \n",
              "1  2016/11/23  2016/11/23 13:01  \n",
              "2  2016/11/23  2016/11/23 13:01  \n",
              "3  2016/11/23  2016/11/23 13:02  \n",
              "4  2016/11/23  2016/11/23 13:03  "
            ],
            "text/html": [
              "\n",
              "  <div id=\"df-141460ca-0e7f-4efa-a129-01c25c32446f\">\n",
              "    <div class=\"colab-df-container\">\n",
              "      <div>\n",
              "<style scoped>\n",
              "    .dataframe tbody tr th:only-of-type {\n",
              "        vertical-align: middle;\n",
              "    }\n",
              "\n",
              "    .dataframe tbody tr th {\n",
              "        vertical-align: top;\n",
              "    }\n",
              "\n",
              "    .dataframe thead th {\n",
              "        text-align: right;\n",
              "    }\n",
              "</style>\n",
              "<table border=\"1\" class=\"dataframe\">\n",
              "  <thead>\n",
              "    <tr style=\"text-align: right;\">\n",
              "      <th></th>\n",
              "      <th>MEAN_RR</th>\n",
              "      <th>SDNN</th>\n",
              "      <th>HR</th>\n",
              "      <th>VLF</th>\n",
              "      <th>VLF_PCT</th>\n",
              "      <th>LF</th>\n",
              "      <th>LF_PCT</th>\n",
              "      <th>LF_NU</th>\n",
              "      <th>HF</th>\n",
              "      <th>HF_PCT</th>\n",
              "      <th>HF_NU</th>\n",
              "      <th>TP</th>\n",
              "      <th>LF_HF</th>\n",
              "      <th>HF_LF</th>\n",
              "      <th>Sleep Quality</th>\n",
              "      <th>Date</th>\n",
              "      <th>Device_date</th>\n",
              "    </tr>\n",
              "  </thead>\n",
              "  <tbody>\n",
              "    <tr>\n",
              "      <th>0</th>\n",
              "      <td>837.0</td>\n",
              "      <td>60.0</td>\n",
              "      <td>71.684588</td>\n",
              "      <td>0.0</td>\n",
              "      <td>0.000000</td>\n",
              "      <td>196.0</td>\n",
              "      <td>7.626459</td>\n",
              "      <td>0.101397</td>\n",
              "      <td>1737.0</td>\n",
              "      <td>67.587549</td>\n",
              "      <td>0.898603</td>\n",
              "      <td>2570.0</td>\n",
              "      <td>0.112838</td>\n",
              "      <td>8.862245</td>\n",
              "      <td>NaN</td>\n",
              "      <td>2016/11/7</td>\n",
              "      <td>2016/11/7 18:24</td>\n",
              "    </tr>\n",
              "    <tr>\n",
              "      <th>1</th>\n",
              "      <td>825.0</td>\n",
              "      <td>47.0</td>\n",
              "      <td>72.727273</td>\n",
              "      <td>0.0</td>\n",
              "      <td>0.000000</td>\n",
              "      <td>965.0</td>\n",
              "      <td>32.198866</td>\n",
              "      <td>0.333795</td>\n",
              "      <td>1926.0</td>\n",
              "      <td>64.264264</td>\n",
              "      <td>0.666205</td>\n",
              "      <td>2997.0</td>\n",
              "      <td>0.501038</td>\n",
              "      <td>1.995855</td>\n",
              "      <td>NaN</td>\n",
              "      <td>2016/11/23</td>\n",
              "      <td>2016/11/23 13:01</td>\n",
              "    </tr>\n",
              "    <tr>\n",
              "      <th>2</th>\n",
              "      <td>819.0</td>\n",
              "      <td>40.0</td>\n",
              "      <td>73.260073</td>\n",
              "      <td>142.0</td>\n",
              "      <td>9.679618</td>\n",
              "      <td>658.0</td>\n",
              "      <td>44.853442</td>\n",
              "      <td>0.540674</td>\n",
              "      <td>559.0</td>\n",
              "      <td>38.104976</td>\n",
              "      <td>0.459326</td>\n",
              "      <td>1467.0</td>\n",
              "      <td>1.177102</td>\n",
              "      <td>0.849544</td>\n",
              "      <td>NaN</td>\n",
              "      <td>2016/11/23</td>\n",
              "      <td>2016/11/23 13:01</td>\n",
              "    </tr>\n",
              "    <tr>\n",
              "      <th>3</th>\n",
              "      <td>827.0</td>\n",
              "      <td>38.0</td>\n",
              "      <td>72.551391</td>\n",
              "      <td>36.0</td>\n",
              "      <td>3.753910</td>\n",
              "      <td>411.0</td>\n",
              "      <td>42.857143</td>\n",
              "      <td>0.493397</td>\n",
              "      <td>422.0</td>\n",
              "      <td>44.004171</td>\n",
              "      <td>0.506603</td>\n",
              "      <td>959.0</td>\n",
              "      <td>0.973934</td>\n",
              "      <td>1.026764</td>\n",
              "      <td>NaN</td>\n",
              "      <td>2016/11/23</td>\n",
              "      <td>2016/11/23 13:02</td>\n",
              "    </tr>\n",
              "    <tr>\n",
              "      <th>4</th>\n",
              "      <td>789.0</td>\n",
              "      <td>59.0</td>\n",
              "      <td>76.045627</td>\n",
              "      <td>989.0</td>\n",
              "      <td>54.310818</td>\n",
              "      <td>435.0</td>\n",
              "      <td>23.887974</td>\n",
              "      <td>0.588633</td>\n",
              "      <td>304.0</td>\n",
              "      <td>16.694124</td>\n",
              "      <td>0.411367</td>\n",
              "      <td>1821.0</td>\n",
              "      <td>1.430921</td>\n",
              "      <td>0.698851</td>\n",
              "      <td>NaN</td>\n",
              "      <td>2016/11/23</td>\n",
              "      <td>2016/11/23 13:03</td>\n",
              "    </tr>\n",
              "  </tbody>\n",
              "</table>\n",
              "</div>\n",
              "      <button class=\"colab-df-convert\" onclick=\"convertToInteractive('df-141460ca-0e7f-4efa-a129-01c25c32446f')\"\n",
              "              title=\"Convert this dataframe to an interactive table.\"\n",
              "              style=\"display:none;\">\n",
              "        \n",
              "  <svg xmlns=\"http://www.w3.org/2000/svg\" height=\"24px\"viewBox=\"0 0 24 24\"\n",
              "       width=\"24px\">\n",
              "    <path d=\"M0 0h24v24H0V0z\" fill=\"none\"/>\n",
              "    <path d=\"M18.56 5.44l.94 2.06.94-2.06 2.06-.94-2.06-.94-.94-2.06-.94 2.06-2.06.94zm-11 1L8.5 8.5l.94-2.06 2.06-.94-2.06-.94L8.5 2.5l-.94 2.06-2.06.94zm10 10l.94 2.06.94-2.06 2.06-.94-2.06-.94-.94-2.06-.94 2.06-2.06.94z\"/><path d=\"M17.41 7.96l-1.37-1.37c-.4-.4-.92-.59-1.43-.59-.52 0-1.04.2-1.43.59L10.3 9.45l-7.72 7.72c-.78.78-.78 2.05 0 2.83L4 21.41c.39.39.9.59 1.41.59.51 0 1.02-.2 1.41-.59l7.78-7.78 2.81-2.81c.8-.78.8-2.07 0-2.86zM5.41 20L4 18.59l7.72-7.72 1.47 1.35L5.41 20z\"/>\n",
              "  </svg>\n",
              "      </button>\n",
              "      \n",
              "  <style>\n",
              "    .colab-df-container {\n",
              "      display:flex;\n",
              "      flex-wrap:wrap;\n",
              "      gap: 12px;\n",
              "    }\n",
              "\n",
              "    .colab-df-convert {\n",
              "      background-color: #E8F0FE;\n",
              "      border: none;\n",
              "      border-radius: 50%;\n",
              "      cursor: pointer;\n",
              "      display: none;\n",
              "      fill: #1967D2;\n",
              "      height: 32px;\n",
              "      padding: 0 0 0 0;\n",
              "      width: 32px;\n",
              "    }\n",
              "\n",
              "    .colab-df-convert:hover {\n",
              "      background-color: #E2EBFA;\n",
              "      box-shadow: 0px 1px 2px rgba(60, 64, 67, 0.3), 0px 1px 3px 1px rgba(60, 64, 67, 0.15);\n",
              "      fill: #174EA6;\n",
              "    }\n",
              "\n",
              "    [theme=dark] .colab-df-convert {\n",
              "      background-color: #3B4455;\n",
              "      fill: #D2E3FC;\n",
              "    }\n",
              "\n",
              "    [theme=dark] .colab-df-convert:hover {\n",
              "      background-color: #434B5C;\n",
              "      box-shadow: 0px 1px 3px 1px rgba(0, 0, 0, 0.15);\n",
              "      filter: drop-shadow(0px 1px 2px rgba(0, 0, 0, 0.3));\n",
              "      fill: #FFFFFF;\n",
              "    }\n",
              "  </style>\n",
              "\n",
              "      <script>\n",
              "        const buttonEl =\n",
              "          document.querySelector('#df-141460ca-0e7f-4efa-a129-01c25c32446f button.colab-df-convert');\n",
              "        buttonEl.style.display =\n",
              "          google.colab.kernel.accessAllowed ? 'block' : 'none';\n",
              "\n",
              "        async function convertToInteractive(key) {\n",
              "          const element = document.querySelector('#df-141460ca-0e7f-4efa-a129-01c25c32446f');\n",
              "          const dataTable =\n",
              "            await google.colab.kernel.invokeFunction('convertToInteractive',\n",
              "                                                     [key], {});\n",
              "          if (!dataTable) return;\n",
              "\n",
              "          const docLinkHtml = 'Like what you see? Visit the ' +\n",
              "            '<a target=\"_blank\" href=https://colab.research.google.com/notebooks/data_table.ipynb>data table notebook</a>'\n",
              "            + ' to learn more about interactive tables.';\n",
              "          element.innerHTML = '';\n",
              "          dataTable['output_type'] = 'display_data';\n",
              "          await google.colab.output.renderOutput(dataTable, element);\n",
              "          const docLink = document.createElement('div');\n",
              "          docLink.innerHTML = docLinkHtml;\n",
              "          element.appendChild(docLink);\n",
              "        }\n",
              "      </script>\n",
              "    </div>\n",
              "  </div>\n",
              "  "
            ]
          },
          "metadata": {},
          "execution_count": 109
        }
      ]
    },
    {
      "cell_type": "code",
      "source": [
        "HRV_0275005A.head()"
      ],
      "metadata": {
        "id": "Y8E2AoPgRMVv",
        "colab": {
          "base_uri": "https://localhost:8080/",
          "height": 374
        },
        "outputId": "8757b61a-0f09-4f8d-8b81-fec3970c9c82"
      },
      "execution_count": 110,
      "outputs": [
        {
          "output_type": "execute_result",
          "data": {
            "text/plain": [
              "   MEAN_RR  SDNN         HR     VLF    VLF_PCT     LF     LF_PCT     LF_NU  \\\n",
              "0    761.0  37.0  78.843627     0.0   0.000000  302.0  28.171642  0.296952   \n",
              "1    783.0  59.0  76.628352   950.0  55.882353  396.0  23.294118  0.580645   \n",
              "2    832.0  68.0  72.115385  3533.0  86.086745  399.0   9.722222  0.757116   \n",
              "3    818.0  59.0  73.349633  2388.0  70.776526  266.0   7.883817  0.357527   \n",
              "4    811.0  54.0  73.982737  1322.0  64.143620  450.0  21.834061  0.715421   \n",
              "\n",
              "      HF     HF_PCT     HF_NU      TP     LF_HF     HF_LF  Sleep Quality  \\\n",
              "0  715.0  66.697761  0.703048  1072.0  0.422378  2.367550            NaN   \n",
              "1  286.0  16.823529  0.419355  1700.0  1.384615  0.722222            NaN   \n",
              "2  128.0   3.118908  0.242884  4104.0  3.117188  0.320802            NaN   \n",
              "3  478.0  14.167161  0.642473  3374.0  0.556485  1.796992            NaN   \n",
              "4  179.0   8.685104  0.284579  2061.0  2.513966  0.397778            NaN   \n",
              "\n",
              "        Date      Device_date  \n",
              "0  2016/11/7  2016/11/7 15:39  \n",
              "1  2016/11/7  2016/11/7 15:40  \n",
              "2  2016/11/7  2016/11/7 15:40  \n",
              "3  2016/11/7  2016/11/7 15:42  \n",
              "4  2016/11/7  2016/11/7 15:44  "
            ],
            "text/html": [
              "\n",
              "  <div id=\"df-a4bc9997-5741-436e-9f96-72211dc348e1\">\n",
              "    <div class=\"colab-df-container\">\n",
              "      <div>\n",
              "<style scoped>\n",
              "    .dataframe tbody tr th:only-of-type {\n",
              "        vertical-align: middle;\n",
              "    }\n",
              "\n",
              "    .dataframe tbody tr th {\n",
              "        vertical-align: top;\n",
              "    }\n",
              "\n",
              "    .dataframe thead th {\n",
              "        text-align: right;\n",
              "    }\n",
              "</style>\n",
              "<table border=\"1\" class=\"dataframe\">\n",
              "  <thead>\n",
              "    <tr style=\"text-align: right;\">\n",
              "      <th></th>\n",
              "      <th>MEAN_RR</th>\n",
              "      <th>SDNN</th>\n",
              "      <th>HR</th>\n",
              "      <th>VLF</th>\n",
              "      <th>VLF_PCT</th>\n",
              "      <th>LF</th>\n",
              "      <th>LF_PCT</th>\n",
              "      <th>LF_NU</th>\n",
              "      <th>HF</th>\n",
              "      <th>HF_PCT</th>\n",
              "      <th>HF_NU</th>\n",
              "      <th>TP</th>\n",
              "      <th>LF_HF</th>\n",
              "      <th>HF_LF</th>\n",
              "      <th>Sleep Quality</th>\n",
              "      <th>Date</th>\n",
              "      <th>Device_date</th>\n",
              "    </tr>\n",
              "  </thead>\n",
              "  <tbody>\n",
              "    <tr>\n",
              "      <th>0</th>\n",
              "      <td>761.0</td>\n",
              "      <td>37.0</td>\n",
              "      <td>78.843627</td>\n",
              "      <td>0.0</td>\n",
              "      <td>0.000000</td>\n",
              "      <td>302.0</td>\n",
              "      <td>28.171642</td>\n",
              "      <td>0.296952</td>\n",
              "      <td>715.0</td>\n",
              "      <td>66.697761</td>\n",
              "      <td>0.703048</td>\n",
              "      <td>1072.0</td>\n",
              "      <td>0.422378</td>\n",
              "      <td>2.367550</td>\n",
              "      <td>NaN</td>\n",
              "      <td>2016/11/7</td>\n",
              "      <td>2016/11/7 15:39</td>\n",
              "    </tr>\n",
              "    <tr>\n",
              "      <th>1</th>\n",
              "      <td>783.0</td>\n",
              "      <td>59.0</td>\n",
              "      <td>76.628352</td>\n",
              "      <td>950.0</td>\n",
              "      <td>55.882353</td>\n",
              "      <td>396.0</td>\n",
              "      <td>23.294118</td>\n",
              "      <td>0.580645</td>\n",
              "      <td>286.0</td>\n",
              "      <td>16.823529</td>\n",
              "      <td>0.419355</td>\n",
              "      <td>1700.0</td>\n",
              "      <td>1.384615</td>\n",
              "      <td>0.722222</td>\n",
              "      <td>NaN</td>\n",
              "      <td>2016/11/7</td>\n",
              "      <td>2016/11/7 15:40</td>\n",
              "    </tr>\n",
              "    <tr>\n",
              "      <th>2</th>\n",
              "      <td>832.0</td>\n",
              "      <td>68.0</td>\n",
              "      <td>72.115385</td>\n",
              "      <td>3533.0</td>\n",
              "      <td>86.086745</td>\n",
              "      <td>399.0</td>\n",
              "      <td>9.722222</td>\n",
              "      <td>0.757116</td>\n",
              "      <td>128.0</td>\n",
              "      <td>3.118908</td>\n",
              "      <td>0.242884</td>\n",
              "      <td>4104.0</td>\n",
              "      <td>3.117188</td>\n",
              "      <td>0.320802</td>\n",
              "      <td>NaN</td>\n",
              "      <td>2016/11/7</td>\n",
              "      <td>2016/11/7 15:40</td>\n",
              "    </tr>\n",
              "    <tr>\n",
              "      <th>3</th>\n",
              "      <td>818.0</td>\n",
              "      <td>59.0</td>\n",
              "      <td>73.349633</td>\n",
              "      <td>2388.0</td>\n",
              "      <td>70.776526</td>\n",
              "      <td>266.0</td>\n",
              "      <td>7.883817</td>\n",
              "      <td>0.357527</td>\n",
              "      <td>478.0</td>\n",
              "      <td>14.167161</td>\n",
              "      <td>0.642473</td>\n",
              "      <td>3374.0</td>\n",
              "      <td>0.556485</td>\n",
              "      <td>1.796992</td>\n",
              "      <td>NaN</td>\n",
              "      <td>2016/11/7</td>\n",
              "      <td>2016/11/7 15:42</td>\n",
              "    </tr>\n",
              "    <tr>\n",
              "      <th>4</th>\n",
              "      <td>811.0</td>\n",
              "      <td>54.0</td>\n",
              "      <td>73.982737</td>\n",
              "      <td>1322.0</td>\n",
              "      <td>64.143620</td>\n",
              "      <td>450.0</td>\n",
              "      <td>21.834061</td>\n",
              "      <td>0.715421</td>\n",
              "      <td>179.0</td>\n",
              "      <td>8.685104</td>\n",
              "      <td>0.284579</td>\n",
              "      <td>2061.0</td>\n",
              "      <td>2.513966</td>\n",
              "      <td>0.397778</td>\n",
              "      <td>NaN</td>\n",
              "      <td>2016/11/7</td>\n",
              "      <td>2016/11/7 15:44</td>\n",
              "    </tr>\n",
              "  </tbody>\n",
              "</table>\n",
              "</div>\n",
              "      <button class=\"colab-df-convert\" onclick=\"convertToInteractive('df-a4bc9997-5741-436e-9f96-72211dc348e1')\"\n",
              "              title=\"Convert this dataframe to an interactive table.\"\n",
              "              style=\"display:none;\">\n",
              "        \n",
              "  <svg xmlns=\"http://www.w3.org/2000/svg\" height=\"24px\"viewBox=\"0 0 24 24\"\n",
              "       width=\"24px\">\n",
              "    <path d=\"M0 0h24v24H0V0z\" fill=\"none\"/>\n",
              "    <path d=\"M18.56 5.44l.94 2.06.94-2.06 2.06-.94-2.06-.94-.94-2.06-.94 2.06-2.06.94zm-11 1L8.5 8.5l.94-2.06 2.06-.94-2.06-.94L8.5 2.5l-.94 2.06-2.06.94zm10 10l.94 2.06.94-2.06 2.06-.94-2.06-.94-.94-2.06-.94 2.06-2.06.94z\"/><path d=\"M17.41 7.96l-1.37-1.37c-.4-.4-.92-.59-1.43-.59-.52 0-1.04.2-1.43.59L10.3 9.45l-7.72 7.72c-.78.78-.78 2.05 0 2.83L4 21.41c.39.39.9.59 1.41.59.51 0 1.02-.2 1.41-.59l7.78-7.78 2.81-2.81c.8-.78.8-2.07 0-2.86zM5.41 20L4 18.59l7.72-7.72 1.47 1.35L5.41 20z\"/>\n",
              "  </svg>\n",
              "      </button>\n",
              "      \n",
              "  <style>\n",
              "    .colab-df-container {\n",
              "      display:flex;\n",
              "      flex-wrap:wrap;\n",
              "      gap: 12px;\n",
              "    }\n",
              "\n",
              "    .colab-df-convert {\n",
              "      background-color: #E8F0FE;\n",
              "      border: none;\n",
              "      border-radius: 50%;\n",
              "      cursor: pointer;\n",
              "      display: none;\n",
              "      fill: #1967D2;\n",
              "      height: 32px;\n",
              "      padding: 0 0 0 0;\n",
              "      width: 32px;\n",
              "    }\n",
              "\n",
              "    .colab-df-convert:hover {\n",
              "      background-color: #E2EBFA;\n",
              "      box-shadow: 0px 1px 2px rgba(60, 64, 67, 0.3), 0px 1px 3px 1px rgba(60, 64, 67, 0.15);\n",
              "      fill: #174EA6;\n",
              "    }\n",
              "\n",
              "    [theme=dark] .colab-df-convert {\n",
              "      background-color: #3B4455;\n",
              "      fill: #D2E3FC;\n",
              "    }\n",
              "\n",
              "    [theme=dark] .colab-df-convert:hover {\n",
              "      background-color: #434B5C;\n",
              "      box-shadow: 0px 1px 3px 1px rgba(0, 0, 0, 0.15);\n",
              "      filter: drop-shadow(0px 1px 2px rgba(0, 0, 0, 0.3));\n",
              "      fill: #FFFFFF;\n",
              "    }\n",
              "  </style>\n",
              "\n",
              "      <script>\n",
              "        const buttonEl =\n",
              "          document.querySelector('#df-a4bc9997-5741-436e-9f96-72211dc348e1 button.colab-df-convert');\n",
              "        buttonEl.style.display =\n",
              "          google.colab.kernel.accessAllowed ? 'block' : 'none';\n",
              "\n",
              "        async function convertToInteractive(key) {\n",
              "          const element = document.querySelector('#df-a4bc9997-5741-436e-9f96-72211dc348e1');\n",
              "          const dataTable =\n",
              "            await google.colab.kernel.invokeFunction('convertToInteractive',\n",
              "                                                     [key], {});\n",
              "          if (!dataTable) return;\n",
              "\n",
              "          const docLinkHtml = 'Like what you see? Visit the ' +\n",
              "            '<a target=\"_blank\" href=https://colab.research.google.com/notebooks/data_table.ipynb>data table notebook</a>'\n",
              "            + ' to learn more about interactive tables.';\n",
              "          element.innerHTML = '';\n",
              "          dataTable['output_type'] = 'display_data';\n",
              "          await google.colab.output.renderOutput(dataTable, element);\n",
              "          const docLink = document.createElement('div');\n",
              "          docLink.innerHTML = docLinkHtml;\n",
              "          element.appendChild(docLink);\n",
              "        }\n",
              "      </script>\n",
              "    </div>\n",
              "  </div>\n",
              "  "
            ]
          },
          "metadata": {},
          "execution_count": 110
        }
      ]
    },
    {
      "cell_type": "code",
      "source": [
        "df_train['condition'].unique()"
      ],
      "metadata": {
        "colab": {
          "base_uri": "https://localhost:8080/"
        },
        "id": "AL7rueX0g3Ve",
        "outputId": "ff531daa-9b35-426f-b4cd-fd1c261ce971"
      },
      "execution_count": 111,
      "outputs": [
        {
          "output_type": "execute_result",
          "data": {
            "text/plain": [
              "array(['no stress', 'interruption', 'time pressure'], dtype=object)"
            ]
          },
          "metadata": {},
          "execution_count": 111
        }
      ]
    },
    {
      "cell_type": "code",
      "source": [
        "#check if there is any missing value in the datasets\n",
        "display(df_train.info())\n",
        "display(df_test.info())\n",
        "display(df_sleep.info())\n",
        "display(HRV_02A7005A.info())\n",
        "display(HRV_029E005A.info())\n",
        "display(HRV_0275005A.info())\n",
        "display(df_PA_work.info())"
      ],
      "metadata": {
        "colab": {
          "base_uri": "https://localhost:8080/",
          "height": 1000
        },
        "id": "v_lLiJyig_XA",
        "outputId": "d33bd832-ab1c-45c8-da03-e7c052df229f"
      },
      "execution_count": 112,
      "outputs": [
        {
          "output_type": "stream",
          "name": "stdout",
          "text": [
            "<class 'pandas.core.frame.DataFrame'>\n",
            "RangeIndex: 369289 entries, 0 to 369288\n",
            "Data columns (total 36 columns):\n",
            " #   Column             Non-Null Count   Dtype  \n",
            "---  ------             --------------   -----  \n",
            " 0   MEAN_RR            369289 non-null  float64\n",
            " 1   MEDIAN_RR          369289 non-null  float64\n",
            " 2   SDRR               369289 non-null  float64\n",
            " 3   RMSSD              369289 non-null  float64\n",
            " 4   SDSD               369289 non-null  float64\n",
            " 5   SDRR_RMSSD         369289 non-null  float64\n",
            " 6   HR                 369289 non-null  float64\n",
            " 7   pNN25              369289 non-null  float64\n",
            " 8   pNN50              369289 non-null  float64\n",
            " 9   SD1                369289 non-null  float64\n",
            " 10  SD2                369289 non-null  float64\n",
            " 11  KURT               369289 non-null  float64\n",
            " 12  SKEW               369289 non-null  float64\n",
            " 13  MEAN_REL_RR        369289 non-null  float64\n",
            " 14  MEDIAN_REL_RR      369289 non-null  float64\n",
            " 15  SDRR_REL_RR        369289 non-null  float64\n",
            " 16  RMSSD_REL_RR       369289 non-null  float64\n",
            " 17  SDSD_REL_RR        369289 non-null  float64\n",
            " 18  SDRR_RMSSD_REL_RR  369289 non-null  float64\n",
            " 19  KURT_REL_RR        369289 non-null  float64\n",
            " 20  SKEW_REL_RR        369289 non-null  float64\n",
            " 21  VLF                369289 non-null  float64\n",
            " 22  VLF_PCT            369289 non-null  float64\n",
            " 23  LF                 369289 non-null  float64\n",
            " 24  LF_PCT             369289 non-null  float64\n",
            " 25  LF_NU              369289 non-null  float64\n",
            " 26  HF                 369289 non-null  float64\n",
            " 27  HF_PCT             369289 non-null  float64\n",
            " 28  HF_NU              369289 non-null  float64\n",
            " 29  TP                 369289 non-null  float64\n",
            " 30  LF_HF              369289 non-null  float64\n",
            " 31  HF_LF              369289 non-null  float64\n",
            " 32  sampen             369289 non-null  float64\n",
            " 33  higuci             369289 non-null  float64\n",
            " 34  datasetId          369289 non-null  int64  \n",
            " 35  condition          369289 non-null  object \n",
            "dtypes: float64(34), int64(1), object(1)\n",
            "memory usage: 101.4+ MB\n"
          ]
        },
        {
          "output_type": "display_data",
          "data": {
            "text/plain": [
              "None"
            ]
          },
          "metadata": {}
        },
        {
          "output_type": "stream",
          "name": "stdout",
          "text": [
            "<class 'pandas.core.frame.DataFrame'>\n",
            "RangeIndex: 41033 entries, 0 to 41032\n",
            "Data columns (total 36 columns):\n",
            " #   Column             Non-Null Count  Dtype  \n",
            "---  ------             --------------  -----  \n",
            " 0   MEAN_RR            41033 non-null  float64\n",
            " 1   MEDIAN_RR          41033 non-null  float64\n",
            " 2   SDRR               41033 non-null  float64\n",
            " 3   RMSSD              41033 non-null  float64\n",
            " 4   SDSD               41033 non-null  float64\n",
            " 5   SDRR_RMSSD         41033 non-null  float64\n",
            " 6   HR                 41033 non-null  float64\n",
            " 7   pNN25              41033 non-null  float64\n",
            " 8   pNN50              41033 non-null  float64\n",
            " 9   SD1                41033 non-null  float64\n",
            " 10  SD2                41033 non-null  float64\n",
            " 11  KURT               41033 non-null  float64\n",
            " 12  SKEW               41033 non-null  float64\n",
            " 13  MEAN_REL_RR        41033 non-null  float64\n",
            " 14  MEDIAN_REL_RR      41033 non-null  float64\n",
            " 15  SDRR_REL_RR        41033 non-null  float64\n",
            " 16  RMSSD_REL_RR       41033 non-null  float64\n",
            " 17  SDSD_REL_RR        41033 non-null  float64\n",
            " 18  SDRR_RMSSD_REL_RR  41033 non-null  float64\n",
            " 19  KURT_REL_RR        41033 non-null  float64\n",
            " 20  SKEW_REL_RR        41033 non-null  float64\n",
            " 21  VLF                41033 non-null  float64\n",
            " 22  VLF_PCT            41033 non-null  float64\n",
            " 23  LF                 41033 non-null  float64\n",
            " 24  LF_PCT             41033 non-null  float64\n",
            " 25  LF_NU              41033 non-null  float64\n",
            " 26  HF                 41033 non-null  float64\n",
            " 27  HF_PCT             41033 non-null  float64\n",
            " 28  HF_NU              41033 non-null  float64\n",
            " 29  TP                 41033 non-null  float64\n",
            " 30  LF_HF              41033 non-null  float64\n",
            " 31  HF_LF              41033 non-null  float64\n",
            " 32  sampen             41033 non-null  float64\n",
            " 33  higuci             41033 non-null  float64\n",
            " 34  datasetId          41033 non-null  int64  \n",
            " 35  condition          41033 non-null  object \n",
            "dtypes: float64(34), int64(1), object(1)\n",
            "memory usage: 11.3+ MB\n"
          ]
        },
        {
          "output_type": "display_data",
          "data": {
            "text/plain": [
              "None"
            ]
          },
          "metadata": {}
        },
        {
          "output_type": "stream",
          "name": "stdout",
          "text": [
            "<class 'pandas.core.frame.DataFrame'>\n",
            "RangeIndex: 55 entries, 0 to 54\n",
            "Data columns (total 17 columns):\n",
            " #   Column         Non-Null Count  Dtype  \n",
            "---  ------         --------------  -----  \n",
            " 0   MEAN_RR        55 non-null     float64\n",
            " 1   SDNN           55 non-null     float64\n",
            " 2   HR             55 non-null     float64\n",
            " 3   VLF            55 non-null     float64\n",
            " 4   VLF_PCT        55 non-null     float64\n",
            " 5   LF             55 non-null     float64\n",
            " 6   LF_PCT         55 non-null     float64\n",
            " 7   LF_NU          55 non-null     float64\n",
            " 8   HF             55 non-null     float64\n",
            " 9   HF_PCT         55 non-null     float64\n",
            " 10  HF_NU          55 non-null     float64\n",
            " 11  TP             55 non-null     float64\n",
            " 12  LF_HF          55 non-null     float64\n",
            " 13  HF_LF          55 non-null     float64\n",
            " 14  Sleep Quality  55 non-null     int64  \n",
            " 15  PatchID        55 non-null     object \n",
            " 16  date           55 non-null     object \n",
            "dtypes: float64(14), int64(1), object(2)\n",
            "memory usage: 7.4+ KB\n"
          ]
        },
        {
          "output_type": "display_data",
          "data": {
            "text/plain": [
              "None"
            ]
          },
          "metadata": {}
        },
        {
          "output_type": "stream",
          "name": "stdout",
          "text": [
            "<class 'pandas.core.frame.DataFrame'>\n",
            "RangeIndex: 6019 entries, 0 to 6018\n",
            "Data columns (total 17 columns):\n",
            " #   Column         Non-Null Count  Dtype  \n",
            "---  ------         --------------  -----  \n",
            " 0   MEAN_RR        6019 non-null   float64\n",
            " 1   SDNN           6019 non-null   float64\n",
            " 2   HR             6019 non-null   float64\n",
            " 3   VLF            6019 non-null   float64\n",
            " 4   VLF_PCT        6019 non-null   float64\n",
            " 5   LF             6019 non-null   float64\n",
            " 6   LF_PCT         6019 non-null   float64\n",
            " 7   LF_NU          6019 non-null   float64\n",
            " 8   HF             6019 non-null   float64\n",
            " 9   HF_PCT         6019 non-null   float64\n",
            " 10  HF_NU          6019 non-null   float64\n",
            " 11  TP             6019 non-null   float64\n",
            " 12  LF_HF          6019 non-null   float64\n",
            " 13  HF_LF          6019 non-null   float64\n",
            " 14  Sleep Quality  0 non-null      float64\n",
            " 15  Date           6019 non-null   object \n",
            " 16  Device_date    6019 non-null   object \n",
            "dtypes: float64(15), object(2)\n",
            "memory usage: 799.5+ KB\n"
          ]
        },
        {
          "output_type": "display_data",
          "data": {
            "text/plain": [
              "None"
            ]
          },
          "metadata": {}
        },
        {
          "output_type": "stream",
          "name": "stdout",
          "text": [
            "<class 'pandas.core.frame.DataFrame'>\n",
            "RangeIndex: 6277 entries, 0 to 6276\n",
            "Data columns (total 17 columns):\n",
            " #   Column         Non-Null Count  Dtype  \n",
            "---  ------         --------------  -----  \n",
            " 0   MEAN_RR        6277 non-null   float64\n",
            " 1   SDNN           6277 non-null   float64\n",
            " 2   HR             6277 non-null   float64\n",
            " 3   VLF            6277 non-null   float64\n",
            " 4   VLF_PCT        6277 non-null   float64\n",
            " 5   LF             6277 non-null   float64\n",
            " 6   LF_PCT         6277 non-null   float64\n",
            " 7   LF_NU          6277 non-null   float64\n",
            " 8   HF             6277 non-null   float64\n",
            " 9   HF_PCT         6277 non-null   float64\n",
            " 10  HF_NU          6277 non-null   float64\n",
            " 11  TP             6277 non-null   float64\n",
            " 12  LF_HF          6277 non-null   float64\n",
            " 13  HF_LF          6277 non-null   float64\n",
            " 14  Sleep Quality  0 non-null      float64\n",
            " 15  Date           6277 non-null   object \n",
            " 16  Device_date    6277 non-null   object \n",
            "dtypes: float64(15), object(2)\n",
            "memory usage: 833.8+ KB\n"
          ]
        },
        {
          "output_type": "display_data",
          "data": {
            "text/plain": [
              "None"
            ]
          },
          "metadata": {}
        },
        {
          "output_type": "stream",
          "name": "stdout",
          "text": [
            "<class 'pandas.core.frame.DataFrame'>\n",
            "RangeIndex: 2344 entries, 0 to 2343\n",
            "Data columns (total 17 columns):\n",
            " #   Column         Non-Null Count  Dtype  \n",
            "---  ------         --------------  -----  \n",
            " 0   MEAN_RR        2344 non-null   float64\n",
            " 1   SDNN           2344 non-null   float64\n",
            " 2   HR             2344 non-null   float64\n",
            " 3   VLF            2344 non-null   float64\n",
            " 4   VLF_PCT        2344 non-null   float64\n",
            " 5   LF             2344 non-null   float64\n",
            " 6   LF_PCT         2344 non-null   float64\n",
            " 7   LF_NU          2344 non-null   float64\n",
            " 8   HF             2344 non-null   float64\n",
            " 9   HF_PCT         2344 non-null   float64\n",
            " 10  HF_NU          2344 non-null   float64\n",
            " 11  TP             2344 non-null   float64\n",
            " 12  LF_HF          2344 non-null   float64\n",
            " 13  HF_LF          2344 non-null   float64\n",
            " 14  Sleep Quality  0 non-null      float64\n",
            " 15  Date           2344 non-null   object \n",
            " 16  Device_date    2344 non-null   object \n",
            "dtypes: float64(15), object(2)\n",
            "memory usage: 311.4+ KB\n"
          ]
        },
        {
          "output_type": "display_data",
          "data": {
            "text/plain": [
              "None"
            ]
          },
          "metadata": {}
        },
        {
          "output_type": "stream",
          "name": "stdout",
          "text": [
            "<class 'pandas.core.frame.DataFrame'>\n",
            "RangeIndex: 10538 entries, 0 to 10537\n",
            "Data columns (total 16 columns):\n",
            " #   Column   Non-Null Count  Dtype  \n",
            "---  ------   --------------  -----  \n",
            " 0   MEAN_RR  10538 non-null  float64\n",
            " 1   SDRR     10538 non-null  float64\n",
            " 2   HR       10538 non-null  float64\n",
            " 3   VLF      10538 non-null  float64\n",
            " 4   VLF_PCT  10538 non-null  float64\n",
            " 5   LF       10538 non-null  float64\n",
            " 6   LF_PCT   10538 non-null  float64\n",
            " 7   LF_NU    10538 non-null  float64\n",
            " 8   HF       10538 non-null  float64\n",
            " 9   HF_PCT   10538 non-null  float64\n",
            " 10  HF_NU    10538 non-null  float64\n",
            " 11  TP       10538 non-null  float64\n",
            " 12  LF_HF    10538 non-null  float64\n",
            " 13  HF_LF    10538 non-null  float64\n",
            " 14  PA       10538 non-null  object \n",
            " 15  ID       10538 non-null  int64  \n",
            "dtypes: float64(14), int64(1), object(1)\n",
            "memory usage: 1.3+ MB\n"
          ]
        },
        {
          "output_type": "display_data",
          "data": {
            "text/plain": [
              "None"
            ]
          },
          "metadata": {}
        }
      ]
    },
    {
      "cell_type": "code",
      "source": [
        "#encode the labels\n",
        "df_train['condition'] = df_train['condition'].map({'no stress':0, 'interruption':1, 'time pressure':2})\n",
        "df_test['condition'] = df_test['condition'].map({'no stress':0, 'interruption':1, 'time pressure':2})"
      ],
      "metadata": {
        "id": "AH80sb5jhGu7"
      },
      "execution_count": 113,
      "outputs": []
    },
    {
      "cell_type": "code",
      "source": [
        "df_train.head()"
      ],
      "metadata": {
        "colab": {
          "base_uri": "https://localhost:8080/",
          "height": 299
        },
        "id": "dVj8_8iohMXR",
        "outputId": "abb7a743-5072-4572-ed65-9dd56b5e1f01"
      },
      "execution_count": 114,
      "outputs": [
        {
          "output_type": "execute_result",
          "data": {
            "text/plain": [
              "      MEAN_RR   MEDIAN_RR        SDRR      RMSSD       SDSD  SDRR_RMSSD  \\\n",
              "0  885.157845  853.763730  140.972741  15.554505  15.553371    9.063146   \n",
              "1  939.425371  948.357865   81.317742  12.964439  12.964195    6.272369   \n",
              "2  898.186047  907.006860   84.497236  16.305279  16.305274    5.182201   \n",
              "3  881.757865  893.460030   90.370537  15.720468  15.720068    5.748591   \n",
              "4  809.625331  811.184865   62.766242  19.213819  19.213657    3.266724   \n",
              "\n",
              "          HR      pNN25     pNN50        SD1  ...         HF    HF_PCT  \\\n",
              "0  69.499952  11.133333  0.533333  11.001565  ...  15.522603  0.421047   \n",
              "1  64.363150   5.600000  0.000000   9.170129  ...   2.108525  0.070133   \n",
              "2  67.450066  13.066667  0.200000  11.533417  ...  13.769729  0.512671   \n",
              "3  68.809562  11.800000  0.133333  11.119476  ...  18.181913  0.529387   \n",
              "4  74.565728  20.200000  0.200000  13.590641  ...  48.215822  1.839473   \n",
              "\n",
              "      HF_NU           TP       LF_HF     HF_LF    sampen    higuci  datasetId  \\\n",
              "0  1.514737  3686.666157   65.018055  0.015380  2.139754  1.163485          2   \n",
              "1  0.304603  3006.487251  327.296635  0.003055  2.174499  1.084711          2   \n",
              "2  1.049528  2685.879461   94.280910  0.010607  2.135350  1.176315          2   \n",
              "3  1.775294  3434.520980   55.328701  0.018074  2.178341  1.179688          2   \n",
              "4  3.279993  2621.175204   29.487873  0.033912  2.221121  1.249612          2   \n",
              "\n",
              "   condition  \n",
              "0          0  \n",
              "1          1  \n",
              "2          1  \n",
              "3          0  \n",
              "4          0  \n",
              "\n",
              "[5 rows x 36 columns]"
            ],
            "text/html": [
              "\n",
              "  <div id=\"df-fde5d74d-83ce-4608-9374-98198ac77028\">\n",
              "    <div class=\"colab-df-container\">\n",
              "      <div>\n",
              "<style scoped>\n",
              "    .dataframe tbody tr th:only-of-type {\n",
              "        vertical-align: middle;\n",
              "    }\n",
              "\n",
              "    .dataframe tbody tr th {\n",
              "        vertical-align: top;\n",
              "    }\n",
              "\n",
              "    .dataframe thead th {\n",
              "        text-align: right;\n",
              "    }\n",
              "</style>\n",
              "<table border=\"1\" class=\"dataframe\">\n",
              "  <thead>\n",
              "    <tr style=\"text-align: right;\">\n",
              "      <th></th>\n",
              "      <th>MEAN_RR</th>\n",
              "      <th>MEDIAN_RR</th>\n",
              "      <th>SDRR</th>\n",
              "      <th>RMSSD</th>\n",
              "      <th>SDSD</th>\n",
              "      <th>SDRR_RMSSD</th>\n",
              "      <th>HR</th>\n",
              "      <th>pNN25</th>\n",
              "      <th>pNN50</th>\n",
              "      <th>SD1</th>\n",
              "      <th>...</th>\n",
              "      <th>HF</th>\n",
              "      <th>HF_PCT</th>\n",
              "      <th>HF_NU</th>\n",
              "      <th>TP</th>\n",
              "      <th>LF_HF</th>\n",
              "      <th>HF_LF</th>\n",
              "      <th>sampen</th>\n",
              "      <th>higuci</th>\n",
              "      <th>datasetId</th>\n",
              "      <th>condition</th>\n",
              "    </tr>\n",
              "  </thead>\n",
              "  <tbody>\n",
              "    <tr>\n",
              "      <th>0</th>\n",
              "      <td>885.157845</td>\n",
              "      <td>853.763730</td>\n",
              "      <td>140.972741</td>\n",
              "      <td>15.554505</td>\n",
              "      <td>15.553371</td>\n",
              "      <td>9.063146</td>\n",
              "      <td>69.499952</td>\n",
              "      <td>11.133333</td>\n",
              "      <td>0.533333</td>\n",
              "      <td>11.001565</td>\n",
              "      <td>...</td>\n",
              "      <td>15.522603</td>\n",
              "      <td>0.421047</td>\n",
              "      <td>1.514737</td>\n",
              "      <td>3686.666157</td>\n",
              "      <td>65.018055</td>\n",
              "      <td>0.015380</td>\n",
              "      <td>2.139754</td>\n",
              "      <td>1.163485</td>\n",
              "      <td>2</td>\n",
              "      <td>0</td>\n",
              "    </tr>\n",
              "    <tr>\n",
              "      <th>1</th>\n",
              "      <td>939.425371</td>\n",
              "      <td>948.357865</td>\n",
              "      <td>81.317742</td>\n",
              "      <td>12.964439</td>\n",
              "      <td>12.964195</td>\n",
              "      <td>6.272369</td>\n",
              "      <td>64.363150</td>\n",
              "      <td>5.600000</td>\n",
              "      <td>0.000000</td>\n",
              "      <td>9.170129</td>\n",
              "      <td>...</td>\n",
              "      <td>2.108525</td>\n",
              "      <td>0.070133</td>\n",
              "      <td>0.304603</td>\n",
              "      <td>3006.487251</td>\n",
              "      <td>327.296635</td>\n",
              "      <td>0.003055</td>\n",
              "      <td>2.174499</td>\n",
              "      <td>1.084711</td>\n",
              "      <td>2</td>\n",
              "      <td>1</td>\n",
              "    </tr>\n",
              "    <tr>\n",
              "      <th>2</th>\n",
              "      <td>898.186047</td>\n",
              "      <td>907.006860</td>\n",
              "      <td>84.497236</td>\n",
              "      <td>16.305279</td>\n",
              "      <td>16.305274</td>\n",
              "      <td>5.182201</td>\n",
              "      <td>67.450066</td>\n",
              "      <td>13.066667</td>\n",
              "      <td>0.200000</td>\n",
              "      <td>11.533417</td>\n",
              "      <td>...</td>\n",
              "      <td>13.769729</td>\n",
              "      <td>0.512671</td>\n",
              "      <td>1.049528</td>\n",
              "      <td>2685.879461</td>\n",
              "      <td>94.280910</td>\n",
              "      <td>0.010607</td>\n",
              "      <td>2.135350</td>\n",
              "      <td>1.176315</td>\n",
              "      <td>2</td>\n",
              "      <td>1</td>\n",
              "    </tr>\n",
              "    <tr>\n",
              "      <th>3</th>\n",
              "      <td>881.757865</td>\n",
              "      <td>893.460030</td>\n",
              "      <td>90.370537</td>\n",
              "      <td>15.720468</td>\n",
              "      <td>15.720068</td>\n",
              "      <td>5.748591</td>\n",
              "      <td>68.809562</td>\n",
              "      <td>11.800000</td>\n",
              "      <td>0.133333</td>\n",
              "      <td>11.119476</td>\n",
              "      <td>...</td>\n",
              "      <td>18.181913</td>\n",
              "      <td>0.529387</td>\n",
              "      <td>1.775294</td>\n",
              "      <td>3434.520980</td>\n",
              "      <td>55.328701</td>\n",
              "      <td>0.018074</td>\n",
              "      <td>2.178341</td>\n",
              "      <td>1.179688</td>\n",
              "      <td>2</td>\n",
              "      <td>0</td>\n",
              "    </tr>\n",
              "    <tr>\n",
              "      <th>4</th>\n",
              "      <td>809.625331</td>\n",
              "      <td>811.184865</td>\n",
              "      <td>62.766242</td>\n",
              "      <td>19.213819</td>\n",
              "      <td>19.213657</td>\n",
              "      <td>3.266724</td>\n",
              "      <td>74.565728</td>\n",
              "      <td>20.200000</td>\n",
              "      <td>0.200000</td>\n",
              "      <td>13.590641</td>\n",
              "      <td>...</td>\n",
              "      <td>48.215822</td>\n",
              "      <td>1.839473</td>\n",
              "      <td>3.279993</td>\n",
              "      <td>2621.175204</td>\n",
              "      <td>29.487873</td>\n",
              "      <td>0.033912</td>\n",
              "      <td>2.221121</td>\n",
              "      <td>1.249612</td>\n",
              "      <td>2</td>\n",
              "      <td>0</td>\n",
              "    </tr>\n",
              "  </tbody>\n",
              "</table>\n",
              "<p>5 rows × 36 columns</p>\n",
              "</div>\n",
              "      <button class=\"colab-df-convert\" onclick=\"convertToInteractive('df-fde5d74d-83ce-4608-9374-98198ac77028')\"\n",
              "              title=\"Convert this dataframe to an interactive table.\"\n",
              "              style=\"display:none;\">\n",
              "        \n",
              "  <svg xmlns=\"http://www.w3.org/2000/svg\" height=\"24px\"viewBox=\"0 0 24 24\"\n",
              "       width=\"24px\">\n",
              "    <path d=\"M0 0h24v24H0V0z\" fill=\"none\"/>\n",
              "    <path d=\"M18.56 5.44l.94 2.06.94-2.06 2.06-.94-2.06-.94-.94-2.06-.94 2.06-2.06.94zm-11 1L8.5 8.5l.94-2.06 2.06-.94-2.06-.94L8.5 2.5l-.94 2.06-2.06.94zm10 10l.94 2.06.94-2.06 2.06-.94-2.06-.94-.94-2.06-.94 2.06-2.06.94z\"/><path d=\"M17.41 7.96l-1.37-1.37c-.4-.4-.92-.59-1.43-.59-.52 0-1.04.2-1.43.59L10.3 9.45l-7.72 7.72c-.78.78-.78 2.05 0 2.83L4 21.41c.39.39.9.59 1.41.59.51 0 1.02-.2 1.41-.59l7.78-7.78 2.81-2.81c.8-.78.8-2.07 0-2.86zM5.41 20L4 18.59l7.72-7.72 1.47 1.35L5.41 20z\"/>\n",
              "  </svg>\n",
              "      </button>\n",
              "      \n",
              "  <style>\n",
              "    .colab-df-container {\n",
              "      display:flex;\n",
              "      flex-wrap:wrap;\n",
              "      gap: 12px;\n",
              "    }\n",
              "\n",
              "    .colab-df-convert {\n",
              "      background-color: #E8F0FE;\n",
              "      border: none;\n",
              "      border-radius: 50%;\n",
              "      cursor: pointer;\n",
              "      display: none;\n",
              "      fill: #1967D2;\n",
              "      height: 32px;\n",
              "      padding: 0 0 0 0;\n",
              "      width: 32px;\n",
              "    }\n",
              "\n",
              "    .colab-df-convert:hover {\n",
              "      background-color: #E2EBFA;\n",
              "      box-shadow: 0px 1px 2px rgba(60, 64, 67, 0.3), 0px 1px 3px 1px rgba(60, 64, 67, 0.15);\n",
              "      fill: #174EA6;\n",
              "    }\n",
              "\n",
              "    [theme=dark] .colab-df-convert {\n",
              "      background-color: #3B4455;\n",
              "      fill: #D2E3FC;\n",
              "    }\n",
              "\n",
              "    [theme=dark] .colab-df-convert:hover {\n",
              "      background-color: #434B5C;\n",
              "      box-shadow: 0px 1px 3px 1px rgba(0, 0, 0, 0.15);\n",
              "      filter: drop-shadow(0px 1px 2px rgba(0, 0, 0, 0.3));\n",
              "      fill: #FFFFFF;\n",
              "    }\n",
              "  </style>\n",
              "\n",
              "      <script>\n",
              "        const buttonEl =\n",
              "          document.querySelector('#df-fde5d74d-83ce-4608-9374-98198ac77028 button.colab-df-convert');\n",
              "        buttonEl.style.display =\n",
              "          google.colab.kernel.accessAllowed ? 'block' : 'none';\n",
              "\n",
              "        async function convertToInteractive(key) {\n",
              "          const element = document.querySelector('#df-fde5d74d-83ce-4608-9374-98198ac77028');\n",
              "          const dataTable =\n",
              "            await google.colab.kernel.invokeFunction('convertToInteractive',\n",
              "                                                     [key], {});\n",
              "          if (!dataTable) return;\n",
              "\n",
              "          const docLinkHtml = 'Like what you see? Visit the ' +\n",
              "            '<a target=\"_blank\" href=https://colab.research.google.com/notebooks/data_table.ipynb>data table notebook</a>'\n",
              "            + ' to learn more about interactive tables.';\n",
              "          element.innerHTML = '';\n",
              "          dataTable['output_type'] = 'display_data';\n",
              "          await google.colab.output.renderOutput(dataTable, element);\n",
              "          const docLink = document.createElement('div');\n",
              "          docLink.innerHTML = docLinkHtml;\n",
              "          element.appendChild(docLink);\n",
              "        }\n",
              "      </script>\n",
              "    </div>\n",
              "  </div>\n",
              "  "
            ]
          },
          "metadata": {},
          "execution_count": 114
        }
      ]
    },
    {
      "cell_type": "code",
      "source": [
        "#df_train_split, df_test_split = train_test_split(df_test, test_size=0.1, random_state=None)"
      ],
      "metadata": {
        "id": "u7XvEJ8UX1Nt"
      },
      "execution_count": 115,
      "outputs": []
    },
    {
      "cell_type": "code",
      "source": [
        "#Split the datasets into train and test\n",
        "X_train, y_train, X_test, y_test = df_train.iloc[:, :-1].values, df_train.iloc[:, -1].values, df_test.iloc[:, :-1].values, df_test.iloc[:,-1].values"
      ],
      "metadata": {
        "id": "y_jBA38uhPsc"
      },
      "execution_count": 116,
      "outputs": []
    },
    {
      "cell_type": "code",
      "source": [
        "PA_train, PA_label, PA_ID = df_PA_work.iloc[:, :-2].values, df_PA_work.iloc[:, -2].values, df_PA_work.iloc[:, -1].values "
      ],
      "metadata": {
        "id": "Hp-B5H-9V5kQ"
      },
      "execution_count": 117,
      "outputs": []
    },
    {
      "cell_type": "code",
      "source": [
        "#split the sleep dataset\n",
        "sleep_test, sleep_label = df_sleep.iloc[:, :-3].values, df_sleep.iloc[:, -3].values"
      ],
      "metadata": {
        "id": "xrFkXCrLeRzj"
      },
      "execution_count": 118,
      "outputs": []
    },
    {
      "cell_type": "code",
      "source": [
        "HRV_P1_test, HRV_P1_info = HRV_02A7005A.iloc[:,:-3].values, HRV_02A7005A.iloc[:, -3:].values"
      ],
      "metadata": {
        "id": "oZqxZP7Dybo6"
      },
      "execution_count": 119,
      "outputs": []
    },
    {
      "cell_type": "code",
      "source": [
        "HRV_P2_test, HRV_P2_info = HRV_029E005A.iloc[:,:-3].values, HRV_029E005A.iloc[:, -3:].values"
      ],
      "metadata": {
        "id": "5a0Gw87yIq1U"
      },
      "execution_count": 120,
      "outputs": []
    },
    {
      "cell_type": "code",
      "source": [
        "HRV_P3_test, HRV_P3_info = HRV_0275005A.iloc[:,:-3].values, HRV_0275005A.iloc[:, -3:].values"
      ],
      "metadata": {
        "id": "IqIEF4fXRaGG"
      },
      "execution_count": 121,
      "outputs": []
    },
    {
      "cell_type": "code",
      "source": [
        "X_train.shape"
      ],
      "metadata": {
        "colab": {
          "base_uri": "https://localhost:8080/"
        },
        "id": "3uzNjSlXe6aP",
        "outputId": "d2161548-59fc-4356-baf9-a6966e94f978"
      },
      "execution_count": 122,
      "outputs": [
        {
          "output_type": "execute_result",
          "data": {
            "text/plain": [
              "(369289, 35)"
            ]
          },
          "metadata": {},
          "execution_count": 122
        }
      ]
    },
    {
      "cell_type": "code",
      "source": [
        "PA_train.shape"
      ],
      "metadata": {
        "colab": {
          "base_uri": "https://localhost:8080/"
        },
        "id": "drAOCJomWMZ9",
        "outputId": "08556fa4-6b78-421a-c9ad-b70ded4a0b96"
      },
      "execution_count": 123,
      "outputs": [
        {
          "output_type": "execute_result",
          "data": {
            "text/plain": [
              "(10538, 14)"
            ]
          },
          "metadata": {},
          "execution_count": 123
        }
      ]
    },
    {
      "cell_type": "code",
      "source": [
        "PA_label"
      ],
      "metadata": {
        "colab": {
          "base_uri": "https://localhost:8080/"
        },
        "id": "1LUlerg5WPa3",
        "outputId": "5203e12f-6b68-475d-b5f5-ae4a651e278f"
      },
      "execution_count": 124,
      "outputs": [
        {
          "output_type": "execute_result",
          "data": {
            "text/plain": [
              "array(['work-desk', 'work-desk', 'work-desk', ..., 'work-discussion',\n",
              "       'work-discussion', 'work-discussion'], dtype=object)"
            ]
          },
          "metadata": {},
          "execution_count": 124
        }
      ]
    },
    {
      "cell_type": "code",
      "source": [
        "PA_ID"
      ],
      "metadata": {
        "colab": {
          "base_uri": "https://localhost:8080/"
        },
        "id": "c07cxLtsWSAW",
        "outputId": "66f68ace-1f04-41ea-95fd-2bad6e262d4f"
      },
      "execution_count": 125,
      "outputs": [
        {
          "output_type": "execute_result",
          "data": {
            "text/plain": [
              "array([1, 1, 1, ..., 4, 4, 4])"
            ]
          },
          "metadata": {},
          "execution_count": 125
        }
      ]
    },
    {
      "cell_type": "code",
      "source": [
        "y_unlabeled = PA_ID\n",
        "y_unlabeled[:] = -1\n",
        "y_unlabeled"
      ],
      "metadata": {
        "colab": {
          "base_uri": "https://localhost:8080/"
        },
        "id": "V-zb__w1m98z",
        "outputId": "d32e5d8c-d261-4b15-dc73-c8b2e7b17bd4"
      },
      "execution_count": 126,
      "outputs": [
        {
          "output_type": "execute_result",
          "data": {
            "text/plain": [
              "array([-1, -1, -1, ..., -1, -1, -1])"
            ]
          },
          "metadata": {},
          "execution_count": 126
        }
      ]
    },
    {
      "cell_type": "code",
      "source": [
        "sleep_test.shape"
      ],
      "metadata": {
        "colab": {
          "base_uri": "https://localhost:8080/"
        },
        "id": "eHdIMQwZfAq-",
        "outputId": "49b110f8-89e2-4beb-aa75-ec1591082f48"
      },
      "execution_count": 127,
      "outputs": [
        {
          "output_type": "execute_result",
          "data": {
            "text/plain": [
              "(55, 14)"
            ]
          },
          "metadata": {},
          "execution_count": 127
        }
      ]
    },
    {
      "cell_type": "code",
      "source": [
        "sleep_condition=4-sleep_label\n",
        "sleep_condition"
      ],
      "metadata": {
        "colab": {
          "base_uri": "https://localhost:8080/"
        },
        "id": "dUrkceUgfFtm",
        "outputId": "e219fa0c-6611-4311-c5f5-78b6bb0936dd"
      },
      "execution_count": 128,
      "outputs": [
        {
          "output_type": "execute_result",
          "data": {
            "text/plain": [
              "array([0, 0, 0, 0, 0, 0, 0, 0, 1, 1, 1, 1, 0, 0, 0, 0, 0, 2, 1, 1, 1, 1,\n",
              "       0, 0, 0, 0, 0, 0, 0, 1, 0, 0, 0, 0, 0, 0, 0, 0, 0, 0, 1, 1, 1, 0,\n",
              "       0, 0, 2, 2, 2, 1, 0, 0, 2, 2, 1])"
            ]
          },
          "metadata": {},
          "execution_count": 128
        }
      ]
    },
    {
      "cell_type": "code",
      "source": [
        "HRV_P1_test.shape"
      ],
      "metadata": {
        "id": "tlhp5Ghb0Qr9",
        "colab": {
          "base_uri": "https://localhost:8080/"
        },
        "outputId": "f52d9ad7-bad9-46c2-9e49-99ef58e9bf0a"
      },
      "execution_count": 129,
      "outputs": [
        {
          "output_type": "execute_result",
          "data": {
            "text/plain": [
              "(6019, 14)"
            ]
          },
          "metadata": {},
          "execution_count": 129
        }
      ]
    },
    {
      "cell_type": "code",
      "source": [
        "HRV_P2_test.shape"
      ],
      "metadata": {
        "colab": {
          "base_uri": "https://localhost:8080/"
        },
        "id": "OKHiRG1QI2Pm",
        "outputId": "a21e38fe-70a1-49aa-c790-98a69b3c8a9c"
      },
      "execution_count": 130,
      "outputs": [
        {
          "output_type": "execute_result",
          "data": {
            "text/plain": [
              "(6277, 14)"
            ]
          },
          "metadata": {},
          "execution_count": 130
        }
      ]
    },
    {
      "cell_type": "code",
      "source": [
        "HRV_P3_test.shape"
      ],
      "metadata": {
        "id": "Za8KJKwwRhh3",
        "colab": {
          "base_uri": "https://localhost:8080/"
        },
        "outputId": "a0986ade-4948-44ed-dff9-7b3860072159"
      },
      "execution_count": 131,
      "outputs": [
        {
          "output_type": "execute_result",
          "data": {
            "text/plain": [
              "(2344, 14)"
            ]
          },
          "metadata": {},
          "execution_count": 131
        }
      ]
    },
    {
      "cell_type": "code",
      "source": [
        "display(HRV_P1_info)"
      ],
      "metadata": {
        "colab": {
          "base_uri": "https://localhost:8080/",
          "height": 144
        },
        "id": "4UYfKCU7y5sC",
        "outputId": "95ed5346-e16a-4055-d3fa-a445f6634948"
      },
      "execution_count": 132,
      "outputs": [
        {
          "output_type": "display_data",
          "data": {
            "text/plain": [
              "array([[nan, '2016/10/27', '2016/10/27 18:11'],\n",
              "       [nan, '2016/10/27', '2016/10/27 18:14'],\n",
              "       [nan, '2016/10/27', '2016/10/27 18:16'],\n",
              "       ...,\n",
              "       [nan, '2016/11/11', '2016/11/11 11:00'],\n",
              "       [nan, '2016/11/11', '2016/11/11 11:02'],\n",
              "       [nan, '2016/11/11', '2016/11/11 11:05']], dtype=object)"
            ]
          },
          "metadata": {}
        }
      ]
    },
    {
      "cell_type": "code",
      "source": [
        "display(HRV_P2_info)"
      ],
      "metadata": {
        "colab": {
          "base_uri": "https://localhost:8080/",
          "height": 144
        },
        "id": "_ZEvJqg1I7SJ",
        "outputId": "ce3296ea-6852-4606-c237-733d8255be85"
      },
      "execution_count": 133,
      "outputs": [
        {
          "output_type": "display_data",
          "data": {
            "text/plain": [
              "array([[nan, '2016/11/7', '2016/11/7 18:24'],\n",
              "       [nan, '2016/11/23', '2016/11/23 13:01'],\n",
              "       [nan, '2016/11/23', '2016/11/23 13:01'],\n",
              "       ...,\n",
              "       [nan, '2016/12/8', '2016/12/8 21:22'],\n",
              "       [nan, '2016/12/8', '2016/12/8 21:25'],\n",
              "       [nan, '2016/12/8', '2016/12/8 21:27']], dtype=object)"
            ]
          },
          "metadata": {}
        }
      ]
    },
    {
      "cell_type": "code",
      "source": [
        "display(HRV_P3_info)"
      ],
      "metadata": {
        "id": "qRpvYLx7RofP",
        "colab": {
          "base_uri": "https://localhost:8080/",
          "height": 144
        },
        "outputId": "d01ab924-e81b-45c4-e008-4baa7488ee6f"
      },
      "execution_count": 134,
      "outputs": [
        {
          "output_type": "display_data",
          "data": {
            "text/plain": [
              "array([[nan, '2016/11/7', '2016/11/7 15:39'],\n",
              "       [nan, '2016/11/7', '2016/11/7 15:40'],\n",
              "       [nan, '2016/11/7', '2016/11/7 15:40'],\n",
              "       ...,\n",
              "       [nan, '2016/11/19', '2016/11/19 17:39'],\n",
              "       [nan, '2016/11/19', '2016/11/19 17:39'],\n",
              "       [nan, '2016/11/19', '2016/11/19 17:41']], dtype=object)"
            ]
          },
          "metadata": {}
        }
      ]
    },
    {
      "cell_type": "code",
      "source": [
        "#Split the datasets into train and test\n",
        "#X_train, y_train, X_test, y_test = df_train_split.iloc[:, :-1].values, df_train_split.iloc[:, -1].values, df_test_split.iloc[:, :-1].values, df_test_split.iloc[:,-1].values"
      ],
      "metadata": {
        "id": "A3FM7pkQYyVy"
      },
      "execution_count": 135,
      "outputs": []
    },
    {
      "cell_type": "code",
      "source": [
        "#sScaler = StandardScaler()"
      ],
      "metadata": {
        "id": "NIOzCAy9-ZoL"
      },
      "execution_count": 136,
      "outputs": []
    },
    {
      "cell_type": "code",
      "source": [
        "#sScaler.fit(X_train)"
      ],
      "metadata": {
        "id": "HM0ZiKkzAKfw"
      },
      "execution_count": 137,
      "outputs": []
    },
    {
      "cell_type": "code",
      "source": [
        "#X_train = sScaler.transform(X_train)\n",
        "#X_test = sScaler.transform(X_test)"
      ],
      "metadata": {
        "id": "c6KnhFo5AgNu"
      },
      "execution_count": 138,
      "outputs": []
    },
    {
      "cell_type": "code",
      "source": [
        "SelectFeature = SelectKBest(f_classif, k=20)"
      ],
      "metadata": {
        "id": "m-gqehqK-dFM"
      },
      "execution_count": 139,
      "outputs": []
    },
    {
      "cell_type": "code",
      "source": [
        "X_train.shape"
      ],
      "metadata": {
        "colab": {
          "base_uri": "https://localhost:8080/"
        },
        "id": "ILhzxn0o_0lz",
        "outputId": "0acd0b30-7083-4b5d-eefb-dffed56d85b7"
      },
      "execution_count": 140,
      "outputs": [
        {
          "output_type": "execute_result",
          "data": {
            "text/plain": [
              "(369289, 35)"
            ]
          },
          "metadata": {},
          "execution_count": 140
        }
      ]
    },
    {
      "cell_type": "code",
      "source": [
        "X_train_new = SelectFeature.fit_transform(X_train, y_train)\n",
        "SelectFeature.get_support(True)"
      ],
      "metadata": {
        "colab": {
          "base_uri": "https://localhost:8080/"
        },
        "id": "1NA81zwz-nsB",
        "outputId": "452059e6-4197-4886-b643-19888f4485b9"
      },
      "execution_count": 141,
      "outputs": [
        {
          "output_type": "stream",
          "name": "stderr",
          "text": [
            "/usr/local/lib/python3.7/dist-packages/sklearn/feature_selection/_univariate_selection.py:112: UserWarning: Features [34] are constant.\n",
            "  warnings.warn(\"Features %s are constant.\" % constant_features_idx, UserWarning)\n",
            "/usr/local/lib/python3.7/dist-packages/sklearn/feature_selection/_univariate_selection.py:113: RuntimeWarning: invalid value encountered in true_divide\n",
            "  f = msb / msw\n"
          ]
        },
        {
          "output_type": "execute_result",
          "data": {
            "text/plain": [
              "array([ 0,  1,  3,  4,  6,  7,  9, 18, 21, 22, 23, 24, 25, 27, 28, 29, 30,\n",
              "       31, 32, 33])"
            ]
          },
          "metadata": {},
          "execution_count": 141
        }
      ]
    },
    {
      "cell_type": "code",
      "source": [
        "filter_autoselect=SelectFeature.get_support()\n",
        "filter_autoselect"
      ],
      "metadata": {
        "colab": {
          "base_uri": "https://localhost:8080/"
        },
        "id": "ksi08i81aqAF",
        "outputId": "8618b254-0eeb-49cf-a7be-d80a8873ac3b"
      },
      "execution_count": 142,
      "outputs": [
        {
          "output_type": "execute_result",
          "data": {
            "text/plain": [
              "array([ True,  True, False,  True,  True, False,  True,  True, False,\n",
              "        True, False, False, False, False, False, False, False, False,\n",
              "        True, False, False,  True,  True,  True,  True,  True, False,\n",
              "        True,  True,  True,  True,  True,  True,  True, False])"
            ]
          },
          "metadata": {},
          "execution_count": 142
        }
      ]
    },
    {
      "cell_type": "code",
      "source": [
        "# filter for the top 3 out of 14\n",
        "filter_top3 = [ False,  False, True, False, False, False,  False,  False, False,\n",
        "       False, False, False, False, False, False, False, False, False,\n",
        "       False, False, False, False, False,  True, False, False, True,\n",
        "       False, False, False, False, False, False, False, False]"
      ],
      "metadata": {
        "id": "_hz3UdzfcmLY"
      },
      "execution_count": 143,
      "outputs": []
    },
    {
      "cell_type": "code",
      "source": [
        "# filter for the common 14 features \n",
        "filter = [ True,  False, True, False, False, False,  True,  False, False,\n",
        "       False, False, False, False, False, False, False, False, False,\n",
        "       False, False, False, True, True,  True, True, True, True,\n",
        "       True, True, True, True, True, False, False, False]"
      ],
      "metadata": {
        "id": "Mk0EB6yLuqea"
      },
      "execution_count": 144,
      "outputs": []
    },
    {
      "cell_type": "code",
      "source": [],
      "metadata": {
        "id": "rnR2yMOSufpG"
      },
      "execution_count": 144,
      "outputs": []
    },
    {
      "cell_type": "code",
      "source": [
        "X_train_new = X_train[:,filter]\n",
        "X_train_new.shape"
      ],
      "metadata": {
        "colab": {
          "base_uri": "https://localhost:8080/"
        },
        "id": "cbFlzpQy_zh_",
        "outputId": "760754fd-3293-4795-eee6-40504d18da18"
      },
      "execution_count": 145,
      "outputs": [
        {
          "output_type": "execute_result",
          "data": {
            "text/plain": [
              "(369289, 14)"
            ]
          },
          "metadata": {},
          "execution_count": 145
        }
      ]
    },
    {
      "cell_type": "code",
      "source": [
        "X_test_new = X_test[:,filter]\n",
        "X_test_new.shape"
      ],
      "metadata": {
        "colab": {
          "base_uri": "https://localhost:8080/"
        },
        "id": "_K2yMoiK_42m",
        "outputId": "4c8bd615-9a59-425f-a48d-53541ddaa436"
      },
      "execution_count": 146,
      "outputs": [
        {
          "output_type": "execute_result",
          "data": {
            "text/plain": [
              "(41033, 14)"
            ]
          },
          "metadata": {},
          "execution_count": 146
        }
      ]
    },
    {
      "cell_type": "code",
      "source": [
        "#print(X_train_new[0:5,:])"
      ],
      "metadata": {
        "id": "lrtNGwbiNvZl"
      },
      "execution_count": 147,
      "outputs": []
    },
    {
      "cell_type": "code",
      "source": [
        "#train_xc=X_train_new[:,0]\n",
        "#train_yc=X_train_new[:,1]\n",
        "#train_zc=X_train_new[:,2]"
      ],
      "metadata": {
        "id": "dnpQVC3OUk4Z"
      },
      "execution_count": 148,
      "outputs": []
    },
    {
      "cell_type": "code",
      "source": [
        "#print(X_test_new[0:5,:])"
      ],
      "metadata": {
        "id": "SyLYFiMrsnq4"
      },
      "execution_count": 149,
      "outputs": []
    },
    {
      "cell_type": "code",
      "source": [
        "#test_xc=X_test_new[:,0]\n",
        "#test_yc=X_test_new[:,1]\n",
        "#test_zc=X_test_new[:,2]"
      ],
      "metadata": {
        "id": "pxYgh2x_VVfN"
      },
      "execution_count": 150,
      "outputs": []
    },
    {
      "cell_type": "code",
      "source": [
        "#colormap = np.array(['r', 'g', 'b'])"
      ],
      "metadata": {
        "id": "7Hnqk9ZnUmDL"
      },
      "execution_count": 151,
      "outputs": []
    },
    {
      "cell_type": "code",
      "source": [
        "#fig = plt.figure()\n",
        "#ax = fig.gca(projection='3d')\n",
        "\n",
        "#ax.scatter(train_yc, train_xc, train_zc, s=1, c=colormap[y_train])\n",
        "#plt.show()"
      ],
      "metadata": {
        "id": "6sClXZaPY7yQ"
      },
      "execution_count": 152,
      "outputs": []
    },
    {
      "cell_type": "code",
      "source": [
        "#fig = plt.figure()\n",
        "#ax = fig.gca(projection='3d')\n",
        "\n",
        "#ax.scatter(test_yc, test_xc, test_zc, s=1, c=colormap[y_test])\n",
        "#plt.show()"
      ],
      "metadata": {
        "id": "8-kgbxZrWuqa"
      },
      "execution_count": 153,
      "outputs": []
    },
    {
      "cell_type": "code",
      "source": [],
      "metadata": {
        "id": "7C5Ymu2dwx_Q"
      },
      "execution_count": 153,
      "outputs": []
    },
    {
      "cell_type": "code",
      "source": [
        "label_prop_model = LabelSpreading(kernel='knn', n_neighbors=100, max_iter=30, n_jobs=-1)\n",
        "X_train_mixed = np.concatenate((X_train_new, PA_train),axis=0)\n",
        "y_train_mixed = np.concatenate((y_train, y_unlabeled), axis=0)\n",
        "print(X_train_new.shape)\n",
        "print(PA_train.shape)\n",
        "print(X_train_mixed.shape)\n",
        "print(y_train.shape)\n",
        "print(y_unlabeled.shape)\n",
        "print(y_train_mixed.shape)"
      ],
      "metadata": {
        "colab": {
          "base_uri": "https://localhost:8080/"
        },
        "id": "9pki6Tdioast",
        "outputId": "1690caec-5a0e-490d-fa8a-72ce9b38288d"
      },
      "execution_count": 154,
      "outputs": [
        {
          "output_type": "stream",
          "name": "stdout",
          "text": [
            "(369289, 14)\n",
            "(10538, 14)\n",
            "(379827, 14)\n",
            "(369289,)\n",
            "(10538,)\n",
            "(379827,)\n"
          ]
        }
      ]
    },
    {
      "cell_type": "code",
      "source": [
        "label_prop_model.fit(X_train_mixed, y_train_mixed)"
      ],
      "metadata": {
        "colab": {
          "base_uri": "https://localhost:8080/"
        },
        "id": "brsVHajlpyQG",
        "outputId": "cd91b556-de7f-44cb-c647-e0498490cc71"
      },
      "execution_count": 155,
      "outputs": [
        {
          "output_type": "execute_result",
          "data": {
            "text/plain": [
              "LabelSpreading(kernel='knn', n_jobs=-1, n_neighbors=100)"
            ]
          },
          "metadata": {},
          "execution_count": 155
        }
      ]
    },
    {
      "cell_type": "code",
      "source": [
        "label_prop_model.transduction_.shape"
      ],
      "metadata": {
        "id": "1--kS_L-sqmN",
        "colab": {
          "base_uri": "https://localhost:8080/"
        },
        "outputId": "7f90319c-18ae-45a1-af57-a6fee326d33b"
      },
      "execution_count": 156,
      "outputs": [
        {
          "output_type": "execute_result",
          "data": {
            "text/plain": [
              "(379827,)"
            ]
          },
          "metadata": {},
          "execution_count": 156
        }
      ]
    },
    {
      "cell_type": "code",
      "source": [
        "pd.DataFrame(label_prop_model.transduction_[-y_unlabeled.size:]).to_csv(\"/content/drive/MyDrive/SWELL/hrv PA/swell_label_transduction_to_PA_knn100.csv\")"
      ],
      "metadata": {
        "id": "HkwzC-nYs4C9"
      },
      "execution_count": 157,
      "outputs": []
    },
    {
      "cell_type": "code",
      "source": [
        "# Random Forest Model\n",
        "RFC = RandomForestClassifier(n_estimators=100, max_features='log2', n_jobs=-1)"
      ],
      "metadata": {
        "id": "5i-E2Ga5KIeu"
      },
      "execution_count": 158,
      "outputs": []
    },
    {
      "cell_type": "code",
      "source": [
        "RFC.fit(X_train_new, y_train)"
      ],
      "metadata": {
        "colab": {
          "base_uri": "https://localhost:8080/"
        },
        "id": "Aqe2c2bllVDC",
        "outputId": "8feba14f-277a-4097-a8bd-8ced80aa1028"
      },
      "execution_count": 159,
      "outputs": [
        {
          "output_type": "execute_result",
          "data": {
            "text/plain": [
              "RandomForestClassifier(max_features='log2', n_jobs=-1)"
            ]
          },
          "metadata": {},
          "execution_count": 159
        }
      ]
    },
    {
      "cell_type": "code",
      "source": [
        "RFC.score(X_test_new, y_test)"
      ],
      "metadata": {
        "colab": {
          "base_uri": "https://localhost:8080/"
        },
        "id": "WUIcQtXI-DLm",
        "outputId": "e5224736-d30d-435e-9d70-83610aad6aa0"
      },
      "execution_count": 160,
      "outputs": [
        {
          "output_type": "execute_result",
          "data": {
            "text/plain": [
              "0.999951258742963"
            ]
          },
          "metadata": {},
          "execution_count": 160
        }
      ]
    },
    {
      "cell_type": "code",
      "source": [
        "RFC_cf=confusion_matrix(y_test, RFC.predict(X_test_new))\n",
        "print(RFC_cf)"
      ],
      "metadata": {
        "colab": {
          "base_uri": "https://localhost:8080/"
        },
        "id": "sHhvJP6c4nZl",
        "outputId": "b3f10164-84a8-489d-b1a2-215faf2038ec"
      },
      "execution_count": 161,
      "outputs": [
        {
          "output_type": "stream",
          "name": "stdout",
          "text": [
            "[[22156     0     2]\n",
            " [    0 11782     0]\n",
            " [    0     0  7093]]\n"
          ]
        }
      ]
    },
    {
      "cell_type": "code",
      "source": [
        "import time\n",
        "\n",
        "start_time = time.time()\n",
        "importances = RFC.feature_importances_\n",
        "std = np.std([tree.feature_importances_ for tree in RFC.estimators_], axis=0)\n",
        "elapsed_time = time.time() - start_time\n",
        "\n",
        "print(f\"Elapsed time to compute the importances: {elapsed_time:.3f} seconds\")\n"
      ],
      "metadata": {
        "colab": {
          "base_uri": "https://localhost:8080/"
        },
        "id": "VKVeG955-m4A",
        "outputId": "5bcbfe33-c739-4006-e8d0-ee6867c1d78e"
      },
      "execution_count": 162,
      "outputs": [
        {
          "output_type": "stream",
          "name": "stdout",
          "text": [
            "Elapsed time to compute the importances: 0.112 seconds\n"
          ]
        }
      ]
    },
    {
      "cell_type": "code",
      "source": [
        "print(std)"
      ],
      "metadata": {
        "colab": {
          "base_uri": "https://localhost:8080/"
        },
        "id": "52oaY08uBwXv",
        "outputId": "eb4c2213-ae5c-4e6d-961c-ff90626d5c5b"
      },
      "execution_count": 163,
      "outputs": [
        {
          "output_type": "stream",
          "name": "stdout",
          "text": [
            "[0.03203586 0.01484078 0.03063649 0.0142346  0.01750204 0.01930649\n",
            " 0.01760343 0.01359189 0.01424621 0.01371325 0.01477086 0.01313419\n",
            " 0.01354065 0.01266645]\n"
          ]
        }
      ]
    },
    {
      "cell_type": "code",
      "source": [
        "#feature_names = [f\"feature {i}\" for i in range(X_train_new.shape[1])]\n",
        "feature_names = [\"MEAN_RR\", \"SDRR\", \"HR\", \"VLF\", \"VLF%\", \"LF\", \"LF%\", \"LF norm%\", \"HF\", \"HF%\", \"HF norm%\", \"TP\", \"LF/HF\", \"HF/LF\"]\n",
        "print(feature_names)\n",
        "forest_importances = pd.Series(importances, index=feature_names)\n",
        "\n",
        "fig, ax = plt.subplots()\n",
        "forest_importances.plot.bar(yerr=std, ax=ax)\n",
        "ax.set_title(\"Feature importances using MDI\")\n",
        "ax.set_ylabel(\"Mean decrease in impurity\")\n",
        "fig.tight_layout()"
      ],
      "metadata": {
        "colab": {
          "base_uri": "https://localhost:8080/",
          "height": 315
        },
        "id": "Yt63EQ6C_HF4",
        "outputId": "61c61f48-f30c-4306-8345-6ec0779b5ee1"
      },
      "execution_count": 216,
      "outputs": [
        {
          "output_type": "stream",
          "name": "stdout",
          "text": [
            "['MEAN_RR', 'SDRR', 'HR', 'VLF', 'VLF%', 'LF', 'LF%', 'LF norm%', 'HF', 'HF%', 'HF norm%', 'TP', 'LF/HF', 'HF/LF']\n"
          ]
        },
        {
          "output_type": "display_data",
          "data": {
            "text/plain": [
              "<Figure size 432x288 with 1 Axes>"
            ],
            "image/png": "[encoded data removed]"
          },
          "metadata": {
            "needs_background": "light"
          }
        }
      ]
    },
    {
      "cell_type": "code",
      "source": [
        "from sklearn.inspection import permutation_importance\n",
        "\n",
        "start_time = time.time()\n",
        "result = permutation_importance(RFC, X_test_new, y_test, n_repeats=10, random_state=42, n_jobs=2)\n",
        "elapsed_time = time.time() - start_time\n",
        "print(f\"Elapsed time to compute the importances: {elapsed_time:.3f} seconds\")\n",
        "\n",
        "forest_importances = pd.Series(result.importances_mean, index=feature_names)"
      ],
      "metadata": {
        "colab": {
          "base_uri": "https://localhost:8080/"
        },
        "id": "pmblbM0RDB5M",
        "outputId": "8f216118-db48-4b13-80ac-7f6c58cd7004"
      },
      "execution_count": 217,
      "outputs": [
        {
          "output_type": "stream",
          "name": "stdout",
          "text": [
            "Elapsed time to compute the importances: 81.125 seconds\n"
          ]
        }
      ]
    },
    {
      "cell_type": "code",
      "source": [
        "fig, ax = plt.subplots()\n",
        "forest_importances.plot.bar(yerr=result.importances_std, ax=ax)\n",
        "ax.set_title(\"Feature importances using permutation on full model\")\n",
        "ax.set_ylabel(\"Mean accuracy decrease\")\n",
        "fig.tight_layout()\n",
        "plt.show()"
      ],
      "metadata": {
        "colab": {
          "base_uri": "https://localhost:8080/",
          "height": 297
        },
        "id": "5RwfRk5IDeMo",
        "outputId": "422555ed-33d8-4593-8d38-c2028e5f5141"
      },
      "execution_count": 219,
      "outputs": [
        {
          "output_type": "display_data",
          "data": {
            "text/plain": [
              "<Figure size 432x288 with 1 Axes>"
            ],
            "image/png": "[encoded data removed]"
          },
          "metadata": {
            "needs_background": "light"
          }
        }
      ]
    },
    {
      "cell_type": "code",
      "source": [
        "#Adaboost model\n",
        "# Instantiate dt\n",
        "DTC = DecisionTreeClassifier(max_depth=2, random_state=1)\n",
        "# Instantiate ada\n",
        "ADA = AdaBoostClassifier(base_estimator=DTC, n_estimators=100, random_state=1)\n",
        "ADA.fit(X_train_new, y_train)"
      ],
      "metadata": {
        "colab": {
          "base_uri": "https://localhost:8080/"
        },
        "id": "yxK4jKzVIMEM",
        "outputId": "64bfcf42-99d7-4e40-b692-304375d7658a"
      },
      "execution_count": 167,
      "outputs": [
        {
          "output_type": "execute_result",
          "data": {
            "text/plain": [
              "AdaBoostClassifier(base_estimator=DecisionTreeClassifier(max_depth=2,\n",
              "                                                         random_state=1),\n",
              "                   n_estimators=100, random_state=1)"
            ]
          },
          "metadata": {},
          "execution_count": 167
        }
      ]
    },
    {
      "cell_type": "code",
      "source": [
        "y_pred_proba = ADA.predict_proba(X_test_new)"
      ],
      "metadata": {
        "id": "HchI9I78IPqV"
      },
      "execution_count": 168,
      "outputs": []
    },
    {
      "cell_type": "code",
      "source": [
        "#ada_roc_auc = roc_auc_score(y_test, y_pred_proba)\n",
        "#print('ROC AUC score: {:.2f}'.format(ada_roc_auc))\n",
        "ADA.score(X_test_new, y_test)"
      ],
      "metadata": {
        "colab": {
          "base_uri": "https://localhost:8080/"
        },
        "id": "XbcdCtefISDA",
        "outputId": "515905d4-bd1d-4590-f235-e5d8eae5a5ca"
      },
      "execution_count": 169,
      "outputs": [
        {
          "output_type": "execute_result",
          "data": {
            "text/plain": [
              "0.7697706723856408"
            ]
          },
          "metadata": {},
          "execution_count": 169
        }
      ]
    },
    {
      "cell_type": "code",
      "source": [
        "ADA_y_predict = ADA.predict(X_test_new)\n",
        "ADA_cf=confusion_matrix(y_test, ADA_y_predict)\n",
        "print(metrics.classification_report(y_test, ADA_y_predict))"
      ],
      "metadata": {
        "colab": {
          "base_uri": "https://localhost:8080/"
        },
        "id": "BZX1LQX7IWCO",
        "outputId": "507a4d57-8255-4093-eeec-91408c03fd15"
      },
      "execution_count": 170,
      "outputs": [
        {
          "output_type": "stream",
          "name": "stdout",
          "text": [
            "              precision    recall  f1-score   support\n",
            "\n",
            "           0       0.81      0.80      0.81     22158\n",
            "           1       0.71      0.74      0.72     11782\n",
            "           2       0.74      0.73      0.74      7093\n",
            "\n",
            "    accuracy                           0.77     41033\n",
            "   macro avg       0.75      0.76      0.76     41033\n",
            "weighted avg       0.77      0.77      0.77     41033\n",
            "\n"
          ]
        }
      ]
    },
    {
      "cell_type": "code",
      "source": [
        "metrics.ConfusionMatrixDisplay.from_predictions(y_test, ADA_y_predict, display_labels=ADA.classes_, \n",
        "                                                normalize=None, cmap=plt.cm.Blues)\n",
        "plt.show()"
      ],
      "metadata": {
        "colab": {
          "base_uri": "https://localhost:8080/",
          "height": 279
        },
        "outputId": "e7b027be-6c61-46ee-817f-2f57a1589f15",
        "id": "KSJJe51Y3FPm"
      },
      "execution_count": 171,
      "outputs": [
        {
          "output_type": "display_data",
          "data": {
            "text/plain": [
              "<Figure size 432x288 with 2 Axes>"
            ],
            "image/png": "[encoded data removed]"
          },
          "metadata": {
            "needs_background": "light"
          }
        }
      ]
    },
    {
      "cell_type": "code",
      "source": [
        "metrics.ConfusionMatrixDisplay.from_predictions(y_test, ADA_y_predict, display_labels=ADA.classes_, \n",
        "                                                normalize='true', cmap=plt.cm.Blues)\n",
        "plt.show()"
      ],
      "metadata": {
        "colab": {
          "base_uri": "https://localhost:8080/",
          "height": 279
        },
        "outputId": "11d79145-92c2-40aa-e20e-1576d846fad5",
        "id": "qle5LnyL3FPt"
      },
      "execution_count": 172,
      "outputs": [
        {
          "output_type": "display_data",
          "data": {
            "text/plain": [
              "<Figure size 432x288 with 2 Axes>"
            ],
            "image/png": "[encoded data removed]"
          },
          "metadata": {
            "needs_background": "light"
          }
        }
      ]
    },
    {
      "cell_type": "code",
      "source": [
        "#xgb model\n",
        "XGB = XGBClassifier()"
      ],
      "metadata": {
        "id": "YHKd87xpIj5k"
      },
      "execution_count": 173,
      "outputs": []
    },
    {
      "cell_type": "code",
      "source": [
        "#fit the model\n",
        "XGB.fit(X_train_new, y_train)"
      ],
      "metadata": {
        "colab": {
          "base_uri": "https://localhost:8080/"
        },
        "id": "t1cXHWPsI0iY",
        "outputId": "d20f5cce-e3ed-44f2-ca20-9d08f5324c38"
      },
      "execution_count": 174,
      "outputs": [
        {
          "output_type": "execute_result",
          "data": {
            "text/plain": [
              "XGBClassifier(objective='multi:softprob')"
            ]
          },
          "metadata": {},
          "execution_count": 174
        }
      ]
    },
    {
      "cell_type": "code",
      "source": [
        "XGB.score(X_test_new, y_test)"
      ],
      "metadata": {
        "colab": {
          "base_uri": "https://localhost:8080/"
        },
        "id": "nAggLVF1I3x4",
        "outputId": "cac942d2-7288-40d3-ff81-902acdc8b1ed"
      },
      "execution_count": 175,
      "outputs": [
        {
          "output_type": "execute_result",
          "data": {
            "text/plain": [
              "0.8123949016645139"
            ]
          },
          "metadata": {},
          "execution_count": 175
        }
      ]
    },
    {
      "cell_type": "code",
      "source": [
        "XGB_y_predict = XGB.predict(X_test_new)\n",
        "XGB_cf=confusion_matrix(y_test, XGB_y_predict)\n",
        "print(metrics.classification_report(y_test, XGB_y_predict))"
      ],
      "metadata": {
        "colab": {
          "base_uri": "https://localhost:8080/"
        },
        "outputId": "9bfa4850-7050-45b2-f006-a70f0d35efe2",
        "id": "JFrNtQ3m4I6G"
      },
      "execution_count": 176,
      "outputs": [
        {
          "output_type": "stream",
          "name": "stdout",
          "text": [
            "              precision    recall  f1-score   support\n",
            "\n",
            "           0       0.79      0.93      0.86     22158\n",
            "           1       0.86      0.71      0.78     11782\n",
            "           2       0.83      0.62      0.71      7093\n",
            "\n",
            "    accuracy                           0.81     41033\n",
            "   macro avg       0.83      0.75      0.78     41033\n",
            "weighted avg       0.82      0.81      0.81     41033\n",
            "\n"
          ]
        }
      ]
    },
    {
      "cell_type": "code",
      "source": [
        "metrics.ConfusionMatrixDisplay.from_predictions(y_test, XGB_y_predict, display_labels=XGB.classes_, \n",
        "                                                normalize=None, cmap=plt.cm.Blues)\n",
        "plt.show()"
      ],
      "metadata": {
        "colab": {
          "base_uri": "https://localhost:8080/",
          "height": 279
        },
        "outputId": "f8ca1aa4-83f7-4f96-e5f8-343ce6a8c02c",
        "id": "wvY1NLPb4I6J"
      },
      "execution_count": 177,
      "outputs": [
        {
          "output_type": "display_data",
          "data": {
            "text/plain": [
              "<Figure size 432x288 with 2 Axes>"
            ],
            "image/png": "[encoded data removed]"
          },
          "metadata": {
            "needs_background": "light"
          }
        }
      ]
    },
    {
      "cell_type": "code",
      "source": [
        "metrics.ConfusionMatrixDisplay.from_predictions(y_test, XGB_y_predict, display_labels=XGB.classes_, \n",
        "                                                normalize='true', cmap=plt.cm.Blues)\n",
        "plt.show()"
      ],
      "metadata": {
        "colab": {
          "base_uri": "https://localhost:8080/",
          "height": 279
        },
        "outputId": "ef27378d-5e79-4535-9d48-c25524a0ce91",
        "id": "d_iK_Nnh4I6M"
      },
      "execution_count": 178,
      "outputs": [
        {
          "output_type": "display_data",
          "data": {
            "text/plain": [
              "<Figure size 432x288 with 2 Axes>"
            ],
            "image/png": "[encoded data removed]"
          },
          "metadata": {
            "needs_background": "light"
          }
        }
      ]
    },
    {
      "cell_type": "code",
      "source": [
        "#Multi-layer NN model 20 hidden layers 300 nodes\n",
        "#MLPC = MLPClassifier(solver='adam', activation='relu', hidden_layer_sizes=(20, 300), \n",
        "#                     max_iter=10000, early_stopping=True, random_state=42)"
      ],
      "metadata": {
        "id": "c68UjmVfmz_3"
      },
      "execution_count": 179,
      "outputs": []
    },
    {
      "cell_type": "code",
      "source": [
        "#MLPC.fit(X_train_new, y_train)"
      ],
      "metadata": {
        "id": "_2ga4aaKm7Fq"
      },
      "execution_count": 180,
      "outputs": []
    },
    {
      "cell_type": "code",
      "source": [
        "#MLPC.score(X_test_new, y_test)"
      ],
      "metadata": {
        "id": "wWkfiNTsojWG"
      },
      "execution_count": 181,
      "outputs": []
    },
    {
      "cell_type": "code",
      "source": [
        "#MLPC_y_predict = MLPC.predict(X_test_new)\n",
        "#MLPC_cf=confusion_matrix(y_test, MLPC_y_predict)\n",
        "#print(metrics.classification_report(y_test, MLPC_y_predict))"
      ],
      "metadata": {
        "id": "5NL_CcQo46W6"
      },
      "execution_count": 182,
      "outputs": []
    },
    {
      "cell_type": "code",
      "source": [
        "#metrics.ConfusionMatrixDisplay.from_predictions(y_test, MLPC_y_predict, display_labels=MLPC.classes_, \n",
        "#                                                normalize=None, cmap=plt.cm.Blues)\n",
        "#plt.show()"
      ],
      "metadata": {
        "id": "nD00s8Zl46W9"
      },
      "execution_count": 183,
      "outputs": []
    },
    {
      "cell_type": "code",
      "source": [
        "#metrics.ConfusionMatrixDisplay.from_predictions(y_test, MLPC_y_predict, display_labels=MLPC.classes_, \n",
        "#                                                normalize='true', cmap=plt.cm.Blues)\n",
        "#plt.show()"
      ],
      "metadata": {
        "id": "VtoguOq646W-"
      },
      "execution_count": 184,
      "outputs": []
    },
    {
      "cell_type": "code",
      "source": [
        "#Multi-layer NN model 20 hidden layers 200 nodes\n",
        "#MLPC = MLPClassifier(solver='adam', activation='relu', hidden_layer_sizes=(20, 200), \n",
        "#                     max_iter=10000, early_stopping=True, random_state=42)"
      ],
      "metadata": {
        "id": "H0C1M1-oLNd4"
      },
      "execution_count": 185,
      "outputs": []
    },
    {
      "cell_type": "code",
      "source": [
        "#MLPC.fit(X_train_new, y_train)"
      ],
      "metadata": {
        "id": "E8ryVezuLNd6"
      },
      "execution_count": 186,
      "outputs": []
    },
    {
      "cell_type": "code",
      "source": [
        "#MLPC.score(X_test_new, y_test)"
      ],
      "metadata": {
        "id": "RZtRsGFdLNd9"
      },
      "execution_count": 187,
      "outputs": []
    },
    {
      "cell_type": "code",
      "source": [
        "#MLPC_y_predict = MLPC.predict(X_test_new)\n",
        "#MLPC_cf=confusion_matrix(y_test, MLPC_y_predict)\n",
        "#print(metrics.classification_report(y_test, MLPC_y_predict))\n",
        "#print(MLPC_cf)"
      ],
      "metadata": {
        "id": "Ab_VYw_yLNd_"
      },
      "execution_count": 188,
      "outputs": []
    },
    {
      "cell_type": "code",
      "source": [
        "#Multi-layer NN model 10 hidden layers 200 nodes\n",
        "#MLPC = MLPClassifier(solver='adam', activation='relu', hidden_layer_sizes=(10, 200), \n",
        "#                     max_iter=10000, early_stopping=True, random_state=42)"
      ],
      "metadata": {
        "id": "NugJm8g1vPvG"
      },
      "execution_count": 189,
      "outputs": []
    },
    {
      "cell_type": "code",
      "source": [
        "#MLPC.fit(X_train_new, y_train)"
      ],
      "metadata": {
        "id": "32VBmk7xvPvH"
      },
      "execution_count": 190,
      "outputs": []
    },
    {
      "cell_type": "code",
      "source": [
        "#MLPC.score(X_test_new, y_test)"
      ],
      "metadata": {
        "id": "FGFPboMavPvJ"
      },
      "execution_count": 191,
      "outputs": []
    },
    {
      "cell_type": "code",
      "source": [
        "#MLPC_y_predict = MLPC.predict(X_test_new)\n",
        "#MLPC_cf=confusion_matrix(y_test, MLPC_y_predict)\n",
        "#print(metrics.classification_report(y_test, MLPC_y_predict))\n",
        "#print(MLPC_cf)"
      ],
      "metadata": {
        "id": "IEjlfBpNvPvK"
      },
      "execution_count": 192,
      "outputs": []
    },
    {
      "cell_type": "code",
      "source": [
        "#Multi-layer NN model 20 hidden layers 100 nodes each\n",
        "MLPC = MLPClassifier(solver='adam', activation='relu', hidden_layer_sizes=(20, 100), \n",
        "                     max_iter=10000, early_stopping=True, random_state=42)"
      ],
      "metadata": {
        "id": "1c6V0oXw24jI"
      },
      "execution_count": 193,
      "outputs": []
    },
    {
      "cell_type": "code",
      "source": [
        "MLPC.fit(X_train_new, y_train)"
      ],
      "metadata": {
        "id": "FgClr1w224jJ",
        "colab": {
          "base_uri": "https://localhost:8080/"
        },
        "outputId": "fd53ac24-e2e8-4f87-e85b-2c673bcfaec5"
      },
      "execution_count": 194,
      "outputs": [
        {
          "output_type": "stream",
          "name": "stderr",
          "text": [
            "/usr/local/lib/python3.7/dist-packages/sklearn/neural_network/_multilayer_perceptron.py:699: UserWarning: Training interrupted by user.\n",
            "  warnings.warn(\"Training interrupted by user.\")\n"
          ]
        },
        {
          "output_type": "execute_result",
          "data": {
            "text/plain": [
              "MLPClassifier(early_stopping=True, hidden_layer_sizes=(20, 100), max_iter=10000,\n",
              "              random_state=42)"
            ]
          },
          "metadata": {},
          "execution_count": 194
        }
      ]
    },
    {
      "cell_type": "code",
      "source": [
        "MLPC.score(X_test_new, y_test)"
      ],
      "metadata": {
        "id": "nBCiCJUe24jK",
        "colab": {
          "base_uri": "https://localhost:8080/"
        },
        "outputId": "ac21099f-05b4-4d47-823d-2d4feb7774bd"
      },
      "execution_count": 195,
      "outputs": [
        {
          "output_type": "execute_result",
          "data": {
            "text/plain": [
              "0.9740452806277874"
            ]
          },
          "metadata": {},
          "execution_count": 195
        }
      ]
    },
    {
      "cell_type": "code",
      "source": [
        "MLPC_y_predict = MLPC.predict(X_test_new)\n",
        "MLPC_cf=confusion_matrix(y_test, MLPC_y_predict)\n",
        "print(metrics.classification_report(y_test, MLPC_y_predict))"
      ],
      "metadata": {
        "id": "jiChpX645QKJ",
        "colab": {
          "base_uri": "https://localhost:8080/"
        },
        "outputId": "ab9d8dff-dd11-4551-b564-54b3f223c63d"
      },
      "execution_count": 196,
      "outputs": [
        {
          "output_type": "stream",
          "name": "stdout",
          "text": [
            "              precision    recall  f1-score   support\n",
            "\n",
            "           0       0.98      0.98      0.98     22158\n",
            "           1       0.97      0.97      0.97     11782\n",
            "           2       0.97      0.96      0.96      7093\n",
            "\n",
            "    accuracy                           0.97     41033\n",
            "   macro avg       0.97      0.97      0.97     41033\n",
            "weighted avg       0.97      0.97      0.97     41033\n",
            "\n"
          ]
        }
      ]
    },
    {
      "cell_type": "code",
      "source": [
        "metrics.ConfusionMatrixDisplay.from_predictions(y_test, MLPC_y_predict, display_labels=MLPC.classes_, \n",
        "                                                normalize=None, cmap=plt.cm.Blues)\n",
        "plt.show()"
      ],
      "metadata": {
        "id": "M8H_SH_H5QKL",
        "colab": {
          "base_uri": "https://localhost:8080/",
          "height": 279
        },
        "outputId": "c7eae718-73e4-40e0-84be-4e2a8a184ab8"
      },
      "execution_count": 197,
      "outputs": [
        {
          "output_type": "display_data",
          "data": {
            "text/plain": [
              "<Figure size 432x288 with 2 Axes>"
            ],
            "image/png": "[encoded data removed]"
          },
          "metadata": {
            "needs_background": "light"
          }
        }
      ]
    },
    {
      "cell_type": "code",
      "source": [
        "metrics.ConfusionMatrixDisplay.from_predictions(y_test, MLPC_y_predict, display_labels=MLPC.classes_, \n",
        "                                                normalize='true', cmap=plt.cm.Blues)\n",
        "plt.show()"
      ],
      "metadata": {
        "id": "C8mQjgmT5QKM",
        "colab": {
          "base_uri": "https://localhost:8080/",
          "height": 279
        },
        "outputId": "4ebf7501-8061-4c81-e513-5ef51c31f2d4"
      },
      "execution_count": 198,
      "outputs": [
        {
          "output_type": "display_data",
          "data": {
            "text/plain": [
              "<Figure size 432x288 with 2 Axes>"
            ],
            "image/png": "[encoded data removed]"
          },
          "metadata": {
            "needs_background": "light"
          }
        }
      ]
    },
    {
      "cell_type": "code",
      "source": [
        "# K-nn model k=10\n",
        "\n",
        "KNC = KNeighborsClassifier(n_neighbors=7)\n",
        "KNC.fit(X_train_new, y_train)"
      ],
      "metadata": {
        "colab": {
          "base_uri": "https://localhost:8080/"
        },
        "id": "-jdJwSpG773f",
        "outputId": "163b758e-9a64-4540-d5dd-13cf5aca8376"
      },
      "execution_count": 220,
      "outputs": [
        {
          "output_type": "execute_result",
          "data": {
            "text/plain": [
              "KNeighborsClassifier(n_neighbors=7)"
            ]
          },
          "metadata": {},
          "execution_count": 220
        }
      ]
    },
    {
      "cell_type": "code",
      "source": [
        "KNC.score(X_test_new, y_test)"
      ],
      "metadata": {
        "colab": {
          "base_uri": "https://localhost:8080/"
        },
        "id": "53APjg9v7_Zh",
        "outputId": "1d3f4e58-8ed7-46a4-d77c-a7b8798db924"
      },
      "execution_count": 221,
      "outputs": [
        {
          "output_type": "execute_result",
          "data": {
            "text/plain": [
              "0.9869617137425974"
            ]
          },
          "metadata": {},
          "execution_count": 221
        }
      ]
    },
    {
      "cell_type": "code",
      "source": [
        "KNC_y_predict = KNC.predict(X_test_new)\n",
        "KNC_cf=confusion_matrix(y_test, KNC_y_predict)\n",
        "print(metrics.classification_report(y_test, KNC_y_predict))"
      ],
      "metadata": {
        "colab": {
          "base_uri": "https://localhost:8080/"
        },
        "id": "2qSA7sJi8ZXz",
        "outputId": "6aac90da-1da0-423a-df8c-457c960c7627"
      },
      "execution_count": 222,
      "outputs": [
        {
          "output_type": "stream",
          "name": "stdout",
          "text": [
            "              precision    recall  f1-score   support\n",
            "\n",
            "           0       0.99      0.99      0.99     22158\n",
            "           1       0.99      0.99      0.99     11782\n",
            "           2       0.98      0.98      0.98      7093\n",
            "\n",
            "    accuracy                           0.99     41033\n",
            "   macro avg       0.99      0.98      0.99     41033\n",
            "weighted avg       0.99      0.99      0.99     41033\n",
            "\n"
          ]
        }
      ]
    },
    {
      "cell_type": "code",
      "source": [
        "metrics.ConfusionMatrixDisplay.from_predictions(y_test, KNC_y_predict, display_labels=KNC.classes_, \n",
        "                                                normalize=None, cmap=plt.cm.Blues)\n",
        "plt.show()"
      ],
      "metadata": {
        "colab": {
          "base_uri": "https://localhost:8080/",
          "height": 279
        },
        "id": "GZxRtVAe8ZX2",
        "outputId": "3d779525-c55d-4d03-9ae5-dd0808d7e5ed"
      },
      "execution_count": 223,
      "outputs": [
        {
          "output_type": "display_data",
          "data": {
            "text/plain": [
              "<Figure size 432x288 with 2 Axes>"
            ],
            "image/png": "[encoded data removed]"
          },
          "metadata": {
            "needs_background": "light"
          }
        }
      ]
    },
    {
      "cell_type": "code",
      "source": [
        "metrics.ConfusionMatrixDisplay.from_predictions(y_test, KNC_y_predict, display_labels=KNC.classes_, \n",
        "                                                normalize='true', cmap=plt.cm.Blues)\n",
        "plt.show()"
      ],
      "metadata": {
        "colab": {
          "base_uri": "https://localhost:8080/",
          "height": 279
        },
        "id": "70f6jaGa8ZX5",
        "outputId": "4181f86a-99ae-42ef-cf34-deaf8267c957"
      },
      "execution_count": 224,
      "outputs": [
        {
          "output_type": "display_data",
          "data": {
            "text/plain": [
              "<Figure size 432x288 with 2 Axes>"
            ],
            "image/png": "[encoded data removed]"
          },
          "metadata": {
            "needs_background": "light"
          }
        }
      ]
    },
    {
      "cell_type": "code",
      "source": [
        "#test sleep quality for different models\n",
        "\n",
        "KNC_sleep_predict = KNC.predict(HRV_P1_test)\n",
        "pd.DataFrame(KNC_sleep_predict).to_csv(\"/content/drive/MyDrive/SWELL/hrv sleep/KNC_predict_P1.csv\")\n",
        "KNC_sleep_predict = KNC.predict(HRV_P2_test)\n",
        "pd.DataFrame(KNC_sleep_predict).to_csv(\"/content/drive/MyDrive/SWELL/hrv sleep/KNC_predict_P2.csv\")\n",
        "KNC_sleep_predict = KNC.predict(HRV_P3_test)\n",
        "pd.DataFrame(KNC_sleep_predict).to_csv(\"/content/drive/MyDrive/SWELL/hrv sleep/KNC_predict_P3.csv\")"
      ],
      "metadata": {
        "id": "R7a4k34XjwWo"
      },
      "execution_count": 204,
      "outputs": []
    },
    {
      "cell_type": "code",
      "source": [
        "MLPC_sleep_predict = MLPC.predict(HRV_P1_test)\n",
        "pd.DataFrame(MLPC_sleep_predict).to_csv(\"/content/drive/MyDrive/SWELL/hrv sleep/MLPC_predict_P1.csv\")\n",
        "MLPC_sleep_predict = MLPC.predict(HRV_P2_test)\n",
        "pd.DataFrame(MLPC_sleep_predict).to_csv(\"/content/drive/MyDrive/SWELL/hrv sleep/MLPC_predict_P2.csv\")\n",
        "MLPC_sleep_predict = MLPC.predict(HRV_P3_test)\n",
        "pd.DataFrame(MLPC_sleep_predict).to_csv(\"/content/drive/MyDrive/SWELL/hrv sleep/MLPC_predict_P3.csv\")"
      ],
      "metadata": {
        "id": "aRBeEbbxj2hI"
      },
      "execution_count": 205,
      "outputs": []
    },
    {
      "cell_type": "code",
      "source": [
        "ADA_sleep_predict = ADA.predict(HRV_P1_test)\n",
        "pd.DataFrame(ADA_sleep_predict).to_csv(\"/content/drive/MyDrive/SWELL/hrv sleep/ADA_predict_P1.csv\")\n",
        "ADA_sleep_predict = ADA.predict(HRV_P2_test)\n",
        "pd.DataFrame(ADA_sleep_predict).to_csv(\"/content/drive/MyDrive/SWELL/hrv sleep/ADA_predict_P2.csv\")\n",
        "ADA_sleep_predict = ADA.predict(HRV_P2_test)\n",
        "pd.DataFrame(ADA_sleep_predict).to_csv(\"/content/drive/MyDrive/SWELL/hrv sleep/ADA_predict_P3.csv\")"
      ],
      "metadata": {
        "id": "2OVdFPBskvxl"
      },
      "execution_count": 206,
      "outputs": []
    },
    {
      "cell_type": "code",
      "source": [
        "XGB_sleep_predict = XGB.predict(HRV_P1_test)\n",
        "pd.DataFrame(XGB_sleep_predict).to_csv(\"/content/drive/MyDrive/SWELL/hrv sleep/XGB_predict_P1.csv\")\n",
        "XGB_sleep_predict = XGB.predict(HRV_P2_test)\n",
        "pd.DataFrame(XGB_sleep_predict).to_csv(\"/content/drive/MyDrive/SWELL/hrv sleep/XGB_predict_P2.csv\")\n",
        "XGB_sleep_predict = XGB.predict(HRV_P3_test)\n",
        "pd.DataFrame(XGB_sleep_predict).to_csv(\"/content/drive/MyDrive/SWELL/hrv sleep/XGB_predict_P3.csv\")"
      ],
      "metadata": {
        "id": "-YTuMUwHkrh5"
      },
      "execution_count": 207,
      "outputs": []
    },
    {
      "cell_type": "code",
      "source": [
        "RFC_sleep_predict = RFC.predict(HRV_P1_test)\n",
        "pd.DataFrame(RFC_sleep_predict).to_csv(\"/content/drive/MyDrive/SWELL/hrv sleep/RFC_predict_P1.csv\")\n",
        "RFC_sleep_predict = RFC.predict(HRV_P2_test)\n",
        "pd.DataFrame(RFC_sleep_predict).to_csv(\"/content/drive/MyDrive/SWELL/hrv sleep/RFC_predict_P2.csv\")\n",
        "RFC_sleep_predict = RFC.predict(HRV_P3_test)\n",
        "pd.DataFrame(RFC_sleep_predict).to_csv(\"/content/drive/MyDrive/SWELL/hrv sleep/RFC_predict_P3.csv\")"
      ],
      "metadata": {
        "id": "PFLN9w9Gk19r"
      },
      "execution_count": 208,
      "outputs": []
    },
    {
      "cell_type": "code",
      "source": [
        "# confusion matrix examples\n",
        "from sklearn.metrics import plot_confusion_matrix\n",
        "import seaborn as sn\n",
        "cf=[[5/62, 38/62, 19/62],[12/200, 44/200, 144/200],[0/376, 40/376, 336/376]]\n",
        "sn.heatmap(cf, annot=True, cmap='flare')\n",
        "plt.show()"
      ],
      "metadata": {
        "id": "Xcat4v1k0Usn",
        "colab": {
          "base_uri": "https://localhost:8080/",
          "height": 265
        },
        "outputId": "50797268-15ce-4331-b022-26ce7060365e"
      },
      "execution_count": 209,
      "outputs": [
        {
          "output_type": "display_data",
          "data": {
            "text/plain": [
              "<Figure size 432x288 with 2 Axes>"
            ],
            "image/png": "[encoded data removed]"
          },
          "metadata": {
            "needs_background": "light"
          }
        }
      ]
    },
    {
      "cell_type": "markdown",
      "source": [],
      "metadata": {
        "id": "hTBwi3r9pRRn"
      }
    },
    {
      "cell_type": "code",
      "source": [
        "# SVC self_training\n",
        "#scaler = StandardScaler()\n",
        "#X_train_scaled = scaler.fit_transform(X_train_new)\n",
        "#X_test_scaled = scaler.transform(X_test_new)\n",
        "#svm = SVC()\n",
        "#svm.fit(X_train_scaled, y_train)\n",
        "\n",
        "#new methods\n",
        "#svc_model = SVC(kernel='rbf', \n",
        "#            probability=True, \n",
        "#            C=1.0, # default = 1.0\n",
        "#            gamma='scale', # default = 'scale'\n",
        "#            random_state=0\n",
        "#           )\n",
        "#SVCC = svc_model.fit(X_train_new, y_train)"
      ],
      "metadata": {
        "id": "M0Ehyd1cWuun"
      },
      "execution_count": 210,
      "outputs": []
    },
    {
      "cell_type": "code",
      "source": [
        "#svc_y_predict = svc_model.predict(X_test_new)\n",
        "#svc_model.score(X_test_new, y_test)\n",
        "#print(metrics.classification_report(y_test, svc_y_predict))"
      ],
      "metadata": {
        "id": "-mUWu1AveQKz"
      },
      "execution_count": 211,
      "outputs": []
    },
    {
      "cell_type": "code",
      "source": [
        "#svc_cf=confusion_matrix(y_test, svc_y_predict)"
      ],
      "metadata": {
        "id": "7GPvvQ_qezTJ"
      },
      "execution_count": 212,
      "outputs": []
    },
    {
      "cell_type": "code",
      "source": [
        "#metrics.ConfusionMatrixDisplay.from_predictions(y_test, svc_y_predict, display_labels=svm.classes_, \n",
        "#                                                normalize=None, cmap=plt.cm.Blues)\n",
        "#plt.show()"
      ],
      "metadata": {
        "id": "bn-KjWru1RjH"
      },
      "execution_count": 213,
      "outputs": []
    },
    {
      "cell_type": "code",
      "source": [
        "#metrics.ConfusionMatrixDisplay.from_predictions(y_test, svc_y_predict, display_labels=svm.classes_, \n",
        "#                                                normalize='true', cmap=plt.cm.Blues)\n",
        "#plt.show()"
      ],
      "metadata": {
        "id": "YJraEHXF1mA0"
      },
      "execution_count": 214,
      "outputs": []
    },
    {
      "cell_type": "code",
      "source": [
        "#SVC_sleep_predict = svm.predict(HRV_P1_test)\n",
        "#pd.DataFrame(SVC_sleep_predict).to_csv(\"/content/drive/MyDrive/SWELL/hrv sleep/SVC_predict_P1.csv\")\n",
        "#SVC_sleep_predict = svm.predict(HRV_P2_test)\n",
        "#pd.DataFrame(SVC_sleep_predict).to_csv(\"/content/drive/MyDrive/SWELL/hrv sleep/SVC_predict_P2.csv\")\n",
        "#SVC_sleep_predict = svm.predict(HRV_P3_test)\n",
        "#pd.DataFrame(SVC_sleep_predict).to_csv(\"/content/drive/MyDrive/SWELL/hrv sleep/SVC_predict_P3.csv\")"
      ],
      "metadata": {
        "id": "97ngnZjqlH8J"
      },
      "execution_count": 215,
      "outputs": []
    },
    {
      "cell_type": "code",
      "source": [],
      "metadata": {
        "id": "x_GDiMY2WfR2"
      },
      "execution_count": 215,
      "outputs": []
    }
  ]
}